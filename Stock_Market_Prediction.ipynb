{
  "nbformat": 4,
  "nbformat_minor": 0,
  "metadata": {
    "colab": {
      "name": "Stock_Market_Prediction.ipynb",
      "provenance": [],
      "authorship_tag": "ABX9TyOhA2AcdpawxEpsX7PnVUEJ",
      "include_colab_link": true
    },
    "kernelspec": {
      "name": "python3",
      "display_name": "Python 3"
    },
    "language_info": {
      "name": "python"
    },
    "accelerator": "TPU",
    "widgets": {
      "application/vnd.jupyter.widget-state+json": {
        "1e595f1c085147588718bbdbf3a4a58b": {
          "model_module": "@jupyter-widgets/controls",
          "model_name": "HBoxModel",
          "model_module_version": "1.5.0",
          "state": {
            "_view_name": "HBoxView",
            "_dom_classes": [],
            "_model_name": "HBoxModel",
            "_view_module": "@jupyter-widgets/controls",
            "_model_module_version": "1.5.0",
            "_view_count": null,
            "_view_module_version": "1.5.0",
            "box_style": "",
            "layout": "IPY_MODEL_78e29f2358a643bf9fa61eeb09fa5534",
            "_model_module": "@jupyter-widgets/controls",
            "children": [
              "IPY_MODEL_b83b7dc983054fe8bcc2de4d600d5147",
              "IPY_MODEL_b7dd39d0f186419e893e0b5c41f3f30f",
              "IPY_MODEL_613ccfc9c3db4e02a2748b628358a384"
            ]
          }
        },
        "78e29f2358a643bf9fa61eeb09fa5534": {
          "model_module": "@jupyter-widgets/base",
          "model_name": "LayoutModel",
          "model_module_version": "1.2.0",
          "state": {
            "_view_name": "LayoutView",
            "grid_template_rows": null,
            "right": null,
            "justify_content": null,
            "_view_module": "@jupyter-widgets/base",
            "overflow": null,
            "_model_module_version": "1.2.0",
            "_view_count": null,
            "flex_flow": null,
            "width": null,
            "min_width": null,
            "border": null,
            "align_items": null,
            "bottom": null,
            "_model_module": "@jupyter-widgets/base",
            "top": null,
            "grid_column": null,
            "overflow_y": null,
            "overflow_x": null,
            "grid_auto_flow": null,
            "grid_area": null,
            "grid_template_columns": null,
            "flex": null,
            "_model_name": "LayoutModel",
            "justify_items": null,
            "grid_row": null,
            "max_height": null,
            "align_content": null,
            "visibility": null,
            "align_self": null,
            "height": null,
            "min_height": null,
            "padding": null,
            "grid_auto_rows": null,
            "grid_gap": null,
            "max_width": null,
            "order": null,
            "_view_module_version": "1.2.0",
            "grid_template_areas": null,
            "object_position": null,
            "object_fit": null,
            "grid_auto_columns": null,
            "margin": null,
            "display": null,
            "left": null
          }
        },
        "b83b7dc983054fe8bcc2de4d600d5147": {
          "model_module": "@jupyter-widgets/controls",
          "model_name": "HTMLModel",
          "model_module_version": "1.5.0",
          "state": {
            "_view_name": "HTMLView",
            "style": "IPY_MODEL_64cc74c87eb04101b555494a81f74eeb",
            "_dom_classes": [],
            "description": "",
            "_model_name": "HTMLModel",
            "placeholder": "​",
            "_view_module": "@jupyter-widgets/controls",
            "_model_module_version": "1.5.0",
            "value": "100%",
            "_view_count": null,
            "_view_module_version": "1.5.0",
            "description_tooltip": null,
            "_model_module": "@jupyter-widgets/controls",
            "layout": "IPY_MODEL_426bffd4a45a4ebcae58b0f329a1b8d0"
          }
        },
        "b7dd39d0f186419e893e0b5c41f3f30f": {
          "model_module": "@jupyter-widgets/controls",
          "model_name": "FloatProgressModel",
          "model_module_version": "1.5.0",
          "state": {
            "_view_name": "ProgressView",
            "style": "IPY_MODEL_e1addc747c7348d884f82ea24192b451",
            "_dom_classes": [],
            "description": "",
            "_model_name": "FloatProgressModel",
            "bar_style": "success",
            "max": 990,
            "_view_module": "@jupyter-widgets/controls",
            "_model_module_version": "1.5.0",
            "value": 990,
            "_view_count": null,
            "_view_module_version": "1.5.0",
            "orientation": "horizontal",
            "min": 0,
            "description_tooltip": null,
            "_model_module": "@jupyter-widgets/controls",
            "layout": "IPY_MODEL_499ba0d72a3a4b20876c4c355af698f9"
          }
        },
        "613ccfc9c3db4e02a2748b628358a384": {
          "model_module": "@jupyter-widgets/controls",
          "model_name": "HTMLModel",
          "model_module_version": "1.5.0",
          "state": {
            "_view_name": "HTMLView",
            "style": "IPY_MODEL_8e0caaadd3854256ac36ebc29f6fc8bd",
            "_dom_classes": [],
            "description": "",
            "_model_name": "HTMLModel",
            "placeholder": "​",
            "_view_module": "@jupyter-widgets/controls",
            "_model_module_version": "1.5.0",
            "value": " 990/990 [00:00&lt;00:00, 2837.26it/s]",
            "_view_count": null,
            "_view_module_version": "1.5.0",
            "description_tooltip": null,
            "_model_module": "@jupyter-widgets/controls",
            "layout": "IPY_MODEL_c791aa0212ce45709f0d1d82392e84a5"
          }
        },
        "64cc74c87eb04101b555494a81f74eeb": {
          "model_module": "@jupyter-widgets/controls",
          "model_name": "DescriptionStyleModel",
          "model_module_version": "1.5.0",
          "state": {
            "_view_name": "StyleView",
            "_model_name": "DescriptionStyleModel",
            "description_width": "",
            "_view_module": "@jupyter-widgets/base",
            "_model_module_version": "1.5.0",
            "_view_count": null,
            "_view_module_version": "1.2.0",
            "_model_module": "@jupyter-widgets/controls"
          }
        },
        "426bffd4a45a4ebcae58b0f329a1b8d0": {
          "model_module": "@jupyter-widgets/base",
          "model_name": "LayoutModel",
          "model_module_version": "1.2.0",
          "state": {
            "_view_name": "LayoutView",
            "grid_template_rows": null,
            "right": null,
            "justify_content": null,
            "_view_module": "@jupyter-widgets/base",
            "overflow": null,
            "_model_module_version": "1.2.0",
            "_view_count": null,
            "flex_flow": null,
            "width": null,
            "min_width": null,
            "border": null,
            "align_items": null,
            "bottom": null,
            "_model_module": "@jupyter-widgets/base",
            "top": null,
            "grid_column": null,
            "overflow_y": null,
            "overflow_x": null,
            "grid_auto_flow": null,
            "grid_area": null,
            "grid_template_columns": null,
            "flex": null,
            "_model_name": "LayoutModel",
            "justify_items": null,
            "grid_row": null,
            "max_height": null,
            "align_content": null,
            "visibility": null,
            "align_self": null,
            "height": null,
            "min_height": null,
            "padding": null,
            "grid_auto_rows": null,
            "grid_gap": null,
            "max_width": null,
            "order": null,
            "_view_module_version": "1.2.0",
            "grid_template_areas": null,
            "object_position": null,
            "object_fit": null,
            "grid_auto_columns": null,
            "margin": null,
            "display": null,
            "left": null
          }
        },
        "e1addc747c7348d884f82ea24192b451": {
          "model_module": "@jupyter-widgets/controls",
          "model_name": "ProgressStyleModel",
          "model_module_version": "1.5.0",
          "state": {
            "_view_name": "StyleView",
            "_model_name": "ProgressStyleModel",
            "description_width": "",
            "_view_module": "@jupyter-widgets/base",
            "_model_module_version": "1.5.0",
            "_view_count": null,
            "_view_module_version": "1.2.0",
            "bar_color": null,
            "_model_module": "@jupyter-widgets/controls"
          }
        },
        "499ba0d72a3a4b20876c4c355af698f9": {
          "model_module": "@jupyter-widgets/base",
          "model_name": "LayoutModel",
          "model_module_version": "1.2.0",
          "state": {
            "_view_name": "LayoutView",
            "grid_template_rows": null,
            "right": null,
            "justify_content": null,
            "_view_module": "@jupyter-widgets/base",
            "overflow": null,
            "_model_module_version": "1.2.0",
            "_view_count": null,
            "flex_flow": null,
            "width": null,
            "min_width": null,
            "border": null,
            "align_items": null,
            "bottom": null,
            "_model_module": "@jupyter-widgets/base",
            "top": null,
            "grid_column": null,
            "overflow_y": null,
            "overflow_x": null,
            "grid_auto_flow": null,
            "grid_area": null,
            "grid_template_columns": null,
            "flex": null,
            "_model_name": "LayoutModel",
            "justify_items": null,
            "grid_row": null,
            "max_height": null,
            "align_content": null,
            "visibility": null,
            "align_self": null,
            "height": null,
            "min_height": null,
            "padding": null,
            "grid_auto_rows": null,
            "grid_gap": null,
            "max_width": null,
            "order": null,
            "_view_module_version": "1.2.0",
            "grid_template_areas": null,
            "object_position": null,
            "object_fit": null,
            "grid_auto_columns": null,
            "margin": null,
            "display": null,
            "left": null
          }
        },
        "8e0caaadd3854256ac36ebc29f6fc8bd": {
          "model_module": "@jupyter-widgets/controls",
          "model_name": "DescriptionStyleModel",
          "model_module_version": "1.5.0",
          "state": {
            "_view_name": "StyleView",
            "_model_name": "DescriptionStyleModel",
            "description_width": "",
            "_view_module": "@jupyter-widgets/base",
            "_model_module_version": "1.5.0",
            "_view_count": null,
            "_view_module_version": "1.2.0",
            "_model_module": "@jupyter-widgets/controls"
          }
        },
        "c791aa0212ce45709f0d1d82392e84a5": {
          "model_module": "@jupyter-widgets/base",
          "model_name": "LayoutModel",
          "model_module_version": "1.2.0",
          "state": {
            "_view_name": "LayoutView",
            "grid_template_rows": null,
            "right": null,
            "justify_content": null,
            "_view_module": "@jupyter-widgets/base",
            "overflow": null,
            "_model_module_version": "1.2.0",
            "_view_count": null,
            "flex_flow": null,
            "width": null,
            "min_width": null,
            "border": null,
            "align_items": null,
            "bottom": null,
            "_model_module": "@jupyter-widgets/base",
            "top": null,
            "grid_column": null,
            "overflow_y": null,
            "overflow_x": null,
            "grid_auto_flow": null,
            "grid_area": null,
            "grid_template_columns": null,
            "flex": null,
            "_model_name": "LayoutModel",
            "justify_items": null,
            "grid_row": null,
            "max_height": null,
            "align_content": null,
            "visibility": null,
            "align_self": null,
            "height": null,
            "min_height": null,
            "padding": null,
            "grid_auto_rows": null,
            "grid_gap": null,
            "max_width": null,
            "order": null,
            "_view_module_version": "1.2.0",
            "grid_template_areas": null,
            "object_position": null,
            "object_fit": null,
            "grid_auto_columns": null,
            "margin": null,
            "display": null,
            "left": null
          }
        },
        "faebf64df6db4668af56a3c86fac54d8": {
          "model_module": "@jupyter-widgets/controls",
          "model_name": "HBoxModel",
          "model_module_version": "1.5.0",
          "state": {
            "_view_name": "HBoxView",
            "_dom_classes": [],
            "_model_name": "HBoxModel",
            "_view_module": "@jupyter-widgets/controls",
            "_model_module_version": "1.5.0",
            "_view_count": null,
            "_view_module_version": "1.5.0",
            "box_style": "",
            "layout": "IPY_MODEL_1d62c63d615d4745aa6f64b6bfd4ca79",
            "_model_module": "@jupyter-widgets/controls",
            "children": [
              "IPY_MODEL_dbe9ea2a0b084f37a1caebd8dc2d8554",
              "IPY_MODEL_ddefd8aca4834964b20ebc7e4ac5832f",
              "IPY_MODEL_65f51ff9fff44babb27515f3c539d246"
            ]
          }
        },
        "1d62c63d615d4745aa6f64b6bfd4ca79": {
          "model_module": "@jupyter-widgets/base",
          "model_name": "LayoutModel",
          "model_module_version": "1.2.0",
          "state": {
            "_view_name": "LayoutView",
            "grid_template_rows": null,
            "right": null,
            "justify_content": null,
            "_view_module": "@jupyter-widgets/base",
            "overflow": null,
            "_model_module_version": "1.2.0",
            "_view_count": null,
            "flex_flow": null,
            "width": null,
            "min_width": null,
            "border": null,
            "align_items": null,
            "bottom": null,
            "_model_module": "@jupyter-widgets/base",
            "top": null,
            "grid_column": null,
            "overflow_y": null,
            "overflow_x": null,
            "grid_auto_flow": null,
            "grid_area": null,
            "grid_template_columns": null,
            "flex": null,
            "_model_name": "LayoutModel",
            "justify_items": null,
            "grid_row": null,
            "max_height": null,
            "align_content": null,
            "visibility": null,
            "align_self": null,
            "height": null,
            "min_height": null,
            "padding": null,
            "grid_auto_rows": null,
            "grid_gap": null,
            "max_width": null,
            "order": null,
            "_view_module_version": "1.2.0",
            "grid_template_areas": null,
            "object_position": null,
            "object_fit": null,
            "grid_auto_columns": null,
            "margin": null,
            "display": null,
            "left": null
          }
        },
        "dbe9ea2a0b084f37a1caebd8dc2d8554": {
          "model_module": "@jupyter-widgets/controls",
          "model_name": "HTMLModel",
          "model_module_version": "1.5.0",
          "state": {
            "_view_name": "HTMLView",
            "style": "IPY_MODEL_b22e099ad58f4ea9a087f3f41bcdf4cd",
            "_dom_classes": [],
            "description": "",
            "_model_name": "HTMLModel",
            "placeholder": "​",
            "_view_module": "@jupyter-widgets/controls",
            "_model_module_version": "1.5.0",
            "value": "100%",
            "_view_count": null,
            "_view_module_version": "1.5.0",
            "description_tooltip": null,
            "_model_module": "@jupyter-widgets/controls",
            "layout": "IPY_MODEL_50fd92e12528439187d2994a752b82e7"
          }
        },
        "ddefd8aca4834964b20ebc7e4ac5832f": {
          "model_module": "@jupyter-widgets/controls",
          "model_name": "FloatProgressModel",
          "model_module_version": "1.5.0",
          "state": {
            "_view_name": "ProgressView",
            "style": "IPY_MODEL_92511b5cba66472cbb5708a4c65cdeef",
            "_dom_classes": [],
            "description": "",
            "_model_name": "FloatProgressModel",
            "bar_style": "success",
            "max": 990,
            "_view_module": "@jupyter-widgets/controls",
            "_model_module_version": "1.5.0",
            "value": 990,
            "_view_count": null,
            "_view_module_version": "1.5.0",
            "orientation": "horizontal",
            "min": 0,
            "description_tooltip": null,
            "_model_module": "@jupyter-widgets/controls",
            "layout": "IPY_MODEL_316b496efd4d4305ace63c31e96dff1f"
          }
        },
        "65f51ff9fff44babb27515f3c539d246": {
          "model_module": "@jupyter-widgets/controls",
          "model_name": "HTMLModel",
          "model_module_version": "1.5.0",
          "state": {
            "_view_name": "HTMLView",
            "style": "IPY_MODEL_b8d9db64e8774fbc867d044365a6988a",
            "_dom_classes": [],
            "description": "",
            "_model_name": "HTMLModel",
            "placeholder": "​",
            "_view_module": "@jupyter-widgets/controls",
            "_model_module_version": "1.5.0",
            "value": " 990/990 [00:00&lt;00:00, 2405.53it/s]",
            "_view_count": null,
            "_view_module_version": "1.5.0",
            "description_tooltip": null,
            "_model_module": "@jupyter-widgets/controls",
            "layout": "IPY_MODEL_a51b65bd7fcb4089b57ce6308539a534"
          }
        },
        "b22e099ad58f4ea9a087f3f41bcdf4cd": {
          "model_module": "@jupyter-widgets/controls",
          "model_name": "DescriptionStyleModel",
          "model_module_version": "1.5.0",
          "state": {
            "_view_name": "StyleView",
            "_model_name": "DescriptionStyleModel",
            "description_width": "",
            "_view_module": "@jupyter-widgets/base",
            "_model_module_version": "1.5.0",
            "_view_count": null,
            "_view_module_version": "1.2.0",
            "_model_module": "@jupyter-widgets/controls"
          }
        },
        "50fd92e12528439187d2994a752b82e7": {
          "model_module": "@jupyter-widgets/base",
          "model_name": "LayoutModel",
          "model_module_version": "1.2.0",
          "state": {
            "_view_name": "LayoutView",
            "grid_template_rows": null,
            "right": null,
            "justify_content": null,
            "_view_module": "@jupyter-widgets/base",
            "overflow": null,
            "_model_module_version": "1.2.0",
            "_view_count": null,
            "flex_flow": null,
            "width": null,
            "min_width": null,
            "border": null,
            "align_items": null,
            "bottom": null,
            "_model_module": "@jupyter-widgets/base",
            "top": null,
            "grid_column": null,
            "overflow_y": null,
            "overflow_x": null,
            "grid_auto_flow": null,
            "grid_area": null,
            "grid_template_columns": null,
            "flex": null,
            "_model_name": "LayoutModel",
            "justify_items": null,
            "grid_row": null,
            "max_height": null,
            "align_content": null,
            "visibility": null,
            "align_self": null,
            "height": null,
            "min_height": null,
            "padding": null,
            "grid_auto_rows": null,
            "grid_gap": null,
            "max_width": null,
            "order": null,
            "_view_module_version": "1.2.0",
            "grid_template_areas": null,
            "object_position": null,
            "object_fit": null,
            "grid_auto_columns": null,
            "margin": null,
            "display": null,
            "left": null
          }
        },
        "92511b5cba66472cbb5708a4c65cdeef": {
          "model_module": "@jupyter-widgets/controls",
          "model_name": "ProgressStyleModel",
          "model_module_version": "1.5.0",
          "state": {
            "_view_name": "StyleView",
            "_model_name": "ProgressStyleModel",
            "description_width": "",
            "_view_module": "@jupyter-widgets/base",
            "_model_module_version": "1.5.0",
            "_view_count": null,
            "_view_module_version": "1.2.0",
            "bar_color": null,
            "_model_module": "@jupyter-widgets/controls"
          }
        },
        "316b496efd4d4305ace63c31e96dff1f": {
          "model_module": "@jupyter-widgets/base",
          "model_name": "LayoutModel",
          "model_module_version": "1.2.0",
          "state": {
            "_view_name": "LayoutView",
            "grid_template_rows": null,
            "right": null,
            "justify_content": null,
            "_view_module": "@jupyter-widgets/base",
            "overflow": null,
            "_model_module_version": "1.2.0",
            "_view_count": null,
            "flex_flow": null,
            "width": null,
            "min_width": null,
            "border": null,
            "align_items": null,
            "bottom": null,
            "_model_module": "@jupyter-widgets/base",
            "top": null,
            "grid_column": null,
            "overflow_y": null,
            "overflow_x": null,
            "grid_auto_flow": null,
            "grid_area": null,
            "grid_template_columns": null,
            "flex": null,
            "_model_name": "LayoutModel",
            "justify_items": null,
            "grid_row": null,
            "max_height": null,
            "align_content": null,
            "visibility": null,
            "align_self": null,
            "height": null,
            "min_height": null,
            "padding": null,
            "grid_auto_rows": null,
            "grid_gap": null,
            "max_width": null,
            "order": null,
            "_view_module_version": "1.2.0",
            "grid_template_areas": null,
            "object_position": null,
            "object_fit": null,
            "grid_auto_columns": null,
            "margin": null,
            "display": null,
            "left": null
          }
        },
        "b8d9db64e8774fbc867d044365a6988a": {
          "model_module": "@jupyter-widgets/controls",
          "model_name": "DescriptionStyleModel",
          "model_module_version": "1.5.0",
          "state": {
            "_view_name": "StyleView",
            "_model_name": "DescriptionStyleModel",
            "description_width": "",
            "_view_module": "@jupyter-widgets/base",
            "_model_module_version": "1.5.0",
            "_view_count": null,
            "_view_module_version": "1.2.0",
            "_model_module": "@jupyter-widgets/controls"
          }
        },
        "a51b65bd7fcb4089b57ce6308539a534": {
          "model_module": "@jupyter-widgets/base",
          "model_name": "LayoutModel",
          "model_module_version": "1.2.0",
          "state": {
            "_view_name": "LayoutView",
            "grid_template_rows": null,
            "right": null,
            "justify_content": null,
            "_view_module": "@jupyter-widgets/base",
            "overflow": null,
            "_model_module_version": "1.2.0",
            "_view_count": null,
            "flex_flow": null,
            "width": null,
            "min_width": null,
            "border": null,
            "align_items": null,
            "bottom": null,
            "_model_module": "@jupyter-widgets/base",
            "top": null,
            "grid_column": null,
            "overflow_y": null,
            "overflow_x": null,
            "grid_auto_flow": null,
            "grid_area": null,
            "grid_template_columns": null,
            "flex": null,
            "_model_name": "LayoutModel",
            "justify_items": null,
            "grid_row": null,
            "max_height": null,
            "align_content": null,
            "visibility": null,
            "align_self": null,
            "height": null,
            "min_height": null,
            "padding": null,
            "grid_auto_rows": null,
            "grid_gap": null,
            "max_width": null,
            "order": null,
            "_view_module_version": "1.2.0",
            "grid_template_areas": null,
            "object_position": null,
            "object_fit": null,
            "grid_auto_columns": null,
            "margin": null,
            "display": null,
            "left": null
          }
        }
      }
    }
  },
  "cells": [
    {
      "cell_type": "markdown",
      "metadata": {
        "id": "view-in-github",
        "colab_type": "text"
      },
      "source": [
        "<a href=\"https://colab.research.google.com/github/ranshu1601/stock_market_Prediction/blob/main/Stock_Market_Prediction.ipynb\" target=\"_parent\"><img src=\"https://colab.research.google.com/assets/colab-badge.svg\" alt=\"Open In Colab\"/></a>"
      ]
    },
    {
      "cell_type": "code",
      "source": [
        "!pip install yfinance"
      ],
      "metadata": {
        "id": "biNAZsVTgZSX"
      },
      "execution_count": null,
      "outputs": []
    },
    {
      "cell_type": "code",
      "source": [
        "import yfinance as yf # for fetching the historical stock market data\n",
        "import numpy as np \n",
        "import pandas as pd\n",
        "import tensorflow as tf # used for creating deep learning piplines \n",
        "\n"
      ],
      "metadata": {
        "id": "gbQzkW68jyRk"
      },
      "execution_count": 2,
      "outputs": []
    },
    {
      "cell_type": "code",
      "source": [
        "data = yf.download('GOOGL',start= '2018-01-01', interval = '1d')"
      ],
      "metadata": {
        "colab": {
          "base_uri": "https://localhost:8080/"
        },
        "id": "6XUGwPQFkbbX",
        "outputId": "fb451c6d-1bec-4529-b326-a9edcac29dd6"
      },
      "execution_count": 3,
      "outputs": [
        {
          "output_type": "stream",
          "name": "stdout",
          "text": [
            "\r[*********************100%***********************]  1 of 1 completed\n"
          ]
        }
      ]
    },
    {
      "cell_type": "code",
      "source": [
        "data.shape"
      ],
      "metadata": {
        "colab": {
          "base_uri": "https://localhost:8080/"
        },
        "id": "iGJ_5azBlwe7",
        "outputId": "a6dcb56e-0705-4991-d0b5-a8903e62810d"
      },
      "execution_count": 4,
      "outputs": [
        {
          "output_type": "execute_result",
          "data": {
            "text/plain": [
              "(1022, 6)"
            ]
          },
          "metadata": {},
          "execution_count": 4
        }
      ]
    },
    {
      "cell_type": "code",
      "source": [
        "data.head(3)"
      ],
      "metadata": {
        "colab": {
          "base_uri": "https://localhost:8080/",
          "height": 174
        },
        "id": "7qr46f8Smtmq",
        "outputId": "f2a1f12d-3d00-4d97-ef76-1daf7dfcdb50"
      },
      "execution_count": 5,
      "outputs": [
        {
          "output_type": "execute_result",
          "data": {
            "text/html": [
              "\n",
              "  <div id=\"df-6b63609d-2b04-4bdd-916c-b8bcbacb1f92\">\n",
              "    <div class=\"colab-df-container\">\n",
              "      <div>\n",
              "<style scoped>\n",
              "    .dataframe tbody tr th:only-of-type {\n",
              "        vertical-align: middle;\n",
              "    }\n",
              "\n",
              "    .dataframe tbody tr th {\n",
              "        vertical-align: top;\n",
              "    }\n",
              "\n",
              "    .dataframe thead th {\n",
              "        text-align: right;\n",
              "    }\n",
              "</style>\n",
              "<table border=\"1\" class=\"dataframe\">\n",
              "  <thead>\n",
              "    <tr style=\"text-align: right;\">\n",
              "      <th></th>\n",
              "      <th>Open</th>\n",
              "      <th>High</th>\n",
              "      <th>Low</th>\n",
              "      <th>Close</th>\n",
              "      <th>Adj Close</th>\n",
              "      <th>Volume</th>\n",
              "    </tr>\n",
              "    <tr>\n",
              "      <th>Date</th>\n",
              "      <th></th>\n",
              "      <th></th>\n",
              "      <th></th>\n",
              "      <th></th>\n",
              "      <th></th>\n",
              "      <th></th>\n",
              "    </tr>\n",
              "  </thead>\n",
              "  <tbody>\n",
              "    <tr>\n",
              "      <th>2018-01-02</th>\n",
              "      <td>1053.020020</td>\n",
              "      <td>1075.979980</td>\n",
              "      <td>1053.020020</td>\n",
              "      <td>1073.209961</td>\n",
              "      <td>1073.209961</td>\n",
              "      <td>1588300</td>\n",
              "    </tr>\n",
              "    <tr>\n",
              "      <th>2018-01-03</th>\n",
              "      <td>1073.930054</td>\n",
              "      <td>1096.099976</td>\n",
              "      <td>1073.430054</td>\n",
              "      <td>1091.520020</td>\n",
              "      <td>1091.520020</td>\n",
              "      <td>1565900</td>\n",
              "    </tr>\n",
              "    <tr>\n",
              "      <th>2018-01-04</th>\n",
              "      <td>1097.089966</td>\n",
              "      <td>1104.079956</td>\n",
              "      <td>1094.260010</td>\n",
              "      <td>1095.760010</td>\n",
              "      <td>1095.760010</td>\n",
              "      <td>1302600</td>\n",
              "    </tr>\n",
              "  </tbody>\n",
              "</table>\n",
              "</div>\n",
              "      <button class=\"colab-df-convert\" onclick=\"convertToInteractive('df-6b63609d-2b04-4bdd-916c-b8bcbacb1f92')\"\n",
              "              title=\"Convert this dataframe to an interactive table.\"\n",
              "              style=\"display:none;\">\n",
              "        \n",
              "  <svg xmlns=\"http://www.w3.org/2000/svg\" height=\"24px\"viewBox=\"0 0 24 24\"\n",
              "       width=\"24px\">\n",
              "    <path d=\"M0 0h24v24H0V0z\" fill=\"none\"/>\n",
              "    <path d=\"M18.56 5.44l.94 2.06.94-2.06 2.06-.94-2.06-.94-.94-2.06-.94 2.06-2.06.94zm-11 1L8.5 8.5l.94-2.06 2.06-.94-2.06-.94L8.5 2.5l-.94 2.06-2.06.94zm10 10l.94 2.06.94-2.06 2.06-.94-2.06-.94-.94-2.06-.94 2.06-2.06.94z\"/><path d=\"M17.41 7.96l-1.37-1.37c-.4-.4-.92-.59-1.43-.59-.52 0-1.04.2-1.43.59L10.3 9.45l-7.72 7.72c-.78.78-.78 2.05 0 2.83L4 21.41c.39.39.9.59 1.41.59.51 0 1.02-.2 1.41-.59l7.78-7.78 2.81-2.81c.8-.78.8-2.07 0-2.86zM5.41 20L4 18.59l7.72-7.72 1.47 1.35L5.41 20z\"/>\n",
              "  </svg>\n",
              "      </button>\n",
              "      \n",
              "  <style>\n",
              "    .colab-df-container {\n",
              "      display:flex;\n",
              "      flex-wrap:wrap;\n",
              "      gap: 12px;\n",
              "    }\n",
              "\n",
              "    .colab-df-convert {\n",
              "      background-color: #E8F0FE;\n",
              "      border: none;\n",
              "      border-radius: 50%;\n",
              "      cursor: pointer;\n",
              "      display: none;\n",
              "      fill: #1967D2;\n",
              "      height: 32px;\n",
              "      padding: 0 0 0 0;\n",
              "      width: 32px;\n",
              "    }\n",
              "\n",
              "    .colab-df-convert:hover {\n",
              "      background-color: #E2EBFA;\n",
              "      box-shadow: 0px 1px 2px rgba(60, 64, 67, 0.3), 0px 1px 3px 1px rgba(60, 64, 67, 0.15);\n",
              "      fill: #174EA6;\n",
              "    }\n",
              "\n",
              "    [theme=dark] .colab-df-convert {\n",
              "      background-color: #3B4455;\n",
              "      fill: #D2E3FC;\n",
              "    }\n",
              "\n",
              "    [theme=dark] .colab-df-convert:hover {\n",
              "      background-color: #434B5C;\n",
              "      box-shadow: 0px 1px 3px 1px rgba(0, 0, 0, 0.15);\n",
              "      filter: drop-shadow(0px 1px 2px rgba(0, 0, 0, 0.3));\n",
              "      fill: #FFFFFF;\n",
              "    }\n",
              "  </style>\n",
              "\n",
              "      <script>\n",
              "        const buttonEl =\n",
              "          document.querySelector('#df-6b63609d-2b04-4bdd-916c-b8bcbacb1f92 button.colab-df-convert');\n",
              "        buttonEl.style.display =\n",
              "          google.colab.kernel.accessAllowed ? 'block' : 'none';\n",
              "\n",
              "        async function convertToInteractive(key) {\n",
              "          const element = document.querySelector('#df-6b63609d-2b04-4bdd-916c-b8bcbacb1f92');\n",
              "          const dataTable =\n",
              "            await google.colab.kernel.invokeFunction('convertToInteractive',\n",
              "                                                     [key], {});\n",
              "          if (!dataTable) return;\n",
              "\n",
              "          const docLinkHtml = 'Like what you see? Visit the ' +\n",
              "            '<a target=\"_blank\" href=https://colab.research.google.com/notebooks/data_table.ipynb>data table notebook</a>'\n",
              "            + ' to learn more about interactive tables.';\n",
              "          element.innerHTML = '';\n",
              "          dataTable['output_type'] = 'display_data';\n",
              "          await google.colab.output.renderOutput(dataTable, element);\n",
              "          const docLink = document.createElement('div');\n",
              "          docLink.innerHTML = docLinkHtml;\n",
              "          element.appendChild(docLink);\n",
              "        }\n",
              "      </script>\n",
              "    </div>\n",
              "  </div>\n",
              "  "
            ],
            "text/plain": [
              "                   Open         High  ...    Adj Close   Volume\n",
              "Date                                  ...                      \n",
              "2018-01-02  1053.020020  1075.979980  ...  1073.209961  1588300\n",
              "2018-01-03  1073.930054  1096.099976  ...  1091.520020  1565900\n",
              "2018-01-04  1097.089966  1104.079956  ...  1095.760010  1302600\n",
              "\n",
              "[3 rows x 6 columns]"
            ]
          },
          "metadata": {},
          "execution_count": 5
        }
      ]
    },
    {
      "cell_type": "code",
      "source": [
        "#sort the data points based on indexes just for configuration \n",
        "data.sort_index(inplace=True)"
      ],
      "metadata": {
        "id": "Nqqp5qLXoyVy"
      },
      "execution_count": 6,
      "outputs": []
    },
    {
      "cell_type": "code",
      "source": [
        "# Remove any duplicate index \n",
        "#this will make sure that their is only one record for every date\n",
        "data = data.loc[~data.index.duplicated(keep='first')]"
      ],
      "metadata": {
        "id": "yWUmr2RPpkKj"
      },
      "execution_count": 7,
      "outputs": []
    },
    {
      "cell_type": "code",
      "source": [
        "data.tail(3)"
      ],
      "metadata": {
        "colab": {
          "base_uri": "https://localhost:8080/",
          "height": 174
        },
        "id": "yM6kp93vqCzD",
        "outputId": "5a6a3183-f9e3-4c20-944e-1054c3d3b22d"
      },
      "execution_count": 8,
      "outputs": [
        {
          "output_type": "execute_result",
          "data": {
            "text/html": [
              "\n",
              "  <div id=\"df-bf0576ec-5abf-45fa-a3d3-f300d404b8ce\">\n",
              "    <div class=\"colab-df-container\">\n",
              "      <div>\n",
              "<style scoped>\n",
              "    .dataframe tbody tr th:only-of-type {\n",
              "        vertical-align: middle;\n",
              "    }\n",
              "\n",
              "    .dataframe tbody tr th {\n",
              "        vertical-align: top;\n",
              "    }\n",
              "\n",
              "    .dataframe thead th {\n",
              "        text-align: right;\n",
              "    }\n",
              "</style>\n",
              "<table border=\"1\" class=\"dataframe\">\n",
              "  <thead>\n",
              "    <tr style=\"text-align: right;\">\n",
              "      <th></th>\n",
              "      <th>Open</th>\n",
              "      <th>High</th>\n",
              "      <th>Low</th>\n",
              "      <th>Close</th>\n",
              "      <th>Adj Close</th>\n",
              "      <th>Volume</th>\n",
              "    </tr>\n",
              "    <tr>\n",
              "      <th>Date</th>\n",
              "      <th></th>\n",
              "      <th></th>\n",
              "      <th></th>\n",
              "      <th></th>\n",
              "      <th></th>\n",
              "      <th></th>\n",
              "    </tr>\n",
              "  </thead>\n",
              "  <tbody>\n",
              "    <tr>\n",
              "      <th>2022-01-19</th>\n",
              "      <td>2730.469971</td>\n",
              "      <td>2759.189941</td>\n",
              "      <td>2700.310059</td>\n",
              "      <td>2702.330078</td>\n",
              "      <td>2702.330078</td>\n",
              "      <td>1432400</td>\n",
              "    </tr>\n",
              "    <tr>\n",
              "      <th>2022-01-20</th>\n",
              "      <td>2725.000000</td>\n",
              "      <td>2752.520020</td>\n",
              "      <td>2659.290039</td>\n",
              "      <td>2666.149902</td>\n",
              "      <td>2666.149902</td>\n",
              "      <td>1495400</td>\n",
              "    </tr>\n",
              "    <tr>\n",
              "      <th>2022-01-21</th>\n",
              "      <td>2651.870117</td>\n",
              "      <td>2697.310059</td>\n",
              "      <td>2601.729980</td>\n",
              "      <td>2607.030029</td>\n",
              "      <td>2607.030029</td>\n",
              "      <td>2774100</td>\n",
              "    </tr>\n",
              "  </tbody>\n",
              "</table>\n",
              "</div>\n",
              "      <button class=\"colab-df-convert\" onclick=\"convertToInteractive('df-bf0576ec-5abf-45fa-a3d3-f300d404b8ce')\"\n",
              "              title=\"Convert this dataframe to an interactive table.\"\n",
              "              style=\"display:none;\">\n",
              "        \n",
              "  <svg xmlns=\"http://www.w3.org/2000/svg\" height=\"24px\"viewBox=\"0 0 24 24\"\n",
              "       width=\"24px\">\n",
              "    <path d=\"M0 0h24v24H0V0z\" fill=\"none\"/>\n",
              "    <path d=\"M18.56 5.44l.94 2.06.94-2.06 2.06-.94-2.06-.94-.94-2.06-.94 2.06-2.06.94zm-11 1L8.5 8.5l.94-2.06 2.06-.94-2.06-.94L8.5 2.5l-.94 2.06-2.06.94zm10 10l.94 2.06.94-2.06 2.06-.94-2.06-.94-.94-2.06-.94 2.06-2.06.94z\"/><path d=\"M17.41 7.96l-1.37-1.37c-.4-.4-.92-.59-1.43-.59-.52 0-1.04.2-1.43.59L10.3 9.45l-7.72 7.72c-.78.78-.78 2.05 0 2.83L4 21.41c.39.39.9.59 1.41.59.51 0 1.02-.2 1.41-.59l7.78-7.78 2.81-2.81c.8-.78.8-2.07 0-2.86zM5.41 20L4 18.59l7.72-7.72 1.47 1.35L5.41 20z\"/>\n",
              "  </svg>\n",
              "      </button>\n",
              "      \n",
              "  <style>\n",
              "    .colab-df-container {\n",
              "      display:flex;\n",
              "      flex-wrap:wrap;\n",
              "      gap: 12px;\n",
              "    }\n",
              "\n",
              "    .colab-df-convert {\n",
              "      background-color: #E8F0FE;\n",
              "      border: none;\n",
              "      border-radius: 50%;\n",
              "      cursor: pointer;\n",
              "      display: none;\n",
              "      fill: #1967D2;\n",
              "      height: 32px;\n",
              "      padding: 0 0 0 0;\n",
              "      width: 32px;\n",
              "    }\n",
              "\n",
              "    .colab-df-convert:hover {\n",
              "      background-color: #E2EBFA;\n",
              "      box-shadow: 0px 1px 2px rgba(60, 64, 67, 0.3), 0px 1px 3px 1px rgba(60, 64, 67, 0.15);\n",
              "      fill: #174EA6;\n",
              "    }\n",
              "\n",
              "    [theme=dark] .colab-df-convert {\n",
              "      background-color: #3B4455;\n",
              "      fill: #D2E3FC;\n",
              "    }\n",
              "\n",
              "    [theme=dark] .colab-df-convert:hover {\n",
              "      background-color: #434B5C;\n",
              "      box-shadow: 0px 1px 3px 1px rgba(0, 0, 0, 0.15);\n",
              "      filter: drop-shadow(0px 1px 2px rgba(0, 0, 0, 0.3));\n",
              "      fill: #FFFFFF;\n",
              "    }\n",
              "  </style>\n",
              "\n",
              "      <script>\n",
              "        const buttonEl =\n",
              "          document.querySelector('#df-bf0576ec-5abf-45fa-a3d3-f300d404b8ce button.colab-df-convert');\n",
              "        buttonEl.style.display =\n",
              "          google.colab.kernel.accessAllowed ? 'block' : 'none';\n",
              "\n",
              "        async function convertToInteractive(key) {\n",
              "          const element = document.querySelector('#df-bf0576ec-5abf-45fa-a3d3-f300d404b8ce');\n",
              "          const dataTable =\n",
              "            await google.colab.kernel.invokeFunction('convertToInteractive',\n",
              "                                                     [key], {});\n",
              "          if (!dataTable) return;\n",
              "\n",
              "          const docLinkHtml = 'Like what you see? Visit the ' +\n",
              "            '<a target=\"_blank\" href=https://colab.research.google.com/notebooks/data_table.ipynb>data table notebook</a>'\n",
              "            + ' to learn more about interactive tables.';\n",
              "          element.innerHTML = '';\n",
              "          dataTable['output_type'] = 'display_data';\n",
              "          await google.colab.output.renderOutput(dataTable, element);\n",
              "          const docLink = document.createElement('div');\n",
              "          docLink.innerHTML = docLinkHtml;\n",
              "          element.appendChild(docLink);\n",
              "        }\n",
              "      </script>\n",
              "    </div>\n",
              "  </div>\n",
              "  "
            ],
            "text/plain": [
              "                   Open         High  ...    Adj Close   Volume\n",
              "Date                                  ...                      \n",
              "2022-01-19  2730.469971  2759.189941  ...  2702.330078  1432400\n",
              "2022-01-20  2725.000000  2752.520020  ...  2666.149902  1495400\n",
              "2022-01-21  2651.870117  2697.310059  ...  2607.030029  2774100\n",
              "\n",
              "[3 rows x 6 columns]"
            ]
          },
          "metadata": {},
          "execution_count": 8
        }
      ]
    },
    {
      "cell_type": "code",
      "source": [
        "data.isnull().sum()"
      ],
      "metadata": {
        "colab": {
          "base_uri": "https://localhost:8080/"
        },
        "id": "yxbWcBQRqHiD",
        "outputId": "02cebcec-2e08-4a07-ecaf-e9daefdab154"
      },
      "execution_count": 9,
      "outputs": [
        {
          "output_type": "execute_result",
          "data": {
            "text/plain": [
              "Open         0\n",
              "High         0\n",
              "Low          0\n",
              "Close        0\n",
              "Adj Close    0\n",
              "Volume       0\n",
              "dtype: int64"
            ]
          },
          "metadata": {},
          "execution_count": 9
        }
      ]
    },
    {
      "cell_type": "code",
      "source": [
        "#here above we see that there isn't any missing values\n",
        "data.describe()\n",
        "#Get the statistics of the data"
      ],
      "metadata": {
        "colab": {
          "base_uri": "https://localhost:8080/",
          "height": 300
        },
        "id": "IOkcBaUVqMuY",
        "outputId": "d79c5f54-1cc8-4b21-81b0-974a5ba15c1a"
      },
      "execution_count": 10,
      "outputs": [
        {
          "output_type": "execute_result",
          "data": {
            "text/html": [
              "\n",
              "  <div id=\"df-666e1b01-f2b4-4a8a-ba1d-0e0384428b04\">\n",
              "    <div class=\"colab-df-container\">\n",
              "      <div>\n",
              "<style scoped>\n",
              "    .dataframe tbody tr th:only-of-type {\n",
              "        vertical-align: middle;\n",
              "    }\n",
              "\n",
              "    .dataframe tbody tr th {\n",
              "        vertical-align: top;\n",
              "    }\n",
              "\n",
              "    .dataframe thead th {\n",
              "        text-align: right;\n",
              "    }\n",
              "</style>\n",
              "<table border=\"1\" class=\"dataframe\">\n",
              "  <thead>\n",
              "    <tr style=\"text-align: right;\">\n",
              "      <th></th>\n",
              "      <th>Open</th>\n",
              "      <th>High</th>\n",
              "      <th>Low</th>\n",
              "      <th>Close</th>\n",
              "      <th>Adj Close</th>\n",
              "      <th>Volume</th>\n",
              "    </tr>\n",
              "  </thead>\n",
              "  <tbody>\n",
              "    <tr>\n",
              "      <th>count</th>\n",
              "      <td>1022.000000</td>\n",
              "      <td>1022.000000</td>\n",
              "      <td>1022.000000</td>\n",
              "      <td>1022.000000</td>\n",
              "      <td>1022.000000</td>\n",
              "      <td>1.022000e+03</td>\n",
              "    </tr>\n",
              "    <tr>\n",
              "      <th>mean</th>\n",
              "      <td>1585.245205</td>\n",
              "      <td>1601.272620</td>\n",
              "      <td>1569.307195</td>\n",
              "      <td>1585.900636</td>\n",
              "      <td>1585.900636</td>\n",
              "      <td>1.770152e+06</td>\n",
              "    </tr>\n",
              "    <tr>\n",
              "      <th>std</th>\n",
              "      <td>596.859979</td>\n",
              "      <td>600.801706</td>\n",
              "      <td>592.205803</td>\n",
              "      <td>596.611791</td>\n",
              "      <td>596.611791</td>\n",
              "      <td>8.253347e+05</td>\n",
              "    </tr>\n",
              "    <tr>\n",
              "      <th>min</th>\n",
              "      <td>984.320007</td>\n",
              "      <td>1012.119995</td>\n",
              "      <td>977.659973</td>\n",
              "      <td>984.669983</td>\n",
              "      <td>984.669983</td>\n",
              "      <td>4.656000e+05</td>\n",
              "    </tr>\n",
              "    <tr>\n",
              "      <th>25%</th>\n",
              "      <td>1144.744965</td>\n",
              "      <td>1154.447479</td>\n",
              "      <td>1132.934998</td>\n",
              "      <td>1146.417542</td>\n",
              "      <td>1146.417542</td>\n",
              "      <td>1.241050e+06</td>\n",
              "    </tr>\n",
              "    <tr>\n",
              "      <th>50%</th>\n",
              "      <td>1300.385010</td>\n",
              "      <td>1310.765015</td>\n",
              "      <td>1293.844971</td>\n",
              "      <td>1302.974976</td>\n",
              "      <td>1302.974976</td>\n",
              "      <td>1.556900e+06</td>\n",
              "    </tr>\n",
              "    <tr>\n",
              "      <th>75%</th>\n",
              "      <td>1820.460022</td>\n",
              "      <td>1841.057465</td>\n",
              "      <td>1802.670044</td>\n",
              "      <td>1823.279999</td>\n",
              "      <td>1823.279999</td>\n",
              "      <td>2.017975e+06</td>\n",
              "    </tr>\n",
              "    <tr>\n",
              "      <th>max</th>\n",
              "      <td>2999.510010</td>\n",
              "      <td>3019.330078</td>\n",
              "      <td>2977.979980</td>\n",
              "      <td>2996.770020</td>\n",
              "      <td>2996.770020</td>\n",
              "      <td>6.658900e+06</td>\n",
              "    </tr>\n",
              "  </tbody>\n",
              "</table>\n",
              "</div>\n",
              "      <button class=\"colab-df-convert\" onclick=\"convertToInteractive('df-666e1b01-f2b4-4a8a-ba1d-0e0384428b04')\"\n",
              "              title=\"Convert this dataframe to an interactive table.\"\n",
              "              style=\"display:none;\">\n",
              "        \n",
              "  <svg xmlns=\"http://www.w3.org/2000/svg\" height=\"24px\"viewBox=\"0 0 24 24\"\n",
              "       width=\"24px\">\n",
              "    <path d=\"M0 0h24v24H0V0z\" fill=\"none\"/>\n",
              "    <path d=\"M18.56 5.44l.94 2.06.94-2.06 2.06-.94-2.06-.94-.94-2.06-.94 2.06-2.06.94zm-11 1L8.5 8.5l.94-2.06 2.06-.94-2.06-.94L8.5 2.5l-.94 2.06-2.06.94zm10 10l.94 2.06.94-2.06 2.06-.94-2.06-.94-.94-2.06-.94 2.06-2.06.94z\"/><path d=\"M17.41 7.96l-1.37-1.37c-.4-.4-.92-.59-1.43-.59-.52 0-1.04.2-1.43.59L10.3 9.45l-7.72 7.72c-.78.78-.78 2.05 0 2.83L4 21.41c.39.39.9.59 1.41.59.51 0 1.02-.2 1.41-.59l7.78-7.78 2.81-2.81c.8-.78.8-2.07 0-2.86zM5.41 20L4 18.59l7.72-7.72 1.47 1.35L5.41 20z\"/>\n",
              "  </svg>\n",
              "      </button>\n",
              "      \n",
              "  <style>\n",
              "    .colab-df-container {\n",
              "      display:flex;\n",
              "      flex-wrap:wrap;\n",
              "      gap: 12px;\n",
              "    }\n",
              "\n",
              "    .colab-df-convert {\n",
              "      background-color: #E8F0FE;\n",
              "      border: none;\n",
              "      border-radius: 50%;\n",
              "      cursor: pointer;\n",
              "      display: none;\n",
              "      fill: #1967D2;\n",
              "      height: 32px;\n",
              "      padding: 0 0 0 0;\n",
              "      width: 32px;\n",
              "    }\n",
              "\n",
              "    .colab-df-convert:hover {\n",
              "      background-color: #E2EBFA;\n",
              "      box-shadow: 0px 1px 2px rgba(60, 64, 67, 0.3), 0px 1px 3px 1px rgba(60, 64, 67, 0.15);\n",
              "      fill: #174EA6;\n",
              "    }\n",
              "\n",
              "    [theme=dark] .colab-df-convert {\n",
              "      background-color: #3B4455;\n",
              "      fill: #D2E3FC;\n",
              "    }\n",
              "\n",
              "    [theme=dark] .colab-df-convert:hover {\n",
              "      background-color: #434B5C;\n",
              "      box-shadow: 0px 1px 3px 1px rgba(0, 0, 0, 0.15);\n",
              "      filter: drop-shadow(0px 1px 2px rgba(0, 0, 0, 0.3));\n",
              "      fill: #FFFFFF;\n",
              "    }\n",
              "  </style>\n",
              "\n",
              "      <script>\n",
              "        const buttonEl =\n",
              "          document.querySelector('#df-666e1b01-f2b4-4a8a-ba1d-0e0384428b04 button.colab-df-convert');\n",
              "        buttonEl.style.display =\n",
              "          google.colab.kernel.accessAllowed ? 'block' : 'none';\n",
              "\n",
              "        async function convertToInteractive(key) {\n",
              "          const element = document.querySelector('#df-666e1b01-f2b4-4a8a-ba1d-0e0384428b04');\n",
              "          const dataTable =\n",
              "            await google.colab.kernel.invokeFunction('convertToInteractive',\n",
              "                                                     [key], {});\n",
              "          if (!dataTable) return;\n",
              "\n",
              "          const docLinkHtml = 'Like what you see? Visit the ' +\n",
              "            '<a target=\"_blank\" href=https://colab.research.google.com/notebooks/data_table.ipynb>data table notebook</a>'\n",
              "            + ' to learn more about interactive tables.';\n",
              "          element.innerHTML = '';\n",
              "          dataTable['output_type'] = 'display_data';\n",
              "          await google.colab.output.renderOutput(dataTable, element);\n",
              "          const docLink = document.createElement('div');\n",
              "          docLink.innerHTML = docLinkHtml;\n",
              "          element.appendChild(docLink);\n",
              "        }\n",
              "      </script>\n",
              "    </div>\n",
              "  </div>\n",
              "  "
            ],
            "text/plain": [
              "              Open         High  ...    Adj Close        Volume\n",
              "count  1022.000000  1022.000000  ...  1022.000000  1.022000e+03\n",
              "mean   1585.245205  1601.272620  ...  1585.900636  1.770152e+06\n",
              "std     596.859979   600.801706  ...   596.611791  8.253347e+05\n",
              "min     984.320007  1012.119995  ...   984.669983  4.656000e+05\n",
              "25%    1144.744965  1154.447479  ...  1146.417542  1.241050e+06\n",
              "50%    1300.385010  1310.765015  ...  1302.974976  1.556900e+06\n",
              "75%    1820.460022  1841.057465  ...  1823.279999  2.017975e+06\n",
              "max    2999.510010  3019.330078  ...  2996.770020  6.658900e+06\n",
              "\n",
              "[8 rows x 6 columns]"
            ]
          },
          "metadata": {},
          "execution_count": 10
        }
      ]
    },
    {
      "cell_type": "code",
      "source": [
        "import plotly.graph_objects as go\n",
        "\n",
        "#Check the trend in Closing Values\n",
        "fig = go.Figure()\n",
        "\n",
        "fig.add_trace(go.Scatter(x=data.index , y = data['Close'], mode = 'lines'))\n",
        "fig.update_layout(height = 500 , width = 900 , \n",
        "                                   xaxis_title = 'Date', yaxis_title = 'Close')\n",
        "fig.show()"
      ],
      "metadata": {
        "colab": {
          "base_uri": "https://localhost:8080/",
          "height": 517
        },
        "id": "xbfWyv1_uL8L",
        "outputId": "a7ae8a50-eee9-49a4-806c-208fa772d9fc"
      },
      "execution_count": 11,
      "outputs": [
        {
          "output_type": "display_data",
          "data": {
            "text/html": [
              "<html>\n",
              "<head><meta charset=\"utf-8\" /></head>\n",
              "<body>\n",
              "    <div>\n",
              "            <script src=\"https://cdnjs.cloudflare.com/ajax/libs/mathjax/2.7.5/MathJax.js?config=TeX-AMS-MML_SVG\"></script><script type=\"text/javascript\">if (window.MathJax) {MathJax.Hub.Config({SVG: {font: \"STIX-Web\"}});}</script>\n",
              "                <script type=\"text/javascript\">window.PlotlyConfig = {MathJaxConfig: 'local'};</script>\n",
              "        <script src=\"https://cdn.plot.ly/plotly-latest.min.js\"></script>    \n",
              "            <div id=\"597fbc03-03e2-4b43-b3e3-8a98c2b754b1\" class=\"plotly-graph-div\" style=\"height:500px; width:900px;\"></div>\n",
              "            <script type=\"text/javascript\">\n",
              "                \n",
              "                    window.PLOTLYENV=window.PLOTLYENV || {};\n",
              "                    \n",
              "                if (document.getElementById(\"597fbc03-03e2-4b43-b3e3-8a98c2b754b1\")) {\n",
              "                    Plotly.newPlot(\n",
              "                        '597fbc03-03e2-4b43-b3e3-8a98c2b754b1',\n",
              "                        [{\"mode\": \"lines\", \"type\": \"scatter\", \"x\": [\"2018-01-02T00:00:00\", \"2018-01-03T00:00:00\", \"2018-01-04T00:00:00\", \"2018-01-05T00:00:00\", \"2018-01-08T00:00:00\", \"2018-01-09T00:00:00\", \"2018-01-10T00:00:00\", \"2018-01-11T00:00:00\", \"2018-01-12T00:00:00\", \"2018-01-16T00:00:00\", \"2018-01-17T00:00:00\", \"2018-01-18T00:00:00\", \"2018-01-19T00:00:00\", \"2018-01-22T00:00:00\", \"2018-01-23T00:00:00\", \"2018-01-24T00:00:00\", \"2018-01-25T00:00:00\", \"2018-01-26T00:00:00\", \"2018-01-29T00:00:00\", \"2018-01-30T00:00:00\", \"2018-01-31T00:00:00\", \"2018-02-01T00:00:00\", \"2018-02-02T00:00:00\", \"2018-02-05T00:00:00\", \"2018-02-06T00:00:00\", \"2018-02-07T00:00:00\", \"2018-02-08T00:00:00\", \"2018-02-09T00:00:00\", \"2018-02-12T00:00:00\", \"2018-02-13T00:00:00\", \"2018-02-14T00:00:00\", \"2018-02-15T00:00:00\", \"2018-02-16T00:00:00\", \"2018-02-20T00:00:00\", \"2018-02-21T00:00:00\", \"2018-02-22T00:00:00\", \"2018-02-23T00:00:00\", \"2018-02-26T00:00:00\", \"2018-02-27T00:00:00\", \"2018-02-28T00:00:00\", \"2018-03-01T00:00:00\", \"2018-03-02T00:00:00\", \"2018-03-05T00:00:00\", \"2018-03-06T00:00:00\", \"2018-03-07T00:00:00\", \"2018-03-08T00:00:00\", \"2018-03-09T00:00:00\", \"2018-03-12T00:00:00\", \"2018-03-13T00:00:00\", \"2018-03-14T00:00:00\", \"2018-03-15T00:00:00\", \"2018-03-16T00:00:00\", \"2018-03-19T00:00:00\", \"2018-03-20T00:00:00\", \"2018-03-21T00:00:00\", \"2018-03-22T00:00:00\", \"2018-03-23T00:00:00\", \"2018-03-26T00:00:00\", \"2018-03-27T00:00:00\", \"2018-03-28T00:00:00\", \"2018-03-29T00:00:00\", \"2018-04-02T00:00:00\", \"2018-04-03T00:00:00\", \"2018-04-04T00:00:00\", \"2018-04-05T00:00:00\", \"2018-04-06T00:00:00\", \"2018-04-09T00:00:00\", \"2018-04-10T00:00:00\", \"2018-04-11T00:00:00\", \"2018-04-12T00:00:00\", \"2018-04-13T00:00:00\", \"2018-04-16T00:00:00\", \"2018-04-17T00:00:00\", \"2018-04-18T00:00:00\", \"2018-04-19T00:00:00\", \"2018-04-20T00:00:00\", \"2018-04-23T00:00:00\", \"2018-04-24T00:00:00\", \"2018-04-25T00:00:00\", \"2018-04-26T00:00:00\", \"2018-04-27T00:00:00\", \"2018-04-30T00:00:00\", \"2018-05-01T00:00:00\", \"2018-05-02T00:00:00\", \"2018-05-03T00:00:00\", \"2018-05-04T00:00:00\", \"2018-05-07T00:00:00\", \"2018-05-08T00:00:00\", \"2018-05-09T00:00:00\", \"2018-05-10T00:00:00\", \"2018-05-11T00:00:00\", \"2018-05-14T00:00:00\", \"2018-05-15T00:00:00\", \"2018-05-16T00:00:00\", \"2018-05-17T00:00:00\", \"2018-05-18T00:00:00\", \"2018-05-21T00:00:00\", \"2018-05-22T00:00:00\", \"2018-05-23T00:00:00\", \"2018-05-24T00:00:00\", \"2018-05-25T00:00:00\", \"2018-05-29T00:00:00\", \"2018-05-30T00:00:00\", \"2018-05-31T00:00:00\", \"2018-06-01T00:00:00\", \"2018-06-04T00:00:00\", \"2018-06-05T00:00:00\", \"2018-06-06T00:00:00\", \"2018-06-07T00:00:00\", \"2018-06-08T00:00:00\", \"2018-06-11T00:00:00\", \"2018-06-12T00:00:00\", \"2018-06-13T00:00:00\", \"2018-06-14T00:00:00\", \"2018-06-15T00:00:00\", \"2018-06-18T00:00:00\", \"2018-06-19T00:00:00\", \"2018-06-20T00:00:00\", \"2018-06-21T00:00:00\", \"2018-06-22T00:00:00\", \"2018-06-25T00:00:00\", \"2018-06-26T00:00:00\", \"2018-06-27T00:00:00\", \"2018-06-28T00:00:00\", \"2018-06-29T00:00:00\", \"2018-07-02T00:00:00\", \"2018-07-03T00:00:00\", \"2018-07-05T00:00:00\", \"2018-07-06T00:00:00\", \"2018-07-09T00:00:00\", \"2018-07-10T00:00:00\", \"2018-07-11T00:00:00\", \"2018-07-12T00:00:00\", \"2018-07-13T00:00:00\", \"2018-07-16T00:00:00\", \"2018-07-17T00:00:00\", \"2018-07-18T00:00:00\", \"2018-07-19T00:00:00\", \"2018-07-20T00:00:00\", \"2018-07-23T00:00:00\", \"2018-07-24T00:00:00\", \"2018-07-25T00:00:00\", \"2018-07-26T00:00:00\", \"2018-07-27T00:00:00\", \"2018-07-30T00:00:00\", \"2018-07-31T00:00:00\", \"2018-08-01T00:00:00\", \"2018-08-02T00:00:00\", \"2018-08-03T00:00:00\", \"2018-08-06T00:00:00\", \"2018-08-07T00:00:00\", \"2018-08-08T00:00:00\", \"2018-08-09T00:00:00\", \"2018-08-10T00:00:00\", \"2018-08-13T00:00:00\", \"2018-08-14T00:00:00\", \"2018-08-15T00:00:00\", \"2018-08-16T00:00:00\", \"2018-08-17T00:00:00\", \"2018-08-20T00:00:00\", \"2018-08-21T00:00:00\", \"2018-08-22T00:00:00\", \"2018-08-23T00:00:00\", \"2018-08-24T00:00:00\", \"2018-08-27T00:00:00\", \"2018-08-28T00:00:00\", \"2018-08-29T00:00:00\", \"2018-08-30T00:00:00\", \"2018-08-31T00:00:00\", \"2018-09-04T00:00:00\", \"2018-09-05T00:00:00\", \"2018-09-06T00:00:00\", \"2018-09-07T00:00:00\", \"2018-09-10T00:00:00\", \"2018-09-11T00:00:00\", \"2018-09-12T00:00:00\", \"2018-09-13T00:00:00\", \"2018-09-14T00:00:00\", \"2018-09-17T00:00:00\", \"2018-09-18T00:00:00\", \"2018-09-19T00:00:00\", \"2018-09-20T00:00:00\", \"2018-09-21T00:00:00\", \"2018-09-24T00:00:00\", \"2018-09-25T00:00:00\", \"2018-09-26T00:00:00\", \"2018-09-27T00:00:00\", \"2018-09-28T00:00:00\", \"2018-10-01T00:00:00\", \"2018-10-02T00:00:00\", \"2018-10-03T00:00:00\", \"2018-10-04T00:00:00\", \"2018-10-05T00:00:00\", \"2018-10-08T00:00:00\", \"2018-10-09T00:00:00\", \"2018-10-10T00:00:00\", \"2018-10-11T00:00:00\", \"2018-10-12T00:00:00\", \"2018-10-15T00:00:00\", \"2018-10-16T00:00:00\", \"2018-10-17T00:00:00\", \"2018-10-18T00:00:00\", \"2018-10-19T00:00:00\", \"2018-10-22T00:00:00\", \"2018-10-23T00:00:00\", \"2018-10-24T00:00:00\", \"2018-10-25T00:00:00\", \"2018-10-26T00:00:00\", \"2018-10-29T00:00:00\", \"2018-10-30T00:00:00\", \"2018-10-31T00:00:00\", \"2018-11-01T00:00:00\", \"2018-11-02T00:00:00\", \"2018-11-05T00:00:00\", \"2018-11-06T00:00:00\", \"2018-11-07T00:00:00\", \"2018-11-08T00:00:00\", \"2018-11-09T00:00:00\", \"2018-11-12T00:00:00\", \"2018-11-13T00:00:00\", \"2018-11-14T00:00:00\", \"2018-11-15T00:00:00\", \"2018-11-16T00:00:00\", \"2018-11-19T00:00:00\", \"2018-11-20T00:00:00\", \"2018-11-21T00:00:00\", \"2018-11-23T00:00:00\", \"2018-11-26T00:00:00\", \"2018-11-27T00:00:00\", \"2018-11-28T00:00:00\", \"2018-11-29T00:00:00\", \"2018-11-30T00:00:00\", \"2018-12-03T00:00:00\", \"2018-12-04T00:00:00\", \"2018-12-06T00:00:00\", \"2018-12-07T00:00:00\", \"2018-12-10T00:00:00\", \"2018-12-11T00:00:00\", \"2018-12-12T00:00:00\", \"2018-12-13T00:00:00\", \"2018-12-14T00:00:00\", \"2018-12-17T00:00:00\", \"2018-12-18T00:00:00\", \"2018-12-19T00:00:00\", \"2018-12-20T00:00:00\", \"2018-12-21T00:00:00\", \"2018-12-24T00:00:00\", \"2018-12-26T00:00:00\", \"2018-12-27T00:00:00\", \"2018-12-28T00:00:00\", \"2018-12-31T00:00:00\", \"2019-01-02T00:00:00\", \"2019-01-03T00:00:00\", \"2019-01-04T00:00:00\", \"2019-01-07T00:00:00\", \"2019-01-08T00:00:00\", \"2019-01-09T00:00:00\", \"2019-01-10T00:00:00\", \"2019-01-11T00:00:00\", \"2019-01-14T00:00:00\", \"2019-01-15T00:00:00\", \"2019-01-16T00:00:00\", \"2019-01-17T00:00:00\", \"2019-01-18T00:00:00\", \"2019-01-22T00:00:00\", \"2019-01-23T00:00:00\", \"2019-01-24T00:00:00\", \"2019-01-25T00:00:00\", \"2019-01-28T00:00:00\", \"2019-01-29T00:00:00\", \"2019-01-30T00:00:00\", \"2019-01-31T00:00:00\", \"2019-02-01T00:00:00\", \"2019-02-04T00:00:00\", \"2019-02-05T00:00:00\", \"2019-02-06T00:00:00\", \"2019-02-07T00:00:00\", \"2019-02-08T00:00:00\", \"2019-02-11T00:00:00\", \"2019-02-12T00:00:00\", \"2019-02-13T00:00:00\", \"2019-02-14T00:00:00\", \"2019-02-15T00:00:00\", \"2019-02-19T00:00:00\", \"2019-02-20T00:00:00\", \"2019-02-21T00:00:00\", \"2019-02-22T00:00:00\", \"2019-02-25T00:00:00\", \"2019-02-26T00:00:00\", \"2019-02-27T00:00:00\", \"2019-02-28T00:00:00\", \"2019-03-01T00:00:00\", \"2019-03-04T00:00:00\", \"2019-03-05T00:00:00\", \"2019-03-06T00:00:00\", \"2019-03-07T00:00:00\", \"2019-03-08T00:00:00\", \"2019-03-11T00:00:00\", \"2019-03-12T00:00:00\", \"2019-03-13T00:00:00\", \"2019-03-14T00:00:00\", \"2019-03-15T00:00:00\", \"2019-03-18T00:00:00\", \"2019-03-19T00:00:00\", \"2019-03-20T00:00:00\", \"2019-03-21T00:00:00\", \"2019-03-22T00:00:00\", \"2019-03-25T00:00:00\", \"2019-03-26T00:00:00\", \"2019-03-27T00:00:00\", \"2019-03-28T00:00:00\", \"2019-03-29T00:00:00\", \"2019-04-01T00:00:00\", \"2019-04-02T00:00:00\", \"2019-04-03T00:00:00\", \"2019-04-04T00:00:00\", \"2019-04-05T00:00:00\", \"2019-04-08T00:00:00\", \"2019-04-09T00:00:00\", \"2019-04-10T00:00:00\", \"2019-04-11T00:00:00\", \"2019-04-12T00:00:00\", \"2019-04-15T00:00:00\", \"2019-04-16T00:00:00\", \"2019-04-17T00:00:00\", \"2019-04-18T00:00:00\", \"2019-04-22T00:00:00\", \"2019-04-23T00:00:00\", \"2019-04-24T00:00:00\", \"2019-04-25T00:00:00\", \"2019-04-26T00:00:00\", \"2019-04-29T00:00:00\", \"2019-04-30T00:00:00\", \"2019-05-01T00:00:00\", \"2019-05-02T00:00:00\", \"2019-05-03T00:00:00\", \"2019-05-06T00:00:00\", \"2019-05-07T00:00:00\", \"2019-05-08T00:00:00\", \"2019-05-09T00:00:00\", \"2019-05-10T00:00:00\", \"2019-05-13T00:00:00\", \"2019-05-14T00:00:00\", \"2019-05-15T00:00:00\", \"2019-05-16T00:00:00\", \"2019-05-17T00:00:00\", \"2019-05-20T00:00:00\", \"2019-05-21T00:00:00\", \"2019-05-22T00:00:00\", \"2019-05-23T00:00:00\", \"2019-05-24T00:00:00\", \"2019-05-28T00:00:00\", \"2019-05-29T00:00:00\", \"2019-05-30T00:00:00\", \"2019-05-31T00:00:00\", \"2019-06-03T00:00:00\", \"2019-06-04T00:00:00\", \"2019-06-05T00:00:00\", \"2019-06-06T00:00:00\", \"2019-06-07T00:00:00\", \"2019-06-10T00:00:00\", \"2019-06-11T00:00:00\", \"2019-06-12T00:00:00\", \"2019-06-13T00:00:00\", \"2019-06-14T00:00:00\", \"2019-06-17T00:00:00\", \"2019-06-18T00:00:00\", \"2019-06-19T00:00:00\", \"2019-06-20T00:00:00\", \"2019-06-21T00:00:00\", \"2019-06-24T00:00:00\", \"2019-06-25T00:00:00\", \"2019-06-26T00:00:00\", \"2019-06-27T00:00:00\", \"2019-06-28T00:00:00\", \"2019-07-01T00:00:00\", \"2019-07-02T00:00:00\", \"2019-07-03T00:00:00\", \"2019-07-05T00:00:00\", \"2019-07-08T00:00:00\", \"2019-07-09T00:00:00\", \"2019-07-10T00:00:00\", \"2019-07-11T00:00:00\", \"2019-07-12T00:00:00\", \"2019-07-15T00:00:00\", \"2019-07-16T00:00:00\", \"2019-07-17T00:00:00\", \"2019-07-18T00:00:00\", \"2019-07-19T00:00:00\", \"2019-07-22T00:00:00\", \"2019-07-23T00:00:00\", \"2019-07-24T00:00:00\", \"2019-07-25T00:00:00\", \"2019-07-26T00:00:00\", \"2019-07-29T00:00:00\", \"2019-07-30T00:00:00\", \"2019-07-31T00:00:00\", \"2019-08-01T00:00:00\", \"2019-08-02T00:00:00\", \"2019-08-05T00:00:00\", \"2019-08-06T00:00:00\", \"2019-08-07T00:00:00\", \"2019-08-08T00:00:00\", \"2019-08-09T00:00:00\", \"2019-08-12T00:00:00\", \"2019-08-13T00:00:00\", \"2019-08-14T00:00:00\", \"2019-08-15T00:00:00\", \"2019-08-16T00:00:00\", \"2019-08-19T00:00:00\", \"2019-08-20T00:00:00\", \"2019-08-21T00:00:00\", \"2019-08-22T00:00:00\", \"2019-08-23T00:00:00\", \"2019-08-26T00:00:00\", \"2019-08-27T00:00:00\", \"2019-08-28T00:00:00\", \"2019-08-29T00:00:00\", \"2019-08-30T00:00:00\", \"2019-09-03T00:00:00\", \"2019-09-04T00:00:00\", \"2019-09-05T00:00:00\", \"2019-09-06T00:00:00\", \"2019-09-09T00:00:00\", \"2019-09-10T00:00:00\", \"2019-09-11T00:00:00\", \"2019-09-12T00:00:00\", \"2019-09-13T00:00:00\", \"2019-09-16T00:00:00\", \"2019-09-17T00:00:00\", \"2019-09-18T00:00:00\", \"2019-09-19T00:00:00\", \"2019-09-20T00:00:00\", \"2019-09-23T00:00:00\", \"2019-09-24T00:00:00\", \"2019-09-25T00:00:00\", \"2019-09-26T00:00:00\", \"2019-09-27T00:00:00\", \"2019-09-30T00:00:00\", \"2019-10-01T00:00:00\", \"2019-10-02T00:00:00\", \"2019-10-03T00:00:00\", \"2019-10-04T00:00:00\", \"2019-10-07T00:00:00\", \"2019-10-08T00:00:00\", \"2019-10-09T00:00:00\", \"2019-10-10T00:00:00\", \"2019-10-11T00:00:00\", \"2019-10-14T00:00:00\", \"2019-10-15T00:00:00\", \"2019-10-16T00:00:00\", \"2019-10-17T00:00:00\", \"2019-10-18T00:00:00\", \"2019-10-21T00:00:00\", \"2019-10-22T00:00:00\", \"2019-10-23T00:00:00\", \"2019-10-24T00:00:00\", \"2019-10-25T00:00:00\", \"2019-10-28T00:00:00\", \"2019-10-29T00:00:00\", \"2019-10-30T00:00:00\", \"2019-10-31T00:00:00\", \"2019-11-01T00:00:00\", \"2019-11-04T00:00:00\", \"2019-11-05T00:00:00\", \"2019-11-06T00:00:00\", \"2019-11-07T00:00:00\", \"2019-11-08T00:00:00\", \"2019-11-11T00:00:00\", \"2019-11-12T00:00:00\", \"2019-11-13T00:00:00\", \"2019-11-14T00:00:00\", \"2019-11-15T00:00:00\", \"2019-11-18T00:00:00\", \"2019-11-19T00:00:00\", \"2019-11-20T00:00:00\", \"2019-11-21T00:00:00\", \"2019-11-22T00:00:00\", \"2019-11-25T00:00:00\", \"2019-11-26T00:00:00\", \"2019-11-27T00:00:00\", \"2019-11-29T00:00:00\", \"2019-12-02T00:00:00\", \"2019-12-03T00:00:00\", \"2019-12-04T00:00:00\", \"2019-12-05T00:00:00\", \"2019-12-06T00:00:00\", \"2019-12-09T00:00:00\", \"2019-12-10T00:00:00\", \"2019-12-11T00:00:00\", \"2019-12-12T00:00:00\", \"2019-12-13T00:00:00\", \"2019-12-16T00:00:00\", \"2019-12-17T00:00:00\", \"2019-12-18T00:00:00\", \"2019-12-19T00:00:00\", \"2019-12-20T00:00:00\", \"2019-12-23T00:00:00\", \"2019-12-24T00:00:00\", \"2019-12-26T00:00:00\", \"2019-12-27T00:00:00\", \"2019-12-30T00:00:00\", \"2019-12-31T00:00:00\", \"2020-01-02T00:00:00\", \"2020-01-03T00:00:00\", \"2020-01-06T00:00:00\", \"2020-01-07T00:00:00\", \"2020-01-08T00:00:00\", \"2020-01-09T00:00:00\", \"2020-01-10T00:00:00\", \"2020-01-13T00:00:00\", \"2020-01-14T00:00:00\", \"2020-01-15T00:00:00\", \"2020-01-16T00:00:00\", \"2020-01-17T00:00:00\", \"2020-01-21T00:00:00\", \"2020-01-22T00:00:00\", \"2020-01-23T00:00:00\", \"2020-01-24T00:00:00\", \"2020-01-27T00:00:00\", \"2020-01-28T00:00:00\", \"2020-01-29T00:00:00\", \"2020-01-30T00:00:00\", \"2020-01-31T00:00:00\", \"2020-02-03T00:00:00\", \"2020-02-04T00:00:00\", \"2020-02-05T00:00:00\", \"2020-02-06T00:00:00\", \"2020-02-07T00:00:00\", \"2020-02-10T00:00:00\", \"2020-02-11T00:00:00\", \"2020-02-12T00:00:00\", \"2020-02-13T00:00:00\", \"2020-02-14T00:00:00\", \"2020-02-18T00:00:00\", \"2020-02-19T00:00:00\", \"2020-02-20T00:00:00\", \"2020-02-21T00:00:00\", \"2020-02-24T00:00:00\", \"2020-02-25T00:00:00\", \"2020-02-26T00:00:00\", \"2020-02-27T00:00:00\", \"2020-02-28T00:00:00\", \"2020-03-02T00:00:00\", \"2020-03-03T00:00:00\", \"2020-03-04T00:00:00\", \"2020-03-05T00:00:00\", \"2020-03-06T00:00:00\", \"2020-03-09T00:00:00\", \"2020-03-10T00:00:00\", \"2020-03-11T00:00:00\", \"2020-03-12T00:00:00\", \"2020-03-13T00:00:00\", \"2020-03-16T00:00:00\", \"2020-03-17T00:00:00\", \"2020-03-18T00:00:00\", \"2020-03-19T00:00:00\", \"2020-03-20T00:00:00\", \"2020-03-23T00:00:00\", \"2020-03-24T00:00:00\", \"2020-03-25T00:00:00\", \"2020-03-26T00:00:00\", \"2020-03-27T00:00:00\", \"2020-03-30T00:00:00\", \"2020-03-31T00:00:00\", \"2020-04-01T00:00:00\", \"2020-04-02T00:00:00\", \"2020-04-03T00:00:00\", \"2020-04-06T00:00:00\", \"2020-04-07T00:00:00\", \"2020-04-08T00:00:00\", \"2020-04-09T00:00:00\", \"2020-04-13T00:00:00\", \"2020-04-14T00:00:00\", \"2020-04-15T00:00:00\", \"2020-04-16T00:00:00\", \"2020-04-17T00:00:00\", \"2020-04-20T00:00:00\", \"2020-04-21T00:00:00\", \"2020-04-22T00:00:00\", \"2020-04-23T00:00:00\", \"2020-04-24T00:00:00\", \"2020-04-27T00:00:00\", \"2020-04-28T00:00:00\", \"2020-04-29T00:00:00\", \"2020-04-30T00:00:00\", \"2020-05-01T00:00:00\", \"2020-05-04T00:00:00\", \"2020-05-05T00:00:00\", \"2020-05-06T00:00:00\", \"2020-05-07T00:00:00\", \"2020-05-08T00:00:00\", \"2020-05-11T00:00:00\", \"2020-05-12T00:00:00\", \"2020-05-13T00:00:00\", \"2020-05-14T00:00:00\", \"2020-05-15T00:00:00\", \"2020-05-18T00:00:00\", \"2020-05-19T00:00:00\", \"2020-05-20T00:00:00\", \"2020-05-21T00:00:00\", \"2020-05-22T00:00:00\", \"2020-05-26T00:00:00\", \"2020-05-27T00:00:00\", \"2020-05-28T00:00:00\", \"2020-05-29T00:00:00\", \"2020-06-01T00:00:00\", \"2020-06-02T00:00:00\", \"2020-06-03T00:00:00\", \"2020-06-04T00:00:00\", \"2020-06-05T00:00:00\", \"2020-06-08T00:00:00\", \"2020-06-09T00:00:00\", \"2020-06-10T00:00:00\", \"2020-06-11T00:00:00\", \"2020-06-12T00:00:00\", \"2020-06-15T00:00:00\", \"2020-06-16T00:00:00\", \"2020-06-17T00:00:00\", \"2020-06-18T00:00:00\", \"2020-06-19T00:00:00\", \"2020-06-22T00:00:00\", \"2020-06-23T00:00:00\", \"2020-06-24T00:00:00\", \"2020-06-25T00:00:00\", \"2020-06-26T00:00:00\", \"2020-06-29T00:00:00\", \"2020-06-30T00:00:00\", \"2020-07-01T00:00:00\", \"2020-07-02T00:00:00\", \"2020-07-06T00:00:00\", \"2020-07-07T00:00:00\", \"2020-07-08T00:00:00\", \"2020-07-09T00:00:00\", \"2020-07-10T00:00:00\", \"2020-07-13T00:00:00\", \"2020-07-14T00:00:00\", \"2020-07-15T00:00:00\", \"2020-07-16T00:00:00\", \"2020-07-17T00:00:00\", \"2020-07-20T00:00:00\", \"2020-07-21T00:00:00\", \"2020-07-22T00:00:00\", \"2020-07-23T00:00:00\", \"2020-07-24T00:00:00\", \"2020-07-27T00:00:00\", \"2020-07-28T00:00:00\", \"2020-07-29T00:00:00\", \"2020-07-30T00:00:00\", \"2020-07-31T00:00:00\", \"2020-08-03T00:00:00\", \"2020-08-04T00:00:00\", \"2020-08-05T00:00:00\", \"2020-08-06T00:00:00\", \"2020-08-07T00:00:00\", \"2020-08-10T00:00:00\", \"2020-08-11T00:00:00\", \"2020-08-12T00:00:00\", \"2020-08-13T00:00:00\", \"2020-08-14T00:00:00\", \"2020-08-17T00:00:00\", \"2020-08-18T00:00:00\", \"2020-08-19T00:00:00\", \"2020-08-20T00:00:00\", \"2020-08-21T00:00:00\", \"2020-08-24T00:00:00\", \"2020-08-25T00:00:00\", \"2020-08-26T00:00:00\", \"2020-08-27T00:00:00\", \"2020-08-28T00:00:00\", \"2020-08-31T00:00:00\", \"2020-09-01T00:00:00\", \"2020-09-02T00:00:00\", \"2020-09-03T00:00:00\", \"2020-09-04T00:00:00\", \"2020-09-08T00:00:00\", \"2020-09-09T00:00:00\", \"2020-09-10T00:00:00\", \"2020-09-11T00:00:00\", \"2020-09-14T00:00:00\", \"2020-09-15T00:00:00\", \"2020-09-16T00:00:00\", \"2020-09-17T00:00:00\", \"2020-09-18T00:00:00\", \"2020-09-21T00:00:00\", \"2020-09-22T00:00:00\", \"2020-09-23T00:00:00\", \"2020-09-24T00:00:00\", \"2020-09-25T00:00:00\", \"2020-09-28T00:00:00\", \"2020-09-29T00:00:00\", \"2020-09-30T00:00:00\", \"2020-10-01T00:00:00\", \"2020-10-02T00:00:00\", \"2020-10-05T00:00:00\", \"2020-10-06T00:00:00\", \"2020-10-07T00:00:00\", \"2020-10-08T00:00:00\", \"2020-10-09T00:00:00\", \"2020-10-12T00:00:00\", \"2020-10-13T00:00:00\", \"2020-10-14T00:00:00\", \"2020-10-15T00:00:00\", \"2020-10-16T00:00:00\", \"2020-10-19T00:00:00\", \"2020-10-20T00:00:00\", \"2020-10-21T00:00:00\", \"2020-10-22T00:00:00\", \"2020-10-23T00:00:00\", \"2020-10-26T00:00:00\", \"2020-10-27T00:00:00\", \"2020-10-28T00:00:00\", \"2020-10-29T00:00:00\", \"2020-10-30T00:00:00\", \"2020-11-02T00:00:00\", \"2020-11-03T00:00:00\", \"2020-11-04T00:00:00\", \"2020-11-05T00:00:00\", \"2020-11-06T00:00:00\", \"2020-11-09T00:00:00\", \"2020-11-10T00:00:00\", \"2020-11-11T00:00:00\", \"2020-11-12T00:00:00\", \"2020-11-13T00:00:00\", \"2020-11-16T00:00:00\", \"2020-11-17T00:00:00\", \"2020-11-18T00:00:00\", \"2020-11-19T00:00:00\", \"2020-11-20T00:00:00\", \"2020-11-23T00:00:00\", \"2020-11-24T00:00:00\", \"2020-11-25T00:00:00\", \"2020-11-27T00:00:00\", \"2020-11-30T00:00:00\", \"2020-12-01T00:00:00\", \"2020-12-02T00:00:00\", \"2020-12-03T00:00:00\", \"2020-12-04T00:00:00\", \"2020-12-07T00:00:00\", \"2020-12-08T00:00:00\", \"2020-12-09T00:00:00\", \"2020-12-10T00:00:00\", \"2020-12-11T00:00:00\", \"2020-12-14T00:00:00\", \"2020-12-15T00:00:00\", \"2020-12-16T00:00:00\", \"2020-12-17T00:00:00\", \"2020-12-18T00:00:00\", \"2020-12-21T00:00:00\", \"2020-12-22T00:00:00\", \"2020-12-23T00:00:00\", \"2020-12-24T00:00:00\", \"2020-12-28T00:00:00\", \"2020-12-29T00:00:00\", \"2020-12-30T00:00:00\", \"2020-12-31T00:00:00\", \"2021-01-04T00:00:00\", \"2021-01-05T00:00:00\", \"2021-01-06T00:00:00\", \"2021-01-07T00:00:00\", \"2021-01-08T00:00:00\", \"2021-01-11T00:00:00\", \"2021-01-12T00:00:00\", \"2021-01-13T00:00:00\", \"2021-01-14T00:00:00\", \"2021-01-15T00:00:00\", \"2021-01-19T00:00:00\", \"2021-01-20T00:00:00\", \"2021-01-21T00:00:00\", \"2021-01-22T00:00:00\", \"2021-01-25T00:00:00\", \"2021-01-26T00:00:00\", \"2021-01-27T00:00:00\", \"2021-01-28T00:00:00\", \"2021-01-29T00:00:00\", \"2021-02-01T00:00:00\", \"2021-02-02T00:00:00\", \"2021-02-03T00:00:00\", \"2021-02-04T00:00:00\", \"2021-02-05T00:00:00\", \"2021-02-08T00:00:00\", \"2021-02-09T00:00:00\", \"2021-02-10T00:00:00\", \"2021-02-11T00:00:00\", \"2021-02-12T00:00:00\", \"2021-02-16T00:00:00\", \"2021-02-17T00:00:00\", \"2021-02-18T00:00:00\", \"2021-02-19T00:00:00\", \"2021-02-22T00:00:00\", \"2021-02-23T00:00:00\", \"2021-02-24T00:00:00\", \"2021-02-25T00:00:00\", \"2021-02-26T00:00:00\", \"2021-03-01T00:00:00\", \"2021-03-02T00:00:00\", \"2021-03-03T00:00:00\", \"2021-03-04T00:00:00\", \"2021-03-05T00:00:00\", \"2021-03-08T00:00:00\", \"2021-03-09T00:00:00\", \"2021-03-10T00:00:00\", \"2021-03-11T00:00:00\", \"2021-03-12T00:00:00\", \"2021-03-15T00:00:00\", \"2021-03-16T00:00:00\", \"2021-03-17T00:00:00\", \"2021-03-18T00:00:00\", \"2021-03-19T00:00:00\", \"2021-03-22T00:00:00\", \"2021-03-23T00:00:00\", \"2021-03-24T00:00:00\", \"2021-03-25T00:00:00\", \"2021-03-26T00:00:00\", \"2021-03-29T00:00:00\", \"2021-03-30T00:00:00\", \"2021-03-31T00:00:00\", \"2021-04-01T00:00:00\", \"2021-04-05T00:00:00\", \"2021-04-06T00:00:00\", \"2021-04-07T00:00:00\", \"2021-04-08T00:00:00\", \"2021-04-09T00:00:00\", \"2021-04-12T00:00:00\", \"2021-04-13T00:00:00\", \"2021-04-14T00:00:00\", \"2021-04-15T00:00:00\", \"2021-04-16T00:00:00\", \"2021-04-19T00:00:00\", \"2021-04-20T00:00:00\", \"2021-04-21T00:00:00\", \"2021-04-22T00:00:00\", \"2021-04-23T00:00:00\", \"2021-04-26T00:00:00\", \"2021-04-27T00:00:00\", \"2021-04-28T00:00:00\", \"2021-04-29T00:00:00\", \"2021-04-30T00:00:00\", \"2021-05-03T00:00:00\", \"2021-05-04T00:00:00\", \"2021-05-05T00:00:00\", \"2021-05-06T00:00:00\", \"2021-05-07T00:00:00\", \"2021-05-10T00:00:00\", \"2021-05-11T00:00:00\", \"2021-05-12T00:00:00\", \"2021-05-13T00:00:00\", \"2021-05-14T00:00:00\", \"2021-05-17T00:00:00\", \"2021-05-18T00:00:00\", \"2021-05-19T00:00:00\", \"2021-05-20T00:00:00\", \"2021-05-21T00:00:00\", \"2021-05-24T00:00:00\", \"2021-05-25T00:00:00\", \"2021-05-26T00:00:00\", \"2021-05-27T00:00:00\", \"2021-05-28T00:00:00\", \"2021-06-01T00:00:00\", \"2021-06-02T00:00:00\", \"2021-06-03T00:00:00\", \"2021-06-04T00:00:00\", \"2021-06-07T00:00:00\", \"2021-06-08T00:00:00\", \"2021-06-09T00:00:00\", \"2021-06-10T00:00:00\", \"2021-06-11T00:00:00\", \"2021-06-14T00:00:00\", \"2021-06-15T00:00:00\", \"2021-06-16T00:00:00\", \"2021-06-17T00:00:00\", \"2021-06-18T00:00:00\", \"2021-06-21T00:00:00\", \"2021-06-22T00:00:00\", \"2021-06-23T00:00:00\", \"2021-06-24T00:00:00\", \"2021-06-25T00:00:00\", \"2021-06-28T00:00:00\", \"2021-06-29T00:00:00\", \"2021-06-30T00:00:00\", \"2021-07-01T00:00:00\", \"2021-07-02T00:00:00\", \"2021-07-06T00:00:00\", \"2021-07-07T00:00:00\", \"2021-07-08T00:00:00\", \"2021-07-09T00:00:00\", \"2021-07-12T00:00:00\", \"2021-07-13T00:00:00\", \"2021-07-14T00:00:00\", \"2021-07-15T00:00:00\", \"2021-07-16T00:00:00\", \"2021-07-19T00:00:00\", \"2021-07-20T00:00:00\", \"2021-07-21T00:00:00\", \"2021-07-22T00:00:00\", \"2021-07-23T00:00:00\", \"2021-07-26T00:00:00\", \"2021-07-27T00:00:00\", \"2021-07-28T00:00:00\", \"2021-07-29T00:00:00\", \"2021-07-30T00:00:00\", \"2021-08-02T00:00:00\", \"2021-08-03T00:00:00\", \"2021-08-04T00:00:00\", \"2021-08-05T00:00:00\", \"2021-08-06T00:00:00\", \"2021-08-09T00:00:00\", \"2021-08-10T00:00:00\", \"2021-08-11T00:00:00\", \"2021-08-12T00:00:00\", \"2021-08-13T00:00:00\", \"2021-08-16T00:00:00\", \"2021-08-17T00:00:00\", \"2021-08-18T00:00:00\", \"2021-08-19T00:00:00\", \"2021-08-20T00:00:00\", \"2021-08-23T00:00:00\", \"2021-08-24T00:00:00\", \"2021-08-25T00:00:00\", \"2021-08-26T00:00:00\", \"2021-08-27T00:00:00\", \"2021-08-30T00:00:00\", \"2021-08-31T00:00:00\", \"2021-09-01T00:00:00\", \"2021-09-02T00:00:00\", \"2021-09-03T00:00:00\", \"2021-09-07T00:00:00\", \"2021-09-08T00:00:00\", \"2021-09-09T00:00:00\", \"2021-09-10T00:00:00\", \"2021-09-13T00:00:00\", \"2021-09-14T00:00:00\", \"2021-09-15T00:00:00\", \"2021-09-16T00:00:00\", \"2021-09-17T00:00:00\", \"2021-09-20T00:00:00\", \"2021-09-21T00:00:00\", \"2021-09-22T00:00:00\", \"2021-09-23T00:00:00\", \"2021-09-24T00:00:00\", \"2021-09-27T00:00:00\", \"2021-09-28T00:00:00\", \"2021-09-29T00:00:00\", \"2021-09-30T00:00:00\", \"2021-10-01T00:00:00\", \"2021-10-04T00:00:00\", \"2021-10-05T00:00:00\", \"2021-10-06T00:00:00\", \"2021-10-07T00:00:00\", \"2021-10-08T00:00:00\", \"2021-10-11T00:00:00\", \"2021-10-12T00:00:00\", \"2021-10-13T00:00:00\", \"2021-10-14T00:00:00\", \"2021-10-15T00:00:00\", \"2021-10-18T00:00:00\", \"2021-10-19T00:00:00\", \"2021-10-20T00:00:00\", \"2021-10-21T00:00:00\", \"2021-10-22T00:00:00\", \"2021-10-25T00:00:00\", \"2021-10-26T00:00:00\", \"2021-10-27T00:00:00\", \"2021-10-28T00:00:00\", \"2021-10-29T00:00:00\", \"2021-11-01T00:00:00\", \"2021-11-02T00:00:00\", \"2021-11-03T00:00:00\", \"2021-11-04T00:00:00\", \"2021-11-05T00:00:00\", \"2021-11-08T00:00:00\", \"2021-11-09T00:00:00\", \"2021-11-10T00:00:00\", \"2021-11-11T00:00:00\", \"2021-11-12T00:00:00\", \"2021-11-15T00:00:00\", \"2021-11-16T00:00:00\", \"2021-11-17T00:00:00\", \"2021-11-18T00:00:00\", \"2021-11-19T00:00:00\", \"2021-11-22T00:00:00\", \"2021-11-23T00:00:00\", \"2021-11-24T00:00:00\", \"2021-11-26T00:00:00\", \"2021-11-29T00:00:00\", \"2021-11-30T00:00:00\", \"2021-12-01T00:00:00\", \"2021-12-02T00:00:00\", \"2021-12-03T00:00:00\", \"2021-12-06T00:00:00\", \"2021-12-07T00:00:00\", \"2021-12-08T00:00:00\", \"2021-12-09T00:00:00\", \"2021-12-10T00:00:00\", \"2021-12-13T00:00:00\", \"2021-12-14T00:00:00\", \"2021-12-15T00:00:00\", \"2021-12-16T00:00:00\", \"2021-12-17T00:00:00\", \"2021-12-20T00:00:00\", \"2021-12-21T00:00:00\", \"2021-12-22T00:00:00\", \"2021-12-23T00:00:00\", \"2021-12-27T00:00:00\", \"2021-12-28T00:00:00\", \"2021-12-29T00:00:00\", \"2021-12-30T00:00:00\", \"2021-12-31T00:00:00\", \"2022-01-03T00:00:00\", \"2022-01-04T00:00:00\", \"2022-01-05T00:00:00\", \"2022-01-06T00:00:00\", \"2022-01-07T00:00:00\", \"2022-01-10T00:00:00\", \"2022-01-11T00:00:00\", \"2022-01-12T00:00:00\", \"2022-01-13T00:00:00\", \"2022-01-14T00:00:00\", \"2022-01-18T00:00:00\", \"2022-01-19T00:00:00\", \"2022-01-20T00:00:00\", \"2022-01-21T00:00:00\"], \"y\": [1073.2099609375, 1091.52001953125, 1095.760009765625, 1110.2900390625, 1114.2099609375, 1112.7900390625, 1110.1400146484375, 1112.050048828125, 1130.6500244140625, 1130.699951171875, 1139.0999755859375, 1135.969970703125, 1143.5, 1164.1600341796875, 1176.1700439453125, 1171.2900390625, 1182.1400146484375, 1187.56005859375, 1186.47998046875, 1177.3699951171875, 1182.219970703125, 1181.5899658203125, 1119.199951171875, 1062.3900146484375, 1084.4300537109375, 1055.4100341796875, 1007.7100219726562, 1046.27001953125, 1054.56005859375, 1054.1400146484375, 1072.699951171875, 1091.3599853515625, 1095.5, 1103.5899658203125, 1113.75, 1109.9000244140625, 1128.0899658203125, 1143.699951171875, 1117.510009765625, 1103.9200439453125, 1071.4100341796875, 1084.1400146484375, 1094.760009765625, 1100.9000244140625, 1115.0400390625, 1129.3800048828125, 1160.8399658203125, 1165.9300537109375, 1139.9100341796875, 1148.8900146484375, 1150.6099853515625, 1134.4200439453125, 1100.0699462890625, 1095.800048828125, 1094.0, 1053.1500244140625, 1026.550048828125, 1054.0899658203125, 1006.9400024414062, 1005.1799926757812, 1037.1400146484375, 1012.6300048828125, 1018.6799926757812, 1029.7099609375, 1032.6400146484375, 1009.9500122070312, 1020.0900268554688, 1036.5, 1025.06005859375, 1037.2900390625, 1036.0400390625, 1046.0999755859375, 1079.3599853515625, 1075.3900146484375, 1089.449951171875, 1077.3199462890625, 1073.81005859375, 1022.6400146484375, 1022.989990234375, 1043.31005859375, 1031.449951171875, 1018.5800170898438, 1040.75, 1026.050048828125, 1026.300048828125, 1051.0, 1059.4599609375, 1058.5899658203125, 1088.949951171875, 1105.469970703125, 1103.3800048828125, 1106.5999755859375, 1084.8699951171875, 1084.0899658203125, 1081.260009765625, 1069.6400146484375, 1084.010009765625, 1075.31005859375, 1085.9599609375, 1085.449951171875, 1084.0799560546875, 1068.0699462890625, 1077.469970703125, 1100.0, 1135.0, 1153.0400390625, 1151.02001953125, 1146.949951171875, 1134.4200439453125, 1132.7099609375, 1140.9000244140625, 1148.18994140625, 1144.22998046875, 1160.1099853515625, 1159.27001953125, 1183.5799560546875, 1178.68994140625, 1184.0699462890625, 1169.43994140625, 1169.2900390625, 1139.280029296875, 1132.6199951171875, 1116.93994140625, 1126.780029296875, 1129.18994140625, 1142.1099853515625, 1116.280029296875, 1141.2900390625, 1155.0799560546875, 1167.280029296875, 1167.1400146484375, 1171.4599609375, 1201.260009765625, 1204.4200439453125, 1196.510009765625, 1213.0799560546875, 1212.9100341796875, 1199.0999755859375, 1197.8800048828125, 1211.0, 1258.1500244140625, 1275.93994140625, 1285.5, 1252.8900146484375, 1230.0400390625, 1227.219970703125, 1232.989990234375, 1241.1300048828125, 1238.1600341796875, 1237.6700439453125, 1255.8399658203125, 1261.3299560546875, 1264.4599609375, 1252.510009765625, 1248.6400146484375, 1258.1400146484375, 1232.219970703125, 1224.06005859375, 1215.8499755859375, 1221.949951171875, 1217.4100341796875, 1221.75, 1221.1600341796875, 1236.75, 1256.27001953125, 1245.8599853515625, 1264.6500244140625, 1254.43994140625, 1231.800048828125, 1211.31005859375, 1199.0999755859375, 1183.989990234375, 1177.5899658203125, 1175.06005859375, 1189.989990234375, 1171.5999755859375, 1182.1400146484375, 1177.97998046875, 1159.8299560546875, 1167.1099853515625, 1174.27001953125, 1191.5699462890625, 1172.1199951171875, 1179.56005859375, 1193.8900146484375, 1194.06005859375, 1207.3599853515625, 1207.0799560546875, 1208.530029296875, 1207.6400146484375, 1211.530029296875, 1177.0699462890625, 1167.8299560546875, 1155.9200439453125, 1145.1700439453125, 1092.1600341796875, 1090.739990234375, 1120.5400390625, 1102.43994140625, 1133.0799560546875, 1127.5899658203125, 1097.9100341796875, 1105.1800537109375, 1111.3699951171875, 1114.9100341796875, 1057.1199951171875, 1103.5899658203125, 1083.75, 1034.72998046875, 1049.510009765625, 1090.5799560546875, 1085.97998046875, 1071.489990234375, 1055.72998046875, 1069.5699462890625, 1108.239990234375, 1094.6300048828125, 1077.02001953125, 1049.3599853515625, 1047.969970703125, 1054.5799560546875, 1071.050048828125, 1068.27001953125, 1027.4200439453125, 1030.449951171875, 1043.4300537109375, 1030.0999755859375, 1055.93994140625, 1052.280029296875, 1091.7900390625, 1094.5799560546875, 1109.6500244140625, 1116.3599853515625, 1062.469970703125, 1078.0799560546875, 1046.5799560546875, 1053.1800537109375, 1061.6500244140625, 1073.72998046875, 1073.5400390625, 1051.7099609375, 1025.6500244140625, 1043.4100341796875, 1035.4599609375, 1023.5800170898438, 991.25, 984.6699829101562, 1047.8499755859375, 1052.9000244140625, 1046.6800537109375, 1044.9599609375, 1054.6800537109375, 1025.469970703125, 1078.0699462890625, 1075.9200439453125, 1085.3699951171875, 1081.6500244140625, 1078.8299560546875, 1064.469970703125, 1051.510009765625, 1086.510009765625, 1089.510009765625, 1099.1199951171875, 1107.300048828125, 1078.6300048828125, 1084.4100341796875, 1084.0, 1101.510009765625, 1079.8599853515625, 1070.06005859375, 1097.989990234375, 1125.8900146484375, 1118.6199951171875, 1141.4200439453125, 1151.8699951171875, 1122.8900146484375, 1105.9100341796875, 1102.3800048828125, 1102.1199951171875, 1127.5799560546875, 1128.6300048828125, 1129.199951171875, 1119.6300048828125, 1126.510009765625, 1120.5899658203125, 1104.2099609375, 1116.56005859375, 1117.3299560546875, 1122.010009765625, 1122.8900146484375, 1126.550048828125, 1148.52001953125, 1153.4200439453125, 1169.18994140625, 1164.93994140625, 1150.8499755859375, 1149.969970703125, 1179.260009765625, 1197.25, 1199.06005859375, 1192.530029296875, 1190.300048828125, 1188.550048828125, 1202.4599609375, 1226.4300537109375, 1236.1300048828125, 1207.6500244140625, 1197.3800048828125, 1189.8399658203125, 1178.010009765625, 1172.27001953125, 1176.8900146484375, 1198.97998046875, 1205.5400390625, 1210.81005859375, 1219.449951171875, 1211.449951171875, 1208.280029296875, 1202.68994140625, 1206.449951171875, 1209.5899658203125, 1222.72998046875, 1226.530029296875, 1231.9100341796875, 1240.1400146484375, 1241.469970703125, 1253.760009765625, 1270.5899658203125, 1260.050048828125, 1267.3399658203125, 1277.4200439453125, 1296.199951171875, 1198.9599609375, 1173.3199462890625, 1166.510009765625, 1189.550048828125, 1193.4599609375, 1178.8599853515625, 1170.780029296875, 1167.969970703125, 1167.6400146484375, 1136.5899658203125, 1124.8599853515625, 1170.800048828125, 1184.5, 1168.780029296875, 1144.6600341796875, 1154.43994140625, 1155.8499755859375, 1145.3399658203125, 1138.6099853515625, 1139.56005859375, 1119.93994140625, 1121.4100341796875, 1106.5, 1038.739990234375, 1054.489990234375, 1044.6400146484375, 1047.760009765625, 1068.3699951171875, 1082.760009765625, 1081.0400390625, 1079.0999755859375, 1091.010009765625, 1086.300048828125, 1093.8900146484375, 1105.239990234375, 1104.510009765625, 1113.199951171875, 1125.3699951171875, 1116.699951171875, 1087.5799560546875, 1080.3199462890625, 1076.6300048828125, 1082.800048828125, 1100.0, 1112.5999755859375, 1122.989990234375, 1132.6700439453125, 1116.7900390625, 1124.2900390625, 1140.9100341796875, 1144.0799560546875, 1145.3399658203125, 1150.510009765625, 1153.4599609375, 1146.739990234375, 1147.239990234375, 1131.550048828125, 1139.2099609375, 1148.050048828125, 1139.72998046875, 1135.93994140625, 1245.219970703125, 1241.8399658203125, 1228.0, 1218.199951171875, 1211.780029296875, 1196.3199462890625, 1154.75, 1171.0799560546875, 1175.9100341796875, 1206.18994140625, 1188.9000244140625, 1174.5, 1196.72998046875, 1164.25, 1169.3199462890625, 1179.2099609375, 1200.43994140625, 1183.530029296875, 1191.5799560546875, 1191.52001953125, 1153.5799560546875, 1171.1800537109375, 1170.8199462890625, 1173.75, 1194.239990234375, 1190.530029296875, 1169.550048828125, 1182.27001953125, 1212.18994140625, 1206.3199462890625, 1205.27001953125, 1205.699951171875, 1220.0, 1234.969970703125, 1240.030029296875, 1231.6300048828125, 1229.8800048828125, 1232.6500244140625, 1238.75, 1229.8399658203125, 1234.68994140625, 1218.3299560546875, 1245.93994140625, 1242.2900390625, 1225.949951171875, 1221.1400146484375, 1206.0, 1177.9200439453125, 1189.4300537109375, 1210.9599609375, 1208.25, 1190.1300048828125, 1202.4000244140625, 1209.469970703125, 1215.7099609375, 1217.77001953125, 1242.239990234375, 1243.0, 1252.800048828125, 1244.4100341796875, 1244.280029296875, 1241.199951171875, 1257.6300048828125, 1259.1099853515625, 1264.300048828125, 1288.97998046875, 1260.6600341796875, 1260.699951171875, 1258.800048828125, 1272.25, 1289.6099853515625, 1291.43994140625, 1291.010009765625, 1306.93994140625, 1309.0, 1298.280029296875, 1297.2099609375, 1296.1800537109375, 1309.1500244140625, 1333.5400390625, 1319.8399658203125, 1312.5899658203125, 1301.8599853515625, 1300.1400146484375, 1293.6700439453125, 1305.6400146484375, 1313.0, 1312.1300048828125, 1304.0899658203125, 1288.8599853515625, 1294.739990234375, 1318.93994140625, 1326.9599609375, 1339.3900146484375, 1342.989990234375, 1342.8900146484375, 1344.25, 1348.489990234375, 1346.8699951171875, 1360.699951171875, 1354.8900146484375, 1351.9100341796875, 1356.43994140625, 1351.219970703125, 1350.6300048828125, 1344.4300537109375, 1362.469970703125, 1354.6400146484375, 1339.7099609375, 1339.3900146484375, 1368.6800537109375, 1361.52001953125, 1397.81005859375, 1395.1099853515625, 1405.0400390625, 1419.7900390625, 1428.9599609375, 1440.030029296875, 1430.5899658203125, 1439.199951171875, 1450.1600341796875, 1479.52001953125, 1482.25, 1483.8699951171875, 1484.68994140625, 1466.1700439453125, 1431.72998046875, 1450.5, 1456.699951171875, 1454.25, 1432.780029296875, 1482.5999755859375, 1445.4100341796875, 1446.050048828125, 1475.969970703125, 1479.1099853515625, 1508.6600341796875, 1510.06005859375, 1518.6300048828125, 1513.3900146484375, 1518.72998046875, 1519.43994140625, 1524.8699951171875, 1516.989990234375, 1483.4599609375, 1419.8599853515625, 1386.3199462890625, 1390.469970703125, 1314.949951171875, 1339.25, 1386.3199462890625, 1337.719970703125, 1381.5999755859375, 1314.760009765625, 1295.739990234375, 1215.7900390625, 1275.1700439453125, 1210.9000244140625, 1111.550048828125, 1214.27001953125, 1073.0, 1118.06005859375, 1091.18994140625, 1111.6700439453125, 1068.2099609375, 1054.1300048828125, 1130.010009765625, 1101.6199951171875, 1162.9200439453125, 1110.260009765625, 1146.31005859375, 1161.949951171875, 1102.0999755859375, 1117.030029296875, 1092.699951171875, 1183.18994140625, 1182.56005859375, 1207.0, 1206.5699462890625, 1210.4100341796875, 1265.22998046875, 1257.300048828125, 1257.4300537109375, 1279.0, 1261.1500244140625, 1212.1600341796875, 1258.4100341796875, 1271.1700439453125, 1276.5999755859375, 1270.8599853515625, 1232.5899658203125, 1342.1800537109375, 1346.699951171875, 1317.3199462890625, 1322.9000244140625, 1349.02001953125, 1345.4300537109375, 1369.280029296875, 1384.3399658203125, 1403.5899658203125, 1375.1800537109375, 1348.3299560546875, 1356.8599853515625, 1373.06005859375, 1385.1800537109375, 1374.4000244140625, 1409.1600341796875, 1406.75, 1413.239990234375, 1421.3699951171875, 1420.280029296875, 1418.239990234375, 1433.52001953125, 1434.8699951171875, 1442.31005859375, 1439.25, 1414.300048828125, 1440.02001953125, 1448.0400390625, 1452.0799560546875, 1464.699951171875, 1401.9000244140625, 1412.9200439453125, 1420.739990234375, 1446.469970703125, 1452.5400390625, 1434.1199951171875, 1424.6400146484375, 1450.6600341796875, 1463.97998046875, 1432.699951171875, 1441.0999755859375, 1362.5400390625, 1397.1700439453125, 1418.050048828125, 1442.0, 1469.9300537109375, 1499.6500244140625, 1489.9200439453125, 1503.5999755859375, 1518.6600341796875, 1539.010009765625, 1512.22998046875, 1520.8599853515625, 1516.8800048828125, 1514.9200439453125, 1516.8499755859375, 1563.8399658203125, 1555.9200439453125, 1564.8499755859375, 1516.75, 1508.2099609375, 1529.4300537109375, 1503.6500244140625, 1523.510009765625, 1538.3699951171875, 1487.949951171875, 1482.760009765625, 1473.300048828125, 1479.0899658203125, 1504.949951171875, 1498.3699951171875, 1496.8199462890625, 1480.5400390625, 1507.239990234375, 1516.6500244140625, 1504.6300048828125, 1516.239990234375, 1555.780029296875, 1544.6099853515625, 1576.25, 1575.5699462890625, 1585.1500244140625, 1605.8499755859375, 1644.1300048828125, 1628.52001953125, 1639.4300537109375, 1629.530029296875, 1655.0799560546875, 1717.3900146484375, 1629.510009765625, 1581.2099609375, 1523.5999755859375, 1547.22998046875, 1526.050048828125, 1515.760009765625, 1508.8299560546875, 1535.1199951171875, 1512.0899658203125, 1487.0400390625, 1451.0899658203125, 1430.1400146484375, 1459.8199462890625, 1409.3900146484375, 1422.8599853515625, 1439.06005859375, 1458.6600341796875, 1466.02001953125, 1465.5999755859375, 1487.9000244140625, 1455.5999755859375, 1482.8299560546875, 1451.02001953125, 1459.1400146484375, 1483.4300537109375, 1510.449951171875, 1564.5899658203125, 1567.0699462890625, 1563.43994140625, 1555.469970703125, 1567.699951171875, 1529.949951171875, 1551.0799560546875, 1585.989990234375, 1606.6600341796875, 1632.97998046875, 1584.2900390625, 1598.8800048828125, 1510.800048828125, 1556.8800048828125, 1616.1099853515625, 1624.3199462890625, 1645.6600341796875, 1745.8499755859375, 1762.5, 1759.72998046875, 1761.4200439453125, 1737.719970703125, 1747.22998046875, 1742.8199462890625, 1772.260009765625, 1774.030029296875, 1761.6600341796875, 1740.6400146484375, 1758.5699462890625, 1736.3800048828125, 1727.56005859375, 1763.9000244140625, 1764.1300048828125, 1787.02001953125, 1754.4000244140625, 1795.3599853515625, 1824.969970703125, 1821.8399658203125, 1823.760009765625, 1817.030029296875, 1811.3299560546875, 1777.8599853515625, 1767.6500244140625, 1774.800048828125, 1752.260009765625, 1761.0799560546875, 1757.18994140625, 1740.510009765625, 1726.219970703125, 1734.56005859375, 1720.219970703125, 1728.22998046875, 1734.1600341796875, 1773.9599609375, 1757.760009765625, 1736.25, 1752.6400146484375, 1726.1300048828125, 1740.050048828125, 1722.8800048828125, 1774.3399658203125, 1797.8299560546875, 1756.2900390625, 1737.4300537109375, 1747.25, 1730.9200439453125, 1727.6199951171875, 1784.469970703125, 1880.0699462890625, 1884.1500244140625, 1892.56005859375, 1894.280029296875, 1907.949951171875, 1818.93994140625, 1853.199951171875, 1827.3599853515625, 1893.0699462890625, 1919.1199951171875, 2058.8798828125, 2053.6298828125, 2088.830078125, 2084.52001953125, 2075.389892578125, 2086.47998046875, 2088.75, 2095.030029296875, 2110.699951171875, 2118.6201171875, 2105.81005859375, 2088.81005859375, 2054.260009765625, 2060.1201171875, 2083.81005859375, 2015.949951171875, 2021.9100341796875, 2069.659912109375, 2064.47998046875, 2011.4100341796875, 2033.9300537109375, 2097.070068359375, 2007.5, 2040.3599853515625, 2036.18994140625, 2100.5400390625, 2050.0, 2054.43994140625, 2083.889892578125, 2082.219970703125, 2021.3399658203125, 2026.9599609375, 2030.68994140625, 2041.3299560546875, 2032.530029296875, 2032.4599609375, 2024.72998046875, 2045.7900390625, 2046.469970703125, 2062.52001953125, 2129.780029296875, 2218.9599609375, 2209.260009765625, 2239.030029296875, 2250.429931640625, 2270.669921875, 2244.6201171875, 2254.429931640625, 2241.909912109375, 2285.25, 2282.75, 2289.760009765625, 2279.010009765625, 2278.35009765625, 2252.52001953125, 2299.929931640625, 2309.929931640625, 2290.97998046875, 2359.0400390625, 2392.760009765625, 2353.5, 2343.080078125, 2306.830078125, 2314.77001953125, 2337.35009765625, 2351.929931640625, 2291.75, 2270.06005859375, 2200.25, 2229.0400390625, 2278.3798828125, 2288.919921875, 2262.469970703125, 2271.5, 2306.949951171875, 2294.1298828125, 2361.0400390625, 2362.8701171875, 2380.31005859375, 2362.679931640625, 2356.85009765625, 2381.179931640625, 2370.590087890625, 2347.580078125, 2393.570068359375, 2402.300048828125, 2398.43994140625, 2407.93994140625, 2435.1298828125, 2430.199951171875, 2448.909912109375, 2428.389892578125, 2415.449951171875, 2434.8701171875, 2402.219970703125, 2436.25, 2446.610107421875, 2442.5400390625, 2450.0, 2450.169921875, 2450.719970703125, 2445.449951171875, 2441.7900390625, 2448.889892578125, 2505.14990234375, 2523.800048828125, 2529.47998046875, 2500.8798828125, 2510.3701171875, 2539.510009765625, 2546.830078125, 2564.739990234375, 2540.10009765625, 2539.39990234375, 2491.56005859375, 2524.18994140625, 2550.97998046875, 2568.429931640625, 2660.300048828125, 2680.699951171875, 2638.0, 2721.8798828125, 2715.550048828125, 2694.530029296875, 2697.090087890625, 2712.60009765625, 2702.510009765625, 2725.030029296875, 2714.77001953125, 2738.260009765625, 2736.139892578125, 2725.580078125, 2743.8798828125, 2754.550048828125, 2766.18994140625, 2733.22998046875, 2708.97998046875, 2713.60009765625, 2748.590087890625, 2800.830078125, 2825.22998046875, 2841.580078125, 2828.81005859375, 2880.080078125, 2891.81005859375, 2893.949951171875, 2904.31005859375, 2865.739990234375, 2874.7900390625, 2885.610107421875, 2873.820068359375, 2870.820068359375, 2817.52001953125, 2846.64990234375, 2850.889892578125, 2888.590087890625, 2872.199951171875, 2816.0, 2774.389892578125, 2780.659912109375, 2805.669921875, 2824.320068359375, 2844.300048828125, 2821.43994140625, 2716.60009765625, 2687.070068359375, 2673.52001953125, 2730.860107421875, 2673.18994140625, 2720.4599609375, 2751.300048828125, 2784.5, 2795.7099609375, 2778.280029296875, 2728.97998046875, 2751.639892578125, 2823.02001953125, 2827.360107421875, 2855.56005859375, 2864.739990234375, 2835.3798828125, 2837.719970703125, 2751.330078125, 2748.93994140625, 2786.169921875, 2924.35009765625, 2916.97998046875, 2960.919921875, 2869.93994140625, 2908.64990234375, 2931.9599609375, 2965.35009765625, 2977.0400390625, 2980.6201171875, 2978.3701171875, 2917.8701171875, 2915.330078125, 2973.56005859375, 2969.0400390625, 2957.52001953125, 2960.93994140625, 2996.77001953125, 2978.530029296875, 2926.0400390625, 2915.639892578125, 2922.39990234375, 2843.659912109375, 2910.610107421875, 2837.949951171875, 2821.030029296875, 2859.320068359375, 2840.030029296875, 2863.10009765625, 2945.389892578125, 2963.72998046875, 2952.77001953125, 2960.030029296875, 2916.530029296875, 2878.139892578125, 2928.820068359375, 2888.89990234375, 2834.5, 2832.139892578125, 2869.449951171875, 2928.300048828125, 2938.330078125, 2958.1298828125, 2933.739990234375, 2933.10009765625, 2924.010009765625, 2897.0400390625, 2899.830078125, 2887.989990234375, 2755.5, 2754.949951171875, 2740.340087890625, 2773.389892578125, 2794.719970703125, 2828.610107421875, 2771.739990234375, 2789.610107421875, 2719.9599609375, 2702.330078125, 2666.14990234375, 2607.030029296875]}],\n",
              "                        {\"height\": 500, \"template\": {\"data\": {\"bar\": [{\"error_x\": {\"color\": \"#2a3f5f\"}, \"error_y\": {\"color\": \"#2a3f5f\"}, \"marker\": {\"line\": {\"color\": \"#E5ECF6\", \"width\": 0.5}}, \"type\": \"bar\"}], \"barpolar\": [{\"marker\": {\"line\": {\"color\": \"#E5ECF6\", \"width\": 0.5}}, \"type\": \"barpolar\"}], \"carpet\": [{\"aaxis\": {\"endlinecolor\": \"#2a3f5f\", \"gridcolor\": \"white\", \"linecolor\": \"white\", \"minorgridcolor\": \"white\", \"startlinecolor\": \"#2a3f5f\"}, \"baxis\": {\"endlinecolor\": \"#2a3f5f\", \"gridcolor\": \"white\", \"linecolor\": \"white\", \"minorgridcolor\": \"white\", \"startlinecolor\": \"#2a3f5f\"}, \"type\": \"carpet\"}], \"choropleth\": [{\"colorbar\": {\"outlinewidth\": 0, \"ticks\": \"\"}, \"type\": \"choropleth\"}], \"contour\": [{\"colorbar\": {\"outlinewidth\": 0, \"ticks\": \"\"}, \"colorscale\": [[0.0, \"#0d0887\"], [0.1111111111111111, \"#46039f\"], [0.2222222222222222, \"#7201a8\"], [0.3333333333333333, \"#9c179e\"], [0.4444444444444444, \"#bd3786\"], [0.5555555555555556, \"#d8576b\"], [0.6666666666666666, \"#ed7953\"], [0.7777777777777778, \"#fb9f3a\"], [0.8888888888888888, \"#fdca26\"], [1.0, \"#f0f921\"]], \"type\": \"contour\"}], \"contourcarpet\": [{\"colorbar\": {\"outlinewidth\": 0, \"ticks\": \"\"}, \"type\": \"contourcarpet\"}], \"heatmap\": [{\"colorbar\": {\"outlinewidth\": 0, \"ticks\": \"\"}, \"colorscale\": [[0.0, \"#0d0887\"], [0.1111111111111111, \"#46039f\"], [0.2222222222222222, \"#7201a8\"], [0.3333333333333333, \"#9c179e\"], [0.4444444444444444, \"#bd3786\"], [0.5555555555555556, \"#d8576b\"], [0.6666666666666666, \"#ed7953\"], [0.7777777777777778, \"#fb9f3a\"], [0.8888888888888888, \"#fdca26\"], [1.0, \"#f0f921\"]], \"type\": \"heatmap\"}], \"heatmapgl\": [{\"colorbar\": {\"outlinewidth\": 0, \"ticks\": \"\"}, \"colorscale\": [[0.0, \"#0d0887\"], [0.1111111111111111, \"#46039f\"], [0.2222222222222222, \"#7201a8\"], [0.3333333333333333, \"#9c179e\"], [0.4444444444444444, \"#bd3786\"], [0.5555555555555556, \"#d8576b\"], [0.6666666666666666, \"#ed7953\"], [0.7777777777777778, \"#fb9f3a\"], [0.8888888888888888, \"#fdca26\"], [1.0, \"#f0f921\"]], \"type\": \"heatmapgl\"}], \"histogram\": [{\"marker\": {\"colorbar\": {\"outlinewidth\": 0, \"ticks\": \"\"}}, \"type\": \"histogram\"}], \"histogram2d\": [{\"colorbar\": {\"outlinewidth\": 0, \"ticks\": \"\"}, \"colorscale\": [[0.0, \"#0d0887\"], [0.1111111111111111, \"#46039f\"], [0.2222222222222222, \"#7201a8\"], [0.3333333333333333, \"#9c179e\"], [0.4444444444444444, \"#bd3786\"], [0.5555555555555556, \"#d8576b\"], [0.6666666666666666, \"#ed7953\"], [0.7777777777777778, \"#fb9f3a\"], [0.8888888888888888, \"#fdca26\"], [1.0, \"#f0f921\"]], \"type\": \"histogram2d\"}], \"histogram2dcontour\": [{\"colorbar\": {\"outlinewidth\": 0, \"ticks\": \"\"}, \"colorscale\": [[0.0, \"#0d0887\"], [0.1111111111111111, \"#46039f\"], [0.2222222222222222, \"#7201a8\"], [0.3333333333333333, \"#9c179e\"], [0.4444444444444444, \"#bd3786\"], [0.5555555555555556, \"#d8576b\"], [0.6666666666666666, \"#ed7953\"], [0.7777777777777778, \"#fb9f3a\"], [0.8888888888888888, \"#fdca26\"], [1.0, \"#f0f921\"]], \"type\": \"histogram2dcontour\"}], \"mesh3d\": [{\"colorbar\": {\"outlinewidth\": 0, \"ticks\": \"\"}, \"type\": \"mesh3d\"}], \"parcoords\": [{\"line\": {\"colorbar\": {\"outlinewidth\": 0, \"ticks\": \"\"}}, \"type\": \"parcoords\"}], \"pie\": [{\"automargin\": true, \"type\": \"pie\"}], \"scatter\": [{\"marker\": {\"colorbar\": {\"outlinewidth\": 0, \"ticks\": \"\"}}, \"type\": \"scatter\"}], \"scatter3d\": [{\"line\": {\"colorbar\": {\"outlinewidth\": 0, \"ticks\": \"\"}}, \"marker\": {\"colorbar\": {\"outlinewidth\": 0, \"ticks\": \"\"}}, \"type\": \"scatter3d\"}], \"scattercarpet\": [{\"marker\": {\"colorbar\": {\"outlinewidth\": 0, \"ticks\": \"\"}}, \"type\": \"scattercarpet\"}], \"scattergeo\": [{\"marker\": {\"colorbar\": {\"outlinewidth\": 0, \"ticks\": \"\"}}, \"type\": \"scattergeo\"}], \"scattergl\": [{\"marker\": {\"colorbar\": {\"outlinewidth\": 0, \"ticks\": \"\"}}, \"type\": \"scattergl\"}], \"scattermapbox\": [{\"marker\": {\"colorbar\": {\"outlinewidth\": 0, \"ticks\": \"\"}}, \"type\": \"scattermapbox\"}], \"scatterpolar\": [{\"marker\": {\"colorbar\": {\"outlinewidth\": 0, \"ticks\": \"\"}}, \"type\": \"scatterpolar\"}], \"scatterpolargl\": [{\"marker\": {\"colorbar\": {\"outlinewidth\": 0, \"ticks\": \"\"}}, \"type\": \"scatterpolargl\"}], \"scatterternary\": [{\"marker\": {\"colorbar\": {\"outlinewidth\": 0, \"ticks\": \"\"}}, \"type\": \"scatterternary\"}], \"surface\": [{\"colorbar\": {\"outlinewidth\": 0, \"ticks\": \"\"}, \"colorscale\": [[0.0, \"#0d0887\"], [0.1111111111111111, \"#46039f\"], [0.2222222222222222, \"#7201a8\"], [0.3333333333333333, \"#9c179e\"], [0.4444444444444444, \"#bd3786\"], [0.5555555555555556, \"#d8576b\"], [0.6666666666666666, \"#ed7953\"], [0.7777777777777778, \"#fb9f3a\"], [0.8888888888888888, \"#fdca26\"], [1.0, \"#f0f921\"]], \"type\": \"surface\"}], \"table\": [{\"cells\": {\"fill\": {\"color\": \"#EBF0F8\"}, \"line\": {\"color\": \"white\"}}, \"header\": {\"fill\": {\"color\": \"#C8D4E3\"}, \"line\": {\"color\": \"white\"}}, \"type\": \"table\"}]}, \"layout\": {\"annotationdefaults\": {\"arrowcolor\": \"#2a3f5f\", \"arrowhead\": 0, \"arrowwidth\": 1}, \"coloraxis\": {\"colorbar\": {\"outlinewidth\": 0, \"ticks\": \"\"}}, \"colorscale\": {\"diverging\": [[0, \"#8e0152\"], [0.1, \"#c51b7d\"], [0.2, \"#de77ae\"], [0.3, \"#f1b6da\"], [0.4, \"#fde0ef\"], [0.5, \"#f7f7f7\"], [0.6, \"#e6f5d0\"], [0.7, \"#b8e186\"], [0.8, \"#7fbc41\"], [0.9, \"#4d9221\"], [1, \"#276419\"]], \"sequential\": [[0.0, \"#0d0887\"], [0.1111111111111111, \"#46039f\"], [0.2222222222222222, \"#7201a8\"], [0.3333333333333333, \"#9c179e\"], [0.4444444444444444, \"#bd3786\"], [0.5555555555555556, \"#d8576b\"], [0.6666666666666666, \"#ed7953\"], [0.7777777777777778, \"#fb9f3a\"], [0.8888888888888888, \"#fdca26\"], [1.0, \"#f0f921\"]], \"sequentialminus\": [[0.0, \"#0d0887\"], [0.1111111111111111, \"#46039f\"], [0.2222222222222222, \"#7201a8\"], [0.3333333333333333, \"#9c179e\"], [0.4444444444444444, \"#bd3786\"], [0.5555555555555556, \"#d8576b\"], [0.6666666666666666, \"#ed7953\"], [0.7777777777777778, \"#fb9f3a\"], [0.8888888888888888, \"#fdca26\"], [1.0, \"#f0f921\"]]}, \"colorway\": [\"#636efa\", \"#EF553B\", \"#00cc96\", \"#ab63fa\", \"#FFA15A\", \"#19d3f3\", \"#FF6692\", \"#B6E880\", \"#FF97FF\", \"#FECB52\"], \"font\": {\"color\": \"#2a3f5f\"}, \"geo\": {\"bgcolor\": \"white\", \"lakecolor\": \"white\", \"landcolor\": \"#E5ECF6\", \"showlakes\": true, \"showland\": true, \"subunitcolor\": \"white\"}, \"hoverlabel\": {\"align\": \"left\"}, \"hovermode\": \"closest\", \"mapbox\": {\"style\": \"light\"}, \"paper_bgcolor\": \"white\", \"plot_bgcolor\": \"#E5ECF6\", \"polar\": {\"angularaxis\": {\"gridcolor\": \"white\", \"linecolor\": \"white\", \"ticks\": \"\"}, \"bgcolor\": \"#E5ECF6\", \"radialaxis\": {\"gridcolor\": \"white\", \"linecolor\": \"white\", \"ticks\": \"\"}}, \"scene\": {\"xaxis\": {\"backgroundcolor\": \"#E5ECF6\", \"gridcolor\": \"white\", \"gridwidth\": 2, \"linecolor\": \"white\", \"showbackground\": true, \"ticks\": \"\", \"zerolinecolor\": \"white\"}, \"yaxis\": {\"backgroundcolor\": \"#E5ECF6\", \"gridcolor\": \"white\", \"gridwidth\": 2, \"linecolor\": \"white\", \"showbackground\": true, \"ticks\": \"\", \"zerolinecolor\": \"white\"}, \"zaxis\": {\"backgroundcolor\": \"#E5ECF6\", \"gridcolor\": \"white\", \"gridwidth\": 2, \"linecolor\": \"white\", \"showbackground\": true, \"ticks\": \"\", \"zerolinecolor\": \"white\"}}, \"shapedefaults\": {\"line\": {\"color\": \"#2a3f5f\"}}, \"ternary\": {\"aaxis\": {\"gridcolor\": \"white\", \"linecolor\": \"white\", \"ticks\": \"\"}, \"baxis\": {\"gridcolor\": \"white\", \"linecolor\": \"white\", \"ticks\": \"\"}, \"bgcolor\": \"#E5ECF6\", \"caxis\": {\"gridcolor\": \"white\", \"linecolor\": \"white\", \"ticks\": \"\"}}, \"title\": {\"x\": 0.05}, \"xaxis\": {\"automargin\": true, \"gridcolor\": \"white\", \"linecolor\": \"white\", \"ticks\": \"\", \"title\": {\"standoff\": 15}, \"zerolinecolor\": \"white\", \"zerolinewidth\": 2}, \"yaxis\": {\"automargin\": true, \"gridcolor\": \"white\", \"linecolor\": \"white\", \"ticks\": \"\", \"title\": {\"standoff\": 15}, \"zerolinecolor\": \"white\", \"zerolinewidth\": 2}}}, \"width\": 900, \"xaxis\": {\"title\": {\"text\": \"Date\"}}, \"yaxis\": {\"title\": {\"text\": \"Close\"}}},\n",
              "                        {\"responsive\": true}\n",
              "                    ).then(function(){\n",
              "                            \n",
              "var gd = document.getElementById('597fbc03-03e2-4b43-b3e3-8a98c2b754b1');\n",
              "var x = new MutationObserver(function (mutations, observer) {{\n",
              "        var display = window.getComputedStyle(gd).display;\n",
              "        if (!display || display === 'none') {{\n",
              "            console.log([gd, 'removed!']);\n",
              "            Plotly.purge(gd);\n",
              "            observer.disconnect();\n",
              "        }}\n",
              "}});\n",
              "\n",
              "// Listen for the removal of the full notebook cells\n",
              "var notebookContainer = gd.closest('#notebook-container');\n",
              "if (notebookContainer) {{\n",
              "    x.observe(notebookContainer, {childList: true});\n",
              "}}\n",
              "\n",
              "// Listen for the clearing of the current output cell\n",
              "var outputEl = gd.closest('.output');\n",
              "if (outputEl) {{\n",
              "    x.observe(outputEl, {childList: true});\n",
              "}}\n",
              "\n",
              "                        })\n",
              "                };\n",
              "                \n",
              "            </script>\n",
              "        </div>\n",
              "</body>\n",
              "</html>"
            ]
          },
          "metadata": {}
        }
      ]
    },
    {
      "cell_type": "code",
      "source": [
        "fig.add_trace(go.Scatter(x=data.index , y = data['Volume'], mode = 'lines'))\n",
        "fig.update_layout(height = 500 , width = 900 , \n",
        "                                   xaxis_title = 'Date', yaxis_title = 'Volume')\n",
        "fig.show()"
      ],
      "metadata": {
        "colab": {
          "base_uri": "https://localhost:8080/",
          "height": 517
        },
        "id": "ZnFx10pw1fiJ",
        "outputId": "e1328f5f-d438-4226-a174-010a59a9d801"
      },
      "execution_count": 12,
      "outputs": [
        {
          "output_type": "display_data",
          "data": {
            "text/html": [
              "<html>\n",
              "<head><meta charset=\"utf-8\" /></head>\n",
              "<body>\n",
              "    <div>\n",
              "            <script src=\"https://cdnjs.cloudflare.com/ajax/libs/mathjax/2.7.5/MathJax.js?config=TeX-AMS-MML_SVG\"></script><script type=\"text/javascript\">if (window.MathJax) {MathJax.Hub.Config({SVG: {font: \"STIX-Web\"}});}</script>\n",
              "                <script type=\"text/javascript\">window.PlotlyConfig = {MathJaxConfig: 'local'};</script>\n",
              "        <script src=\"https://cdn.plot.ly/plotly-latest.min.js\"></script>    \n",
              "            <div id=\"107bfb43-d7ac-4861-914c-d59978341bbd\" class=\"plotly-graph-div\" style=\"height:500px; width:900px;\"></div>\n",
              "            <script type=\"text/javascript\">\n",
              "                \n",
              "                    window.PLOTLYENV=window.PLOTLYENV || {};\n",
              "                    \n",
              "                if (document.getElementById(\"107bfb43-d7ac-4861-914c-d59978341bbd\")) {\n",
              "                    Plotly.newPlot(\n",
              "                        '107bfb43-d7ac-4861-914c-d59978341bbd',\n",
              "                        [{\"mode\": \"lines\", \"type\": \"scatter\", \"x\": [\"2018-01-02T00:00:00\", \"2018-01-03T00:00:00\", \"2018-01-04T00:00:00\", \"2018-01-05T00:00:00\", \"2018-01-08T00:00:00\", \"2018-01-09T00:00:00\", \"2018-01-10T00:00:00\", \"2018-01-11T00:00:00\", \"2018-01-12T00:00:00\", \"2018-01-16T00:00:00\", \"2018-01-17T00:00:00\", \"2018-01-18T00:00:00\", \"2018-01-19T00:00:00\", \"2018-01-22T00:00:00\", \"2018-01-23T00:00:00\", \"2018-01-24T00:00:00\", \"2018-01-25T00:00:00\", \"2018-01-26T00:00:00\", \"2018-01-29T00:00:00\", \"2018-01-30T00:00:00\", \"2018-01-31T00:00:00\", \"2018-02-01T00:00:00\", \"2018-02-02T00:00:00\", \"2018-02-05T00:00:00\", \"2018-02-06T00:00:00\", \"2018-02-07T00:00:00\", \"2018-02-08T00:00:00\", \"2018-02-09T00:00:00\", \"2018-02-12T00:00:00\", \"2018-02-13T00:00:00\", \"2018-02-14T00:00:00\", \"2018-02-15T00:00:00\", \"2018-02-16T00:00:00\", \"2018-02-20T00:00:00\", \"2018-02-21T00:00:00\", \"2018-02-22T00:00:00\", \"2018-02-23T00:00:00\", \"2018-02-26T00:00:00\", \"2018-02-27T00:00:00\", \"2018-02-28T00:00:00\", \"2018-03-01T00:00:00\", \"2018-03-02T00:00:00\", \"2018-03-05T00:00:00\", \"2018-03-06T00:00:00\", \"2018-03-07T00:00:00\", \"2018-03-08T00:00:00\", \"2018-03-09T00:00:00\", \"2018-03-12T00:00:00\", \"2018-03-13T00:00:00\", \"2018-03-14T00:00:00\", \"2018-03-15T00:00:00\", \"2018-03-16T00:00:00\", \"2018-03-19T00:00:00\", \"2018-03-20T00:00:00\", \"2018-03-21T00:00:00\", \"2018-03-22T00:00:00\", \"2018-03-23T00:00:00\", \"2018-03-26T00:00:00\", \"2018-03-27T00:00:00\", \"2018-03-28T00:00:00\", \"2018-03-29T00:00:00\", \"2018-04-02T00:00:00\", \"2018-04-03T00:00:00\", \"2018-04-04T00:00:00\", \"2018-04-05T00:00:00\", \"2018-04-06T00:00:00\", \"2018-04-09T00:00:00\", \"2018-04-10T00:00:00\", \"2018-04-11T00:00:00\", \"2018-04-12T00:00:00\", \"2018-04-13T00:00:00\", \"2018-04-16T00:00:00\", \"2018-04-17T00:00:00\", \"2018-04-18T00:00:00\", \"2018-04-19T00:00:00\", \"2018-04-20T00:00:00\", \"2018-04-23T00:00:00\", \"2018-04-24T00:00:00\", \"2018-04-25T00:00:00\", \"2018-04-26T00:00:00\", \"2018-04-27T00:00:00\", \"2018-04-30T00:00:00\", \"2018-05-01T00:00:00\", \"2018-05-02T00:00:00\", \"2018-05-03T00:00:00\", \"2018-05-04T00:00:00\", \"2018-05-07T00:00:00\", \"2018-05-08T00:00:00\", \"2018-05-09T00:00:00\", \"2018-05-10T00:00:00\", \"2018-05-11T00:00:00\", \"2018-05-14T00:00:00\", \"2018-05-15T00:00:00\", \"2018-05-16T00:00:00\", \"2018-05-17T00:00:00\", \"2018-05-18T00:00:00\", \"2018-05-21T00:00:00\", \"2018-05-22T00:00:00\", \"2018-05-23T00:00:00\", \"2018-05-24T00:00:00\", \"2018-05-25T00:00:00\", \"2018-05-29T00:00:00\", \"2018-05-30T00:00:00\", \"2018-05-31T00:00:00\", \"2018-06-01T00:00:00\", \"2018-06-04T00:00:00\", \"2018-06-05T00:00:00\", \"2018-06-06T00:00:00\", \"2018-06-07T00:00:00\", \"2018-06-08T00:00:00\", \"2018-06-11T00:00:00\", \"2018-06-12T00:00:00\", \"2018-06-13T00:00:00\", \"2018-06-14T00:00:00\", \"2018-06-15T00:00:00\", \"2018-06-18T00:00:00\", \"2018-06-19T00:00:00\", \"2018-06-20T00:00:00\", \"2018-06-21T00:00:00\", \"2018-06-22T00:00:00\", \"2018-06-25T00:00:00\", \"2018-06-26T00:00:00\", \"2018-06-27T00:00:00\", \"2018-06-28T00:00:00\", \"2018-06-29T00:00:00\", \"2018-07-02T00:00:00\", \"2018-07-03T00:00:00\", \"2018-07-05T00:00:00\", \"2018-07-06T00:00:00\", \"2018-07-09T00:00:00\", \"2018-07-10T00:00:00\", \"2018-07-11T00:00:00\", \"2018-07-12T00:00:00\", \"2018-07-13T00:00:00\", \"2018-07-16T00:00:00\", \"2018-07-17T00:00:00\", \"2018-07-18T00:00:00\", \"2018-07-19T00:00:00\", \"2018-07-20T00:00:00\", \"2018-07-23T00:00:00\", \"2018-07-24T00:00:00\", \"2018-07-25T00:00:00\", \"2018-07-26T00:00:00\", \"2018-07-27T00:00:00\", \"2018-07-30T00:00:00\", \"2018-07-31T00:00:00\", \"2018-08-01T00:00:00\", \"2018-08-02T00:00:00\", \"2018-08-03T00:00:00\", \"2018-08-06T00:00:00\", \"2018-08-07T00:00:00\", \"2018-08-08T00:00:00\", \"2018-08-09T00:00:00\", \"2018-08-10T00:00:00\", \"2018-08-13T00:00:00\", \"2018-08-14T00:00:00\", \"2018-08-15T00:00:00\", \"2018-08-16T00:00:00\", \"2018-08-17T00:00:00\", \"2018-08-20T00:00:00\", \"2018-08-21T00:00:00\", \"2018-08-22T00:00:00\", \"2018-08-23T00:00:00\", \"2018-08-24T00:00:00\", \"2018-08-27T00:00:00\", \"2018-08-28T00:00:00\", \"2018-08-29T00:00:00\", \"2018-08-30T00:00:00\", \"2018-08-31T00:00:00\", \"2018-09-04T00:00:00\", \"2018-09-05T00:00:00\", \"2018-09-06T00:00:00\", \"2018-09-07T00:00:00\", \"2018-09-10T00:00:00\", \"2018-09-11T00:00:00\", \"2018-09-12T00:00:00\", \"2018-09-13T00:00:00\", \"2018-09-14T00:00:00\", \"2018-09-17T00:00:00\", \"2018-09-18T00:00:00\", \"2018-09-19T00:00:00\", \"2018-09-20T00:00:00\", \"2018-09-21T00:00:00\", \"2018-09-24T00:00:00\", \"2018-09-25T00:00:00\", \"2018-09-26T00:00:00\", \"2018-09-27T00:00:00\", \"2018-09-28T00:00:00\", \"2018-10-01T00:00:00\", \"2018-10-02T00:00:00\", \"2018-10-03T00:00:00\", \"2018-10-04T00:00:00\", \"2018-10-05T00:00:00\", \"2018-10-08T00:00:00\", \"2018-10-09T00:00:00\", \"2018-10-10T00:00:00\", \"2018-10-11T00:00:00\", \"2018-10-12T00:00:00\", \"2018-10-15T00:00:00\", \"2018-10-16T00:00:00\", \"2018-10-17T00:00:00\", \"2018-10-18T00:00:00\", \"2018-10-19T00:00:00\", \"2018-10-22T00:00:00\", \"2018-10-23T00:00:00\", \"2018-10-24T00:00:00\", \"2018-10-25T00:00:00\", \"2018-10-26T00:00:00\", \"2018-10-29T00:00:00\", \"2018-10-30T00:00:00\", \"2018-10-31T00:00:00\", \"2018-11-01T00:00:00\", \"2018-11-02T00:00:00\", \"2018-11-05T00:00:00\", \"2018-11-06T00:00:00\", \"2018-11-07T00:00:00\", \"2018-11-08T00:00:00\", \"2018-11-09T00:00:00\", \"2018-11-12T00:00:00\", \"2018-11-13T00:00:00\", \"2018-11-14T00:00:00\", \"2018-11-15T00:00:00\", \"2018-11-16T00:00:00\", \"2018-11-19T00:00:00\", \"2018-11-20T00:00:00\", \"2018-11-21T00:00:00\", \"2018-11-23T00:00:00\", \"2018-11-26T00:00:00\", \"2018-11-27T00:00:00\", \"2018-11-28T00:00:00\", \"2018-11-29T00:00:00\", \"2018-11-30T00:00:00\", \"2018-12-03T00:00:00\", \"2018-12-04T00:00:00\", \"2018-12-06T00:00:00\", \"2018-12-07T00:00:00\", \"2018-12-10T00:00:00\", \"2018-12-11T00:00:00\", \"2018-12-12T00:00:00\", \"2018-12-13T00:00:00\", \"2018-12-14T00:00:00\", \"2018-12-17T00:00:00\", \"2018-12-18T00:00:00\", \"2018-12-19T00:00:00\", \"2018-12-20T00:00:00\", \"2018-12-21T00:00:00\", \"2018-12-24T00:00:00\", \"2018-12-26T00:00:00\", \"2018-12-27T00:00:00\", \"2018-12-28T00:00:00\", \"2018-12-31T00:00:00\", \"2019-01-02T00:00:00\", \"2019-01-03T00:00:00\", \"2019-01-04T00:00:00\", \"2019-01-07T00:00:00\", \"2019-01-08T00:00:00\", \"2019-01-09T00:00:00\", \"2019-01-10T00:00:00\", \"2019-01-11T00:00:00\", \"2019-01-14T00:00:00\", \"2019-01-15T00:00:00\", \"2019-01-16T00:00:00\", \"2019-01-17T00:00:00\", \"2019-01-18T00:00:00\", \"2019-01-22T00:00:00\", \"2019-01-23T00:00:00\", \"2019-01-24T00:00:00\", \"2019-01-25T00:00:00\", \"2019-01-28T00:00:00\", \"2019-01-29T00:00:00\", \"2019-01-30T00:00:00\", \"2019-01-31T00:00:00\", \"2019-02-01T00:00:00\", \"2019-02-04T00:00:00\", \"2019-02-05T00:00:00\", \"2019-02-06T00:00:00\", \"2019-02-07T00:00:00\", \"2019-02-08T00:00:00\", \"2019-02-11T00:00:00\", \"2019-02-12T00:00:00\", \"2019-02-13T00:00:00\", \"2019-02-14T00:00:00\", \"2019-02-15T00:00:00\", \"2019-02-19T00:00:00\", \"2019-02-20T00:00:00\", \"2019-02-21T00:00:00\", \"2019-02-22T00:00:00\", \"2019-02-25T00:00:00\", \"2019-02-26T00:00:00\", \"2019-02-27T00:00:00\", \"2019-02-28T00:00:00\", \"2019-03-01T00:00:00\", \"2019-03-04T00:00:00\", \"2019-03-05T00:00:00\", \"2019-03-06T00:00:00\", \"2019-03-07T00:00:00\", \"2019-03-08T00:00:00\", \"2019-03-11T00:00:00\", \"2019-03-12T00:00:00\", \"2019-03-13T00:00:00\", \"2019-03-14T00:00:00\", \"2019-03-15T00:00:00\", \"2019-03-18T00:00:00\", \"2019-03-19T00:00:00\", \"2019-03-20T00:00:00\", \"2019-03-21T00:00:00\", \"2019-03-22T00:00:00\", \"2019-03-25T00:00:00\", \"2019-03-26T00:00:00\", \"2019-03-27T00:00:00\", \"2019-03-28T00:00:00\", \"2019-03-29T00:00:00\", \"2019-04-01T00:00:00\", \"2019-04-02T00:00:00\", \"2019-04-03T00:00:00\", \"2019-04-04T00:00:00\", \"2019-04-05T00:00:00\", \"2019-04-08T00:00:00\", \"2019-04-09T00:00:00\", \"2019-04-10T00:00:00\", \"2019-04-11T00:00:00\", \"2019-04-12T00:00:00\", \"2019-04-15T00:00:00\", \"2019-04-16T00:00:00\", \"2019-04-17T00:00:00\", \"2019-04-18T00:00:00\", \"2019-04-22T00:00:00\", \"2019-04-23T00:00:00\", \"2019-04-24T00:00:00\", \"2019-04-25T00:00:00\", \"2019-04-26T00:00:00\", \"2019-04-29T00:00:00\", \"2019-04-30T00:00:00\", \"2019-05-01T00:00:00\", \"2019-05-02T00:00:00\", \"2019-05-03T00:00:00\", \"2019-05-06T00:00:00\", \"2019-05-07T00:00:00\", \"2019-05-08T00:00:00\", \"2019-05-09T00:00:00\", \"2019-05-10T00:00:00\", \"2019-05-13T00:00:00\", \"2019-05-14T00:00:00\", \"2019-05-15T00:00:00\", \"2019-05-16T00:00:00\", \"2019-05-17T00:00:00\", \"2019-05-20T00:00:00\", \"2019-05-21T00:00:00\", \"2019-05-22T00:00:00\", \"2019-05-23T00:00:00\", \"2019-05-24T00:00:00\", \"2019-05-28T00:00:00\", \"2019-05-29T00:00:00\", \"2019-05-30T00:00:00\", \"2019-05-31T00:00:00\", \"2019-06-03T00:00:00\", \"2019-06-04T00:00:00\", \"2019-06-05T00:00:00\", \"2019-06-06T00:00:00\", \"2019-06-07T00:00:00\", \"2019-06-10T00:00:00\", \"2019-06-11T00:00:00\", \"2019-06-12T00:00:00\", \"2019-06-13T00:00:00\", \"2019-06-14T00:00:00\", \"2019-06-17T00:00:00\", \"2019-06-18T00:00:00\", \"2019-06-19T00:00:00\", \"2019-06-20T00:00:00\", \"2019-06-21T00:00:00\", \"2019-06-24T00:00:00\", \"2019-06-25T00:00:00\", \"2019-06-26T00:00:00\", \"2019-06-27T00:00:00\", \"2019-06-28T00:00:00\", \"2019-07-01T00:00:00\", \"2019-07-02T00:00:00\", \"2019-07-03T00:00:00\", \"2019-07-05T00:00:00\", \"2019-07-08T00:00:00\", \"2019-07-09T00:00:00\", \"2019-07-10T00:00:00\", \"2019-07-11T00:00:00\", \"2019-07-12T00:00:00\", \"2019-07-15T00:00:00\", \"2019-07-16T00:00:00\", \"2019-07-17T00:00:00\", \"2019-07-18T00:00:00\", \"2019-07-19T00:00:00\", \"2019-07-22T00:00:00\", \"2019-07-23T00:00:00\", \"2019-07-24T00:00:00\", \"2019-07-25T00:00:00\", \"2019-07-26T00:00:00\", \"2019-07-29T00:00:00\", \"2019-07-30T00:00:00\", \"2019-07-31T00:00:00\", \"2019-08-01T00:00:00\", \"2019-08-02T00:00:00\", \"2019-08-05T00:00:00\", \"2019-08-06T00:00:00\", \"2019-08-07T00:00:00\", \"2019-08-08T00:00:00\", \"2019-08-09T00:00:00\", \"2019-08-12T00:00:00\", \"2019-08-13T00:00:00\", \"2019-08-14T00:00:00\", \"2019-08-15T00:00:00\", \"2019-08-16T00:00:00\", \"2019-08-19T00:00:00\", \"2019-08-20T00:00:00\", \"2019-08-21T00:00:00\", \"2019-08-22T00:00:00\", \"2019-08-23T00:00:00\", \"2019-08-26T00:00:00\", \"2019-08-27T00:00:00\", \"2019-08-28T00:00:00\", \"2019-08-29T00:00:00\", \"2019-08-30T00:00:00\", \"2019-09-03T00:00:00\", \"2019-09-04T00:00:00\", \"2019-09-05T00:00:00\", \"2019-09-06T00:00:00\", \"2019-09-09T00:00:00\", \"2019-09-10T00:00:00\", \"2019-09-11T00:00:00\", \"2019-09-12T00:00:00\", \"2019-09-13T00:00:00\", \"2019-09-16T00:00:00\", \"2019-09-17T00:00:00\", \"2019-09-18T00:00:00\", \"2019-09-19T00:00:00\", \"2019-09-20T00:00:00\", \"2019-09-23T00:00:00\", \"2019-09-24T00:00:00\", \"2019-09-25T00:00:00\", \"2019-09-26T00:00:00\", \"2019-09-27T00:00:00\", \"2019-09-30T00:00:00\", \"2019-10-01T00:00:00\", \"2019-10-02T00:00:00\", \"2019-10-03T00:00:00\", \"2019-10-04T00:00:00\", \"2019-10-07T00:00:00\", \"2019-10-08T00:00:00\", \"2019-10-09T00:00:00\", \"2019-10-10T00:00:00\", \"2019-10-11T00:00:00\", \"2019-10-14T00:00:00\", \"2019-10-15T00:00:00\", \"2019-10-16T00:00:00\", \"2019-10-17T00:00:00\", \"2019-10-18T00:00:00\", \"2019-10-21T00:00:00\", \"2019-10-22T00:00:00\", \"2019-10-23T00:00:00\", \"2019-10-24T00:00:00\", \"2019-10-25T00:00:00\", \"2019-10-28T00:00:00\", \"2019-10-29T00:00:00\", \"2019-10-30T00:00:00\", \"2019-10-31T00:00:00\", \"2019-11-01T00:00:00\", \"2019-11-04T00:00:00\", \"2019-11-05T00:00:00\", \"2019-11-06T00:00:00\", \"2019-11-07T00:00:00\", \"2019-11-08T00:00:00\", \"2019-11-11T00:00:00\", \"2019-11-12T00:00:00\", \"2019-11-13T00:00:00\", \"2019-11-14T00:00:00\", \"2019-11-15T00:00:00\", \"2019-11-18T00:00:00\", \"2019-11-19T00:00:00\", \"2019-11-20T00:00:00\", \"2019-11-21T00:00:00\", \"2019-11-22T00:00:00\", \"2019-11-25T00:00:00\", \"2019-11-26T00:00:00\", \"2019-11-27T00:00:00\", \"2019-11-29T00:00:00\", \"2019-12-02T00:00:00\", \"2019-12-03T00:00:00\", \"2019-12-04T00:00:00\", \"2019-12-05T00:00:00\", \"2019-12-06T00:00:00\", \"2019-12-09T00:00:00\", \"2019-12-10T00:00:00\", \"2019-12-11T00:00:00\", \"2019-12-12T00:00:00\", \"2019-12-13T00:00:00\", \"2019-12-16T00:00:00\", \"2019-12-17T00:00:00\", \"2019-12-18T00:00:00\", \"2019-12-19T00:00:00\", \"2019-12-20T00:00:00\", \"2019-12-23T00:00:00\", \"2019-12-24T00:00:00\", \"2019-12-26T00:00:00\", \"2019-12-27T00:00:00\", \"2019-12-30T00:00:00\", \"2019-12-31T00:00:00\", \"2020-01-02T00:00:00\", \"2020-01-03T00:00:00\", \"2020-01-06T00:00:00\", \"2020-01-07T00:00:00\", \"2020-01-08T00:00:00\", \"2020-01-09T00:00:00\", \"2020-01-10T00:00:00\", \"2020-01-13T00:00:00\", \"2020-01-14T00:00:00\", \"2020-01-15T00:00:00\", \"2020-01-16T00:00:00\", \"2020-01-17T00:00:00\", \"2020-01-21T00:00:00\", \"2020-01-22T00:00:00\", \"2020-01-23T00:00:00\", \"2020-01-24T00:00:00\", \"2020-01-27T00:00:00\", \"2020-01-28T00:00:00\", \"2020-01-29T00:00:00\", \"2020-01-30T00:00:00\", \"2020-01-31T00:00:00\", \"2020-02-03T00:00:00\", \"2020-02-04T00:00:00\", \"2020-02-05T00:00:00\", \"2020-02-06T00:00:00\", \"2020-02-07T00:00:00\", \"2020-02-10T00:00:00\", \"2020-02-11T00:00:00\", \"2020-02-12T00:00:00\", \"2020-02-13T00:00:00\", \"2020-02-14T00:00:00\", \"2020-02-18T00:00:00\", \"2020-02-19T00:00:00\", \"2020-02-20T00:00:00\", \"2020-02-21T00:00:00\", \"2020-02-24T00:00:00\", \"2020-02-25T00:00:00\", \"2020-02-26T00:00:00\", \"2020-02-27T00:00:00\", \"2020-02-28T00:00:00\", \"2020-03-02T00:00:00\", \"2020-03-03T00:00:00\", \"2020-03-04T00:00:00\", \"2020-03-05T00:00:00\", \"2020-03-06T00:00:00\", \"2020-03-09T00:00:00\", \"2020-03-10T00:00:00\", \"2020-03-11T00:00:00\", \"2020-03-12T00:00:00\", \"2020-03-13T00:00:00\", \"2020-03-16T00:00:00\", \"2020-03-17T00:00:00\", \"2020-03-18T00:00:00\", \"2020-03-19T00:00:00\", \"2020-03-20T00:00:00\", \"2020-03-23T00:00:00\", \"2020-03-24T00:00:00\", \"2020-03-25T00:00:00\", \"2020-03-26T00:00:00\", \"2020-03-27T00:00:00\", \"2020-03-30T00:00:00\", \"2020-03-31T00:00:00\", \"2020-04-01T00:00:00\", \"2020-04-02T00:00:00\", \"2020-04-03T00:00:00\", \"2020-04-06T00:00:00\", \"2020-04-07T00:00:00\", \"2020-04-08T00:00:00\", \"2020-04-09T00:00:00\", \"2020-04-13T00:00:00\", \"2020-04-14T00:00:00\", \"2020-04-15T00:00:00\", \"2020-04-16T00:00:00\", \"2020-04-17T00:00:00\", \"2020-04-20T00:00:00\", \"2020-04-21T00:00:00\", \"2020-04-22T00:00:00\", \"2020-04-23T00:00:00\", \"2020-04-24T00:00:00\", \"2020-04-27T00:00:00\", \"2020-04-28T00:00:00\", \"2020-04-29T00:00:00\", \"2020-04-30T00:00:00\", \"2020-05-01T00:00:00\", \"2020-05-04T00:00:00\", \"2020-05-05T00:00:00\", \"2020-05-06T00:00:00\", \"2020-05-07T00:00:00\", \"2020-05-08T00:00:00\", \"2020-05-11T00:00:00\", \"2020-05-12T00:00:00\", \"2020-05-13T00:00:00\", \"2020-05-14T00:00:00\", \"2020-05-15T00:00:00\", \"2020-05-18T00:00:00\", \"2020-05-19T00:00:00\", \"2020-05-20T00:00:00\", \"2020-05-21T00:00:00\", \"2020-05-22T00:00:00\", \"2020-05-26T00:00:00\", \"2020-05-27T00:00:00\", \"2020-05-28T00:00:00\", \"2020-05-29T00:00:00\", \"2020-06-01T00:00:00\", \"2020-06-02T00:00:00\", \"2020-06-03T00:00:00\", \"2020-06-04T00:00:00\", \"2020-06-05T00:00:00\", \"2020-06-08T00:00:00\", \"2020-06-09T00:00:00\", \"2020-06-10T00:00:00\", \"2020-06-11T00:00:00\", \"2020-06-12T00:00:00\", \"2020-06-15T00:00:00\", \"2020-06-16T00:00:00\", \"2020-06-17T00:00:00\", \"2020-06-18T00:00:00\", \"2020-06-19T00:00:00\", \"2020-06-22T00:00:00\", \"2020-06-23T00:00:00\", \"2020-06-24T00:00:00\", \"2020-06-25T00:00:00\", \"2020-06-26T00:00:00\", \"2020-06-29T00:00:00\", \"2020-06-30T00:00:00\", \"2020-07-01T00:00:00\", \"2020-07-02T00:00:00\", \"2020-07-06T00:00:00\", \"2020-07-07T00:00:00\", \"2020-07-08T00:00:00\", \"2020-07-09T00:00:00\", \"2020-07-10T00:00:00\", \"2020-07-13T00:00:00\", \"2020-07-14T00:00:00\", \"2020-07-15T00:00:00\", \"2020-07-16T00:00:00\", \"2020-07-17T00:00:00\", \"2020-07-20T00:00:00\", \"2020-07-21T00:00:00\", \"2020-07-22T00:00:00\", \"2020-07-23T00:00:00\", \"2020-07-24T00:00:00\", \"2020-07-27T00:00:00\", \"2020-07-28T00:00:00\", \"2020-07-29T00:00:00\", \"2020-07-30T00:00:00\", \"2020-07-31T00:00:00\", \"2020-08-03T00:00:00\", \"2020-08-04T00:00:00\", \"2020-08-05T00:00:00\", \"2020-08-06T00:00:00\", \"2020-08-07T00:00:00\", \"2020-08-10T00:00:00\", \"2020-08-11T00:00:00\", \"2020-08-12T00:00:00\", \"2020-08-13T00:00:00\", \"2020-08-14T00:00:00\", \"2020-08-17T00:00:00\", \"2020-08-18T00:00:00\", \"2020-08-19T00:00:00\", \"2020-08-20T00:00:00\", \"2020-08-21T00:00:00\", \"2020-08-24T00:00:00\", \"2020-08-25T00:00:00\", \"2020-08-26T00:00:00\", \"2020-08-27T00:00:00\", \"2020-08-28T00:00:00\", \"2020-08-31T00:00:00\", \"2020-09-01T00:00:00\", \"2020-09-02T00:00:00\", \"2020-09-03T00:00:00\", \"2020-09-04T00:00:00\", \"2020-09-08T00:00:00\", \"2020-09-09T00:00:00\", \"2020-09-10T00:00:00\", \"2020-09-11T00:00:00\", \"2020-09-14T00:00:00\", \"2020-09-15T00:00:00\", \"2020-09-16T00:00:00\", \"2020-09-17T00:00:00\", \"2020-09-18T00:00:00\", \"2020-09-21T00:00:00\", \"2020-09-22T00:00:00\", \"2020-09-23T00:00:00\", \"2020-09-24T00:00:00\", \"2020-09-25T00:00:00\", \"2020-09-28T00:00:00\", \"2020-09-29T00:00:00\", \"2020-09-30T00:00:00\", \"2020-10-01T00:00:00\", \"2020-10-02T00:00:00\", \"2020-10-05T00:00:00\", \"2020-10-06T00:00:00\", \"2020-10-07T00:00:00\", \"2020-10-08T00:00:00\", \"2020-10-09T00:00:00\", \"2020-10-12T00:00:00\", \"2020-10-13T00:00:00\", \"2020-10-14T00:00:00\", \"2020-10-15T00:00:00\", \"2020-10-16T00:00:00\", \"2020-10-19T00:00:00\", \"2020-10-20T00:00:00\", \"2020-10-21T00:00:00\", \"2020-10-22T00:00:00\", \"2020-10-23T00:00:00\", \"2020-10-26T00:00:00\", \"2020-10-27T00:00:00\", \"2020-10-28T00:00:00\", \"2020-10-29T00:00:00\", \"2020-10-30T00:00:00\", \"2020-11-02T00:00:00\", \"2020-11-03T00:00:00\", \"2020-11-04T00:00:00\", \"2020-11-05T00:00:00\", \"2020-11-06T00:00:00\", \"2020-11-09T00:00:00\", \"2020-11-10T00:00:00\", \"2020-11-11T00:00:00\", \"2020-11-12T00:00:00\", \"2020-11-13T00:00:00\", \"2020-11-16T00:00:00\", \"2020-11-17T00:00:00\", \"2020-11-18T00:00:00\", \"2020-11-19T00:00:00\", \"2020-11-20T00:00:00\", \"2020-11-23T00:00:00\", \"2020-11-24T00:00:00\", \"2020-11-25T00:00:00\", \"2020-11-27T00:00:00\", \"2020-11-30T00:00:00\", \"2020-12-01T00:00:00\", \"2020-12-02T00:00:00\", \"2020-12-03T00:00:00\", \"2020-12-04T00:00:00\", \"2020-12-07T00:00:00\", \"2020-12-08T00:00:00\", \"2020-12-09T00:00:00\", \"2020-12-10T00:00:00\", \"2020-12-11T00:00:00\", \"2020-12-14T00:00:00\", \"2020-12-15T00:00:00\", \"2020-12-16T00:00:00\", \"2020-12-17T00:00:00\", \"2020-12-18T00:00:00\", \"2020-12-21T00:00:00\", \"2020-12-22T00:00:00\", \"2020-12-23T00:00:00\", \"2020-12-24T00:00:00\", \"2020-12-28T00:00:00\", \"2020-12-29T00:00:00\", \"2020-12-30T00:00:00\", \"2020-12-31T00:00:00\", \"2021-01-04T00:00:00\", \"2021-01-05T00:00:00\", \"2021-01-06T00:00:00\", \"2021-01-07T00:00:00\", \"2021-01-08T00:00:00\", \"2021-01-11T00:00:00\", \"2021-01-12T00:00:00\", \"2021-01-13T00:00:00\", \"2021-01-14T00:00:00\", \"2021-01-15T00:00:00\", \"2021-01-19T00:00:00\", \"2021-01-20T00:00:00\", \"2021-01-21T00:00:00\", \"2021-01-22T00:00:00\", \"2021-01-25T00:00:00\", \"2021-01-26T00:00:00\", \"2021-01-27T00:00:00\", \"2021-01-28T00:00:00\", \"2021-01-29T00:00:00\", \"2021-02-01T00:00:00\", \"2021-02-02T00:00:00\", \"2021-02-03T00:00:00\", \"2021-02-04T00:00:00\", \"2021-02-05T00:00:00\", \"2021-02-08T00:00:00\", \"2021-02-09T00:00:00\", \"2021-02-10T00:00:00\", \"2021-02-11T00:00:00\", \"2021-02-12T00:00:00\", \"2021-02-16T00:00:00\", \"2021-02-17T00:00:00\", \"2021-02-18T00:00:00\", \"2021-02-19T00:00:00\", \"2021-02-22T00:00:00\", \"2021-02-23T00:00:00\", \"2021-02-24T00:00:00\", \"2021-02-25T00:00:00\", \"2021-02-26T00:00:00\", \"2021-03-01T00:00:00\", \"2021-03-02T00:00:00\", \"2021-03-03T00:00:00\", \"2021-03-04T00:00:00\", \"2021-03-05T00:00:00\", \"2021-03-08T00:00:00\", \"2021-03-09T00:00:00\", \"2021-03-10T00:00:00\", \"2021-03-11T00:00:00\", \"2021-03-12T00:00:00\", \"2021-03-15T00:00:00\", \"2021-03-16T00:00:00\", \"2021-03-17T00:00:00\", \"2021-03-18T00:00:00\", \"2021-03-19T00:00:00\", \"2021-03-22T00:00:00\", \"2021-03-23T00:00:00\", \"2021-03-24T00:00:00\", \"2021-03-25T00:00:00\", \"2021-03-26T00:00:00\", \"2021-03-29T00:00:00\", \"2021-03-30T00:00:00\", \"2021-03-31T00:00:00\", \"2021-04-01T00:00:00\", \"2021-04-05T00:00:00\", \"2021-04-06T00:00:00\", \"2021-04-07T00:00:00\", \"2021-04-08T00:00:00\", \"2021-04-09T00:00:00\", \"2021-04-12T00:00:00\", \"2021-04-13T00:00:00\", \"2021-04-14T00:00:00\", \"2021-04-15T00:00:00\", \"2021-04-16T00:00:00\", \"2021-04-19T00:00:00\", \"2021-04-20T00:00:00\", \"2021-04-21T00:00:00\", \"2021-04-22T00:00:00\", \"2021-04-23T00:00:00\", \"2021-04-26T00:00:00\", \"2021-04-27T00:00:00\", \"2021-04-28T00:00:00\", \"2021-04-29T00:00:00\", \"2021-04-30T00:00:00\", \"2021-05-03T00:00:00\", \"2021-05-04T00:00:00\", \"2021-05-05T00:00:00\", \"2021-05-06T00:00:00\", \"2021-05-07T00:00:00\", \"2021-05-10T00:00:00\", \"2021-05-11T00:00:00\", \"2021-05-12T00:00:00\", \"2021-05-13T00:00:00\", \"2021-05-14T00:00:00\", \"2021-05-17T00:00:00\", \"2021-05-18T00:00:00\", \"2021-05-19T00:00:00\", \"2021-05-20T00:00:00\", \"2021-05-21T00:00:00\", \"2021-05-24T00:00:00\", \"2021-05-25T00:00:00\", \"2021-05-26T00:00:00\", \"2021-05-27T00:00:00\", \"2021-05-28T00:00:00\", \"2021-06-01T00:00:00\", \"2021-06-02T00:00:00\", \"2021-06-03T00:00:00\", \"2021-06-04T00:00:00\", \"2021-06-07T00:00:00\", \"2021-06-08T00:00:00\", \"2021-06-09T00:00:00\", \"2021-06-10T00:00:00\", \"2021-06-11T00:00:00\", \"2021-06-14T00:00:00\", \"2021-06-15T00:00:00\", \"2021-06-16T00:00:00\", \"2021-06-17T00:00:00\", \"2021-06-18T00:00:00\", \"2021-06-21T00:00:00\", \"2021-06-22T00:00:00\", \"2021-06-23T00:00:00\", \"2021-06-24T00:00:00\", \"2021-06-25T00:00:00\", \"2021-06-28T00:00:00\", \"2021-06-29T00:00:00\", \"2021-06-30T00:00:00\", \"2021-07-01T00:00:00\", \"2021-07-02T00:00:00\", \"2021-07-06T00:00:00\", \"2021-07-07T00:00:00\", \"2021-07-08T00:00:00\", \"2021-07-09T00:00:00\", \"2021-07-12T00:00:00\", \"2021-07-13T00:00:00\", \"2021-07-14T00:00:00\", \"2021-07-15T00:00:00\", \"2021-07-16T00:00:00\", \"2021-07-19T00:00:00\", \"2021-07-20T00:00:00\", \"2021-07-21T00:00:00\", \"2021-07-22T00:00:00\", \"2021-07-23T00:00:00\", \"2021-07-26T00:00:00\", \"2021-07-27T00:00:00\", \"2021-07-28T00:00:00\", \"2021-07-29T00:00:00\", \"2021-07-30T00:00:00\", \"2021-08-02T00:00:00\", \"2021-08-03T00:00:00\", \"2021-08-04T00:00:00\", \"2021-08-05T00:00:00\", \"2021-08-06T00:00:00\", \"2021-08-09T00:00:00\", \"2021-08-10T00:00:00\", \"2021-08-11T00:00:00\", \"2021-08-12T00:00:00\", \"2021-08-13T00:00:00\", \"2021-08-16T00:00:00\", \"2021-08-17T00:00:00\", \"2021-08-18T00:00:00\", \"2021-08-19T00:00:00\", \"2021-08-20T00:00:00\", \"2021-08-23T00:00:00\", \"2021-08-24T00:00:00\", \"2021-08-25T00:00:00\", \"2021-08-26T00:00:00\", \"2021-08-27T00:00:00\", \"2021-08-30T00:00:00\", \"2021-08-31T00:00:00\", \"2021-09-01T00:00:00\", \"2021-09-02T00:00:00\", \"2021-09-03T00:00:00\", \"2021-09-07T00:00:00\", \"2021-09-08T00:00:00\", \"2021-09-09T00:00:00\", \"2021-09-10T00:00:00\", \"2021-09-13T00:00:00\", \"2021-09-14T00:00:00\", \"2021-09-15T00:00:00\", \"2021-09-16T00:00:00\", \"2021-09-17T00:00:00\", \"2021-09-20T00:00:00\", \"2021-09-21T00:00:00\", \"2021-09-22T00:00:00\", \"2021-09-23T00:00:00\", \"2021-09-24T00:00:00\", \"2021-09-27T00:00:00\", \"2021-09-28T00:00:00\", \"2021-09-29T00:00:00\", \"2021-09-30T00:00:00\", \"2021-10-01T00:00:00\", \"2021-10-04T00:00:00\", \"2021-10-05T00:00:00\", \"2021-10-06T00:00:00\", \"2021-10-07T00:00:00\", \"2021-10-08T00:00:00\", \"2021-10-11T00:00:00\", \"2021-10-12T00:00:00\", \"2021-10-13T00:00:00\", \"2021-10-14T00:00:00\", \"2021-10-15T00:00:00\", \"2021-10-18T00:00:00\", \"2021-10-19T00:00:00\", \"2021-10-20T00:00:00\", \"2021-10-21T00:00:00\", \"2021-10-22T00:00:00\", \"2021-10-25T00:00:00\", \"2021-10-26T00:00:00\", \"2021-10-27T00:00:00\", \"2021-10-28T00:00:00\", \"2021-10-29T00:00:00\", \"2021-11-01T00:00:00\", \"2021-11-02T00:00:00\", \"2021-11-03T00:00:00\", \"2021-11-04T00:00:00\", \"2021-11-05T00:00:00\", \"2021-11-08T00:00:00\", \"2021-11-09T00:00:00\", \"2021-11-10T00:00:00\", \"2021-11-11T00:00:00\", \"2021-11-12T00:00:00\", \"2021-11-15T00:00:00\", \"2021-11-16T00:00:00\", \"2021-11-17T00:00:00\", \"2021-11-18T00:00:00\", \"2021-11-19T00:00:00\", \"2021-11-22T00:00:00\", \"2021-11-23T00:00:00\", \"2021-11-24T00:00:00\", \"2021-11-26T00:00:00\", \"2021-11-29T00:00:00\", \"2021-11-30T00:00:00\", \"2021-12-01T00:00:00\", \"2021-12-02T00:00:00\", \"2021-12-03T00:00:00\", \"2021-12-06T00:00:00\", \"2021-12-07T00:00:00\", \"2021-12-08T00:00:00\", \"2021-12-09T00:00:00\", \"2021-12-10T00:00:00\", \"2021-12-13T00:00:00\", \"2021-12-14T00:00:00\", \"2021-12-15T00:00:00\", \"2021-12-16T00:00:00\", \"2021-12-17T00:00:00\", \"2021-12-20T00:00:00\", \"2021-12-21T00:00:00\", \"2021-12-22T00:00:00\", \"2021-12-23T00:00:00\", \"2021-12-27T00:00:00\", \"2021-12-28T00:00:00\", \"2021-12-29T00:00:00\", \"2021-12-30T00:00:00\", \"2021-12-31T00:00:00\", \"2022-01-03T00:00:00\", \"2022-01-04T00:00:00\", \"2022-01-05T00:00:00\", \"2022-01-06T00:00:00\", \"2022-01-07T00:00:00\", \"2022-01-10T00:00:00\", \"2022-01-11T00:00:00\", \"2022-01-12T00:00:00\", \"2022-01-13T00:00:00\", \"2022-01-14T00:00:00\", \"2022-01-18T00:00:00\", \"2022-01-19T00:00:00\", \"2022-01-20T00:00:00\", \"2022-01-21T00:00:00\"], \"y\": [1073.2099609375, 1091.52001953125, 1095.760009765625, 1110.2900390625, 1114.2099609375, 1112.7900390625, 1110.1400146484375, 1112.050048828125, 1130.6500244140625, 1130.699951171875, 1139.0999755859375, 1135.969970703125, 1143.5, 1164.1600341796875, 1176.1700439453125, 1171.2900390625, 1182.1400146484375, 1187.56005859375, 1186.47998046875, 1177.3699951171875, 1182.219970703125, 1181.5899658203125, 1119.199951171875, 1062.3900146484375, 1084.4300537109375, 1055.4100341796875, 1007.7100219726562, 1046.27001953125, 1054.56005859375, 1054.1400146484375, 1072.699951171875, 1091.3599853515625, 1095.5, 1103.5899658203125, 1113.75, 1109.9000244140625, 1128.0899658203125, 1143.699951171875, 1117.510009765625, 1103.9200439453125, 1071.4100341796875, 1084.1400146484375, 1094.760009765625, 1100.9000244140625, 1115.0400390625, 1129.3800048828125, 1160.8399658203125, 1165.9300537109375, 1139.9100341796875, 1148.8900146484375, 1150.6099853515625, 1134.4200439453125, 1100.0699462890625, 1095.800048828125, 1094.0, 1053.1500244140625, 1026.550048828125, 1054.0899658203125, 1006.9400024414062, 1005.1799926757812, 1037.1400146484375, 1012.6300048828125, 1018.6799926757812, 1029.7099609375, 1032.6400146484375, 1009.9500122070312, 1020.0900268554688, 1036.5, 1025.06005859375, 1037.2900390625, 1036.0400390625, 1046.0999755859375, 1079.3599853515625, 1075.3900146484375, 1089.449951171875, 1077.3199462890625, 1073.81005859375, 1022.6400146484375, 1022.989990234375, 1043.31005859375, 1031.449951171875, 1018.5800170898438, 1040.75, 1026.050048828125, 1026.300048828125, 1051.0, 1059.4599609375, 1058.5899658203125, 1088.949951171875, 1105.469970703125, 1103.3800048828125, 1106.5999755859375, 1084.8699951171875, 1084.0899658203125, 1081.260009765625, 1069.6400146484375, 1084.010009765625, 1075.31005859375, 1085.9599609375, 1085.449951171875, 1084.0799560546875, 1068.0699462890625, 1077.469970703125, 1100.0, 1135.0, 1153.0400390625, 1151.02001953125, 1146.949951171875, 1134.4200439453125, 1132.7099609375, 1140.9000244140625, 1148.18994140625, 1144.22998046875, 1160.1099853515625, 1159.27001953125, 1183.5799560546875, 1178.68994140625, 1184.0699462890625, 1169.43994140625, 1169.2900390625, 1139.280029296875, 1132.6199951171875, 1116.93994140625, 1126.780029296875, 1129.18994140625, 1142.1099853515625, 1116.280029296875, 1141.2900390625, 1155.0799560546875, 1167.280029296875, 1167.1400146484375, 1171.4599609375, 1201.260009765625, 1204.4200439453125, 1196.510009765625, 1213.0799560546875, 1212.9100341796875, 1199.0999755859375, 1197.8800048828125, 1211.0, 1258.1500244140625, 1275.93994140625, 1285.5, 1252.8900146484375, 1230.0400390625, 1227.219970703125, 1232.989990234375, 1241.1300048828125, 1238.1600341796875, 1237.6700439453125, 1255.8399658203125, 1261.3299560546875, 1264.4599609375, 1252.510009765625, 1248.6400146484375, 1258.1400146484375, 1232.219970703125, 1224.06005859375, 1215.8499755859375, 1221.949951171875, 1217.4100341796875, 1221.75, 1221.1600341796875, 1236.75, 1256.27001953125, 1245.8599853515625, 1264.6500244140625, 1254.43994140625, 1231.800048828125, 1211.31005859375, 1199.0999755859375, 1183.989990234375, 1177.5899658203125, 1175.06005859375, 1189.989990234375, 1171.5999755859375, 1182.1400146484375, 1177.97998046875, 1159.8299560546875, 1167.1099853515625, 1174.27001953125, 1191.5699462890625, 1172.1199951171875, 1179.56005859375, 1193.8900146484375, 1194.06005859375, 1207.3599853515625, 1207.0799560546875, 1208.530029296875, 1207.6400146484375, 1211.530029296875, 1177.0699462890625, 1167.8299560546875, 1155.9200439453125, 1145.1700439453125, 1092.1600341796875, 1090.739990234375, 1120.5400390625, 1102.43994140625, 1133.0799560546875, 1127.5899658203125, 1097.9100341796875, 1105.1800537109375, 1111.3699951171875, 1114.9100341796875, 1057.1199951171875, 1103.5899658203125, 1083.75, 1034.72998046875, 1049.510009765625, 1090.5799560546875, 1085.97998046875, 1071.489990234375, 1055.72998046875, 1069.5699462890625, 1108.239990234375, 1094.6300048828125, 1077.02001953125, 1049.3599853515625, 1047.969970703125, 1054.5799560546875, 1071.050048828125, 1068.27001953125, 1027.4200439453125, 1030.449951171875, 1043.4300537109375, 1030.0999755859375, 1055.93994140625, 1052.280029296875, 1091.7900390625, 1094.5799560546875, 1109.6500244140625, 1116.3599853515625, 1062.469970703125, 1078.0799560546875, 1046.5799560546875, 1053.1800537109375, 1061.6500244140625, 1073.72998046875, 1073.5400390625, 1051.7099609375, 1025.6500244140625, 1043.4100341796875, 1035.4599609375, 1023.5800170898438, 991.25, 984.6699829101562, 1047.8499755859375, 1052.9000244140625, 1046.6800537109375, 1044.9599609375, 1054.6800537109375, 1025.469970703125, 1078.0699462890625, 1075.9200439453125, 1085.3699951171875, 1081.6500244140625, 1078.8299560546875, 1064.469970703125, 1051.510009765625, 1086.510009765625, 1089.510009765625, 1099.1199951171875, 1107.300048828125, 1078.6300048828125, 1084.4100341796875, 1084.0, 1101.510009765625, 1079.8599853515625, 1070.06005859375, 1097.989990234375, 1125.8900146484375, 1118.6199951171875, 1141.4200439453125, 1151.8699951171875, 1122.8900146484375, 1105.9100341796875, 1102.3800048828125, 1102.1199951171875, 1127.5799560546875, 1128.6300048828125, 1129.199951171875, 1119.6300048828125, 1126.510009765625, 1120.5899658203125, 1104.2099609375, 1116.56005859375, 1117.3299560546875, 1122.010009765625, 1122.8900146484375, 1126.550048828125, 1148.52001953125, 1153.4200439453125, 1169.18994140625, 1164.93994140625, 1150.8499755859375, 1149.969970703125, 1179.260009765625, 1197.25, 1199.06005859375, 1192.530029296875, 1190.300048828125, 1188.550048828125, 1202.4599609375, 1226.4300537109375, 1236.1300048828125, 1207.6500244140625, 1197.3800048828125, 1189.8399658203125, 1178.010009765625, 1172.27001953125, 1176.8900146484375, 1198.97998046875, 1205.5400390625, 1210.81005859375, 1219.449951171875, 1211.449951171875, 1208.280029296875, 1202.68994140625, 1206.449951171875, 1209.5899658203125, 1222.72998046875, 1226.530029296875, 1231.9100341796875, 1240.1400146484375, 1241.469970703125, 1253.760009765625, 1270.5899658203125, 1260.050048828125, 1267.3399658203125, 1277.4200439453125, 1296.199951171875, 1198.9599609375, 1173.3199462890625, 1166.510009765625, 1189.550048828125, 1193.4599609375, 1178.8599853515625, 1170.780029296875, 1167.969970703125, 1167.6400146484375, 1136.5899658203125, 1124.8599853515625, 1170.800048828125, 1184.5, 1168.780029296875, 1144.6600341796875, 1154.43994140625, 1155.8499755859375, 1145.3399658203125, 1138.6099853515625, 1139.56005859375, 1119.93994140625, 1121.4100341796875, 1106.5, 1038.739990234375, 1054.489990234375, 1044.6400146484375, 1047.760009765625, 1068.3699951171875, 1082.760009765625, 1081.0400390625, 1079.0999755859375, 1091.010009765625, 1086.300048828125, 1093.8900146484375, 1105.239990234375, 1104.510009765625, 1113.199951171875, 1125.3699951171875, 1116.699951171875, 1087.5799560546875, 1080.3199462890625, 1076.6300048828125, 1082.800048828125, 1100.0, 1112.5999755859375, 1122.989990234375, 1132.6700439453125, 1116.7900390625, 1124.2900390625, 1140.9100341796875, 1144.0799560546875, 1145.3399658203125, 1150.510009765625, 1153.4599609375, 1146.739990234375, 1147.239990234375, 1131.550048828125, 1139.2099609375, 1148.050048828125, 1139.72998046875, 1135.93994140625, 1245.219970703125, 1241.8399658203125, 1228.0, 1218.199951171875, 1211.780029296875, 1196.3199462890625, 1154.75, 1171.0799560546875, 1175.9100341796875, 1206.18994140625, 1188.9000244140625, 1174.5, 1196.72998046875, 1164.25, 1169.3199462890625, 1179.2099609375, 1200.43994140625, 1183.530029296875, 1191.5799560546875, 1191.52001953125, 1153.5799560546875, 1171.1800537109375, 1170.8199462890625, 1173.75, 1194.239990234375, 1190.530029296875, 1169.550048828125, 1182.27001953125, 1212.18994140625, 1206.3199462890625, 1205.27001953125, 1205.699951171875, 1220.0, 1234.969970703125, 1240.030029296875, 1231.6300048828125, 1229.8800048828125, 1232.6500244140625, 1238.75, 1229.8399658203125, 1234.68994140625, 1218.3299560546875, 1245.93994140625, 1242.2900390625, 1225.949951171875, 1221.1400146484375, 1206.0, 1177.9200439453125, 1189.4300537109375, 1210.9599609375, 1208.25, 1190.1300048828125, 1202.4000244140625, 1209.469970703125, 1215.7099609375, 1217.77001953125, 1242.239990234375, 1243.0, 1252.800048828125, 1244.4100341796875, 1244.280029296875, 1241.199951171875, 1257.6300048828125, 1259.1099853515625, 1264.300048828125, 1288.97998046875, 1260.6600341796875, 1260.699951171875, 1258.800048828125, 1272.25, 1289.6099853515625, 1291.43994140625, 1291.010009765625, 1306.93994140625, 1309.0, 1298.280029296875, 1297.2099609375, 1296.1800537109375, 1309.1500244140625, 1333.5400390625, 1319.8399658203125, 1312.5899658203125, 1301.8599853515625, 1300.1400146484375, 1293.6700439453125, 1305.6400146484375, 1313.0, 1312.1300048828125, 1304.0899658203125, 1288.8599853515625, 1294.739990234375, 1318.93994140625, 1326.9599609375, 1339.3900146484375, 1342.989990234375, 1342.8900146484375, 1344.25, 1348.489990234375, 1346.8699951171875, 1360.699951171875, 1354.8900146484375, 1351.9100341796875, 1356.43994140625, 1351.219970703125, 1350.6300048828125, 1344.4300537109375, 1362.469970703125, 1354.6400146484375, 1339.7099609375, 1339.3900146484375, 1368.6800537109375, 1361.52001953125, 1397.81005859375, 1395.1099853515625, 1405.0400390625, 1419.7900390625, 1428.9599609375, 1440.030029296875, 1430.5899658203125, 1439.199951171875, 1450.1600341796875, 1479.52001953125, 1482.25, 1483.8699951171875, 1484.68994140625, 1466.1700439453125, 1431.72998046875, 1450.5, 1456.699951171875, 1454.25, 1432.780029296875, 1482.5999755859375, 1445.4100341796875, 1446.050048828125, 1475.969970703125, 1479.1099853515625, 1508.6600341796875, 1510.06005859375, 1518.6300048828125, 1513.3900146484375, 1518.72998046875, 1519.43994140625, 1524.8699951171875, 1516.989990234375, 1483.4599609375, 1419.8599853515625, 1386.3199462890625, 1390.469970703125, 1314.949951171875, 1339.25, 1386.3199462890625, 1337.719970703125, 1381.5999755859375, 1314.760009765625, 1295.739990234375, 1215.7900390625, 1275.1700439453125, 1210.9000244140625, 1111.550048828125, 1214.27001953125, 1073.0, 1118.06005859375, 1091.18994140625, 1111.6700439453125, 1068.2099609375, 1054.1300048828125, 1130.010009765625, 1101.6199951171875, 1162.9200439453125, 1110.260009765625, 1146.31005859375, 1161.949951171875, 1102.0999755859375, 1117.030029296875, 1092.699951171875, 1183.18994140625, 1182.56005859375, 1207.0, 1206.5699462890625, 1210.4100341796875, 1265.22998046875, 1257.300048828125, 1257.4300537109375, 1279.0, 1261.1500244140625, 1212.1600341796875, 1258.4100341796875, 1271.1700439453125, 1276.5999755859375, 1270.8599853515625, 1232.5899658203125, 1342.1800537109375, 1346.699951171875, 1317.3199462890625, 1322.9000244140625, 1349.02001953125, 1345.4300537109375, 1369.280029296875, 1384.3399658203125, 1403.5899658203125, 1375.1800537109375, 1348.3299560546875, 1356.8599853515625, 1373.06005859375, 1385.1800537109375, 1374.4000244140625, 1409.1600341796875, 1406.75, 1413.239990234375, 1421.3699951171875, 1420.280029296875, 1418.239990234375, 1433.52001953125, 1434.8699951171875, 1442.31005859375, 1439.25, 1414.300048828125, 1440.02001953125, 1448.0400390625, 1452.0799560546875, 1464.699951171875, 1401.9000244140625, 1412.9200439453125, 1420.739990234375, 1446.469970703125, 1452.5400390625, 1434.1199951171875, 1424.6400146484375, 1450.6600341796875, 1463.97998046875, 1432.699951171875, 1441.0999755859375, 1362.5400390625, 1397.1700439453125, 1418.050048828125, 1442.0, 1469.9300537109375, 1499.6500244140625, 1489.9200439453125, 1503.5999755859375, 1518.6600341796875, 1539.010009765625, 1512.22998046875, 1520.8599853515625, 1516.8800048828125, 1514.9200439453125, 1516.8499755859375, 1563.8399658203125, 1555.9200439453125, 1564.8499755859375, 1516.75, 1508.2099609375, 1529.4300537109375, 1503.6500244140625, 1523.510009765625, 1538.3699951171875, 1487.949951171875, 1482.760009765625, 1473.300048828125, 1479.0899658203125, 1504.949951171875, 1498.3699951171875, 1496.8199462890625, 1480.5400390625, 1507.239990234375, 1516.6500244140625, 1504.6300048828125, 1516.239990234375, 1555.780029296875, 1544.6099853515625, 1576.25, 1575.5699462890625, 1585.1500244140625, 1605.8499755859375, 1644.1300048828125, 1628.52001953125, 1639.4300537109375, 1629.530029296875, 1655.0799560546875, 1717.3900146484375, 1629.510009765625, 1581.2099609375, 1523.5999755859375, 1547.22998046875, 1526.050048828125, 1515.760009765625, 1508.8299560546875, 1535.1199951171875, 1512.0899658203125, 1487.0400390625, 1451.0899658203125, 1430.1400146484375, 1459.8199462890625, 1409.3900146484375, 1422.8599853515625, 1439.06005859375, 1458.6600341796875, 1466.02001953125, 1465.5999755859375, 1487.9000244140625, 1455.5999755859375, 1482.8299560546875, 1451.02001953125, 1459.1400146484375, 1483.4300537109375, 1510.449951171875, 1564.5899658203125, 1567.0699462890625, 1563.43994140625, 1555.469970703125, 1567.699951171875, 1529.949951171875, 1551.0799560546875, 1585.989990234375, 1606.6600341796875, 1632.97998046875, 1584.2900390625, 1598.8800048828125, 1510.800048828125, 1556.8800048828125, 1616.1099853515625, 1624.3199462890625, 1645.6600341796875, 1745.8499755859375, 1762.5, 1759.72998046875, 1761.4200439453125, 1737.719970703125, 1747.22998046875, 1742.8199462890625, 1772.260009765625, 1774.030029296875, 1761.6600341796875, 1740.6400146484375, 1758.5699462890625, 1736.3800048828125, 1727.56005859375, 1763.9000244140625, 1764.1300048828125, 1787.02001953125, 1754.4000244140625, 1795.3599853515625, 1824.969970703125, 1821.8399658203125, 1823.760009765625, 1817.030029296875, 1811.3299560546875, 1777.8599853515625, 1767.6500244140625, 1774.800048828125, 1752.260009765625, 1761.0799560546875, 1757.18994140625, 1740.510009765625, 1726.219970703125, 1734.56005859375, 1720.219970703125, 1728.22998046875, 1734.1600341796875, 1773.9599609375, 1757.760009765625, 1736.25, 1752.6400146484375, 1726.1300048828125, 1740.050048828125, 1722.8800048828125, 1774.3399658203125, 1797.8299560546875, 1756.2900390625, 1737.4300537109375, 1747.25, 1730.9200439453125, 1727.6199951171875, 1784.469970703125, 1880.0699462890625, 1884.1500244140625, 1892.56005859375, 1894.280029296875, 1907.949951171875, 1818.93994140625, 1853.199951171875, 1827.3599853515625, 1893.0699462890625, 1919.1199951171875, 2058.8798828125, 2053.6298828125, 2088.830078125, 2084.52001953125, 2075.389892578125, 2086.47998046875, 2088.75, 2095.030029296875, 2110.699951171875, 2118.6201171875, 2105.81005859375, 2088.81005859375, 2054.260009765625, 2060.1201171875, 2083.81005859375, 2015.949951171875, 2021.9100341796875, 2069.659912109375, 2064.47998046875, 2011.4100341796875, 2033.9300537109375, 2097.070068359375, 2007.5, 2040.3599853515625, 2036.18994140625, 2100.5400390625, 2050.0, 2054.43994140625, 2083.889892578125, 2082.219970703125, 2021.3399658203125, 2026.9599609375, 2030.68994140625, 2041.3299560546875, 2032.530029296875, 2032.4599609375, 2024.72998046875, 2045.7900390625, 2046.469970703125, 2062.52001953125, 2129.780029296875, 2218.9599609375, 2209.260009765625, 2239.030029296875, 2250.429931640625, 2270.669921875, 2244.6201171875, 2254.429931640625, 2241.909912109375, 2285.25, 2282.75, 2289.760009765625, 2279.010009765625, 2278.35009765625, 2252.52001953125, 2299.929931640625, 2309.929931640625, 2290.97998046875, 2359.0400390625, 2392.760009765625, 2353.5, 2343.080078125, 2306.830078125, 2314.77001953125, 2337.35009765625, 2351.929931640625, 2291.75, 2270.06005859375, 2200.25, 2229.0400390625, 2278.3798828125, 2288.919921875, 2262.469970703125, 2271.5, 2306.949951171875, 2294.1298828125, 2361.0400390625, 2362.8701171875, 2380.31005859375, 2362.679931640625, 2356.85009765625, 2381.179931640625, 2370.590087890625, 2347.580078125, 2393.570068359375, 2402.300048828125, 2398.43994140625, 2407.93994140625, 2435.1298828125, 2430.199951171875, 2448.909912109375, 2428.389892578125, 2415.449951171875, 2434.8701171875, 2402.219970703125, 2436.25, 2446.610107421875, 2442.5400390625, 2450.0, 2450.169921875, 2450.719970703125, 2445.449951171875, 2441.7900390625, 2448.889892578125, 2505.14990234375, 2523.800048828125, 2529.47998046875, 2500.8798828125, 2510.3701171875, 2539.510009765625, 2546.830078125, 2564.739990234375, 2540.10009765625, 2539.39990234375, 2491.56005859375, 2524.18994140625, 2550.97998046875, 2568.429931640625, 2660.300048828125, 2680.699951171875, 2638.0, 2721.8798828125, 2715.550048828125, 2694.530029296875, 2697.090087890625, 2712.60009765625, 2702.510009765625, 2725.030029296875, 2714.77001953125, 2738.260009765625, 2736.139892578125, 2725.580078125, 2743.8798828125, 2754.550048828125, 2766.18994140625, 2733.22998046875, 2708.97998046875, 2713.60009765625, 2748.590087890625, 2800.830078125, 2825.22998046875, 2841.580078125, 2828.81005859375, 2880.080078125, 2891.81005859375, 2893.949951171875, 2904.31005859375, 2865.739990234375, 2874.7900390625, 2885.610107421875, 2873.820068359375, 2870.820068359375, 2817.52001953125, 2846.64990234375, 2850.889892578125, 2888.590087890625, 2872.199951171875, 2816.0, 2774.389892578125, 2780.659912109375, 2805.669921875, 2824.320068359375, 2844.300048828125, 2821.43994140625, 2716.60009765625, 2687.070068359375, 2673.52001953125, 2730.860107421875, 2673.18994140625, 2720.4599609375, 2751.300048828125, 2784.5, 2795.7099609375, 2778.280029296875, 2728.97998046875, 2751.639892578125, 2823.02001953125, 2827.360107421875, 2855.56005859375, 2864.739990234375, 2835.3798828125, 2837.719970703125, 2751.330078125, 2748.93994140625, 2786.169921875, 2924.35009765625, 2916.97998046875, 2960.919921875, 2869.93994140625, 2908.64990234375, 2931.9599609375, 2965.35009765625, 2977.0400390625, 2980.6201171875, 2978.3701171875, 2917.8701171875, 2915.330078125, 2973.56005859375, 2969.0400390625, 2957.52001953125, 2960.93994140625, 2996.77001953125, 2978.530029296875, 2926.0400390625, 2915.639892578125, 2922.39990234375, 2843.659912109375, 2910.610107421875, 2837.949951171875, 2821.030029296875, 2859.320068359375, 2840.030029296875, 2863.10009765625, 2945.389892578125, 2963.72998046875, 2952.77001953125, 2960.030029296875, 2916.530029296875, 2878.139892578125, 2928.820068359375, 2888.89990234375, 2834.5, 2832.139892578125, 2869.449951171875, 2928.300048828125, 2938.330078125, 2958.1298828125, 2933.739990234375, 2933.10009765625, 2924.010009765625, 2897.0400390625, 2899.830078125, 2887.989990234375, 2755.5, 2754.949951171875, 2740.340087890625, 2773.389892578125, 2794.719970703125, 2828.610107421875, 2771.739990234375, 2789.610107421875, 2719.9599609375, 2702.330078125, 2666.14990234375, 2607.030029296875]}, {\"mode\": \"lines\", \"type\": \"scatter\", \"x\": [\"2018-01-02T00:00:00\", \"2018-01-03T00:00:00\", \"2018-01-04T00:00:00\", \"2018-01-05T00:00:00\", \"2018-01-08T00:00:00\", \"2018-01-09T00:00:00\", \"2018-01-10T00:00:00\", \"2018-01-11T00:00:00\", \"2018-01-12T00:00:00\", \"2018-01-16T00:00:00\", \"2018-01-17T00:00:00\", \"2018-01-18T00:00:00\", \"2018-01-19T00:00:00\", \"2018-01-22T00:00:00\", \"2018-01-23T00:00:00\", \"2018-01-24T00:00:00\", \"2018-01-25T00:00:00\", \"2018-01-26T00:00:00\", \"2018-01-29T00:00:00\", \"2018-01-30T00:00:00\", \"2018-01-31T00:00:00\", \"2018-02-01T00:00:00\", \"2018-02-02T00:00:00\", \"2018-02-05T00:00:00\", \"2018-02-06T00:00:00\", \"2018-02-07T00:00:00\", \"2018-02-08T00:00:00\", \"2018-02-09T00:00:00\", \"2018-02-12T00:00:00\", \"2018-02-13T00:00:00\", \"2018-02-14T00:00:00\", \"2018-02-15T00:00:00\", \"2018-02-16T00:00:00\", \"2018-02-20T00:00:00\", \"2018-02-21T00:00:00\", \"2018-02-22T00:00:00\", \"2018-02-23T00:00:00\", \"2018-02-26T00:00:00\", \"2018-02-27T00:00:00\", \"2018-02-28T00:00:00\", \"2018-03-01T00:00:00\", \"2018-03-02T00:00:00\", \"2018-03-05T00:00:00\", \"2018-03-06T00:00:00\", \"2018-03-07T00:00:00\", \"2018-03-08T00:00:00\", \"2018-03-09T00:00:00\", \"2018-03-12T00:00:00\", \"2018-03-13T00:00:00\", \"2018-03-14T00:00:00\", \"2018-03-15T00:00:00\", \"2018-03-16T00:00:00\", \"2018-03-19T00:00:00\", \"2018-03-20T00:00:00\", \"2018-03-21T00:00:00\", \"2018-03-22T00:00:00\", \"2018-03-23T00:00:00\", \"2018-03-26T00:00:00\", \"2018-03-27T00:00:00\", \"2018-03-28T00:00:00\", \"2018-03-29T00:00:00\", \"2018-04-02T00:00:00\", \"2018-04-03T00:00:00\", \"2018-04-04T00:00:00\", \"2018-04-05T00:00:00\", \"2018-04-06T00:00:00\", \"2018-04-09T00:00:00\", \"2018-04-10T00:00:00\", \"2018-04-11T00:00:00\", \"2018-04-12T00:00:00\", \"2018-04-13T00:00:00\", \"2018-04-16T00:00:00\", \"2018-04-17T00:00:00\", \"2018-04-18T00:00:00\", \"2018-04-19T00:00:00\", \"2018-04-20T00:00:00\", \"2018-04-23T00:00:00\", \"2018-04-24T00:00:00\", \"2018-04-25T00:00:00\", \"2018-04-26T00:00:00\", \"2018-04-27T00:00:00\", \"2018-04-30T00:00:00\", \"2018-05-01T00:00:00\", \"2018-05-02T00:00:00\", \"2018-05-03T00:00:00\", \"2018-05-04T00:00:00\", \"2018-05-07T00:00:00\", \"2018-05-08T00:00:00\", \"2018-05-09T00:00:00\", \"2018-05-10T00:00:00\", \"2018-05-11T00:00:00\", \"2018-05-14T00:00:00\", \"2018-05-15T00:00:00\", \"2018-05-16T00:00:00\", \"2018-05-17T00:00:00\", \"2018-05-18T00:00:00\", \"2018-05-21T00:00:00\", \"2018-05-22T00:00:00\", \"2018-05-23T00:00:00\", \"2018-05-24T00:00:00\", \"2018-05-25T00:00:00\", \"2018-05-29T00:00:00\", \"2018-05-30T00:00:00\", \"2018-05-31T00:00:00\", \"2018-06-01T00:00:00\", \"2018-06-04T00:00:00\", \"2018-06-05T00:00:00\", \"2018-06-06T00:00:00\", \"2018-06-07T00:00:00\", \"2018-06-08T00:00:00\", \"2018-06-11T00:00:00\", \"2018-06-12T00:00:00\", \"2018-06-13T00:00:00\", \"2018-06-14T00:00:00\", \"2018-06-15T00:00:00\", \"2018-06-18T00:00:00\", \"2018-06-19T00:00:00\", \"2018-06-20T00:00:00\", \"2018-06-21T00:00:00\", \"2018-06-22T00:00:00\", \"2018-06-25T00:00:00\", \"2018-06-26T00:00:00\", \"2018-06-27T00:00:00\", \"2018-06-28T00:00:00\", \"2018-06-29T00:00:00\", \"2018-07-02T00:00:00\", \"2018-07-03T00:00:00\", \"2018-07-05T00:00:00\", \"2018-07-06T00:00:00\", \"2018-07-09T00:00:00\", \"2018-07-10T00:00:00\", \"2018-07-11T00:00:00\", \"2018-07-12T00:00:00\", \"2018-07-13T00:00:00\", \"2018-07-16T00:00:00\", \"2018-07-17T00:00:00\", \"2018-07-18T00:00:00\", \"2018-07-19T00:00:00\", \"2018-07-20T00:00:00\", \"2018-07-23T00:00:00\", \"2018-07-24T00:00:00\", \"2018-07-25T00:00:00\", \"2018-07-26T00:00:00\", \"2018-07-27T00:00:00\", \"2018-07-30T00:00:00\", \"2018-07-31T00:00:00\", \"2018-08-01T00:00:00\", \"2018-08-02T00:00:00\", \"2018-08-03T00:00:00\", \"2018-08-06T00:00:00\", \"2018-08-07T00:00:00\", \"2018-08-08T00:00:00\", \"2018-08-09T00:00:00\", \"2018-08-10T00:00:00\", \"2018-08-13T00:00:00\", \"2018-08-14T00:00:00\", \"2018-08-15T00:00:00\", \"2018-08-16T00:00:00\", \"2018-08-17T00:00:00\", \"2018-08-20T00:00:00\", \"2018-08-21T00:00:00\", \"2018-08-22T00:00:00\", \"2018-08-23T00:00:00\", \"2018-08-24T00:00:00\", \"2018-08-27T00:00:00\", \"2018-08-28T00:00:00\", \"2018-08-29T00:00:00\", \"2018-08-30T00:00:00\", \"2018-08-31T00:00:00\", \"2018-09-04T00:00:00\", \"2018-09-05T00:00:00\", \"2018-09-06T00:00:00\", \"2018-09-07T00:00:00\", \"2018-09-10T00:00:00\", \"2018-09-11T00:00:00\", \"2018-09-12T00:00:00\", \"2018-09-13T00:00:00\", \"2018-09-14T00:00:00\", \"2018-09-17T00:00:00\", \"2018-09-18T00:00:00\", \"2018-09-19T00:00:00\", \"2018-09-20T00:00:00\", \"2018-09-21T00:00:00\", \"2018-09-24T00:00:00\", \"2018-09-25T00:00:00\", \"2018-09-26T00:00:00\", \"2018-09-27T00:00:00\", \"2018-09-28T00:00:00\", \"2018-10-01T00:00:00\", \"2018-10-02T00:00:00\", \"2018-10-03T00:00:00\", \"2018-10-04T00:00:00\", \"2018-10-05T00:00:00\", \"2018-10-08T00:00:00\", \"2018-10-09T00:00:00\", \"2018-10-10T00:00:00\", \"2018-10-11T00:00:00\", \"2018-10-12T00:00:00\", \"2018-10-15T00:00:00\", \"2018-10-16T00:00:00\", \"2018-10-17T00:00:00\", \"2018-10-18T00:00:00\", \"2018-10-19T00:00:00\", \"2018-10-22T00:00:00\", \"2018-10-23T00:00:00\", \"2018-10-24T00:00:00\", \"2018-10-25T00:00:00\", \"2018-10-26T00:00:00\", \"2018-10-29T00:00:00\", \"2018-10-30T00:00:00\", \"2018-10-31T00:00:00\", \"2018-11-01T00:00:00\", \"2018-11-02T00:00:00\", \"2018-11-05T00:00:00\", \"2018-11-06T00:00:00\", \"2018-11-07T00:00:00\", \"2018-11-08T00:00:00\", \"2018-11-09T00:00:00\", \"2018-11-12T00:00:00\", \"2018-11-13T00:00:00\", \"2018-11-14T00:00:00\", \"2018-11-15T00:00:00\", \"2018-11-16T00:00:00\", \"2018-11-19T00:00:00\", \"2018-11-20T00:00:00\", \"2018-11-21T00:00:00\", \"2018-11-23T00:00:00\", \"2018-11-26T00:00:00\", \"2018-11-27T00:00:00\", \"2018-11-28T00:00:00\", \"2018-11-29T00:00:00\", \"2018-11-30T00:00:00\", \"2018-12-03T00:00:00\", \"2018-12-04T00:00:00\", \"2018-12-06T00:00:00\", \"2018-12-07T00:00:00\", \"2018-12-10T00:00:00\", \"2018-12-11T00:00:00\", \"2018-12-12T00:00:00\", \"2018-12-13T00:00:00\", \"2018-12-14T00:00:00\", \"2018-12-17T00:00:00\", \"2018-12-18T00:00:00\", \"2018-12-19T00:00:00\", \"2018-12-20T00:00:00\", \"2018-12-21T00:00:00\", \"2018-12-24T00:00:00\", \"2018-12-26T00:00:00\", \"2018-12-27T00:00:00\", \"2018-12-28T00:00:00\", \"2018-12-31T00:00:00\", \"2019-01-02T00:00:00\", \"2019-01-03T00:00:00\", \"2019-01-04T00:00:00\", \"2019-01-07T00:00:00\", \"2019-01-08T00:00:00\", \"2019-01-09T00:00:00\", \"2019-01-10T00:00:00\", \"2019-01-11T00:00:00\", \"2019-01-14T00:00:00\", \"2019-01-15T00:00:00\", \"2019-01-16T00:00:00\", \"2019-01-17T00:00:00\", \"2019-01-18T00:00:00\", \"2019-01-22T00:00:00\", \"2019-01-23T00:00:00\", \"2019-01-24T00:00:00\", \"2019-01-25T00:00:00\", \"2019-01-28T00:00:00\", \"2019-01-29T00:00:00\", \"2019-01-30T00:00:00\", \"2019-01-31T00:00:00\", \"2019-02-01T00:00:00\", \"2019-02-04T00:00:00\", \"2019-02-05T00:00:00\", \"2019-02-06T00:00:00\", \"2019-02-07T00:00:00\", \"2019-02-08T00:00:00\", \"2019-02-11T00:00:00\", \"2019-02-12T00:00:00\", \"2019-02-13T00:00:00\", \"2019-02-14T00:00:00\", \"2019-02-15T00:00:00\", \"2019-02-19T00:00:00\", \"2019-02-20T00:00:00\", \"2019-02-21T00:00:00\", \"2019-02-22T00:00:00\", \"2019-02-25T00:00:00\", \"2019-02-26T00:00:00\", \"2019-02-27T00:00:00\", \"2019-02-28T00:00:00\", \"2019-03-01T00:00:00\", \"2019-03-04T00:00:00\", \"2019-03-05T00:00:00\", \"2019-03-06T00:00:00\", \"2019-03-07T00:00:00\", \"2019-03-08T00:00:00\", \"2019-03-11T00:00:00\", \"2019-03-12T00:00:00\", \"2019-03-13T00:00:00\", \"2019-03-14T00:00:00\", \"2019-03-15T00:00:00\", \"2019-03-18T00:00:00\", \"2019-03-19T00:00:00\", \"2019-03-20T00:00:00\", \"2019-03-21T00:00:00\", \"2019-03-22T00:00:00\", \"2019-03-25T00:00:00\", \"2019-03-26T00:00:00\", \"2019-03-27T00:00:00\", \"2019-03-28T00:00:00\", \"2019-03-29T00:00:00\", \"2019-04-01T00:00:00\", \"2019-04-02T00:00:00\", \"2019-04-03T00:00:00\", \"2019-04-04T00:00:00\", \"2019-04-05T00:00:00\", \"2019-04-08T00:00:00\", \"2019-04-09T00:00:00\", \"2019-04-10T00:00:00\", \"2019-04-11T00:00:00\", \"2019-04-12T00:00:00\", \"2019-04-15T00:00:00\", \"2019-04-16T00:00:00\", \"2019-04-17T00:00:00\", \"2019-04-18T00:00:00\", \"2019-04-22T00:00:00\", \"2019-04-23T00:00:00\", \"2019-04-24T00:00:00\", \"2019-04-25T00:00:00\", \"2019-04-26T00:00:00\", \"2019-04-29T00:00:00\", \"2019-04-30T00:00:00\", \"2019-05-01T00:00:00\", \"2019-05-02T00:00:00\", \"2019-05-03T00:00:00\", \"2019-05-06T00:00:00\", \"2019-05-07T00:00:00\", \"2019-05-08T00:00:00\", \"2019-05-09T00:00:00\", \"2019-05-10T00:00:00\", \"2019-05-13T00:00:00\", \"2019-05-14T00:00:00\", \"2019-05-15T00:00:00\", \"2019-05-16T00:00:00\", \"2019-05-17T00:00:00\", \"2019-05-20T00:00:00\", \"2019-05-21T00:00:00\", \"2019-05-22T00:00:00\", \"2019-05-23T00:00:00\", \"2019-05-24T00:00:00\", \"2019-05-28T00:00:00\", \"2019-05-29T00:00:00\", \"2019-05-30T00:00:00\", \"2019-05-31T00:00:00\", \"2019-06-03T00:00:00\", \"2019-06-04T00:00:00\", \"2019-06-05T00:00:00\", \"2019-06-06T00:00:00\", \"2019-06-07T00:00:00\", \"2019-06-10T00:00:00\", \"2019-06-11T00:00:00\", \"2019-06-12T00:00:00\", \"2019-06-13T00:00:00\", \"2019-06-14T00:00:00\", \"2019-06-17T00:00:00\", \"2019-06-18T00:00:00\", \"2019-06-19T00:00:00\", \"2019-06-20T00:00:00\", \"2019-06-21T00:00:00\", \"2019-06-24T00:00:00\", \"2019-06-25T00:00:00\", \"2019-06-26T00:00:00\", \"2019-06-27T00:00:00\", \"2019-06-28T00:00:00\", \"2019-07-01T00:00:00\", \"2019-07-02T00:00:00\", \"2019-07-03T00:00:00\", \"2019-07-05T00:00:00\", \"2019-07-08T00:00:00\", \"2019-07-09T00:00:00\", \"2019-07-10T00:00:00\", \"2019-07-11T00:00:00\", \"2019-07-12T00:00:00\", \"2019-07-15T00:00:00\", \"2019-07-16T00:00:00\", \"2019-07-17T00:00:00\", \"2019-07-18T00:00:00\", \"2019-07-19T00:00:00\", \"2019-07-22T00:00:00\", \"2019-07-23T00:00:00\", \"2019-07-24T00:00:00\", \"2019-07-25T00:00:00\", \"2019-07-26T00:00:00\", \"2019-07-29T00:00:00\", \"2019-07-30T00:00:00\", \"2019-07-31T00:00:00\", \"2019-08-01T00:00:00\", \"2019-08-02T00:00:00\", \"2019-08-05T00:00:00\", \"2019-08-06T00:00:00\", \"2019-08-07T00:00:00\", \"2019-08-08T00:00:00\", \"2019-08-09T00:00:00\", \"2019-08-12T00:00:00\", \"2019-08-13T00:00:00\", \"2019-08-14T00:00:00\", \"2019-08-15T00:00:00\", \"2019-08-16T00:00:00\", \"2019-08-19T00:00:00\", \"2019-08-20T00:00:00\", \"2019-08-21T00:00:00\", \"2019-08-22T00:00:00\", \"2019-08-23T00:00:00\", \"2019-08-26T00:00:00\", \"2019-08-27T00:00:00\", \"2019-08-28T00:00:00\", \"2019-08-29T00:00:00\", \"2019-08-30T00:00:00\", \"2019-09-03T00:00:00\", \"2019-09-04T00:00:00\", \"2019-09-05T00:00:00\", \"2019-09-06T00:00:00\", \"2019-09-09T00:00:00\", \"2019-09-10T00:00:00\", \"2019-09-11T00:00:00\", \"2019-09-12T00:00:00\", \"2019-09-13T00:00:00\", \"2019-09-16T00:00:00\", \"2019-09-17T00:00:00\", \"2019-09-18T00:00:00\", \"2019-09-19T00:00:00\", \"2019-09-20T00:00:00\", \"2019-09-23T00:00:00\", \"2019-09-24T00:00:00\", \"2019-09-25T00:00:00\", \"2019-09-26T00:00:00\", \"2019-09-27T00:00:00\", \"2019-09-30T00:00:00\", \"2019-10-01T00:00:00\", \"2019-10-02T00:00:00\", \"2019-10-03T00:00:00\", \"2019-10-04T00:00:00\", \"2019-10-07T00:00:00\", \"2019-10-08T00:00:00\", \"2019-10-09T00:00:00\", \"2019-10-10T00:00:00\", \"2019-10-11T00:00:00\", \"2019-10-14T00:00:00\", \"2019-10-15T00:00:00\", \"2019-10-16T00:00:00\", \"2019-10-17T00:00:00\", \"2019-10-18T00:00:00\", \"2019-10-21T00:00:00\", \"2019-10-22T00:00:00\", \"2019-10-23T00:00:00\", \"2019-10-24T00:00:00\", \"2019-10-25T00:00:00\", \"2019-10-28T00:00:00\", \"2019-10-29T00:00:00\", \"2019-10-30T00:00:00\", \"2019-10-31T00:00:00\", \"2019-11-01T00:00:00\", \"2019-11-04T00:00:00\", \"2019-11-05T00:00:00\", \"2019-11-06T00:00:00\", \"2019-11-07T00:00:00\", \"2019-11-08T00:00:00\", \"2019-11-11T00:00:00\", \"2019-11-12T00:00:00\", \"2019-11-13T00:00:00\", \"2019-11-14T00:00:00\", \"2019-11-15T00:00:00\", \"2019-11-18T00:00:00\", \"2019-11-19T00:00:00\", \"2019-11-20T00:00:00\", \"2019-11-21T00:00:00\", \"2019-11-22T00:00:00\", \"2019-11-25T00:00:00\", \"2019-11-26T00:00:00\", \"2019-11-27T00:00:00\", \"2019-11-29T00:00:00\", \"2019-12-02T00:00:00\", \"2019-12-03T00:00:00\", \"2019-12-04T00:00:00\", \"2019-12-05T00:00:00\", \"2019-12-06T00:00:00\", \"2019-12-09T00:00:00\", \"2019-12-10T00:00:00\", \"2019-12-11T00:00:00\", \"2019-12-12T00:00:00\", \"2019-12-13T00:00:00\", \"2019-12-16T00:00:00\", \"2019-12-17T00:00:00\", \"2019-12-18T00:00:00\", \"2019-12-19T00:00:00\", \"2019-12-20T00:00:00\", \"2019-12-23T00:00:00\", \"2019-12-24T00:00:00\", \"2019-12-26T00:00:00\", \"2019-12-27T00:00:00\", \"2019-12-30T00:00:00\", \"2019-12-31T00:00:00\", \"2020-01-02T00:00:00\", \"2020-01-03T00:00:00\", \"2020-01-06T00:00:00\", \"2020-01-07T00:00:00\", \"2020-01-08T00:00:00\", \"2020-01-09T00:00:00\", \"2020-01-10T00:00:00\", \"2020-01-13T00:00:00\", \"2020-01-14T00:00:00\", \"2020-01-15T00:00:00\", \"2020-01-16T00:00:00\", \"2020-01-17T00:00:00\", \"2020-01-21T00:00:00\", \"2020-01-22T00:00:00\", \"2020-01-23T00:00:00\", \"2020-01-24T00:00:00\", \"2020-01-27T00:00:00\", \"2020-01-28T00:00:00\", \"2020-01-29T00:00:00\", \"2020-01-30T00:00:00\", \"2020-01-31T00:00:00\", \"2020-02-03T00:00:00\", \"2020-02-04T00:00:00\", \"2020-02-05T00:00:00\", \"2020-02-06T00:00:00\", \"2020-02-07T00:00:00\", \"2020-02-10T00:00:00\", \"2020-02-11T00:00:00\", \"2020-02-12T00:00:00\", \"2020-02-13T00:00:00\", \"2020-02-14T00:00:00\", \"2020-02-18T00:00:00\", \"2020-02-19T00:00:00\", \"2020-02-20T00:00:00\", \"2020-02-21T00:00:00\", \"2020-02-24T00:00:00\", \"2020-02-25T00:00:00\", \"2020-02-26T00:00:00\", \"2020-02-27T00:00:00\", \"2020-02-28T00:00:00\", \"2020-03-02T00:00:00\", \"2020-03-03T00:00:00\", \"2020-03-04T00:00:00\", \"2020-03-05T00:00:00\", \"2020-03-06T00:00:00\", \"2020-03-09T00:00:00\", \"2020-03-10T00:00:00\", \"2020-03-11T00:00:00\", \"2020-03-12T00:00:00\", \"2020-03-13T00:00:00\", \"2020-03-16T00:00:00\", \"2020-03-17T00:00:00\", \"2020-03-18T00:00:00\", \"2020-03-19T00:00:00\", \"2020-03-20T00:00:00\", \"2020-03-23T00:00:00\", \"2020-03-24T00:00:00\", \"2020-03-25T00:00:00\", \"2020-03-26T00:00:00\", \"2020-03-27T00:00:00\", \"2020-03-30T00:00:00\", \"2020-03-31T00:00:00\", \"2020-04-01T00:00:00\", \"2020-04-02T00:00:00\", \"2020-04-03T00:00:00\", \"2020-04-06T00:00:00\", \"2020-04-07T00:00:00\", \"2020-04-08T00:00:00\", \"2020-04-09T00:00:00\", \"2020-04-13T00:00:00\", \"2020-04-14T00:00:00\", \"2020-04-15T00:00:00\", \"2020-04-16T00:00:00\", \"2020-04-17T00:00:00\", \"2020-04-20T00:00:00\", \"2020-04-21T00:00:00\", \"2020-04-22T00:00:00\", \"2020-04-23T00:00:00\", \"2020-04-24T00:00:00\", \"2020-04-27T00:00:00\", \"2020-04-28T00:00:00\", \"2020-04-29T00:00:00\", \"2020-04-30T00:00:00\", \"2020-05-01T00:00:00\", \"2020-05-04T00:00:00\", \"2020-05-05T00:00:00\", \"2020-05-06T00:00:00\", \"2020-05-07T00:00:00\", \"2020-05-08T00:00:00\", \"2020-05-11T00:00:00\", \"2020-05-12T00:00:00\", \"2020-05-13T00:00:00\", \"2020-05-14T00:00:00\", \"2020-05-15T00:00:00\", \"2020-05-18T00:00:00\", \"2020-05-19T00:00:00\", \"2020-05-20T00:00:00\", \"2020-05-21T00:00:00\", \"2020-05-22T00:00:00\", \"2020-05-26T00:00:00\", \"2020-05-27T00:00:00\", \"2020-05-28T00:00:00\", \"2020-05-29T00:00:00\", \"2020-06-01T00:00:00\", \"2020-06-02T00:00:00\", \"2020-06-03T00:00:00\", \"2020-06-04T00:00:00\", \"2020-06-05T00:00:00\", \"2020-06-08T00:00:00\", \"2020-06-09T00:00:00\", \"2020-06-10T00:00:00\", \"2020-06-11T00:00:00\", \"2020-06-12T00:00:00\", \"2020-06-15T00:00:00\", \"2020-06-16T00:00:00\", \"2020-06-17T00:00:00\", \"2020-06-18T00:00:00\", \"2020-06-19T00:00:00\", \"2020-06-22T00:00:00\", \"2020-06-23T00:00:00\", \"2020-06-24T00:00:00\", \"2020-06-25T00:00:00\", \"2020-06-26T00:00:00\", \"2020-06-29T00:00:00\", \"2020-06-30T00:00:00\", \"2020-07-01T00:00:00\", \"2020-07-02T00:00:00\", \"2020-07-06T00:00:00\", \"2020-07-07T00:00:00\", \"2020-07-08T00:00:00\", \"2020-07-09T00:00:00\", \"2020-07-10T00:00:00\", \"2020-07-13T00:00:00\", \"2020-07-14T00:00:00\", \"2020-07-15T00:00:00\", \"2020-07-16T00:00:00\", \"2020-07-17T00:00:00\", \"2020-07-20T00:00:00\", \"2020-07-21T00:00:00\", \"2020-07-22T00:00:00\", \"2020-07-23T00:00:00\", \"2020-07-24T00:00:00\", \"2020-07-27T00:00:00\", \"2020-07-28T00:00:00\", \"2020-07-29T00:00:00\", \"2020-07-30T00:00:00\", \"2020-07-31T00:00:00\", \"2020-08-03T00:00:00\", \"2020-08-04T00:00:00\", \"2020-08-05T00:00:00\", \"2020-08-06T00:00:00\", \"2020-08-07T00:00:00\", \"2020-08-10T00:00:00\", \"2020-08-11T00:00:00\", \"2020-08-12T00:00:00\", \"2020-08-13T00:00:00\", \"2020-08-14T00:00:00\", \"2020-08-17T00:00:00\", \"2020-08-18T00:00:00\", \"2020-08-19T00:00:00\", \"2020-08-20T00:00:00\", \"2020-08-21T00:00:00\", \"2020-08-24T00:00:00\", \"2020-08-25T00:00:00\", \"2020-08-26T00:00:00\", \"2020-08-27T00:00:00\", \"2020-08-28T00:00:00\", \"2020-08-31T00:00:00\", \"2020-09-01T00:00:00\", \"2020-09-02T00:00:00\", \"2020-09-03T00:00:00\", \"2020-09-04T00:00:00\", \"2020-09-08T00:00:00\", \"2020-09-09T00:00:00\", \"2020-09-10T00:00:00\", \"2020-09-11T00:00:00\", \"2020-09-14T00:00:00\", \"2020-09-15T00:00:00\", \"2020-09-16T00:00:00\", \"2020-09-17T00:00:00\", \"2020-09-18T00:00:00\", \"2020-09-21T00:00:00\", \"2020-09-22T00:00:00\", \"2020-09-23T00:00:00\", \"2020-09-24T00:00:00\", \"2020-09-25T00:00:00\", \"2020-09-28T00:00:00\", \"2020-09-29T00:00:00\", \"2020-09-30T00:00:00\", \"2020-10-01T00:00:00\", \"2020-10-02T00:00:00\", \"2020-10-05T00:00:00\", \"2020-10-06T00:00:00\", \"2020-10-07T00:00:00\", \"2020-10-08T00:00:00\", \"2020-10-09T00:00:00\", \"2020-10-12T00:00:00\", \"2020-10-13T00:00:00\", \"2020-10-14T00:00:00\", \"2020-10-15T00:00:00\", \"2020-10-16T00:00:00\", \"2020-10-19T00:00:00\", \"2020-10-20T00:00:00\", \"2020-10-21T00:00:00\", \"2020-10-22T00:00:00\", \"2020-10-23T00:00:00\", \"2020-10-26T00:00:00\", \"2020-10-27T00:00:00\", \"2020-10-28T00:00:00\", \"2020-10-29T00:00:00\", \"2020-10-30T00:00:00\", \"2020-11-02T00:00:00\", \"2020-11-03T00:00:00\", \"2020-11-04T00:00:00\", \"2020-11-05T00:00:00\", \"2020-11-06T00:00:00\", \"2020-11-09T00:00:00\", \"2020-11-10T00:00:00\", \"2020-11-11T00:00:00\", \"2020-11-12T00:00:00\", \"2020-11-13T00:00:00\", \"2020-11-16T00:00:00\", \"2020-11-17T00:00:00\", \"2020-11-18T00:00:00\", \"2020-11-19T00:00:00\", \"2020-11-20T00:00:00\", \"2020-11-23T00:00:00\", \"2020-11-24T00:00:00\", \"2020-11-25T00:00:00\", \"2020-11-27T00:00:00\", \"2020-11-30T00:00:00\", \"2020-12-01T00:00:00\", \"2020-12-02T00:00:00\", \"2020-12-03T00:00:00\", \"2020-12-04T00:00:00\", \"2020-12-07T00:00:00\", \"2020-12-08T00:00:00\", \"2020-12-09T00:00:00\", \"2020-12-10T00:00:00\", \"2020-12-11T00:00:00\", \"2020-12-14T00:00:00\", \"2020-12-15T00:00:00\", \"2020-12-16T00:00:00\", \"2020-12-17T00:00:00\", \"2020-12-18T00:00:00\", \"2020-12-21T00:00:00\", \"2020-12-22T00:00:00\", \"2020-12-23T00:00:00\", \"2020-12-24T00:00:00\", \"2020-12-28T00:00:00\", \"2020-12-29T00:00:00\", \"2020-12-30T00:00:00\", \"2020-12-31T00:00:00\", \"2021-01-04T00:00:00\", \"2021-01-05T00:00:00\", \"2021-01-06T00:00:00\", \"2021-01-07T00:00:00\", \"2021-01-08T00:00:00\", \"2021-01-11T00:00:00\", \"2021-01-12T00:00:00\", \"2021-01-13T00:00:00\", \"2021-01-14T00:00:00\", \"2021-01-15T00:00:00\", \"2021-01-19T00:00:00\", \"2021-01-20T00:00:00\", \"2021-01-21T00:00:00\", \"2021-01-22T00:00:00\", \"2021-01-25T00:00:00\", \"2021-01-26T00:00:00\", \"2021-01-27T00:00:00\", \"2021-01-28T00:00:00\", \"2021-01-29T00:00:00\", \"2021-02-01T00:00:00\", \"2021-02-02T00:00:00\", \"2021-02-03T00:00:00\", \"2021-02-04T00:00:00\", \"2021-02-05T00:00:00\", \"2021-02-08T00:00:00\", \"2021-02-09T00:00:00\", \"2021-02-10T00:00:00\", \"2021-02-11T00:00:00\", \"2021-02-12T00:00:00\", \"2021-02-16T00:00:00\", \"2021-02-17T00:00:00\", \"2021-02-18T00:00:00\", \"2021-02-19T00:00:00\", \"2021-02-22T00:00:00\", \"2021-02-23T00:00:00\", \"2021-02-24T00:00:00\", \"2021-02-25T00:00:00\", \"2021-02-26T00:00:00\", \"2021-03-01T00:00:00\", \"2021-03-02T00:00:00\", \"2021-03-03T00:00:00\", \"2021-03-04T00:00:00\", \"2021-03-05T00:00:00\", \"2021-03-08T00:00:00\", \"2021-03-09T00:00:00\", \"2021-03-10T00:00:00\", \"2021-03-11T00:00:00\", \"2021-03-12T00:00:00\", \"2021-03-15T00:00:00\", \"2021-03-16T00:00:00\", \"2021-03-17T00:00:00\", \"2021-03-18T00:00:00\", \"2021-03-19T00:00:00\", \"2021-03-22T00:00:00\", \"2021-03-23T00:00:00\", \"2021-03-24T00:00:00\", \"2021-03-25T00:00:00\", \"2021-03-26T00:00:00\", \"2021-03-29T00:00:00\", \"2021-03-30T00:00:00\", \"2021-03-31T00:00:00\", \"2021-04-01T00:00:00\", \"2021-04-05T00:00:00\", \"2021-04-06T00:00:00\", \"2021-04-07T00:00:00\", \"2021-04-08T00:00:00\", \"2021-04-09T00:00:00\", \"2021-04-12T00:00:00\", \"2021-04-13T00:00:00\", \"2021-04-14T00:00:00\", \"2021-04-15T00:00:00\", \"2021-04-16T00:00:00\", \"2021-04-19T00:00:00\", \"2021-04-20T00:00:00\", \"2021-04-21T00:00:00\", \"2021-04-22T00:00:00\", \"2021-04-23T00:00:00\", \"2021-04-26T00:00:00\", \"2021-04-27T00:00:00\", \"2021-04-28T00:00:00\", \"2021-04-29T00:00:00\", \"2021-04-30T00:00:00\", \"2021-05-03T00:00:00\", \"2021-05-04T00:00:00\", \"2021-05-05T00:00:00\", \"2021-05-06T00:00:00\", \"2021-05-07T00:00:00\", \"2021-05-10T00:00:00\", \"2021-05-11T00:00:00\", \"2021-05-12T00:00:00\", \"2021-05-13T00:00:00\", \"2021-05-14T00:00:00\", \"2021-05-17T00:00:00\", \"2021-05-18T00:00:00\", \"2021-05-19T00:00:00\", \"2021-05-20T00:00:00\", \"2021-05-21T00:00:00\", \"2021-05-24T00:00:00\", \"2021-05-25T00:00:00\", \"2021-05-26T00:00:00\", \"2021-05-27T00:00:00\", \"2021-05-28T00:00:00\", \"2021-06-01T00:00:00\", \"2021-06-02T00:00:00\", \"2021-06-03T00:00:00\", \"2021-06-04T00:00:00\", \"2021-06-07T00:00:00\", \"2021-06-08T00:00:00\", \"2021-06-09T00:00:00\", \"2021-06-10T00:00:00\", \"2021-06-11T00:00:00\", \"2021-06-14T00:00:00\", \"2021-06-15T00:00:00\", \"2021-06-16T00:00:00\", \"2021-06-17T00:00:00\", \"2021-06-18T00:00:00\", \"2021-06-21T00:00:00\", \"2021-06-22T00:00:00\", \"2021-06-23T00:00:00\", \"2021-06-24T00:00:00\", \"2021-06-25T00:00:00\", \"2021-06-28T00:00:00\", \"2021-06-29T00:00:00\", \"2021-06-30T00:00:00\", \"2021-07-01T00:00:00\", \"2021-07-02T00:00:00\", \"2021-07-06T00:00:00\", \"2021-07-07T00:00:00\", \"2021-07-08T00:00:00\", \"2021-07-09T00:00:00\", \"2021-07-12T00:00:00\", \"2021-07-13T00:00:00\", \"2021-07-14T00:00:00\", \"2021-07-15T00:00:00\", \"2021-07-16T00:00:00\", \"2021-07-19T00:00:00\", \"2021-07-20T00:00:00\", \"2021-07-21T00:00:00\", \"2021-07-22T00:00:00\", \"2021-07-23T00:00:00\", \"2021-07-26T00:00:00\", \"2021-07-27T00:00:00\", \"2021-07-28T00:00:00\", \"2021-07-29T00:00:00\", \"2021-07-30T00:00:00\", \"2021-08-02T00:00:00\", \"2021-08-03T00:00:00\", \"2021-08-04T00:00:00\", \"2021-08-05T00:00:00\", \"2021-08-06T00:00:00\", \"2021-08-09T00:00:00\", \"2021-08-10T00:00:00\", \"2021-08-11T00:00:00\", \"2021-08-12T00:00:00\", \"2021-08-13T00:00:00\", \"2021-08-16T00:00:00\", \"2021-08-17T00:00:00\", \"2021-08-18T00:00:00\", \"2021-08-19T00:00:00\", \"2021-08-20T00:00:00\", \"2021-08-23T00:00:00\", \"2021-08-24T00:00:00\", \"2021-08-25T00:00:00\", \"2021-08-26T00:00:00\", \"2021-08-27T00:00:00\", \"2021-08-30T00:00:00\", \"2021-08-31T00:00:00\", \"2021-09-01T00:00:00\", \"2021-09-02T00:00:00\", \"2021-09-03T00:00:00\", \"2021-09-07T00:00:00\", \"2021-09-08T00:00:00\", \"2021-09-09T00:00:00\", \"2021-09-10T00:00:00\", \"2021-09-13T00:00:00\", \"2021-09-14T00:00:00\", \"2021-09-15T00:00:00\", \"2021-09-16T00:00:00\", \"2021-09-17T00:00:00\", \"2021-09-20T00:00:00\", \"2021-09-21T00:00:00\", \"2021-09-22T00:00:00\", \"2021-09-23T00:00:00\", \"2021-09-24T00:00:00\", \"2021-09-27T00:00:00\", \"2021-09-28T00:00:00\", \"2021-09-29T00:00:00\", \"2021-09-30T00:00:00\", \"2021-10-01T00:00:00\", \"2021-10-04T00:00:00\", \"2021-10-05T00:00:00\", \"2021-10-06T00:00:00\", \"2021-10-07T00:00:00\", \"2021-10-08T00:00:00\", \"2021-10-11T00:00:00\", \"2021-10-12T00:00:00\", \"2021-10-13T00:00:00\", \"2021-10-14T00:00:00\", \"2021-10-15T00:00:00\", \"2021-10-18T00:00:00\", \"2021-10-19T00:00:00\", \"2021-10-20T00:00:00\", \"2021-10-21T00:00:00\", \"2021-10-22T00:00:00\", \"2021-10-25T00:00:00\", \"2021-10-26T00:00:00\", \"2021-10-27T00:00:00\", \"2021-10-28T00:00:00\", \"2021-10-29T00:00:00\", \"2021-11-01T00:00:00\", \"2021-11-02T00:00:00\", \"2021-11-03T00:00:00\", \"2021-11-04T00:00:00\", \"2021-11-05T00:00:00\", \"2021-11-08T00:00:00\", \"2021-11-09T00:00:00\", \"2021-11-10T00:00:00\", \"2021-11-11T00:00:00\", \"2021-11-12T00:00:00\", \"2021-11-15T00:00:00\", \"2021-11-16T00:00:00\", \"2021-11-17T00:00:00\", \"2021-11-18T00:00:00\", \"2021-11-19T00:00:00\", \"2021-11-22T00:00:00\", \"2021-11-23T00:00:00\", \"2021-11-24T00:00:00\", \"2021-11-26T00:00:00\", \"2021-11-29T00:00:00\", \"2021-11-30T00:00:00\", \"2021-12-01T00:00:00\", \"2021-12-02T00:00:00\", \"2021-12-03T00:00:00\", \"2021-12-06T00:00:00\", \"2021-12-07T00:00:00\", \"2021-12-08T00:00:00\", \"2021-12-09T00:00:00\", \"2021-12-10T00:00:00\", \"2021-12-13T00:00:00\", \"2021-12-14T00:00:00\", \"2021-12-15T00:00:00\", \"2021-12-16T00:00:00\", \"2021-12-17T00:00:00\", \"2021-12-20T00:00:00\", \"2021-12-21T00:00:00\", \"2021-12-22T00:00:00\", \"2021-12-23T00:00:00\", \"2021-12-27T00:00:00\", \"2021-12-28T00:00:00\", \"2021-12-29T00:00:00\", \"2021-12-30T00:00:00\", \"2021-12-31T00:00:00\", \"2022-01-03T00:00:00\", \"2022-01-04T00:00:00\", \"2022-01-05T00:00:00\", \"2022-01-06T00:00:00\", \"2022-01-07T00:00:00\", \"2022-01-10T00:00:00\", \"2022-01-11T00:00:00\", \"2022-01-12T00:00:00\", \"2022-01-13T00:00:00\", \"2022-01-14T00:00:00\", \"2022-01-18T00:00:00\", \"2022-01-19T00:00:00\", \"2022-01-20T00:00:00\", \"2022-01-21T00:00:00\"], \"y\": [1588300, 1565900, 1302600, 1512500, 1232200, 1340400, 1036700, 1121200, 1929300, 1823100, 1391500, 1374900, 1527600, 1477500, 1956900, 1856400, 1499200, 2108500, 1574700, 1866900, 1801100, 3675700, 5892100, 4177500, 3831500, 2597100, 3339600, 4918000, 2812000, 1579300, 2065200, 1869800, 1997400, 1687700, 2074300, 1400500, 1264600, 1545600, 2148200, 2464600, 2766900, 2508100, 1432400, 1169100, 1537400, 1693100, 2133100, 2215300, 2157000, 2093500, 1669100, 2932800, 3182800, 2729900, 2244900, 3465600, 2494000, 3299200, 3040800, 3884900, 3466900, 3253400, 2566100, 2536200, 1791800, 2006700, 1661000, 1831000, 1703000, 1644800, 1270500, 1488800, 2729200, 1556300, 1994200, 2121700, 3479500, 6411000, 2893000, 2546300, 2037300, 1724600, 1766300, 1734900, 1964100, 1844600, 1720000, 1301500, 2358000, 1820700, 1525200, 1966900, 1786900, 1281400, 1286900, 1774100, 1259000, 1111300, 1187000, 1030200, 1111200, 1803800, 1434300, 3968400, 3160100, 2237700, 1648200, 1746700, 1805400, 1364200, 1239800, 1304600, 1715100, 1771100, 2221900, 1651900, 2364100, 2584300, 2248300, 1711000, 2884100, 1734400, 1726900, 1486300, 1578100, 1160800, 822400, 1429700, 1091000, 1079200, 1066700, 1662600, 2207400, 1630600, 1339200, 2008100, 1947400, 1916900, 1896900, 3272300, 5380000, 2555200, 2734300, 2418100, 2194800, 1969100, 1849700, 1735200, 1063200, 1105700, 2125300, 1717200, 1366300, 1330100, 1375000, 1404000, 1852600, 1608800, 1654600, 1110900, 1154100, 1114800, 1233300, 1222700, 1429000, 1366500, 1846300, 1505200, 2115400, 2072900, 2699400, 2342700, 1632900, 1383500, 1462700, 1785800, 2003400, 1208800, 1704800, 1615700, 1298100, 1462200, 4561100, 1557500, 1657600, 1882500, 1813700, 1780600, 1658200, 2009000, 1312300, 2328800, 1592600, 2309500, 1684500, 2949000, 3384800, 2468500, 1503700, 1918900, 1782600, 2307600, 2064300, 1355800, 1884300, 2464300, 3647800, 5321900, 4064500, 2988400, 3545800, 2006600, 2171900, 2267900, 1433000, 2169400, 1684700, 1743000, 1700100, 1287500, 1733300, 2079200, 1768300, 2284200, 2722900, 1484900, 708900, 1577900, 1652400, 2302100, 1550200, 2983400, 2876600, 2281500, 2371800, 2134100, 1682600, 1692600, 1448000, 1249300, 1817900, 2496600, 2182000, 2913200, 2683700, 5232800, 1818000, 2315900, 2299800, 1719900, 1655500, 1593400, 2098000, 2301100, 2372300, 1770700, 1349900, 1329900, 1543200, 1424500, 1875900, 1914000, 1244800, 2244600, 1981600, 1259700, 1455700, 1163000, 1466700, 985200, 1472600, 2011600, 1655800, 3920400, 4114800, 2412800, 1914900, 1088300, 924900, 1751800, 1402100, 1055300, 1391300, 1099000, 1204500, 1663600, 1471800, 1310400, 1751300, 1104600, 1371100, 1704300, 1774500, 2004700, 1180100, 1504300, 1184700, 1501600, 2111000, 1294400, 1365100, 2594300, 1222100, 1489400, 2075400, 1407500, 1721100, 1378800, 1537600, 1471400, 1120100, 1544500, 1385300, 914400, 1109000, 1051100, 1000600, 1087500, 983400, 775500, 849900, 1215600, 1189800, 1131100, 1518300, 1237500, 954200, 1593400, 1169800, 1567200, 1361400, 3618400, 6658900, 3717000, 2254900, 2079400, 1588700, 1830200, 1276000, 1477800, 1582500, 2281300, 2019600, 2965100, 1765400, 1268100, 1530100, 1028100, 941300, 1260700, 927700, 1047400, 1811500, 904400, 1579100, 4844500, 3025600, 2349400, 1451000, 2191400, 1425500, 1675400, 1183500, 1040700, 1229100, 988500, 1726300, 1335700, 1200900, 2538700, 1211800, 1582200, 1734900, 1203900, 1683600, 1459800, 1031500, 1007700, 1489700, 1494400, 1473600, 1535500, 1300200, 1093900, 1058200, 1267600, 976900, 1272500, 1159200, 1445700, 1032400, 1359600, 2738100, 6060800, 2069100, 1430800, 1998000, 1771300, 1745500, 2392000, 1800700, 1534300, 1505800, 1020900, 1103200, 1421700, 1771500, 1425300, 1245800, 1222500, 1010300, 707600, 867600, 1812700, 1058300, 1173000, 840500, 981800, 903200, 1295400, 1065600, 1319700, 948600, 1592700, 1396100, 1176100, 1582200, 1183800, 1410900, 1040300, 872000, 827700, 1884600, 1039900, 1790200, 1339900, 1158300, 1706100, 1223500, 1225200, 1651500, 1418400, 1214100, 852000, 1004300, 797400, 642100, 1116500, 664800, 1379200, 1149300, 1047900, 1581200, 904700, 1143100, 1064100, 1011200, 1355200, 3271400, 2632700, 1460200, 1595200, 1440600, 1531600, 1257400, 1231300, 2257000, 1519600, 861700, 1442600, 1026900, 1447400, 1964300, 1399200, 1093200, 1444600, 1277300, 1388800, 1179500, 1095500, 940400, 640100, 1326900, 1263500, 1775300, 1220400, 1648400, 1542100, 880300, 1024000, 1455700, 1658500, 1406400, 1647400, 1166500, 1446100, 2504500, 996800, 673400, 1183100, 1160600, 999700, 975700, 1363900, 1170400, 2338400, 1716500, 1765700, 1660000, 1312900, 1536500, 1303800, 1077500, 1304000, 2621200, 2446500, 1422900, 1332500, 1489300, 1706600, 1486200, 1078300, 1355500, 2191100, 3581800, 4794000, 1818800, 1891100, 1418000, 1915100, 1742600, 1552100, 1145700, 1159900, 1282100, 1137300, 1298100, 2126000, 2478000, 2579000, 2488800, 3114500, 4009900, 2771500, 2830100, 2379900, 2719000, 3232000, 3462600, 2743600, 2736600, 4716300, 3970000, 4826000, 4159700, 4652200, 3703200, 4143900, 4183600, 3623400, 4516200, 3828100, 3139700, 2936800, 3261400, 2598500, 2820500, 2568700, 3166000, 3081000, 2016700, 2701400, 1935100, 3167900, 2111800, 2894800, 2552500, 1764600, 2482400, 2314800, 1710100, 1870100, 2209300, 4035000, 5417900, 2792100, 2443600, 1540300, 1983300, 1586600, 1532600, 1666300, 1635900, 1695900, 2018400, 1833000, 2077200, 2354700, 1579300, 1913100, 1544700, 1427200, 2229500, 1584200, 1758500, 1852200, 1258100, 1172100, 1386600, 1349100, 2132100, 1693900, 1681200, 1588100, 2357200, 1833800, 1523400, 1532400, 1530500, 1743100, 2639200, 1472100, 1887600, 1579600, 1197900, 4882000, 2253700, 2014300, 2109100, 2860900, 2235600, 2118200, 1588300, 2091800, 1795900, 2147700, 1905400, 1551300, 1324200, 1713200, 1508300, 1374300, 1224100, 1695500, 1495100, 1356200, 1545500, 1133800, 1802100, 4573400, 2274100, 1860600, 1456700, 1665300, 1385900, 1027300, 1554900, 1125600, 1119400, 1097100, 999500, 1418900, 1523600, 1319100, 1741900, 1281900, 1257500, 2609400, 1567500, 1120900, 1321100, 1132600, 2476100, 3186300, 2792500, 2701600, 1962100, 1651200, 1535300, 2133000, 1152100, 1106400, 2000400, 3152800, 2845400, 1697500, 1886300, 1727600, 1516300, 1539200, 1590800, 2046200, 1644200, 1561100, 1080100, 1304800, 1805400, 1303800, 1648300, 2767200, 1953600, 1658700, 1560500, 1709700, 1486700, 2083500, 3016100, 1525600, 1527400, 1791300, 1295100, 2258700, 2770300, 4993900, 2211400, 1571600, 3567100, 1987900, 1431100, 2672000, 2151100, 1591900, 1323700, 1487200, 1273400, 1065700, 1005400, 1005300, 1384700, 1126500, 1399200, 980000, 739500, 1620900, 1867500, 1471200, 1236400, 1027200, 1114400, 996800, 1586400, 1434400, 931400, 1652500, 1067600, 1233800, 1744000, 4262800, 1698700, 1018500, 1148700, 465600, 1382500, 986300, 1051300, 1053500, 1866200, 1018000, 2329400, 2096800, 1774200, 1739800, 1476400, 1171600, 1460600, 1572200, 2083000, 3207600, 2931700, 1637200, 2529300, 1573100, 4125600, 2763900, 2226500, 2012600, 3316600, 4894100, 2429800, 1493300, 1441400, 1094600, 1255100, 1024000, 949500, 1550200, 1014700, 1127300, 1896900, 1473300, 1732900, 1130400, 2077400, 2002100, 1303000, 1278200, 1694600, 2460800, 2655000, 1843400, 1696000, 1355000, 1385100, 1690900, 1308400, 1595000, 1319100, 1585000, 2303600, 1676800, 1425500, 1260900, 1780800, 1398900, 1324600, 1365600, 2128500, 1994000, 2425500, 1762000, 1206700, 1433200, 1307300, 1251200, 1284100, 1050100, 1458700, 1314100, 1514500, 1114400, 1160200, 1207300, 1453300, 1601900, 2219300, 4055300, 2061700, 2242800, 1412100, 2240900, 1331800, 1259500, 1444900, 1545700, 1709300, 2318800, 1660200, 1599800, 1079900, 1110200, 1184200, 1617600, 2031600, 1591600, 1122000, 1078600, 1761200, 1074100, 1167700, 1057900, 934800, 1222900, 1206000, 1212000, 897100, 1295200, 1097900, 1104900, 1078100, 1323600, 1292100, 2305800, 1370700, 1119500, 957400, 1068100, 1729700, 1426300, 1155400, 1223700, 905500, 1299100, 1320200, 1203000, 1189500, 931600, 883400, 962000, 1187100, 1210900, 1021200, 1398400, 1315600, 1037300, 715100, 2075300, 1528600, 2735500, 4756500, 1585800, 1278200, 1081700, 1038100, 983800, 893500, 1023700, 888000, 970700, 767600, 825300, 797000, 1119200, 1085800, 962900, 1089100, 1558600, 1422700, 963400, 792400, 1030500, 1438600, 1221700, 1122400, 1096800, 1617100, 992500, 1006200, 917200, 765700, 1840700, 1104700, 983700, 1370400, 1309500, 2669200, 2325900, 1266600, 1252800, 1047600, 1149200, 1094100, 2288600, 1542400, 1899800, 1768000, 2560100, 1620200, 1218200, 1255500, 1325200, 897700, 1816600, 982700, 1594700, 1512900, 1019800, 1008200, 1164400, 1314600, 2529400, 1720600, 2461800, 4289100, 1810300, 2166000, 2346200, 1674100, 1374700, 1920600, 1915800, 1152600, 976500, 1498500, 825900, 1116900, 1175400, 945200, 979700, 1780400, 1684100, 1529700, 1360900, 902000, 1523500, 1629800, 2103400, 1701000, 1459700, 2060800, 1530900, 1612000, 1213500, 1163500, 1222900, 1353500, 1922300, 1818500, 1682500, 2520800, 1359600, 1437800, 1316100, 1319200, 798800, 910000, 889400, 784400, 906800, 1432300, 1420000, 2730900, 1867400, 1487700, 2220400, 1436500, 1305400, 1571800, 1482100, 1743600, 1432400, 1495400, 2774100]}],\n",
              "                        {\"height\": 500, \"template\": {\"data\": {\"bar\": [{\"error_x\": {\"color\": \"#2a3f5f\"}, \"error_y\": {\"color\": \"#2a3f5f\"}, \"marker\": {\"line\": {\"color\": \"#E5ECF6\", \"width\": 0.5}}, \"type\": \"bar\"}], \"barpolar\": [{\"marker\": {\"line\": {\"color\": \"#E5ECF6\", \"width\": 0.5}}, \"type\": \"barpolar\"}], \"carpet\": [{\"aaxis\": {\"endlinecolor\": \"#2a3f5f\", \"gridcolor\": \"white\", \"linecolor\": \"white\", \"minorgridcolor\": \"white\", \"startlinecolor\": \"#2a3f5f\"}, \"baxis\": {\"endlinecolor\": \"#2a3f5f\", \"gridcolor\": \"white\", \"linecolor\": \"white\", \"minorgridcolor\": \"white\", \"startlinecolor\": \"#2a3f5f\"}, \"type\": \"carpet\"}], \"choropleth\": [{\"colorbar\": {\"outlinewidth\": 0, \"ticks\": \"\"}, \"type\": \"choropleth\"}], \"contour\": [{\"colorbar\": {\"outlinewidth\": 0, \"ticks\": \"\"}, \"colorscale\": [[0.0, \"#0d0887\"], [0.1111111111111111, \"#46039f\"], [0.2222222222222222, \"#7201a8\"], [0.3333333333333333, \"#9c179e\"], [0.4444444444444444, \"#bd3786\"], [0.5555555555555556, \"#d8576b\"], [0.6666666666666666, \"#ed7953\"], [0.7777777777777778, \"#fb9f3a\"], [0.8888888888888888, \"#fdca26\"], [1.0, \"#f0f921\"]], \"type\": \"contour\"}], \"contourcarpet\": [{\"colorbar\": {\"outlinewidth\": 0, \"ticks\": \"\"}, \"type\": \"contourcarpet\"}], \"heatmap\": [{\"colorbar\": {\"outlinewidth\": 0, \"ticks\": \"\"}, \"colorscale\": [[0.0, \"#0d0887\"], [0.1111111111111111, \"#46039f\"], [0.2222222222222222, \"#7201a8\"], [0.3333333333333333, \"#9c179e\"], [0.4444444444444444, \"#bd3786\"], [0.5555555555555556, \"#d8576b\"], [0.6666666666666666, \"#ed7953\"], [0.7777777777777778, \"#fb9f3a\"], [0.8888888888888888, \"#fdca26\"], [1.0, \"#f0f921\"]], \"type\": \"heatmap\"}], \"heatmapgl\": [{\"colorbar\": {\"outlinewidth\": 0, \"ticks\": \"\"}, \"colorscale\": [[0.0, \"#0d0887\"], [0.1111111111111111, \"#46039f\"], [0.2222222222222222, \"#7201a8\"], [0.3333333333333333, \"#9c179e\"], [0.4444444444444444, \"#bd3786\"], [0.5555555555555556, \"#d8576b\"], [0.6666666666666666, \"#ed7953\"], [0.7777777777777778, \"#fb9f3a\"], [0.8888888888888888, \"#fdca26\"], [1.0, \"#f0f921\"]], \"type\": \"heatmapgl\"}], \"histogram\": [{\"marker\": {\"colorbar\": {\"outlinewidth\": 0, \"ticks\": \"\"}}, \"type\": \"histogram\"}], \"histogram2d\": [{\"colorbar\": {\"outlinewidth\": 0, \"ticks\": \"\"}, \"colorscale\": [[0.0, \"#0d0887\"], [0.1111111111111111, \"#46039f\"], [0.2222222222222222, \"#7201a8\"], [0.3333333333333333, \"#9c179e\"], [0.4444444444444444, \"#bd3786\"], [0.5555555555555556, \"#d8576b\"], [0.6666666666666666, \"#ed7953\"], [0.7777777777777778, \"#fb9f3a\"], [0.8888888888888888, \"#fdca26\"], [1.0, \"#f0f921\"]], \"type\": \"histogram2d\"}], \"histogram2dcontour\": [{\"colorbar\": {\"outlinewidth\": 0, \"ticks\": \"\"}, \"colorscale\": [[0.0, \"#0d0887\"], [0.1111111111111111, \"#46039f\"], [0.2222222222222222, \"#7201a8\"], [0.3333333333333333, \"#9c179e\"], [0.4444444444444444, \"#bd3786\"], [0.5555555555555556, \"#d8576b\"], [0.6666666666666666, \"#ed7953\"], [0.7777777777777778, \"#fb9f3a\"], [0.8888888888888888, \"#fdca26\"], [1.0, \"#f0f921\"]], \"type\": \"histogram2dcontour\"}], \"mesh3d\": [{\"colorbar\": {\"outlinewidth\": 0, \"ticks\": \"\"}, \"type\": \"mesh3d\"}], \"parcoords\": [{\"line\": {\"colorbar\": {\"outlinewidth\": 0, \"ticks\": \"\"}}, \"type\": \"parcoords\"}], \"pie\": [{\"automargin\": true, \"type\": \"pie\"}], \"scatter\": [{\"marker\": {\"colorbar\": {\"outlinewidth\": 0, \"ticks\": \"\"}}, \"type\": \"scatter\"}], \"scatter3d\": [{\"line\": {\"colorbar\": {\"outlinewidth\": 0, \"ticks\": \"\"}}, \"marker\": {\"colorbar\": {\"outlinewidth\": 0, \"ticks\": \"\"}}, \"type\": \"scatter3d\"}], \"scattercarpet\": [{\"marker\": {\"colorbar\": {\"outlinewidth\": 0, \"ticks\": \"\"}}, \"type\": \"scattercarpet\"}], \"scattergeo\": [{\"marker\": {\"colorbar\": {\"outlinewidth\": 0, \"ticks\": \"\"}}, \"type\": \"scattergeo\"}], \"scattergl\": [{\"marker\": {\"colorbar\": {\"outlinewidth\": 0, \"ticks\": \"\"}}, \"type\": \"scattergl\"}], \"scattermapbox\": [{\"marker\": {\"colorbar\": {\"outlinewidth\": 0, \"ticks\": \"\"}}, \"type\": \"scattermapbox\"}], \"scatterpolar\": [{\"marker\": {\"colorbar\": {\"outlinewidth\": 0, \"ticks\": \"\"}}, \"type\": \"scatterpolar\"}], \"scatterpolargl\": [{\"marker\": {\"colorbar\": {\"outlinewidth\": 0, \"ticks\": \"\"}}, \"type\": \"scatterpolargl\"}], \"scatterternary\": [{\"marker\": {\"colorbar\": {\"outlinewidth\": 0, \"ticks\": \"\"}}, \"type\": \"scatterternary\"}], \"surface\": [{\"colorbar\": {\"outlinewidth\": 0, \"ticks\": \"\"}, \"colorscale\": [[0.0, \"#0d0887\"], [0.1111111111111111, \"#46039f\"], [0.2222222222222222, \"#7201a8\"], [0.3333333333333333, \"#9c179e\"], [0.4444444444444444, \"#bd3786\"], [0.5555555555555556, \"#d8576b\"], [0.6666666666666666, \"#ed7953\"], [0.7777777777777778, \"#fb9f3a\"], [0.8888888888888888, \"#fdca26\"], [1.0, \"#f0f921\"]], \"type\": \"surface\"}], \"table\": [{\"cells\": {\"fill\": {\"color\": \"#EBF0F8\"}, \"line\": {\"color\": \"white\"}}, \"header\": {\"fill\": {\"color\": \"#C8D4E3\"}, \"line\": {\"color\": \"white\"}}, \"type\": \"table\"}]}, \"layout\": {\"annotationdefaults\": {\"arrowcolor\": \"#2a3f5f\", \"arrowhead\": 0, \"arrowwidth\": 1}, \"coloraxis\": {\"colorbar\": {\"outlinewidth\": 0, \"ticks\": \"\"}}, \"colorscale\": {\"diverging\": [[0, \"#8e0152\"], [0.1, \"#c51b7d\"], [0.2, \"#de77ae\"], [0.3, \"#f1b6da\"], [0.4, \"#fde0ef\"], [0.5, \"#f7f7f7\"], [0.6, \"#e6f5d0\"], [0.7, \"#b8e186\"], [0.8, \"#7fbc41\"], [0.9, \"#4d9221\"], [1, \"#276419\"]], \"sequential\": [[0.0, \"#0d0887\"], [0.1111111111111111, \"#46039f\"], [0.2222222222222222, \"#7201a8\"], [0.3333333333333333, \"#9c179e\"], [0.4444444444444444, \"#bd3786\"], [0.5555555555555556, \"#d8576b\"], [0.6666666666666666, \"#ed7953\"], [0.7777777777777778, \"#fb9f3a\"], [0.8888888888888888, \"#fdca26\"], [1.0, \"#f0f921\"]], \"sequentialminus\": [[0.0, \"#0d0887\"], [0.1111111111111111, \"#46039f\"], [0.2222222222222222, \"#7201a8\"], [0.3333333333333333, \"#9c179e\"], [0.4444444444444444, \"#bd3786\"], [0.5555555555555556, \"#d8576b\"], [0.6666666666666666, \"#ed7953\"], [0.7777777777777778, \"#fb9f3a\"], [0.8888888888888888, \"#fdca26\"], [1.0, \"#f0f921\"]]}, \"colorway\": [\"#636efa\", \"#EF553B\", \"#00cc96\", \"#ab63fa\", \"#FFA15A\", \"#19d3f3\", \"#FF6692\", \"#B6E880\", \"#FF97FF\", \"#FECB52\"], \"font\": {\"color\": \"#2a3f5f\"}, \"geo\": {\"bgcolor\": \"white\", \"lakecolor\": \"white\", \"landcolor\": \"#E5ECF6\", \"showlakes\": true, \"showland\": true, \"subunitcolor\": \"white\"}, \"hoverlabel\": {\"align\": \"left\"}, \"hovermode\": \"closest\", \"mapbox\": {\"style\": \"light\"}, \"paper_bgcolor\": \"white\", \"plot_bgcolor\": \"#E5ECF6\", \"polar\": {\"angularaxis\": {\"gridcolor\": \"white\", \"linecolor\": \"white\", \"ticks\": \"\"}, \"bgcolor\": \"#E5ECF6\", \"radialaxis\": {\"gridcolor\": \"white\", \"linecolor\": \"white\", \"ticks\": \"\"}}, \"scene\": {\"xaxis\": {\"backgroundcolor\": \"#E5ECF6\", \"gridcolor\": \"white\", \"gridwidth\": 2, \"linecolor\": \"white\", \"showbackground\": true, \"ticks\": \"\", \"zerolinecolor\": \"white\"}, \"yaxis\": {\"backgroundcolor\": \"#E5ECF6\", \"gridcolor\": \"white\", \"gridwidth\": 2, \"linecolor\": \"white\", \"showbackground\": true, \"ticks\": \"\", \"zerolinecolor\": \"white\"}, \"zaxis\": {\"backgroundcolor\": \"#E5ECF6\", \"gridcolor\": \"white\", \"gridwidth\": 2, \"linecolor\": \"white\", \"showbackground\": true, \"ticks\": \"\", \"zerolinecolor\": \"white\"}}, \"shapedefaults\": {\"line\": {\"color\": \"#2a3f5f\"}}, \"ternary\": {\"aaxis\": {\"gridcolor\": \"white\", \"linecolor\": \"white\", \"ticks\": \"\"}, \"baxis\": {\"gridcolor\": \"white\", \"linecolor\": \"white\", \"ticks\": \"\"}, \"bgcolor\": \"#E5ECF6\", \"caxis\": {\"gridcolor\": \"white\", \"linecolor\": \"white\", \"ticks\": \"\"}}, \"title\": {\"x\": 0.05}, \"xaxis\": {\"automargin\": true, \"gridcolor\": \"white\", \"linecolor\": \"white\", \"ticks\": \"\", \"title\": {\"standoff\": 15}, \"zerolinecolor\": \"white\", \"zerolinewidth\": 2}, \"yaxis\": {\"automargin\": true, \"gridcolor\": \"white\", \"linecolor\": \"white\", \"ticks\": \"\", \"title\": {\"standoff\": 15}, \"zerolinecolor\": \"white\", \"zerolinewidth\": 2}}}, \"width\": 900, \"xaxis\": {\"title\": {\"text\": \"Date\"}}, \"yaxis\": {\"title\": {\"text\": \"Volume\"}}},\n",
              "                        {\"responsive\": true}\n",
              "                    ).then(function(){\n",
              "                            \n",
              "var gd = document.getElementById('107bfb43-d7ac-4861-914c-d59978341bbd');\n",
              "var x = new MutationObserver(function (mutations, observer) {{\n",
              "        var display = window.getComputedStyle(gd).display;\n",
              "        if (!display || display === 'none') {{\n",
              "            console.log([gd, 'removed!']);\n",
              "            Plotly.purge(gd);\n",
              "            observer.disconnect();\n",
              "        }}\n",
              "}});\n",
              "\n",
              "// Listen for the removal of the full notebook cells\n",
              "var notebookContainer = gd.closest('#notebook-container');\n",
              "if (notebookContainer) {{\n",
              "    x.observe(notebookContainer, {childList: true});\n",
              "}}\n",
              "\n",
              "// Listen for the clearing of the current output cell\n",
              "var outputEl = gd.closest('.output');\n",
              "if (outputEl) {{\n",
              "    x.observe(outputEl, {childList: true});\n",
              "}}\n",
              "\n",
              "                        })\n",
              "                };\n",
              "                \n",
              "            </script>\n",
              "        </div>\n",
              "</body>\n",
              "</html>"
            ]
          },
          "metadata": {}
        }
      ]
    },
    {
      "cell_type": "code",
      "source": [
        "from sklearn.preprocessing import MinMaxScaler\n",
        "import pickle\n",
        "from tqdm.notebook import tnrange"
      ],
      "metadata": {
        "id": "_7m8IeVy2GiP"
      },
      "execution_count": 13,
      "outputs": []
    },
    {
      "cell_type": "code",
      "source": [
        "#Filter only required data\n",
        "data = data[['Close' , 'Volume']]\n",
        "data.head(3)"
      ],
      "metadata": {
        "colab": {
          "base_uri": "https://localhost:8080/",
          "height": 174
        },
        "id": "dH_19E5o4UaM",
        "outputId": "c86f9ccd-726f-4e92-e482-806e9105f9ad"
      },
      "execution_count": 14,
      "outputs": [
        {
          "output_type": "execute_result",
          "data": {
            "text/html": [
              "\n",
              "  <div id=\"df-93e15894-c161-45aa-b161-bf62a310fc63\">\n",
              "    <div class=\"colab-df-container\">\n",
              "      <div>\n",
              "<style scoped>\n",
              "    .dataframe tbody tr th:only-of-type {\n",
              "        vertical-align: middle;\n",
              "    }\n",
              "\n",
              "    .dataframe tbody tr th {\n",
              "        vertical-align: top;\n",
              "    }\n",
              "\n",
              "    .dataframe thead th {\n",
              "        text-align: right;\n",
              "    }\n",
              "</style>\n",
              "<table border=\"1\" class=\"dataframe\">\n",
              "  <thead>\n",
              "    <tr style=\"text-align: right;\">\n",
              "      <th></th>\n",
              "      <th>Close</th>\n",
              "      <th>Volume</th>\n",
              "    </tr>\n",
              "    <tr>\n",
              "      <th>Date</th>\n",
              "      <th></th>\n",
              "      <th></th>\n",
              "    </tr>\n",
              "  </thead>\n",
              "  <tbody>\n",
              "    <tr>\n",
              "      <th>2018-01-02</th>\n",
              "      <td>1073.209961</td>\n",
              "      <td>1588300</td>\n",
              "    </tr>\n",
              "    <tr>\n",
              "      <th>2018-01-03</th>\n",
              "      <td>1091.520020</td>\n",
              "      <td>1565900</td>\n",
              "    </tr>\n",
              "    <tr>\n",
              "      <th>2018-01-04</th>\n",
              "      <td>1095.760010</td>\n",
              "      <td>1302600</td>\n",
              "    </tr>\n",
              "  </tbody>\n",
              "</table>\n",
              "</div>\n",
              "      <button class=\"colab-df-convert\" onclick=\"convertToInteractive('df-93e15894-c161-45aa-b161-bf62a310fc63')\"\n",
              "              title=\"Convert this dataframe to an interactive table.\"\n",
              "              style=\"display:none;\">\n",
              "        \n",
              "  <svg xmlns=\"http://www.w3.org/2000/svg\" height=\"24px\"viewBox=\"0 0 24 24\"\n",
              "       width=\"24px\">\n",
              "    <path d=\"M0 0h24v24H0V0z\" fill=\"none\"/>\n",
              "    <path d=\"M18.56 5.44l.94 2.06.94-2.06 2.06-.94-2.06-.94-.94-2.06-.94 2.06-2.06.94zm-11 1L8.5 8.5l.94-2.06 2.06-.94-2.06-.94L8.5 2.5l-.94 2.06-2.06.94zm10 10l.94 2.06.94-2.06 2.06-.94-2.06-.94-.94-2.06-.94 2.06-2.06.94z\"/><path d=\"M17.41 7.96l-1.37-1.37c-.4-.4-.92-.59-1.43-.59-.52 0-1.04.2-1.43.59L10.3 9.45l-7.72 7.72c-.78.78-.78 2.05 0 2.83L4 21.41c.39.39.9.59 1.41.59.51 0 1.02-.2 1.41-.59l7.78-7.78 2.81-2.81c.8-.78.8-2.07 0-2.86zM5.41 20L4 18.59l7.72-7.72 1.47 1.35L5.41 20z\"/>\n",
              "  </svg>\n",
              "      </button>\n",
              "      \n",
              "  <style>\n",
              "    .colab-df-container {\n",
              "      display:flex;\n",
              "      flex-wrap:wrap;\n",
              "      gap: 12px;\n",
              "    }\n",
              "\n",
              "    .colab-df-convert {\n",
              "      background-color: #E8F0FE;\n",
              "      border: none;\n",
              "      border-radius: 50%;\n",
              "      cursor: pointer;\n",
              "      display: none;\n",
              "      fill: #1967D2;\n",
              "      height: 32px;\n",
              "      padding: 0 0 0 0;\n",
              "      width: 32px;\n",
              "    }\n",
              "\n",
              "    .colab-df-convert:hover {\n",
              "      background-color: #E2EBFA;\n",
              "      box-shadow: 0px 1px 2px rgba(60, 64, 67, 0.3), 0px 1px 3px 1px rgba(60, 64, 67, 0.15);\n",
              "      fill: #174EA6;\n",
              "    }\n",
              "\n",
              "    [theme=dark] .colab-df-convert {\n",
              "      background-color: #3B4455;\n",
              "      fill: #D2E3FC;\n",
              "    }\n",
              "\n",
              "    [theme=dark] .colab-df-convert:hover {\n",
              "      background-color: #434B5C;\n",
              "      box-shadow: 0px 1px 3px 1px rgba(0, 0, 0, 0.15);\n",
              "      filter: drop-shadow(0px 1px 2px rgba(0, 0, 0, 0.3));\n",
              "      fill: #FFFFFF;\n",
              "    }\n",
              "  </style>\n",
              "\n",
              "      <script>\n",
              "        const buttonEl =\n",
              "          document.querySelector('#df-93e15894-c161-45aa-b161-bf62a310fc63 button.colab-df-convert');\n",
              "        buttonEl.style.display =\n",
              "          google.colab.kernel.accessAllowed ? 'block' : 'none';\n",
              "\n",
              "        async function convertToInteractive(key) {\n",
              "          const element = document.querySelector('#df-93e15894-c161-45aa-b161-bf62a310fc63');\n",
              "          const dataTable =\n",
              "            await google.colab.kernel.invokeFunction('convertToInteractive',\n",
              "                                                     [key], {});\n",
              "          if (!dataTable) return;\n",
              "\n",
              "          const docLinkHtml = 'Like what you see? Visit the ' +\n",
              "            '<a target=\"_blank\" href=https://colab.research.google.com/notebooks/data_table.ipynb>data table notebook</a>'\n",
              "            + ' to learn more about interactive tables.';\n",
              "          element.innerHTML = '';\n",
              "          dataTable['output_type'] = 'display_data';\n",
              "          await google.colab.output.renderOutput(dataTable, element);\n",
              "          const docLink = document.createElement('div');\n",
              "          docLink.innerHTML = docLinkHtml;\n",
              "          element.appendChild(docLink);\n",
              "        }\n",
              "      </script>\n",
              "    </div>\n",
              "  </div>\n",
              "  "
            ],
            "text/plain": [
              "                  Close   Volume\n",
              "Date                            \n",
              "2018-01-02  1073.209961  1588300\n",
              "2018-01-03  1091.520020  1565900\n",
              "2018-01-04  1095.760010  1302600"
            ]
          },
          "metadata": {},
          "execution_count": 14
        }
      ]
    },
    {
      "cell_type": "code",
      "source": [
        "# Confirm the Testing Set length\n",
        "test_length = data[(data.index >= '2021-09-01')].shape[0]"
      ],
      "metadata": {
        "id": "Xsrb5b4u4jBI"
      },
      "execution_count": 15,
      "outputs": []
    },
    {
      "cell_type": "code",
      "source": [
        "def CreateFeatures_and_Targets(data , feature_length):\n",
        "  X = []\n",
        "  Y = []\n",
        "\n",
        "  for i in tnrange(len(data) - feature_length):\n",
        "     X.append(data.iloc[i:i+ feature_length , : ].values)\n",
        "     Y.append(data['Close'].values[i+feature_length])\n",
        "\n",
        "  X= np.array(X)\n",
        "  Y= np.array(Y)\n",
        "\n",
        "  return X, Y    "
      ],
      "metadata": {
        "id": "Z9qk-aL68Pjn"
      },
      "execution_count": 16,
      "outputs": []
    },
    {
      "cell_type": "code",
      "source": [
        "X , Y = CreateFeatures_and_Targets(data, 32)"
      ],
      "metadata": {
        "colab": {
          "base_uri": "https://localhost:8080/",
          "height": 49,
          "referenced_widgets": [
            "1e595f1c085147588718bbdbf3a4a58b",
            "78e29f2358a643bf9fa61eeb09fa5534",
            "b83b7dc983054fe8bcc2de4d600d5147",
            "b7dd39d0f186419e893e0b5c41f3f30f",
            "613ccfc9c3db4e02a2748b628358a384",
            "64cc74c87eb04101b555494a81f74eeb",
            "426bffd4a45a4ebcae58b0f329a1b8d0",
            "e1addc747c7348d884f82ea24192b451",
            "499ba0d72a3a4b20876c4c355af698f9",
            "8e0caaadd3854256ac36ebc29f6fc8bd",
            "c791aa0212ce45709f0d1d82392e84a5"
          ]
        },
        "id": "QU8Uyfsc9bic",
        "outputId": "32a9c1d2-6bcc-4176-a2b6-6d9975f7160c"
      },
      "execution_count": 17,
      "outputs": [
        {
          "output_type": "display_data",
          "data": {
            "application/vnd.jupyter.widget-view+json": {
              "model_id": "1e595f1c085147588718bbdbf3a4a58b",
              "version_minor": 0,
              "version_major": 2
            },
            "text/plain": [
              "  0%|          | 0/990 [00:00<?, ?it/s]"
            ]
          },
          "metadata": {}
        }
      ]
    },
    {
      "cell_type": "code",
      "source": [
        "# Check the shapes \n",
        "X.shape , Y.shape"
      ],
      "metadata": {
        "colab": {
          "base_uri": "https://localhost:8080/"
        },
        "id": "s2SFh-zz9o6U",
        "outputId": "d2d617f8-45e6-4987-b277-9d869b6cde0b"
      },
      "execution_count": 18,
      "outputs": [
        {
          "output_type": "execute_result",
          "data": {
            "text/plain": [
              "((990, 32, 2), (990,))"
            ]
          },
          "metadata": {},
          "execution_count": 18
        }
      ]
    },
    {
      "cell_type": "code",
      "source": [
        "Xtrain , Xtest , Ytrain , Ytest = X[:-test_length] , X[-test_length:] , Y[:-test_length], Y[-test_length:]"
      ],
      "metadata": {
        "id": "JUE6aEic-n6p"
      },
      "execution_count": 19,
      "outputs": []
    },
    {
      "cell_type": "code",
      "source": [
        "#checking training dataset shape\n",
        "Xtrain.shape , Ytrain.shape"
      ],
      "metadata": {
        "colab": {
          "base_uri": "https://localhost:8080/"
        },
        "id": "YjxWLuqT_CRM",
        "outputId": "86cbecb0-0dc5-4599-c855-55cbec71a448"
      },
      "execution_count": 20,
      "outputs": [
        {
          "output_type": "execute_result",
          "data": {
            "text/plain": [
              "((891, 32, 2), (891,))"
            ]
          },
          "metadata": {},
          "execution_count": 20
        }
      ]
    },
    {
      "cell_type": "code",
      "source": [
        "# check testing dataset shape\n",
        "Xtest.shape , Ytest.shape"
      ],
      "metadata": {
        "colab": {
          "base_uri": "https://localhost:8080/"
        },
        "id": "fCoARPV7_KtN",
        "outputId": "52c7a5ea-6d34-4728-b4b3-7f61cd55f71c"
      },
      "execution_count": 21,
      "outputs": [
        {
          "output_type": "execute_result",
          "data": {
            "text/plain": [
              "((99, 32, 2), (99,))"
            ]
          },
          "metadata": {},
          "execution_count": 21
        }
      ]
    },
    {
      "cell_type": "code",
      "source": [
        "# create a Scaler to scale Vectors with Multiple Dimensions \n",
        "class MultiDimensionScaler():\n",
        "  def __init__(self):\n",
        "    self.scalers = []\n",
        "  def fit_transform(self,X) :\n",
        "    total_dims = X.shape[2]\n",
        "    for i in range(total_dims):\n",
        "      Scaler = MinMaxScaler()\n",
        "      X[: , :, i] = Scaler.fit_transform(X[: , :, i])\n",
        "      self.scalers.append(Scaler)\n",
        "    return X\n",
        "\n",
        "  def transform(self , X):\n",
        "      for i in range(X.shape[2]):\n",
        "          X[:,:,i] = self.scalers[i].transform(X[:,:,i]) \n",
        "      return X   "
      ],
      "metadata": {
        "id": "3jqV7dBa_Us1"
      },
      "execution_count": 22,
      "outputs": []
    },
    {
      "cell_type": "code",
      "source": [
        "Feature_Scaler = MultiDimensionScaler()\n",
        "Xtrain = Feature_Scaler.fit_transform(Xtrain)\n",
        "Xtest = Feature_Scaler.transform(Xtest)"
      ],
      "metadata": {
        "id": "E_pmRmacYlwD"
      },
      "execution_count": 23,
      "outputs": []
    },
    {
      "cell_type": "code",
      "source": [
        "Target_Scaler = MinMaxScaler()\n",
        "Ytrain = Target_Scaler.fit_transform(Ytrain.reshape(-1,1))\n",
        "Ytest = Target_Scaler.transform(Ytest.reshape(-1,1))"
      ],
      "metadata": {
        "id": "823bYyR1khe6"
      },
      "execution_count": 24,
      "outputs": []
    },
    {
      "cell_type": "code",
      "source": [
        "def save_object(obj , name : str ):\n",
        "    pickle_out = open(f\"{name}.pck\",\"wb\")\n",
        "    pickle.dump(obj, pickle_out)\n",
        "    pickle_out.close()\n",
        "\n",
        "def load_object(name:str):\n",
        "    pickle_in = open(f\"{name}.pck\", \"rb\")\n",
        "    data = pickle.load(pickle_in)\n",
        "    return data "
      ],
      "metadata": {
        "id": "l0g1YUmEeLze"
      },
      "execution_count": 25,
      "outputs": []
    },
    {
      "cell_type": "code",
      "source": [
        "# Save your object for future puroses\n",
        "#save_object(Feature_Scaler , \"Feature_Scaler\")\n",
        "#save_object(Target_Scaler , \"Target_Scaler\")\n"
      ],
      "metadata": {
        "id": "GaZK3ZVMe1oM"
      },
      "execution_count": 26,
      "outputs": []
    },
    {
      "cell_type": "markdown",
      "source": [
        "Model Buliding "
      ],
      "metadata": {
        "id": "YQdMSn0viBwf"
      }
    },
    {
      "cell_type": "code",
      "source": [
        "from tensorflow.keras.callbacks import ModelCheckpoint , ReduceLROnPlateau\n",
        "\n",
        "save_best = ModelCheckpoint(\"best_weight.h5\",monitor = 'val_loss' , save_best_only=True , save_weights_only = True)\n",
        "reduce_lr = ReduceLROnPlateau(monitor = 'val_loss', factor = 0.25 , patience=5 ,  min_lr = 0.00001,verbose = 1)\n"
      ],
      "metadata": {
        "id": "2C7nzFaCh-UQ"
      },
      "execution_count": 27,
      "outputs": []
    },
    {
      "cell_type": "code",
      "source": [
        "from tensorflow.keras.models import Sequential\n",
        "from tensorflow.keras.layers import Dense , Dropout , LSTM , Bidirectional\n",
        "\n",
        "model = Sequential()\n",
        "\n",
        "model.add(Bidirectional(LSTM(512 , return_sequences = True ,  recurrent_dropout=0.1 , input_shape=(32,2))))\n",
        "model.add(LSTM(256, recurrent_dropout=0.1))\n",
        "model.add(Dropout(0.3))\n",
        "model.add(Dense(64 , activation='elu'))\n",
        "model.add(Dropout(0.3))\n",
        "model.add(Dense(32,activation='elu'))\n",
        "model.add(Dense(1,activation='linear')) # Final Layer "
      ],
      "metadata": {
        "id": "afQCGX23izKA"
      },
      "execution_count": 28,
      "outputs": []
    },
    {
      "cell_type": "code",
      "source": [
        "# optimizer = tf.keras.optimizer.Adam(learning_rate=0.002)\n",
        "optimizer = tf.keras.optimizers.SGD(learning_rate=0.002)\n",
        "model.compile(loss='mse',optimizer=optimizer)"
      ],
      "metadata": {
        "id": "gToXwUw4xlMT"
      },
      "execution_count": 29,
      "outputs": []
    },
    {
      "cell_type": "code",
      "source": [
        "history = model.fit(Xtrain, Ytrain,\n",
        "                     epochs = 10,\n",
        "                    batch_size = 1,\n",
        "                    verbose = 1,\n",
        "                    shuffle = False,\n",
        "                    validation_data=(Xtest, Ytest),\n",
        "                    callbacks= [reduce_lr , save_best])"
      ],
      "metadata": {
        "colab": {
          "base_uri": "https://localhost:8080/"
        },
        "id": "mjUD1d2Yybts",
        "outputId": "85bb585e-7433-4ee6-9b8c-3e0a8437bdb7"
      },
      "execution_count": 30,
      "outputs": [
        {
          "output_type": "stream",
          "name": "stdout",
          "text": [
            "Epoch 1/10\n",
            "891/891 [==============================] - 1111s 1s/step - loss: 0.0033 - val_loss: 0.0017 - lr: 0.0020\n",
            "Epoch 2/10\n",
            "891/891 [==============================] - 1062s 1s/step - loss: 0.0080 - val_loss: 0.0017 - lr: 0.0020\n",
            "Epoch 3/10\n",
            "891/891 [==============================] - 1076s 1s/step - loss: 0.0054 - val_loss: 0.0021 - lr: 0.0020\n",
            "Epoch 4/10\n",
            "891/891 [==============================] - 1166s 1s/step - loss: 0.0039 - val_loss: 0.0017 - lr: 0.0020\n",
            "Epoch 5/10\n",
            "891/891 [==============================] - 1148s 1s/step - loss: 0.0032 - val_loss: 0.0041 - lr: 0.0020\n",
            "Epoch 6/10\n",
            "891/891 [==============================] - ETA: 0s - loss: 0.0027\n",
            "Epoch 00006: ReduceLROnPlateau reducing learning rate to 0.0005000000237487257.\n",
            "891/891 [==============================] - 1171s 1s/step - loss: 0.0027 - val_loss: 0.0021 - lr: 0.0020\n",
            "Epoch 7/10\n",
            "891/891 [==============================] - 1459s 2s/step - loss: 0.0036 - val_loss: 0.0019 - lr: 5.0000e-04\n",
            "Epoch 8/10\n",
            "891/891 [==============================] - 1114s 1s/step - loss: 0.0025 - val_loss: 0.0017 - lr: 5.0000e-04\n",
            "Epoch 9/10\n",
            "891/891 [==============================] - 1082s 1s/step - loss: 0.0024 - val_loss: 0.0018 - lr: 5.0000e-04\n",
            "Epoch 10/10\n",
            "891/891 [==============================] - 1056s 1s/step - loss: 0.0024 - val_loss: 0.0017 - lr: 5.0000e-04\n"
          ]
        }
      ]
    },
    {
      "cell_type": "code",
      "source": [
        "#load the best weights\n",
        "model.load_weights(\"best_weight.h5\")"
      ],
      "metadata": {
        "id": "YBbyE36HzGUz"
      },
      "execution_count": 31,
      "outputs": []
    },
    {
      "cell_type": "code",
      "source": [
        "Predictions = model.predict(Xtest)"
      ],
      "metadata": {
        "id": "QdbIUpPX0_0G"
      },
      "execution_count": 32,
      "outputs": []
    },
    {
      "cell_type": "code",
      "source": [
        "Predictions = Target_Scaler.inverse_transform(Predictions)\n",
        "Actual = Target_Scaler.inverse_transform(Ytest)"
      ],
      "metadata": {
        "id": "AthHXmCl1JvB"
      },
      "execution_count": 34,
      "outputs": []
    },
    {
      "cell_type": "code",
      "source": [
        "Predictions.shape"
      ],
      "metadata": {
        "colab": {
          "base_uri": "https://localhost:8080/"
        },
        "id": "lQ4vBV0l1bdD",
        "outputId": "c62fd395-4a94-452b-d3b2-3be26241df27"
      },
      "execution_count": 35,
      "outputs": [
        {
          "output_type": "execute_result",
          "data": {
            "text/plain": [
              "(99, 1)"
            ]
          },
          "metadata": {},
          "execution_count": 35
        }
      ]
    },
    {
      "cell_type": "code",
      "source": [
        "Predictions = np.squeeze(Predictions , axis =1 )\n",
        "Actual = np.squeeze(Actual , axis = 1)"
      ],
      "metadata": {
        "id": "vP0flcqz1giw"
      },
      "execution_count": 36,
      "outputs": []
    },
    {
      "cell_type": "code",
      "source": [
        "# check the prediction vs Actual \n",
        "fig =  go.Figure()\n",
        "\n",
        "fig.add_trace(go.Scatter(x = data.index[-test_length:] , y= Actual , mode = 'lines' , name='Actual'))\n",
        "fig.add_trace(go.Scatter(x=data.index[-test_length:] , y =Predictions , mode = 'lines', name = 'Predicted' ))\n",
        "fig.show()"
      ],
      "metadata": {
        "colab": {
          "base_uri": "https://localhost:8080/",
          "height": 542
        },
        "id": "QJmo9Awh1xtC",
        "outputId": "44606376-3702-4226-b636-36d0adf16531"
      },
      "execution_count": 37,
      "outputs": [
        {
          "output_type": "display_data",
          "data": {
            "text/html": [
              "<html>\n",
              "<head><meta charset=\"utf-8\" /></head>\n",
              "<body>\n",
              "    <div>\n",
              "            <script src=\"https://cdnjs.cloudflare.com/ajax/libs/mathjax/2.7.5/MathJax.js?config=TeX-AMS-MML_SVG\"></script><script type=\"text/javascript\">if (window.MathJax) {MathJax.Hub.Config({SVG: {font: \"STIX-Web\"}});}</script>\n",
              "                <script type=\"text/javascript\">window.PlotlyConfig = {MathJaxConfig: 'local'};</script>\n",
              "        <script src=\"https://cdn.plot.ly/plotly-latest.min.js\"></script>    \n",
              "            <div id=\"7d930301-4d10-4594-a406-a6e5330e9099\" class=\"plotly-graph-div\" style=\"height:525px; width:100%;\"></div>\n",
              "            <script type=\"text/javascript\">\n",
              "                \n",
              "                    window.PLOTLYENV=window.PLOTLYENV || {};\n",
              "                    \n",
              "                if (document.getElementById(\"7d930301-4d10-4594-a406-a6e5330e9099\")) {\n",
              "                    Plotly.newPlot(\n",
              "                        '7d930301-4d10-4594-a406-a6e5330e9099',\n",
              "                        [{\"mode\": \"lines\", \"name\": \"Actual\", \"type\": \"scatter\", \"x\": [\"2021-09-01T00:00:00\", \"2021-09-02T00:00:00\", \"2021-09-03T00:00:00\", \"2021-09-07T00:00:00\", \"2021-09-08T00:00:00\", \"2021-09-09T00:00:00\", \"2021-09-10T00:00:00\", \"2021-09-13T00:00:00\", \"2021-09-14T00:00:00\", \"2021-09-15T00:00:00\", \"2021-09-16T00:00:00\", \"2021-09-17T00:00:00\", \"2021-09-20T00:00:00\", \"2021-09-21T00:00:00\", \"2021-09-22T00:00:00\", \"2021-09-23T00:00:00\", \"2021-09-24T00:00:00\", \"2021-09-27T00:00:00\", \"2021-09-28T00:00:00\", \"2021-09-29T00:00:00\", \"2021-09-30T00:00:00\", \"2021-10-01T00:00:00\", \"2021-10-04T00:00:00\", \"2021-10-05T00:00:00\", \"2021-10-06T00:00:00\", \"2021-10-07T00:00:00\", \"2021-10-08T00:00:00\", \"2021-10-11T00:00:00\", \"2021-10-12T00:00:00\", \"2021-10-13T00:00:00\", \"2021-10-14T00:00:00\", \"2021-10-15T00:00:00\", \"2021-10-18T00:00:00\", \"2021-10-19T00:00:00\", \"2021-10-20T00:00:00\", \"2021-10-21T00:00:00\", \"2021-10-22T00:00:00\", \"2021-10-25T00:00:00\", \"2021-10-26T00:00:00\", \"2021-10-27T00:00:00\", \"2021-10-28T00:00:00\", \"2021-10-29T00:00:00\", \"2021-11-01T00:00:00\", \"2021-11-02T00:00:00\", \"2021-11-03T00:00:00\", \"2021-11-04T00:00:00\", \"2021-11-05T00:00:00\", \"2021-11-08T00:00:00\", \"2021-11-09T00:00:00\", \"2021-11-10T00:00:00\", \"2021-11-11T00:00:00\", \"2021-11-12T00:00:00\", \"2021-11-15T00:00:00\", \"2021-11-16T00:00:00\", \"2021-11-17T00:00:00\", \"2021-11-18T00:00:00\", \"2021-11-19T00:00:00\", \"2021-11-22T00:00:00\", \"2021-11-23T00:00:00\", \"2021-11-24T00:00:00\", \"2021-11-26T00:00:00\", \"2021-11-29T00:00:00\", \"2021-11-30T00:00:00\", \"2021-12-01T00:00:00\", \"2021-12-02T00:00:00\", \"2021-12-03T00:00:00\", \"2021-12-06T00:00:00\", \"2021-12-07T00:00:00\", \"2021-12-08T00:00:00\", \"2021-12-09T00:00:00\", \"2021-12-10T00:00:00\", \"2021-12-13T00:00:00\", \"2021-12-14T00:00:00\", \"2021-12-15T00:00:00\", \"2021-12-16T00:00:00\", \"2021-12-17T00:00:00\", \"2021-12-20T00:00:00\", \"2021-12-21T00:00:00\", \"2021-12-22T00:00:00\", \"2021-12-23T00:00:00\", \"2021-12-27T00:00:00\", \"2021-12-28T00:00:00\", \"2021-12-29T00:00:00\", \"2021-12-30T00:00:00\", \"2021-12-31T00:00:00\", \"2022-01-03T00:00:00\", \"2022-01-04T00:00:00\", \"2022-01-05T00:00:00\", \"2022-01-06T00:00:00\", \"2022-01-07T00:00:00\", \"2022-01-10T00:00:00\", \"2022-01-11T00:00:00\", \"2022-01-12T00:00:00\", \"2022-01-13T00:00:00\", \"2022-01-14T00:00:00\", \"2022-01-18T00:00:00\", \"2022-01-19T00:00:00\", \"2022-01-20T00:00:00\", \"2022-01-21T00:00:00\"], \"y\": [2904.31005859375, 2865.739990234375, 2874.7900390625, 2885.610107421875, 2873.820068359375, 2870.820068359375, 2817.52001953125, 2846.64990234375, 2850.889892578125, 2888.590087890625, 2872.199951171875, 2816.0, 2774.389892578125, 2780.659912109375, 2805.669921875, 2824.320068359375, 2844.300048828125, 2821.43994140625, 2716.60009765625, 2687.070068359375, 2673.52001953125, 2730.860107421875, 2673.18994140625, 2720.4599609375, 2751.300048828125, 2784.5, 2795.7099609375, 2778.280029296875, 2728.97998046875, 2751.639892578125, 2823.02001953125, 2827.360107421875, 2855.56005859375, 2864.739990234375, 2835.3798828125, 2837.719970703125, 2751.330078125, 2748.93994140625, 2786.169921875, 2924.35009765625, 2916.97998046875, 2960.919921875, 2869.93994140625, 2908.64990234375, 2931.9599609375, 2965.35009765625, 2977.0400390625, 2980.6201171875, 2978.3701171875, 2917.8701171875, 2915.330078125, 2973.56005859375, 2969.0400390625, 2957.52001953125, 2960.93994140625, 2996.77001953125, 2978.530029296875, 2926.0400390625, 2915.639892578125, 2922.39990234375, 2843.659912109375, 2910.610107421875, 2837.949951171875, 2821.030029296875, 2859.320068359375, 2840.030029296875, 2863.10009765625, 2945.389892578125, 2963.72998046875, 2952.77001953125, 2960.030029296875, 2916.530029296875, 2878.139892578125, 2928.820068359375, 2888.89990234375, 2834.5, 2832.139892578125, 2869.449951171875, 2928.300048828125, 2938.330078125, 2958.1298828125, 2933.739990234375, 2933.10009765625, 2924.010009765625, 2897.0400390625, 2899.830078125, 2887.989990234375, 2755.5, 2754.949951171875, 2740.340087890625, 2773.389892578125, 2794.719970703125, 2828.610107421875, 2771.739990234375, 2789.610107421875, 2719.9599609375, 2702.330078125, 2666.14990234375, 2607.030029296875]}, {\"mode\": \"lines\", \"name\": \"Predicted\", \"type\": \"scatter\", \"x\": [\"2021-09-01T00:00:00\", \"2021-09-02T00:00:00\", \"2021-09-03T00:00:00\", \"2021-09-07T00:00:00\", \"2021-09-08T00:00:00\", \"2021-09-09T00:00:00\", \"2021-09-10T00:00:00\", \"2021-09-13T00:00:00\", \"2021-09-14T00:00:00\", \"2021-09-15T00:00:00\", \"2021-09-16T00:00:00\", \"2021-09-17T00:00:00\", \"2021-09-20T00:00:00\", \"2021-09-21T00:00:00\", \"2021-09-22T00:00:00\", \"2021-09-23T00:00:00\", \"2021-09-24T00:00:00\", \"2021-09-27T00:00:00\", \"2021-09-28T00:00:00\", \"2021-09-29T00:00:00\", \"2021-09-30T00:00:00\", \"2021-10-01T00:00:00\", \"2021-10-04T00:00:00\", \"2021-10-05T00:00:00\", \"2021-10-06T00:00:00\", \"2021-10-07T00:00:00\", \"2021-10-08T00:00:00\", \"2021-10-11T00:00:00\", \"2021-10-12T00:00:00\", \"2021-10-13T00:00:00\", \"2021-10-14T00:00:00\", \"2021-10-15T00:00:00\", \"2021-10-18T00:00:00\", \"2021-10-19T00:00:00\", \"2021-10-20T00:00:00\", \"2021-10-21T00:00:00\", \"2021-10-22T00:00:00\", \"2021-10-25T00:00:00\", \"2021-10-26T00:00:00\", \"2021-10-27T00:00:00\", \"2021-10-28T00:00:00\", \"2021-10-29T00:00:00\", \"2021-11-01T00:00:00\", \"2021-11-02T00:00:00\", \"2021-11-03T00:00:00\", \"2021-11-04T00:00:00\", \"2021-11-05T00:00:00\", \"2021-11-08T00:00:00\", \"2021-11-09T00:00:00\", \"2021-11-10T00:00:00\", \"2021-11-11T00:00:00\", \"2021-11-12T00:00:00\", \"2021-11-15T00:00:00\", \"2021-11-16T00:00:00\", \"2021-11-17T00:00:00\", \"2021-11-18T00:00:00\", \"2021-11-19T00:00:00\", \"2021-11-22T00:00:00\", \"2021-11-23T00:00:00\", \"2021-11-24T00:00:00\", \"2021-11-26T00:00:00\", \"2021-11-29T00:00:00\", \"2021-11-30T00:00:00\", \"2021-12-01T00:00:00\", \"2021-12-02T00:00:00\", \"2021-12-03T00:00:00\", \"2021-12-06T00:00:00\", \"2021-12-07T00:00:00\", \"2021-12-08T00:00:00\", \"2021-12-09T00:00:00\", \"2021-12-10T00:00:00\", \"2021-12-13T00:00:00\", \"2021-12-14T00:00:00\", \"2021-12-15T00:00:00\", \"2021-12-16T00:00:00\", \"2021-12-17T00:00:00\", \"2021-12-20T00:00:00\", \"2021-12-21T00:00:00\", \"2021-12-22T00:00:00\", \"2021-12-23T00:00:00\", \"2021-12-27T00:00:00\", \"2021-12-28T00:00:00\", \"2021-12-29T00:00:00\", \"2021-12-30T00:00:00\", \"2021-12-31T00:00:00\", \"2022-01-03T00:00:00\", \"2022-01-04T00:00:00\", \"2022-01-05T00:00:00\", \"2022-01-06T00:00:00\", \"2022-01-07T00:00:00\", \"2022-01-10T00:00:00\", \"2022-01-11T00:00:00\", \"2022-01-12T00:00:00\", \"2022-01-13T00:00:00\", \"2022-01-14T00:00:00\", \"2022-01-18T00:00:00\", \"2022-01-19T00:00:00\", \"2022-01-20T00:00:00\", \"2022-01-21T00:00:00\"], \"y\": [2830.83642578125, 2835.75146484375, 2837.818115234375, 2841.89111328125, 2845.65576171875, 2848.998291015625, 2852.2236328125, 2850.227783203125, 2851.1201171875, 2852.288818359375, 2852.8505859375, 2853.44287109375, 2848.41064453125, 2844.151611328125, 2843.809326171875, 2843.89453125, 2844.969482421875, 2845.946533203125, 2846.493408203125, 2840.59375, 2836.53271484375, 2830.7822265625, 2826.9365234375, 2819.76318359375, 2817.38232421875, 2817.33837890625, 2818.115234375, 2819.118408203125, 2821.27978515625, 2819.0263671875, 2819.962646484375, 2820.1884765625, 2821.252685546875, 2824.839599609375, 2828.638427734375, 2831.124267578125, 2832.89013671875, 2828.6669921875, 2827.235595703125, 2824.147705078125, 2818.7568359375, 2823.651611328125, 2828.788818359375, 2831.70556640625, 2837.4306640625, 2844.08642578125, 2849.004150390625, 2853.825927734375, 2860.859375, 2867.551513671875, 2870.3037109375, 2874.38671875, 2877.726318359375, 2880.35498046875, 2883.07470703125, 2885.250244140625, 2885.1669921875, 2885.332275390625, 2885.060791015625, 2884.920654296875, 2886.18359375, 2883.3505859375, 2881.27392578125, 2876.278076171875, 2872.50927734375, 2870.408935546875, 2866.168701171875, 2864.648681640625, 2864.927978515625, 2867.53955078125, 2870.275146484375, 2872.84716796875, 2873.828857421875, 2871.83837890625, 2871.21533203125, 2870.478759765625, 2865.80712890625, 2865.100341796875, 2864.65185546875, 2865.900634765625, 2867.54248046875, 2871.34814453125, 2873.978515625, 2876.234619140625, 2878.18359375, 2878.69482421875, 2877.127685546875, 2875.3642578125, 2866.532958984375, 2860.886962890625, 2856.35986328125, 2850.272216796875, 2847.951904296875, 2847.185791015625, 2844.549560546875, 2842.734375, 2838.66796875, 2835.231201171875, 2830.66943359375]}],\n",
              "                        {\"template\": {\"data\": {\"bar\": [{\"error_x\": {\"color\": \"#2a3f5f\"}, \"error_y\": {\"color\": \"#2a3f5f\"}, \"marker\": {\"line\": {\"color\": \"#E5ECF6\", \"width\": 0.5}}, \"type\": \"bar\"}], \"barpolar\": [{\"marker\": {\"line\": {\"color\": \"#E5ECF6\", \"width\": 0.5}}, \"type\": \"barpolar\"}], \"carpet\": [{\"aaxis\": {\"endlinecolor\": \"#2a3f5f\", \"gridcolor\": \"white\", \"linecolor\": \"white\", \"minorgridcolor\": \"white\", \"startlinecolor\": \"#2a3f5f\"}, \"baxis\": {\"endlinecolor\": \"#2a3f5f\", \"gridcolor\": \"white\", \"linecolor\": \"white\", \"minorgridcolor\": \"white\", \"startlinecolor\": \"#2a3f5f\"}, \"type\": \"carpet\"}], \"choropleth\": [{\"colorbar\": {\"outlinewidth\": 0, \"ticks\": \"\"}, \"type\": \"choropleth\"}], \"contour\": [{\"colorbar\": {\"outlinewidth\": 0, \"ticks\": \"\"}, \"colorscale\": [[0.0, \"#0d0887\"], [0.1111111111111111, \"#46039f\"], [0.2222222222222222, \"#7201a8\"], [0.3333333333333333, \"#9c179e\"], [0.4444444444444444, \"#bd3786\"], [0.5555555555555556, \"#d8576b\"], [0.6666666666666666, \"#ed7953\"], [0.7777777777777778, \"#fb9f3a\"], [0.8888888888888888, \"#fdca26\"], [1.0, \"#f0f921\"]], \"type\": \"contour\"}], \"contourcarpet\": [{\"colorbar\": {\"outlinewidth\": 0, \"ticks\": \"\"}, \"type\": \"contourcarpet\"}], \"heatmap\": [{\"colorbar\": {\"outlinewidth\": 0, \"ticks\": \"\"}, \"colorscale\": [[0.0, \"#0d0887\"], [0.1111111111111111, \"#46039f\"], [0.2222222222222222, \"#7201a8\"], [0.3333333333333333, \"#9c179e\"], [0.4444444444444444, \"#bd3786\"], [0.5555555555555556, \"#d8576b\"], [0.6666666666666666, \"#ed7953\"], [0.7777777777777778, \"#fb9f3a\"], [0.8888888888888888, \"#fdca26\"], [1.0, \"#f0f921\"]], \"type\": \"heatmap\"}], \"heatmapgl\": [{\"colorbar\": {\"outlinewidth\": 0, \"ticks\": \"\"}, \"colorscale\": [[0.0, \"#0d0887\"], [0.1111111111111111, \"#46039f\"], [0.2222222222222222, \"#7201a8\"], [0.3333333333333333, \"#9c179e\"], [0.4444444444444444, \"#bd3786\"], [0.5555555555555556, \"#d8576b\"], [0.6666666666666666, \"#ed7953\"], [0.7777777777777778, \"#fb9f3a\"], [0.8888888888888888, \"#fdca26\"], [1.0, \"#f0f921\"]], \"type\": \"heatmapgl\"}], \"histogram\": [{\"marker\": {\"colorbar\": {\"outlinewidth\": 0, \"ticks\": \"\"}}, \"type\": \"histogram\"}], \"histogram2d\": [{\"colorbar\": {\"outlinewidth\": 0, \"ticks\": \"\"}, \"colorscale\": [[0.0, \"#0d0887\"], [0.1111111111111111, \"#46039f\"], [0.2222222222222222, \"#7201a8\"], [0.3333333333333333, \"#9c179e\"], [0.4444444444444444, \"#bd3786\"], [0.5555555555555556, \"#d8576b\"], [0.6666666666666666, \"#ed7953\"], [0.7777777777777778, \"#fb9f3a\"], [0.8888888888888888, \"#fdca26\"], [1.0, \"#f0f921\"]], \"type\": \"histogram2d\"}], \"histogram2dcontour\": [{\"colorbar\": {\"outlinewidth\": 0, \"ticks\": \"\"}, \"colorscale\": [[0.0, \"#0d0887\"], [0.1111111111111111, \"#46039f\"], [0.2222222222222222, \"#7201a8\"], [0.3333333333333333, \"#9c179e\"], [0.4444444444444444, \"#bd3786\"], [0.5555555555555556, \"#d8576b\"], [0.6666666666666666, \"#ed7953\"], [0.7777777777777778, \"#fb9f3a\"], [0.8888888888888888, \"#fdca26\"], [1.0, \"#f0f921\"]], \"type\": \"histogram2dcontour\"}], \"mesh3d\": [{\"colorbar\": {\"outlinewidth\": 0, \"ticks\": \"\"}, \"type\": \"mesh3d\"}], \"parcoords\": [{\"line\": {\"colorbar\": {\"outlinewidth\": 0, \"ticks\": \"\"}}, \"type\": \"parcoords\"}], \"pie\": [{\"automargin\": true, \"type\": \"pie\"}], \"scatter\": [{\"marker\": {\"colorbar\": {\"outlinewidth\": 0, \"ticks\": \"\"}}, \"type\": \"scatter\"}], \"scatter3d\": [{\"line\": {\"colorbar\": {\"outlinewidth\": 0, \"ticks\": \"\"}}, \"marker\": {\"colorbar\": {\"outlinewidth\": 0, \"ticks\": \"\"}}, \"type\": \"scatter3d\"}], \"scattercarpet\": [{\"marker\": {\"colorbar\": {\"outlinewidth\": 0, \"ticks\": \"\"}}, \"type\": \"scattercarpet\"}], \"scattergeo\": [{\"marker\": {\"colorbar\": {\"outlinewidth\": 0, \"ticks\": \"\"}}, \"type\": \"scattergeo\"}], \"scattergl\": [{\"marker\": {\"colorbar\": {\"outlinewidth\": 0, \"ticks\": \"\"}}, \"type\": \"scattergl\"}], \"scattermapbox\": [{\"marker\": {\"colorbar\": {\"outlinewidth\": 0, \"ticks\": \"\"}}, \"type\": \"scattermapbox\"}], \"scatterpolar\": [{\"marker\": {\"colorbar\": {\"outlinewidth\": 0, \"ticks\": \"\"}}, \"type\": \"scatterpolar\"}], \"scatterpolargl\": [{\"marker\": {\"colorbar\": {\"outlinewidth\": 0, \"ticks\": \"\"}}, \"type\": \"scatterpolargl\"}], \"scatterternary\": [{\"marker\": {\"colorbar\": {\"outlinewidth\": 0, \"ticks\": \"\"}}, \"type\": \"scatterternary\"}], \"surface\": [{\"colorbar\": {\"outlinewidth\": 0, \"ticks\": \"\"}, \"colorscale\": [[0.0, \"#0d0887\"], [0.1111111111111111, \"#46039f\"], [0.2222222222222222, \"#7201a8\"], [0.3333333333333333, \"#9c179e\"], [0.4444444444444444, \"#bd3786\"], [0.5555555555555556, \"#d8576b\"], [0.6666666666666666, \"#ed7953\"], [0.7777777777777778, \"#fb9f3a\"], [0.8888888888888888, \"#fdca26\"], [1.0, \"#f0f921\"]], \"type\": \"surface\"}], \"table\": [{\"cells\": {\"fill\": {\"color\": \"#EBF0F8\"}, \"line\": {\"color\": \"white\"}}, \"header\": {\"fill\": {\"color\": \"#C8D4E3\"}, \"line\": {\"color\": \"white\"}}, \"type\": \"table\"}]}, \"layout\": {\"annotationdefaults\": {\"arrowcolor\": \"#2a3f5f\", \"arrowhead\": 0, \"arrowwidth\": 1}, \"coloraxis\": {\"colorbar\": {\"outlinewidth\": 0, \"ticks\": \"\"}}, \"colorscale\": {\"diverging\": [[0, \"#8e0152\"], [0.1, \"#c51b7d\"], [0.2, \"#de77ae\"], [0.3, \"#f1b6da\"], [0.4, \"#fde0ef\"], [0.5, \"#f7f7f7\"], [0.6, \"#e6f5d0\"], [0.7, \"#b8e186\"], [0.8, \"#7fbc41\"], [0.9, \"#4d9221\"], [1, \"#276419\"]], \"sequential\": [[0.0, \"#0d0887\"], [0.1111111111111111, \"#46039f\"], [0.2222222222222222, \"#7201a8\"], [0.3333333333333333, \"#9c179e\"], [0.4444444444444444, \"#bd3786\"], [0.5555555555555556, \"#d8576b\"], [0.6666666666666666, \"#ed7953\"], [0.7777777777777778, \"#fb9f3a\"], [0.8888888888888888, \"#fdca26\"], [1.0, \"#f0f921\"]], \"sequentialminus\": [[0.0, \"#0d0887\"], [0.1111111111111111, \"#46039f\"], [0.2222222222222222, \"#7201a8\"], [0.3333333333333333, \"#9c179e\"], [0.4444444444444444, \"#bd3786\"], [0.5555555555555556, \"#d8576b\"], [0.6666666666666666, \"#ed7953\"], [0.7777777777777778, \"#fb9f3a\"], [0.8888888888888888, \"#fdca26\"], [1.0, \"#f0f921\"]]}, \"colorway\": [\"#636efa\", \"#EF553B\", \"#00cc96\", \"#ab63fa\", \"#FFA15A\", \"#19d3f3\", \"#FF6692\", \"#B6E880\", \"#FF97FF\", \"#FECB52\"], \"font\": {\"color\": \"#2a3f5f\"}, \"geo\": {\"bgcolor\": \"white\", \"lakecolor\": \"white\", \"landcolor\": \"#E5ECF6\", \"showlakes\": true, \"showland\": true, \"subunitcolor\": \"white\"}, \"hoverlabel\": {\"align\": \"left\"}, \"hovermode\": \"closest\", \"mapbox\": {\"style\": \"light\"}, \"paper_bgcolor\": \"white\", \"plot_bgcolor\": \"#E5ECF6\", \"polar\": {\"angularaxis\": {\"gridcolor\": \"white\", \"linecolor\": \"white\", \"ticks\": \"\"}, \"bgcolor\": \"#E5ECF6\", \"radialaxis\": {\"gridcolor\": \"white\", \"linecolor\": \"white\", \"ticks\": \"\"}}, \"scene\": {\"xaxis\": {\"backgroundcolor\": \"#E5ECF6\", \"gridcolor\": \"white\", \"gridwidth\": 2, \"linecolor\": \"white\", \"showbackground\": true, \"ticks\": \"\", \"zerolinecolor\": \"white\"}, \"yaxis\": {\"backgroundcolor\": \"#E5ECF6\", \"gridcolor\": \"white\", \"gridwidth\": 2, \"linecolor\": \"white\", \"showbackground\": true, \"ticks\": \"\", \"zerolinecolor\": \"white\"}, \"zaxis\": {\"backgroundcolor\": \"#E5ECF6\", \"gridcolor\": \"white\", \"gridwidth\": 2, \"linecolor\": \"white\", \"showbackground\": true, \"ticks\": \"\", \"zerolinecolor\": \"white\"}}, \"shapedefaults\": {\"line\": {\"color\": \"#2a3f5f\"}}, \"ternary\": {\"aaxis\": {\"gridcolor\": \"white\", \"linecolor\": \"white\", \"ticks\": \"\"}, \"baxis\": {\"gridcolor\": \"white\", \"linecolor\": \"white\", \"ticks\": \"\"}, \"bgcolor\": \"#E5ECF6\", \"caxis\": {\"gridcolor\": \"white\", \"linecolor\": \"white\", \"ticks\": \"\"}}, \"title\": {\"x\": 0.05}, \"xaxis\": {\"automargin\": true, \"gridcolor\": \"white\", \"linecolor\": \"white\", \"ticks\": \"\", \"title\": {\"standoff\": 15}, \"zerolinecolor\": \"white\", \"zerolinewidth\": 2}, \"yaxis\": {\"automargin\": true, \"gridcolor\": \"white\", \"linecolor\": \"white\", \"ticks\": \"\", \"title\": {\"standoff\": 15}, \"zerolinecolor\": \"white\", \"zerolinewidth\": 2}}}},\n",
              "                        {\"responsive\": true}\n",
              "                    ).then(function(){\n",
              "                            \n",
              "var gd = document.getElementById('7d930301-4d10-4594-a406-a6e5330e9099');\n",
              "var x = new MutationObserver(function (mutations, observer) {{\n",
              "        var display = window.getComputedStyle(gd).display;\n",
              "        if (!display || display === 'none') {{\n",
              "            console.log([gd, 'removed!']);\n",
              "            Plotly.purge(gd);\n",
              "            observer.disconnect();\n",
              "        }}\n",
              "}});\n",
              "\n",
              "// Listen for the removal of the full notebook cells\n",
              "var notebookContainer = gd.closest('#notebook-container');\n",
              "if (notebookContainer) {{\n",
              "    x.observe(notebookContainer, {childList: true});\n",
              "}}\n",
              "\n",
              "// Listen for the clearing of the current output cell\n",
              "var outputEl = gd.closest('.output');\n",
              "if (outputEl) {{\n",
              "    x.observe(outputEl, {childList: true});\n",
              "}}\n",
              "\n",
              "                        })\n",
              "                };\n",
              "                \n",
              "            </script>\n",
              "        </div>\n",
              "</body>\n",
              "</html>"
            ]
          },
          "metadata": {}
        }
      ]
    },
    {
      "cell_type": "code",
      "source": [
        "Total_features = np.concatenate((Xtrain , Xtest) , axis=0)"
      ],
      "metadata": {
        "id": "hx7EG2qM4jcE"
      },
      "execution_count": 38,
      "outputs": []
    },
    {
      "cell_type": "code",
      "source": [
        "Total_Targets = np.concatenate((Ytrain , Ytest) , axis=0) "
      ],
      "metadata": {
        "id": "W9bGlKOe4r-g"
      },
      "execution_count": 39,
      "outputs": []
    },
    {
      "cell_type": "code",
      "source": [
        "Predictions = model.predict(Total_features)"
      ],
      "metadata": {
        "id": "xwBiM7_J5eTv"
      },
      "execution_count": 40,
      "outputs": []
    },
    {
      "cell_type": "code",
      "source": [
        "Predictions = Target_Scaler.inverse_transform(Predictions)\n",
        "Actual = Target_Scaler.inverse_transform(Total_Targets)"
      ],
      "metadata": {
        "id": "p2wwc1B-6lCm"
      },
      "execution_count": 41,
      "outputs": []
    },
    {
      "cell_type": "code",
      "source": [
        "Predictions = np.squeeze(Predictions , axis =1)\n",
        "Actual = np.squeeze(Actual , axis = 1)"
      ],
      "metadata": {
        "id": "B4lVKPic6x7n"
      },
      "execution_count": 42,
      "outputs": []
    },
    {
      "cell_type": "code",
      "source": [
        "# check the Trend in Volume Trade\n",
        "fig =  go.Figure()\n",
        "\n",
        "fig.add_trace(go.Scatter(x = data.index, y= Actual , mode = 'lines' , name='Actual'))\n",
        "fig.add_trace(go.Scatter(x=data.index , y =Predictions , mode = 'lines', name = 'Predicted' ))\n",
        "fig.show()"
      ],
      "metadata": {
        "colab": {
          "base_uri": "https://localhost:8080/",
          "height": 542
        },
        "id": "GU6PPOYe7Cyp",
        "outputId": "1e1ec05a-699d-4766-94fe-7266771ba5fe"
      },
      "execution_count": 43,
      "outputs": [
        {
          "output_type": "display_data",
          "data": {
            "text/html": [
              "<html>\n",
              "<head><meta charset=\"utf-8\" /></head>\n",
              "<body>\n",
              "    <div>\n",
              "            <script src=\"https://cdnjs.cloudflare.com/ajax/libs/mathjax/2.7.5/MathJax.js?config=TeX-AMS-MML_SVG\"></script><script type=\"text/javascript\">if (window.MathJax) {MathJax.Hub.Config({SVG: {font: \"STIX-Web\"}});}</script>\n",
              "                <script type=\"text/javascript\">window.PlotlyConfig = {MathJaxConfig: 'local'};</script>\n",
              "        <script src=\"https://cdn.plot.ly/plotly-latest.min.js\"></script>    \n",
              "            <div id=\"c9e87752-1a56-43e5-9425-45018a69a7d0\" class=\"plotly-graph-div\" style=\"height:525px; width:100%;\"></div>\n",
              "            <script type=\"text/javascript\">\n",
              "                \n",
              "                    window.PLOTLYENV=window.PLOTLYENV || {};\n",
              "                    \n",
              "                if (document.getElementById(\"c9e87752-1a56-43e5-9425-45018a69a7d0\")) {\n",
              "                    Plotly.newPlot(\n",
              "                        'c9e87752-1a56-43e5-9425-45018a69a7d0',\n",
              "                        [{\"mode\": \"lines\", \"name\": \"Actual\", \"type\": \"scatter\", \"x\": [\"2018-01-02T00:00:00\", \"2018-01-03T00:00:00\", \"2018-01-04T00:00:00\", \"2018-01-05T00:00:00\", \"2018-01-08T00:00:00\", \"2018-01-09T00:00:00\", \"2018-01-10T00:00:00\", \"2018-01-11T00:00:00\", \"2018-01-12T00:00:00\", \"2018-01-16T00:00:00\", \"2018-01-17T00:00:00\", \"2018-01-18T00:00:00\", \"2018-01-19T00:00:00\", \"2018-01-22T00:00:00\", \"2018-01-23T00:00:00\", \"2018-01-24T00:00:00\", \"2018-01-25T00:00:00\", \"2018-01-26T00:00:00\", \"2018-01-29T00:00:00\", \"2018-01-30T00:00:00\", \"2018-01-31T00:00:00\", \"2018-02-01T00:00:00\", \"2018-02-02T00:00:00\", \"2018-02-05T00:00:00\", \"2018-02-06T00:00:00\", \"2018-02-07T00:00:00\", \"2018-02-08T00:00:00\", \"2018-02-09T00:00:00\", \"2018-02-12T00:00:00\", \"2018-02-13T00:00:00\", \"2018-02-14T00:00:00\", \"2018-02-15T00:00:00\", \"2018-02-16T00:00:00\", \"2018-02-20T00:00:00\", \"2018-02-21T00:00:00\", \"2018-02-22T00:00:00\", \"2018-02-23T00:00:00\", \"2018-02-26T00:00:00\", \"2018-02-27T00:00:00\", \"2018-02-28T00:00:00\", \"2018-03-01T00:00:00\", \"2018-03-02T00:00:00\", \"2018-03-05T00:00:00\", \"2018-03-06T00:00:00\", \"2018-03-07T00:00:00\", \"2018-03-08T00:00:00\", \"2018-03-09T00:00:00\", \"2018-03-12T00:00:00\", \"2018-03-13T00:00:00\", \"2018-03-14T00:00:00\", \"2018-03-15T00:00:00\", \"2018-03-16T00:00:00\", \"2018-03-19T00:00:00\", \"2018-03-20T00:00:00\", \"2018-03-21T00:00:00\", \"2018-03-22T00:00:00\", \"2018-03-23T00:00:00\", \"2018-03-26T00:00:00\", \"2018-03-27T00:00:00\", \"2018-03-28T00:00:00\", \"2018-03-29T00:00:00\", \"2018-04-02T00:00:00\", \"2018-04-03T00:00:00\", \"2018-04-04T00:00:00\", \"2018-04-05T00:00:00\", \"2018-04-06T00:00:00\", \"2018-04-09T00:00:00\", \"2018-04-10T00:00:00\", \"2018-04-11T00:00:00\", \"2018-04-12T00:00:00\", \"2018-04-13T00:00:00\", \"2018-04-16T00:00:00\", \"2018-04-17T00:00:00\", \"2018-04-18T00:00:00\", \"2018-04-19T00:00:00\", \"2018-04-20T00:00:00\", \"2018-04-23T00:00:00\", \"2018-04-24T00:00:00\", \"2018-04-25T00:00:00\", \"2018-04-26T00:00:00\", \"2018-04-27T00:00:00\", \"2018-04-30T00:00:00\", \"2018-05-01T00:00:00\", \"2018-05-02T00:00:00\", \"2018-05-03T00:00:00\", \"2018-05-04T00:00:00\", \"2018-05-07T00:00:00\", \"2018-05-08T00:00:00\", \"2018-05-09T00:00:00\", \"2018-05-10T00:00:00\", \"2018-05-11T00:00:00\", \"2018-05-14T00:00:00\", \"2018-05-15T00:00:00\", \"2018-05-16T00:00:00\", \"2018-05-17T00:00:00\", \"2018-05-18T00:00:00\", \"2018-05-21T00:00:00\", \"2018-05-22T00:00:00\", \"2018-05-23T00:00:00\", \"2018-05-24T00:00:00\", \"2018-05-25T00:00:00\", \"2018-05-29T00:00:00\", \"2018-05-30T00:00:00\", \"2018-05-31T00:00:00\", \"2018-06-01T00:00:00\", \"2018-06-04T00:00:00\", \"2018-06-05T00:00:00\", \"2018-06-06T00:00:00\", \"2018-06-07T00:00:00\", \"2018-06-08T00:00:00\", \"2018-06-11T00:00:00\", \"2018-06-12T00:00:00\", \"2018-06-13T00:00:00\", \"2018-06-14T00:00:00\", \"2018-06-15T00:00:00\", \"2018-06-18T00:00:00\", \"2018-06-19T00:00:00\", \"2018-06-20T00:00:00\", \"2018-06-21T00:00:00\", \"2018-06-22T00:00:00\", \"2018-06-25T00:00:00\", \"2018-06-26T00:00:00\", \"2018-06-27T00:00:00\", \"2018-06-28T00:00:00\", \"2018-06-29T00:00:00\", \"2018-07-02T00:00:00\", \"2018-07-03T00:00:00\", \"2018-07-05T00:00:00\", \"2018-07-06T00:00:00\", \"2018-07-09T00:00:00\", \"2018-07-10T00:00:00\", \"2018-07-11T00:00:00\", \"2018-07-12T00:00:00\", \"2018-07-13T00:00:00\", \"2018-07-16T00:00:00\", \"2018-07-17T00:00:00\", \"2018-07-18T00:00:00\", \"2018-07-19T00:00:00\", \"2018-07-20T00:00:00\", \"2018-07-23T00:00:00\", \"2018-07-24T00:00:00\", \"2018-07-25T00:00:00\", \"2018-07-26T00:00:00\", \"2018-07-27T00:00:00\", \"2018-07-30T00:00:00\", \"2018-07-31T00:00:00\", \"2018-08-01T00:00:00\", \"2018-08-02T00:00:00\", \"2018-08-03T00:00:00\", \"2018-08-06T00:00:00\", \"2018-08-07T00:00:00\", \"2018-08-08T00:00:00\", \"2018-08-09T00:00:00\", \"2018-08-10T00:00:00\", \"2018-08-13T00:00:00\", \"2018-08-14T00:00:00\", \"2018-08-15T00:00:00\", \"2018-08-16T00:00:00\", \"2018-08-17T00:00:00\", \"2018-08-20T00:00:00\", \"2018-08-21T00:00:00\", \"2018-08-22T00:00:00\", \"2018-08-23T00:00:00\", \"2018-08-24T00:00:00\", \"2018-08-27T00:00:00\", \"2018-08-28T00:00:00\", \"2018-08-29T00:00:00\", \"2018-08-30T00:00:00\", \"2018-08-31T00:00:00\", \"2018-09-04T00:00:00\", \"2018-09-05T00:00:00\", \"2018-09-06T00:00:00\", \"2018-09-07T00:00:00\", \"2018-09-10T00:00:00\", \"2018-09-11T00:00:00\", \"2018-09-12T00:00:00\", \"2018-09-13T00:00:00\", \"2018-09-14T00:00:00\", \"2018-09-17T00:00:00\", \"2018-09-18T00:00:00\", \"2018-09-19T00:00:00\", \"2018-09-20T00:00:00\", \"2018-09-21T00:00:00\", \"2018-09-24T00:00:00\", \"2018-09-25T00:00:00\", \"2018-09-26T00:00:00\", \"2018-09-27T00:00:00\", \"2018-09-28T00:00:00\", \"2018-10-01T00:00:00\", \"2018-10-02T00:00:00\", \"2018-10-03T00:00:00\", \"2018-10-04T00:00:00\", \"2018-10-05T00:00:00\", \"2018-10-08T00:00:00\", \"2018-10-09T00:00:00\", \"2018-10-10T00:00:00\", \"2018-10-11T00:00:00\", \"2018-10-12T00:00:00\", \"2018-10-15T00:00:00\", \"2018-10-16T00:00:00\", \"2018-10-17T00:00:00\", \"2018-10-18T00:00:00\", \"2018-10-19T00:00:00\", \"2018-10-22T00:00:00\", \"2018-10-23T00:00:00\", \"2018-10-24T00:00:00\", \"2018-10-25T00:00:00\", \"2018-10-26T00:00:00\", \"2018-10-29T00:00:00\", \"2018-10-30T00:00:00\", \"2018-10-31T00:00:00\", \"2018-11-01T00:00:00\", \"2018-11-02T00:00:00\", \"2018-11-05T00:00:00\", \"2018-11-06T00:00:00\", \"2018-11-07T00:00:00\", \"2018-11-08T00:00:00\", \"2018-11-09T00:00:00\", \"2018-11-12T00:00:00\", \"2018-11-13T00:00:00\", \"2018-11-14T00:00:00\", \"2018-11-15T00:00:00\", \"2018-11-16T00:00:00\", \"2018-11-19T00:00:00\", \"2018-11-20T00:00:00\", \"2018-11-21T00:00:00\", \"2018-11-23T00:00:00\", \"2018-11-26T00:00:00\", \"2018-11-27T00:00:00\", \"2018-11-28T00:00:00\", \"2018-11-29T00:00:00\", \"2018-11-30T00:00:00\", \"2018-12-03T00:00:00\", \"2018-12-04T00:00:00\", \"2018-12-06T00:00:00\", \"2018-12-07T00:00:00\", \"2018-12-10T00:00:00\", \"2018-12-11T00:00:00\", \"2018-12-12T00:00:00\", \"2018-12-13T00:00:00\", \"2018-12-14T00:00:00\", \"2018-12-17T00:00:00\", \"2018-12-18T00:00:00\", \"2018-12-19T00:00:00\", \"2018-12-20T00:00:00\", \"2018-12-21T00:00:00\", \"2018-12-24T00:00:00\", \"2018-12-26T00:00:00\", \"2018-12-27T00:00:00\", \"2018-12-28T00:00:00\", \"2018-12-31T00:00:00\", \"2019-01-02T00:00:00\", \"2019-01-03T00:00:00\", \"2019-01-04T00:00:00\", \"2019-01-07T00:00:00\", \"2019-01-08T00:00:00\", \"2019-01-09T00:00:00\", \"2019-01-10T00:00:00\", \"2019-01-11T00:00:00\", \"2019-01-14T00:00:00\", \"2019-01-15T00:00:00\", \"2019-01-16T00:00:00\", \"2019-01-17T00:00:00\", \"2019-01-18T00:00:00\", \"2019-01-22T00:00:00\", \"2019-01-23T00:00:00\", \"2019-01-24T00:00:00\", \"2019-01-25T00:00:00\", \"2019-01-28T00:00:00\", \"2019-01-29T00:00:00\", \"2019-01-30T00:00:00\", \"2019-01-31T00:00:00\", \"2019-02-01T00:00:00\", \"2019-02-04T00:00:00\", \"2019-02-05T00:00:00\", \"2019-02-06T00:00:00\", \"2019-02-07T00:00:00\", \"2019-02-08T00:00:00\", \"2019-02-11T00:00:00\", \"2019-02-12T00:00:00\", \"2019-02-13T00:00:00\", \"2019-02-14T00:00:00\", \"2019-02-15T00:00:00\", \"2019-02-19T00:00:00\", \"2019-02-20T00:00:00\", \"2019-02-21T00:00:00\", \"2019-02-22T00:00:00\", \"2019-02-25T00:00:00\", \"2019-02-26T00:00:00\", \"2019-02-27T00:00:00\", \"2019-02-28T00:00:00\", \"2019-03-01T00:00:00\", \"2019-03-04T00:00:00\", \"2019-03-05T00:00:00\", \"2019-03-06T00:00:00\", \"2019-03-07T00:00:00\", \"2019-03-08T00:00:00\", \"2019-03-11T00:00:00\", \"2019-03-12T00:00:00\", \"2019-03-13T00:00:00\", \"2019-03-14T00:00:00\", \"2019-03-15T00:00:00\", \"2019-03-18T00:00:00\", \"2019-03-19T00:00:00\", \"2019-03-20T00:00:00\", \"2019-03-21T00:00:00\", \"2019-03-22T00:00:00\", \"2019-03-25T00:00:00\", \"2019-03-26T00:00:00\", \"2019-03-27T00:00:00\", \"2019-03-28T00:00:00\", \"2019-03-29T00:00:00\", \"2019-04-01T00:00:00\", \"2019-04-02T00:00:00\", \"2019-04-03T00:00:00\", \"2019-04-04T00:00:00\", \"2019-04-05T00:00:00\", \"2019-04-08T00:00:00\", \"2019-04-09T00:00:00\", \"2019-04-10T00:00:00\", \"2019-04-11T00:00:00\", \"2019-04-12T00:00:00\", \"2019-04-15T00:00:00\", \"2019-04-16T00:00:00\", \"2019-04-17T00:00:00\", \"2019-04-18T00:00:00\", \"2019-04-22T00:00:00\", \"2019-04-23T00:00:00\", \"2019-04-24T00:00:00\", \"2019-04-25T00:00:00\", \"2019-04-26T00:00:00\", \"2019-04-29T00:00:00\", \"2019-04-30T00:00:00\", \"2019-05-01T00:00:00\", \"2019-05-02T00:00:00\", \"2019-05-03T00:00:00\", \"2019-05-06T00:00:00\", \"2019-05-07T00:00:00\", \"2019-05-08T00:00:00\", \"2019-05-09T00:00:00\", \"2019-05-10T00:00:00\", \"2019-05-13T00:00:00\", \"2019-05-14T00:00:00\", \"2019-05-15T00:00:00\", \"2019-05-16T00:00:00\", \"2019-05-17T00:00:00\", \"2019-05-20T00:00:00\", \"2019-05-21T00:00:00\", \"2019-05-22T00:00:00\", \"2019-05-23T00:00:00\", \"2019-05-24T00:00:00\", \"2019-05-28T00:00:00\", \"2019-05-29T00:00:00\", \"2019-05-30T00:00:00\", \"2019-05-31T00:00:00\", \"2019-06-03T00:00:00\", \"2019-06-04T00:00:00\", \"2019-06-05T00:00:00\", \"2019-06-06T00:00:00\", \"2019-06-07T00:00:00\", \"2019-06-10T00:00:00\", \"2019-06-11T00:00:00\", \"2019-06-12T00:00:00\", \"2019-06-13T00:00:00\", \"2019-06-14T00:00:00\", \"2019-06-17T00:00:00\", \"2019-06-18T00:00:00\", \"2019-06-19T00:00:00\", \"2019-06-20T00:00:00\", \"2019-06-21T00:00:00\", \"2019-06-24T00:00:00\", \"2019-06-25T00:00:00\", \"2019-06-26T00:00:00\", \"2019-06-27T00:00:00\", \"2019-06-28T00:00:00\", \"2019-07-01T00:00:00\", \"2019-07-02T00:00:00\", \"2019-07-03T00:00:00\", \"2019-07-05T00:00:00\", \"2019-07-08T00:00:00\", \"2019-07-09T00:00:00\", \"2019-07-10T00:00:00\", \"2019-07-11T00:00:00\", \"2019-07-12T00:00:00\", \"2019-07-15T00:00:00\", \"2019-07-16T00:00:00\", \"2019-07-17T00:00:00\", \"2019-07-18T00:00:00\", \"2019-07-19T00:00:00\", \"2019-07-22T00:00:00\", \"2019-07-23T00:00:00\", \"2019-07-24T00:00:00\", \"2019-07-25T00:00:00\", \"2019-07-26T00:00:00\", \"2019-07-29T00:00:00\", \"2019-07-30T00:00:00\", \"2019-07-31T00:00:00\", \"2019-08-01T00:00:00\", \"2019-08-02T00:00:00\", \"2019-08-05T00:00:00\", \"2019-08-06T00:00:00\", \"2019-08-07T00:00:00\", \"2019-08-08T00:00:00\", \"2019-08-09T00:00:00\", \"2019-08-12T00:00:00\", \"2019-08-13T00:00:00\", \"2019-08-14T00:00:00\", \"2019-08-15T00:00:00\", \"2019-08-16T00:00:00\", \"2019-08-19T00:00:00\", \"2019-08-20T00:00:00\", \"2019-08-21T00:00:00\", \"2019-08-22T00:00:00\", \"2019-08-23T00:00:00\", \"2019-08-26T00:00:00\", \"2019-08-27T00:00:00\", \"2019-08-28T00:00:00\", \"2019-08-29T00:00:00\", \"2019-08-30T00:00:00\", \"2019-09-03T00:00:00\", \"2019-09-04T00:00:00\", \"2019-09-05T00:00:00\", \"2019-09-06T00:00:00\", \"2019-09-09T00:00:00\", \"2019-09-10T00:00:00\", \"2019-09-11T00:00:00\", \"2019-09-12T00:00:00\", \"2019-09-13T00:00:00\", \"2019-09-16T00:00:00\", \"2019-09-17T00:00:00\", \"2019-09-18T00:00:00\", \"2019-09-19T00:00:00\", \"2019-09-20T00:00:00\", \"2019-09-23T00:00:00\", \"2019-09-24T00:00:00\", \"2019-09-25T00:00:00\", \"2019-09-26T00:00:00\", \"2019-09-27T00:00:00\", \"2019-09-30T00:00:00\", \"2019-10-01T00:00:00\", \"2019-10-02T00:00:00\", \"2019-10-03T00:00:00\", \"2019-10-04T00:00:00\", \"2019-10-07T00:00:00\", \"2019-10-08T00:00:00\", \"2019-10-09T00:00:00\", \"2019-10-10T00:00:00\", \"2019-10-11T00:00:00\", \"2019-10-14T00:00:00\", \"2019-10-15T00:00:00\", \"2019-10-16T00:00:00\", \"2019-10-17T00:00:00\", \"2019-10-18T00:00:00\", \"2019-10-21T00:00:00\", \"2019-10-22T00:00:00\", \"2019-10-23T00:00:00\", \"2019-10-24T00:00:00\", \"2019-10-25T00:00:00\", \"2019-10-28T00:00:00\", \"2019-10-29T00:00:00\", \"2019-10-30T00:00:00\", \"2019-10-31T00:00:00\", \"2019-11-01T00:00:00\", \"2019-11-04T00:00:00\", \"2019-11-05T00:00:00\", \"2019-11-06T00:00:00\", \"2019-11-07T00:00:00\", \"2019-11-08T00:00:00\", \"2019-11-11T00:00:00\", \"2019-11-12T00:00:00\", \"2019-11-13T00:00:00\", \"2019-11-14T00:00:00\", \"2019-11-15T00:00:00\", \"2019-11-18T00:00:00\", \"2019-11-19T00:00:00\", \"2019-11-20T00:00:00\", \"2019-11-21T00:00:00\", \"2019-11-22T00:00:00\", \"2019-11-25T00:00:00\", \"2019-11-26T00:00:00\", \"2019-11-27T00:00:00\", \"2019-11-29T00:00:00\", \"2019-12-02T00:00:00\", \"2019-12-03T00:00:00\", \"2019-12-04T00:00:00\", \"2019-12-05T00:00:00\", \"2019-12-06T00:00:00\", \"2019-12-09T00:00:00\", \"2019-12-10T00:00:00\", \"2019-12-11T00:00:00\", \"2019-12-12T00:00:00\", \"2019-12-13T00:00:00\", \"2019-12-16T00:00:00\", \"2019-12-17T00:00:00\", \"2019-12-18T00:00:00\", \"2019-12-19T00:00:00\", \"2019-12-20T00:00:00\", \"2019-12-23T00:00:00\", \"2019-12-24T00:00:00\", \"2019-12-26T00:00:00\", \"2019-12-27T00:00:00\", \"2019-12-30T00:00:00\", \"2019-12-31T00:00:00\", \"2020-01-02T00:00:00\", \"2020-01-03T00:00:00\", \"2020-01-06T00:00:00\", \"2020-01-07T00:00:00\", \"2020-01-08T00:00:00\", \"2020-01-09T00:00:00\", \"2020-01-10T00:00:00\", \"2020-01-13T00:00:00\", \"2020-01-14T00:00:00\", \"2020-01-15T00:00:00\", \"2020-01-16T00:00:00\", \"2020-01-17T00:00:00\", \"2020-01-21T00:00:00\", \"2020-01-22T00:00:00\", \"2020-01-23T00:00:00\", \"2020-01-24T00:00:00\", \"2020-01-27T00:00:00\", \"2020-01-28T00:00:00\", \"2020-01-29T00:00:00\", \"2020-01-30T00:00:00\", \"2020-01-31T00:00:00\", \"2020-02-03T00:00:00\", \"2020-02-04T00:00:00\", \"2020-02-05T00:00:00\", \"2020-02-06T00:00:00\", \"2020-02-07T00:00:00\", \"2020-02-10T00:00:00\", \"2020-02-11T00:00:00\", \"2020-02-12T00:00:00\", \"2020-02-13T00:00:00\", \"2020-02-14T00:00:00\", \"2020-02-18T00:00:00\", \"2020-02-19T00:00:00\", \"2020-02-20T00:00:00\", \"2020-02-21T00:00:00\", \"2020-02-24T00:00:00\", \"2020-02-25T00:00:00\", \"2020-02-26T00:00:00\", \"2020-02-27T00:00:00\", \"2020-02-28T00:00:00\", \"2020-03-02T00:00:00\", \"2020-03-03T00:00:00\", \"2020-03-04T00:00:00\", \"2020-03-05T00:00:00\", \"2020-03-06T00:00:00\", \"2020-03-09T00:00:00\", \"2020-03-10T00:00:00\", \"2020-03-11T00:00:00\", \"2020-03-12T00:00:00\", \"2020-03-13T00:00:00\", \"2020-03-16T00:00:00\", \"2020-03-17T00:00:00\", \"2020-03-18T00:00:00\", \"2020-03-19T00:00:00\", \"2020-03-20T00:00:00\", \"2020-03-23T00:00:00\", \"2020-03-24T00:00:00\", \"2020-03-25T00:00:00\", \"2020-03-26T00:00:00\", \"2020-03-27T00:00:00\", \"2020-03-30T00:00:00\", \"2020-03-31T00:00:00\", \"2020-04-01T00:00:00\", \"2020-04-02T00:00:00\", \"2020-04-03T00:00:00\", \"2020-04-06T00:00:00\", \"2020-04-07T00:00:00\", \"2020-04-08T00:00:00\", \"2020-04-09T00:00:00\", \"2020-04-13T00:00:00\", \"2020-04-14T00:00:00\", \"2020-04-15T00:00:00\", \"2020-04-16T00:00:00\", \"2020-04-17T00:00:00\", \"2020-04-20T00:00:00\", \"2020-04-21T00:00:00\", \"2020-04-22T00:00:00\", \"2020-04-23T00:00:00\", \"2020-04-24T00:00:00\", \"2020-04-27T00:00:00\", \"2020-04-28T00:00:00\", \"2020-04-29T00:00:00\", \"2020-04-30T00:00:00\", \"2020-05-01T00:00:00\", \"2020-05-04T00:00:00\", \"2020-05-05T00:00:00\", \"2020-05-06T00:00:00\", \"2020-05-07T00:00:00\", \"2020-05-08T00:00:00\", \"2020-05-11T00:00:00\", \"2020-05-12T00:00:00\", \"2020-05-13T00:00:00\", \"2020-05-14T00:00:00\", \"2020-05-15T00:00:00\", \"2020-05-18T00:00:00\", \"2020-05-19T00:00:00\", \"2020-05-20T00:00:00\", \"2020-05-21T00:00:00\", \"2020-05-22T00:00:00\", \"2020-05-26T00:00:00\", \"2020-05-27T00:00:00\", \"2020-05-28T00:00:00\", \"2020-05-29T00:00:00\", \"2020-06-01T00:00:00\", \"2020-06-02T00:00:00\", \"2020-06-03T00:00:00\", \"2020-06-04T00:00:00\", \"2020-06-05T00:00:00\", \"2020-06-08T00:00:00\", \"2020-06-09T00:00:00\", \"2020-06-10T00:00:00\", \"2020-06-11T00:00:00\", \"2020-06-12T00:00:00\", \"2020-06-15T00:00:00\", \"2020-06-16T00:00:00\", \"2020-06-17T00:00:00\", \"2020-06-18T00:00:00\", \"2020-06-19T00:00:00\", \"2020-06-22T00:00:00\", \"2020-06-23T00:00:00\", \"2020-06-24T00:00:00\", \"2020-06-25T00:00:00\", \"2020-06-26T00:00:00\", \"2020-06-29T00:00:00\", \"2020-06-30T00:00:00\", \"2020-07-01T00:00:00\", \"2020-07-02T00:00:00\", \"2020-07-06T00:00:00\", \"2020-07-07T00:00:00\", \"2020-07-08T00:00:00\", \"2020-07-09T00:00:00\", \"2020-07-10T00:00:00\", \"2020-07-13T00:00:00\", \"2020-07-14T00:00:00\", \"2020-07-15T00:00:00\", \"2020-07-16T00:00:00\", \"2020-07-17T00:00:00\", \"2020-07-20T00:00:00\", \"2020-07-21T00:00:00\", \"2020-07-22T00:00:00\", \"2020-07-23T00:00:00\", \"2020-07-24T00:00:00\", \"2020-07-27T00:00:00\", \"2020-07-28T00:00:00\", \"2020-07-29T00:00:00\", \"2020-07-30T00:00:00\", \"2020-07-31T00:00:00\", \"2020-08-03T00:00:00\", \"2020-08-04T00:00:00\", \"2020-08-05T00:00:00\", \"2020-08-06T00:00:00\", \"2020-08-07T00:00:00\", \"2020-08-10T00:00:00\", \"2020-08-11T00:00:00\", \"2020-08-12T00:00:00\", \"2020-08-13T00:00:00\", \"2020-08-14T00:00:00\", \"2020-08-17T00:00:00\", \"2020-08-18T00:00:00\", \"2020-08-19T00:00:00\", \"2020-08-20T00:00:00\", \"2020-08-21T00:00:00\", \"2020-08-24T00:00:00\", \"2020-08-25T00:00:00\", \"2020-08-26T00:00:00\", \"2020-08-27T00:00:00\", \"2020-08-28T00:00:00\", \"2020-08-31T00:00:00\", \"2020-09-01T00:00:00\", \"2020-09-02T00:00:00\", \"2020-09-03T00:00:00\", \"2020-09-04T00:00:00\", \"2020-09-08T00:00:00\", \"2020-09-09T00:00:00\", \"2020-09-10T00:00:00\", \"2020-09-11T00:00:00\", \"2020-09-14T00:00:00\", \"2020-09-15T00:00:00\", \"2020-09-16T00:00:00\", \"2020-09-17T00:00:00\", \"2020-09-18T00:00:00\", \"2020-09-21T00:00:00\", \"2020-09-22T00:00:00\", \"2020-09-23T00:00:00\", \"2020-09-24T00:00:00\", \"2020-09-25T00:00:00\", \"2020-09-28T00:00:00\", \"2020-09-29T00:00:00\", \"2020-09-30T00:00:00\", \"2020-10-01T00:00:00\", \"2020-10-02T00:00:00\", \"2020-10-05T00:00:00\", \"2020-10-06T00:00:00\", \"2020-10-07T00:00:00\", \"2020-10-08T00:00:00\", \"2020-10-09T00:00:00\", \"2020-10-12T00:00:00\", \"2020-10-13T00:00:00\", \"2020-10-14T00:00:00\", \"2020-10-15T00:00:00\", \"2020-10-16T00:00:00\", \"2020-10-19T00:00:00\", \"2020-10-20T00:00:00\", \"2020-10-21T00:00:00\", \"2020-10-22T00:00:00\", \"2020-10-23T00:00:00\", \"2020-10-26T00:00:00\", \"2020-10-27T00:00:00\", \"2020-10-28T00:00:00\", \"2020-10-29T00:00:00\", \"2020-10-30T00:00:00\", \"2020-11-02T00:00:00\", \"2020-11-03T00:00:00\", \"2020-11-04T00:00:00\", \"2020-11-05T00:00:00\", \"2020-11-06T00:00:00\", \"2020-11-09T00:00:00\", \"2020-11-10T00:00:00\", \"2020-11-11T00:00:00\", \"2020-11-12T00:00:00\", \"2020-11-13T00:00:00\", \"2020-11-16T00:00:00\", \"2020-11-17T00:00:00\", \"2020-11-18T00:00:00\", \"2020-11-19T00:00:00\", \"2020-11-20T00:00:00\", \"2020-11-23T00:00:00\", \"2020-11-24T00:00:00\", \"2020-11-25T00:00:00\", \"2020-11-27T00:00:00\", \"2020-11-30T00:00:00\", \"2020-12-01T00:00:00\", \"2020-12-02T00:00:00\", \"2020-12-03T00:00:00\", \"2020-12-04T00:00:00\", \"2020-12-07T00:00:00\", \"2020-12-08T00:00:00\", \"2020-12-09T00:00:00\", \"2020-12-10T00:00:00\", \"2020-12-11T00:00:00\", \"2020-12-14T00:00:00\", \"2020-12-15T00:00:00\", \"2020-12-16T00:00:00\", \"2020-12-17T00:00:00\", \"2020-12-18T00:00:00\", \"2020-12-21T00:00:00\", \"2020-12-22T00:00:00\", \"2020-12-23T00:00:00\", \"2020-12-24T00:00:00\", \"2020-12-28T00:00:00\", \"2020-12-29T00:00:00\", \"2020-12-30T00:00:00\", \"2020-12-31T00:00:00\", \"2021-01-04T00:00:00\", \"2021-01-05T00:00:00\", \"2021-01-06T00:00:00\", \"2021-01-07T00:00:00\", \"2021-01-08T00:00:00\", \"2021-01-11T00:00:00\", \"2021-01-12T00:00:00\", \"2021-01-13T00:00:00\", \"2021-01-14T00:00:00\", \"2021-01-15T00:00:00\", \"2021-01-19T00:00:00\", \"2021-01-20T00:00:00\", \"2021-01-21T00:00:00\", \"2021-01-22T00:00:00\", \"2021-01-25T00:00:00\", \"2021-01-26T00:00:00\", \"2021-01-27T00:00:00\", \"2021-01-28T00:00:00\", \"2021-01-29T00:00:00\", \"2021-02-01T00:00:00\", \"2021-02-02T00:00:00\", \"2021-02-03T00:00:00\", \"2021-02-04T00:00:00\", \"2021-02-05T00:00:00\", \"2021-02-08T00:00:00\", \"2021-02-09T00:00:00\", \"2021-02-10T00:00:00\", \"2021-02-11T00:00:00\", \"2021-02-12T00:00:00\", \"2021-02-16T00:00:00\", \"2021-02-17T00:00:00\", \"2021-02-18T00:00:00\", \"2021-02-19T00:00:00\", \"2021-02-22T00:00:00\", \"2021-02-23T00:00:00\", \"2021-02-24T00:00:00\", \"2021-02-25T00:00:00\", \"2021-02-26T00:00:00\", \"2021-03-01T00:00:00\", \"2021-03-02T00:00:00\", \"2021-03-03T00:00:00\", \"2021-03-04T00:00:00\", \"2021-03-05T00:00:00\", \"2021-03-08T00:00:00\", \"2021-03-09T00:00:00\", \"2021-03-10T00:00:00\", \"2021-03-11T00:00:00\", \"2021-03-12T00:00:00\", \"2021-03-15T00:00:00\", \"2021-03-16T00:00:00\", \"2021-03-17T00:00:00\", \"2021-03-18T00:00:00\", \"2021-03-19T00:00:00\", \"2021-03-22T00:00:00\", \"2021-03-23T00:00:00\", \"2021-03-24T00:00:00\", \"2021-03-25T00:00:00\", \"2021-03-26T00:00:00\", \"2021-03-29T00:00:00\", \"2021-03-30T00:00:00\", \"2021-03-31T00:00:00\", \"2021-04-01T00:00:00\", \"2021-04-05T00:00:00\", \"2021-04-06T00:00:00\", \"2021-04-07T00:00:00\", \"2021-04-08T00:00:00\", \"2021-04-09T00:00:00\", \"2021-04-12T00:00:00\", \"2021-04-13T00:00:00\", \"2021-04-14T00:00:00\", \"2021-04-15T00:00:00\", \"2021-04-16T00:00:00\", \"2021-04-19T00:00:00\", \"2021-04-20T00:00:00\", \"2021-04-21T00:00:00\", \"2021-04-22T00:00:00\", \"2021-04-23T00:00:00\", \"2021-04-26T00:00:00\", \"2021-04-27T00:00:00\", \"2021-04-28T00:00:00\", \"2021-04-29T00:00:00\", \"2021-04-30T00:00:00\", \"2021-05-03T00:00:00\", \"2021-05-04T00:00:00\", \"2021-05-05T00:00:00\", \"2021-05-06T00:00:00\", \"2021-05-07T00:00:00\", \"2021-05-10T00:00:00\", \"2021-05-11T00:00:00\", \"2021-05-12T00:00:00\", \"2021-05-13T00:00:00\", \"2021-05-14T00:00:00\", \"2021-05-17T00:00:00\", \"2021-05-18T00:00:00\", \"2021-05-19T00:00:00\", \"2021-05-20T00:00:00\", \"2021-05-21T00:00:00\", \"2021-05-24T00:00:00\", \"2021-05-25T00:00:00\", \"2021-05-26T00:00:00\", \"2021-05-27T00:00:00\", \"2021-05-28T00:00:00\", \"2021-06-01T00:00:00\", \"2021-06-02T00:00:00\", \"2021-06-03T00:00:00\", \"2021-06-04T00:00:00\", \"2021-06-07T00:00:00\", \"2021-06-08T00:00:00\", \"2021-06-09T00:00:00\", \"2021-06-10T00:00:00\", \"2021-06-11T00:00:00\", \"2021-06-14T00:00:00\", \"2021-06-15T00:00:00\", \"2021-06-16T00:00:00\", \"2021-06-17T00:00:00\", \"2021-06-18T00:00:00\", \"2021-06-21T00:00:00\", \"2021-06-22T00:00:00\", \"2021-06-23T00:00:00\", \"2021-06-24T00:00:00\", \"2021-06-25T00:00:00\", \"2021-06-28T00:00:00\", \"2021-06-29T00:00:00\", \"2021-06-30T00:00:00\", \"2021-07-01T00:00:00\", \"2021-07-02T00:00:00\", \"2021-07-06T00:00:00\", \"2021-07-07T00:00:00\", \"2021-07-08T00:00:00\", \"2021-07-09T00:00:00\", \"2021-07-12T00:00:00\", \"2021-07-13T00:00:00\", \"2021-07-14T00:00:00\", \"2021-07-15T00:00:00\", \"2021-07-16T00:00:00\", \"2021-07-19T00:00:00\", \"2021-07-20T00:00:00\", \"2021-07-21T00:00:00\", \"2021-07-22T00:00:00\", \"2021-07-23T00:00:00\", \"2021-07-26T00:00:00\", \"2021-07-27T00:00:00\", \"2021-07-28T00:00:00\", \"2021-07-29T00:00:00\", \"2021-07-30T00:00:00\", \"2021-08-02T00:00:00\", \"2021-08-03T00:00:00\", \"2021-08-04T00:00:00\", \"2021-08-05T00:00:00\", \"2021-08-06T00:00:00\", \"2021-08-09T00:00:00\", \"2021-08-10T00:00:00\", \"2021-08-11T00:00:00\", \"2021-08-12T00:00:00\", \"2021-08-13T00:00:00\", \"2021-08-16T00:00:00\", \"2021-08-17T00:00:00\", \"2021-08-18T00:00:00\", \"2021-08-19T00:00:00\", \"2021-08-20T00:00:00\", \"2021-08-23T00:00:00\", \"2021-08-24T00:00:00\", \"2021-08-25T00:00:00\", \"2021-08-26T00:00:00\", \"2021-08-27T00:00:00\", \"2021-08-30T00:00:00\", \"2021-08-31T00:00:00\", \"2021-09-01T00:00:00\", \"2021-09-02T00:00:00\", \"2021-09-03T00:00:00\", \"2021-09-07T00:00:00\", \"2021-09-08T00:00:00\", \"2021-09-09T00:00:00\", \"2021-09-10T00:00:00\", \"2021-09-13T00:00:00\", \"2021-09-14T00:00:00\", \"2021-09-15T00:00:00\", \"2021-09-16T00:00:00\", \"2021-09-17T00:00:00\", \"2021-09-20T00:00:00\", \"2021-09-21T00:00:00\", \"2021-09-22T00:00:00\", \"2021-09-23T00:00:00\", \"2021-09-24T00:00:00\", \"2021-09-27T00:00:00\", \"2021-09-28T00:00:00\", \"2021-09-29T00:00:00\", \"2021-09-30T00:00:00\", \"2021-10-01T00:00:00\", \"2021-10-04T00:00:00\", \"2021-10-05T00:00:00\", \"2021-10-06T00:00:00\", \"2021-10-07T00:00:00\", \"2021-10-08T00:00:00\", \"2021-10-11T00:00:00\", \"2021-10-12T00:00:00\", \"2021-10-13T00:00:00\", \"2021-10-14T00:00:00\", \"2021-10-15T00:00:00\", \"2021-10-18T00:00:00\", \"2021-10-19T00:00:00\", \"2021-10-20T00:00:00\", \"2021-10-21T00:00:00\", \"2021-10-22T00:00:00\", \"2021-10-25T00:00:00\", \"2021-10-26T00:00:00\", \"2021-10-27T00:00:00\", \"2021-10-28T00:00:00\", \"2021-10-29T00:00:00\", \"2021-11-01T00:00:00\", \"2021-11-02T00:00:00\", \"2021-11-03T00:00:00\", \"2021-11-04T00:00:00\", \"2021-11-05T00:00:00\", \"2021-11-08T00:00:00\", \"2021-11-09T00:00:00\", \"2021-11-10T00:00:00\", \"2021-11-11T00:00:00\", \"2021-11-12T00:00:00\", \"2021-11-15T00:00:00\", \"2021-11-16T00:00:00\", \"2021-11-17T00:00:00\", \"2021-11-18T00:00:00\", \"2021-11-19T00:00:00\", \"2021-11-22T00:00:00\", \"2021-11-23T00:00:00\", \"2021-11-24T00:00:00\", \"2021-11-26T00:00:00\", \"2021-11-29T00:00:00\", \"2021-11-30T00:00:00\", \"2021-12-01T00:00:00\", \"2021-12-02T00:00:00\", \"2021-12-03T00:00:00\", \"2021-12-06T00:00:00\", \"2021-12-07T00:00:00\", \"2021-12-08T00:00:00\", \"2021-12-09T00:00:00\", \"2021-12-10T00:00:00\", \"2021-12-13T00:00:00\", \"2021-12-14T00:00:00\", \"2021-12-15T00:00:00\", \"2021-12-16T00:00:00\", \"2021-12-17T00:00:00\", \"2021-12-20T00:00:00\", \"2021-12-21T00:00:00\", \"2021-12-22T00:00:00\", \"2021-12-23T00:00:00\", \"2021-12-27T00:00:00\", \"2021-12-28T00:00:00\", \"2021-12-29T00:00:00\", \"2021-12-30T00:00:00\", \"2021-12-31T00:00:00\", \"2022-01-03T00:00:00\", \"2022-01-04T00:00:00\", \"2022-01-05T00:00:00\", \"2022-01-06T00:00:00\", \"2022-01-07T00:00:00\", \"2022-01-10T00:00:00\", \"2022-01-11T00:00:00\", \"2022-01-12T00:00:00\", \"2022-01-13T00:00:00\", \"2022-01-14T00:00:00\", \"2022-01-18T00:00:00\", \"2022-01-19T00:00:00\", \"2022-01-20T00:00:00\", \"2022-01-21T00:00:00\"], \"y\": [1095.5, 1103.5899658203125, 1113.75, 1109.9000244140625, 1128.0899658203125, 1143.699951171875, 1117.510009765625, 1103.9200439453125, 1071.4100341796875, 1084.1400146484375, 1094.760009765625, 1100.9000244140625, 1115.0400390625, 1129.3800048828125, 1160.8399658203125, 1165.9300537109375, 1139.9100341796875, 1148.8900146484375, 1150.6099853515625, 1134.4200439453125, 1100.0699462890625, 1095.800048828125, 1094.0, 1053.1500244140625, 1026.550048828125, 1054.0899658203125, 1006.9400024414061, 1005.1799926757814, 1037.1400146484375, 1012.6300048828126, 1018.6799926757814, 1029.7099609375, 1032.6400146484375, 1009.9500122070312, 1020.0900268554686, 1036.5, 1025.06005859375, 1037.2900390625, 1036.0400390625, 1046.0999755859375, 1079.3599853515625, 1075.3900146484375, 1089.449951171875, 1077.3199462890625, 1073.81005859375, 1022.6400146484375, 1022.989990234375, 1043.31005859375, 1031.449951171875, 1018.5800170898436, 1040.75, 1026.050048828125, 1026.300048828125, 1051.0, 1059.4599609375, 1058.5899658203125, 1088.949951171875, 1105.469970703125, 1103.3800048828125, 1106.5999755859375, 1084.8699951171875, 1084.0899658203125, 1081.260009765625, 1069.6400146484375, 1084.010009765625, 1075.31005859375, 1085.9599609375, 1085.449951171875, 1084.0799560546875, 1068.0699462890625, 1077.469970703125, 1100.0, 1135.0, 1153.0400390625, 1151.02001953125, 1146.949951171875, 1134.4200439453125, 1132.7099609375, 1140.9000244140625, 1148.18994140625, 1144.22998046875, 1160.1099853515625, 1159.27001953125, 1183.5799560546875, 1178.68994140625, 1184.0699462890625, 1169.43994140625, 1169.2900390625, 1139.280029296875, 1132.6199951171875, 1116.93994140625, 1126.780029296875, 1129.18994140625, 1142.1099853515625, 1116.280029296875, 1141.2900390625, 1155.0799560546875, 1167.280029296875, 1167.1400146484375, 1171.4599609375, 1201.260009765625, 1204.4200439453125, 1196.510009765625, 1213.0799560546875, 1212.9100341796875, 1199.0999755859375, 1197.8800048828125, 1211.0, 1258.1500244140625, 1275.93994140625, 1285.5, 1252.8900146484375, 1230.0400390625, 1227.219970703125, 1232.989990234375, 1241.1300048828125, 1238.1600341796875, 1237.6700439453125, 1255.8399658203125, 1261.3299560546875, 1264.4599609375, 1252.510009765625, 1248.6400146484375, 1258.1400146484375, 1232.219970703125, 1224.06005859375, 1215.8499755859375, 1221.949951171875, 1217.4100341796875, 1221.75, 1221.1600341796875, 1236.75, 1256.27001953125, 1245.8599853515625, 1264.6500244140625, 1254.43994140625, 1231.800048828125, 1211.31005859375, 1199.0999755859375, 1183.989990234375, 1177.5899658203125, 1175.06005859375, 1189.989990234375, 1171.5999755859375, 1182.1400146484375, 1177.97998046875, 1159.8299560546875, 1167.1099853515625, 1174.27001953125, 1191.5699462890625, 1172.1199951171875, 1179.56005859375, 1193.8900146484375, 1194.06005859375, 1207.3599853515625, 1207.0799560546875, 1208.530029296875, 1207.6400146484375, 1211.530029296875, 1177.0699462890625, 1167.8299560546875, 1155.9200439453125, 1145.1700439453125, 1092.1600341796875, 1090.739990234375, 1120.5400390625, 1102.43994140625, 1133.0799560546875, 1127.5899658203125, 1097.9100341796875, 1105.1800537109375, 1111.3699951171875, 1114.9100341796875, 1057.1199951171875, 1103.5899658203125, 1083.75, 1034.72998046875, 1049.510009765625, 1090.5799560546875, 1085.97998046875, 1071.489990234375, 1055.72998046875, 1069.5699462890625, 1108.239990234375, 1094.6300048828125, 1077.02001953125, 1049.3599853515625, 1047.969970703125, 1054.5799560546875, 1071.050048828125, 1068.27001953125, 1027.4200439453125, 1030.449951171875, 1043.4300537109375, 1030.0999755859375, 1055.93994140625, 1052.280029296875, 1091.7900390625, 1094.5799560546875, 1109.6500244140625, 1116.3599853515625, 1062.469970703125, 1078.0799560546875, 1046.5799560546875, 1053.1800537109375, 1061.6500244140625, 1073.72998046875, 1073.5400390625, 1051.7099609375, 1025.6500244140625, 1043.4100341796875, 1035.4599609375, 1023.5800170898438, 991.25, 984.6699829101562, 1047.8499755859375, 1052.9000244140625, 1046.6800537109375, 1044.9599609375, 1054.6800537109375, 1025.469970703125, 1078.0699462890625, 1075.9200439453125, 1085.3699951171875, 1081.6500244140625, 1078.8299560546875, 1064.469970703125, 1051.510009765625, 1086.510009765625, 1089.510009765625, 1099.1199951171875, 1107.300048828125, 1078.6300048828125, 1084.4100341796875, 1084.0, 1101.510009765625, 1079.8599853515625, 1070.06005859375, 1097.989990234375, 1125.8900146484375, 1118.6199951171875, 1141.4200439453125, 1151.8699951171875, 1122.8900146484375, 1105.9100341796875, 1102.3800048828125, 1102.1199951171875, 1127.5799560546875, 1128.6300048828125, 1129.199951171875, 1119.6300048828125, 1126.510009765625, 1120.5899658203125, 1104.2099609375, 1116.56005859375, 1117.3299560546875, 1122.010009765625, 1122.8900146484375, 1126.550048828125, 1148.52001953125, 1153.4200439453125, 1169.18994140625, 1164.93994140625, 1150.8499755859375, 1149.969970703125, 1179.260009765625, 1197.25, 1199.06005859375, 1192.530029296875, 1190.300048828125, 1188.550048828125, 1202.4599609375, 1226.4300537109375, 1236.1300048828125, 1207.6500244140625, 1197.3800048828125, 1189.8399658203125, 1178.010009765625, 1172.27001953125, 1176.8900146484375, 1198.97998046875, 1205.5400390625, 1210.81005859375, 1219.449951171875, 1211.449951171875, 1208.280029296875, 1202.68994140625, 1206.449951171875, 1209.5899658203125, 1222.72998046875, 1226.530029296875, 1231.9100341796875, 1240.1400146484375, 1241.469970703125, 1253.760009765625, 1270.5899658203125, 1260.050048828125, 1267.3399658203125, 1277.4200439453125, 1296.199951171875, 1198.9599609375, 1173.3199462890625, 1166.510009765625, 1189.550048828125, 1193.4599609375, 1178.8599853515625, 1170.780029296875, 1167.969970703125, 1167.6400146484375, 1136.5899658203125, 1124.8599853515625, 1170.800048828125, 1184.5, 1168.780029296875, 1144.6600341796875, 1154.43994140625, 1155.8499755859375, 1145.3399658203125, 1138.6099853515625, 1139.56005859375, 1119.93994140625, 1121.4100341796875, 1106.5, 1038.739990234375, 1054.489990234375, 1044.6400146484375, 1047.760009765625, 1068.3699951171875, 1082.760009765625, 1081.0400390625, 1079.0999755859375, 1091.010009765625, 1086.300048828125, 1093.8900146484375, 1105.239990234375, 1104.510009765625, 1113.199951171875, 1125.3699951171875, 1116.699951171875, 1087.5799560546875, 1080.3199462890625, 1076.6300048828125, 1082.800048828125, 1100.0, 1112.5999755859375, 1122.989990234375, 1132.6700439453125, 1116.7900390625, 1124.2900390625, 1140.9100341796875, 1144.0799560546875, 1145.3399658203125, 1150.510009765625, 1153.4599609375, 1146.739990234375, 1147.239990234375, 1131.550048828125, 1139.2099609375, 1148.050048828125, 1139.72998046875, 1135.93994140625, 1245.219970703125, 1241.8399658203125, 1228.0, 1218.199951171875, 1211.780029296875, 1196.3199462890625, 1154.75, 1171.0799560546875, 1175.9100341796875, 1206.18994140625, 1188.9000244140625, 1174.5, 1196.72998046875, 1164.25, 1169.3199462890625, 1179.2099609375, 1200.43994140625, 1183.530029296875, 1191.5799560546875, 1191.52001953125, 1153.5799560546875, 1171.1800537109375, 1170.8199462890625, 1173.75, 1194.239990234375, 1190.530029296875, 1169.550048828125, 1182.27001953125, 1212.18994140625, 1206.3199462890625, 1205.27001953125, 1205.699951171875, 1220.0, 1234.969970703125, 1240.030029296875, 1231.6300048828125, 1229.8800048828125, 1232.6500244140625, 1238.75, 1229.8399658203125, 1234.68994140625, 1218.3299560546875, 1245.93994140625, 1242.2900390625, 1225.949951171875, 1221.1400146484375, 1206.0, 1177.9200439453125, 1189.4300537109375, 1210.9599609375, 1208.25, 1190.1300048828125, 1202.4000244140625, 1209.469970703125, 1215.7099609375, 1217.77001953125, 1242.239990234375, 1243.0, 1252.800048828125, 1244.4100341796875, 1244.280029296875, 1241.199951171875, 1257.6300048828125, 1259.1099853515625, 1264.300048828125, 1288.97998046875, 1260.6600341796875, 1260.699951171875, 1258.800048828125, 1272.25, 1289.6099853515625, 1291.43994140625, 1291.010009765625, 1306.93994140625, 1309.0, 1298.280029296875, 1297.2099609375, 1296.1800537109375, 1309.1500244140625, 1333.5400390625, 1319.8399658203125, 1312.5899658203125, 1301.8599853515625, 1300.1400146484375, 1293.6700439453125, 1305.6400146484375, 1313.0, 1312.1300048828125, 1304.0899658203125, 1288.8599853515625, 1294.739990234375, 1318.93994140625, 1326.9599609375, 1339.3900146484375, 1342.989990234375, 1342.8900146484375, 1344.25, 1348.489990234375, 1346.8699951171875, 1360.699951171875, 1354.8900146484375, 1351.9100341796875, 1356.43994140625, 1351.219970703125, 1350.6300048828125, 1344.4300537109375, 1362.469970703125, 1354.6400146484375, 1339.7099609375, 1339.3900146484375, 1368.6800537109375, 1361.52001953125, 1397.81005859375, 1395.1099853515625, 1405.0400390625, 1419.7900390625, 1428.9599609375, 1440.030029296875, 1430.5899658203125, 1439.199951171875, 1450.1600341796875, 1479.52001953125, 1482.25, 1483.8699951171875, 1484.68994140625, 1466.1700439453125, 1431.72998046875, 1450.5, 1456.699951171875, 1454.25, 1432.780029296875, 1482.5999755859375, 1445.4100341796875, 1446.050048828125, 1475.969970703125, 1479.1099853515625, 1508.6600341796875, 1510.06005859375, 1518.6300048828125, 1513.3900146484375, 1518.72998046875, 1519.43994140625, 1524.8699951171875, 1516.989990234375, 1483.4599609375, 1419.8599853515625, 1386.3199462890625, 1390.469970703125, 1314.949951171875, 1339.25, 1386.3199462890625, 1337.719970703125, 1381.5999755859375, 1314.760009765625, 1295.739990234375, 1215.7900390625, 1275.1700439453125, 1210.9000244140625, 1111.550048828125, 1214.27001953125, 1073.0, 1118.06005859375, 1091.18994140625, 1111.6700439453125, 1068.2099609375, 1054.1300048828125, 1130.010009765625, 1101.6199951171875, 1162.9200439453125, 1110.260009765625, 1146.31005859375, 1161.949951171875, 1102.0999755859375, 1117.030029296875, 1092.699951171875, 1183.18994140625, 1182.56005859375, 1207.0, 1206.5699462890625, 1210.4100341796875, 1265.22998046875, 1257.300048828125, 1257.4300537109375, 1279.0, 1261.1500244140625, 1212.1600341796875, 1258.4100341796875, 1271.1700439453125, 1276.5999755859375, 1270.8599853515625, 1232.5899658203125, 1342.1800537109375, 1346.699951171875, 1317.3199462890625, 1322.9000244140625, 1349.02001953125, 1345.4300537109375, 1369.280029296875, 1384.3399658203125, 1403.5899658203125, 1375.1800537109375, 1348.3299560546875, 1356.8599853515625, 1373.06005859375, 1385.1800537109375, 1374.4000244140625, 1409.1600341796875, 1406.75, 1413.239990234375, 1421.3699951171875, 1420.280029296875, 1418.239990234375, 1433.52001953125, 1434.8699951171875, 1442.31005859375, 1439.25, 1414.300048828125, 1440.02001953125, 1448.0400390625, 1452.0799560546875, 1464.699951171875, 1401.9000244140625, 1412.9200439453125, 1420.739990234375, 1446.469970703125, 1452.5400390625, 1434.1199951171875, 1424.6400146484375, 1450.6600341796875, 1463.97998046875, 1432.699951171875, 1441.0999755859375, 1362.5400390625, 1397.1700439453125, 1418.050048828125, 1442.0, 1469.9300537109375, 1499.6500244140625, 1489.9200439453125, 1503.5999755859375, 1518.6600341796875, 1539.010009765625, 1512.22998046875, 1520.8599853515625, 1516.8800048828125, 1514.9200439453125, 1516.8499755859375, 1563.8399658203125, 1555.9200439453125, 1564.8499755859375, 1516.75, 1508.2099609375, 1529.4300537109375, 1503.6500244140625, 1523.510009765625, 1538.3699951171875, 1487.949951171875, 1482.760009765625, 1473.300048828125, 1479.0899658203125, 1504.949951171875, 1498.3699951171875, 1496.8199462890625, 1480.5400390625, 1507.239990234375, 1516.6500244140625, 1504.6300048828125, 1516.239990234375, 1555.780029296875, 1544.6099853515625, 1576.25, 1575.5699462890625, 1585.1500244140625, 1605.8499755859375, 1644.1300048828125, 1628.52001953125, 1639.4300537109375, 1629.530029296875, 1655.0799560546875, 1717.3900146484375, 1629.510009765625, 1581.2099609375, 1523.5999755859375, 1547.22998046875, 1526.050048828125, 1515.760009765625, 1508.8299560546875, 1535.1199951171875, 1512.0899658203125, 1487.0400390625, 1451.0899658203125, 1430.1400146484375, 1459.8199462890625, 1409.3900146484375, 1422.8599853515625, 1439.06005859375, 1458.6600341796875, 1466.02001953125, 1465.5999755859375, 1487.9000244140625, 1455.5999755859375, 1482.8299560546875, 1451.02001953125, 1459.1400146484375, 1483.4300537109375, 1510.449951171875, 1564.5899658203125, 1567.0699462890625, 1563.43994140625, 1555.469970703125, 1567.699951171875, 1529.949951171875, 1551.0799560546875, 1585.989990234375, 1606.6600341796875, 1632.97998046875, 1584.2900390625, 1598.8800048828125, 1510.800048828125, 1556.8800048828125, 1616.1099853515625, 1624.3199462890625, 1645.6600341796875, 1745.8499755859375, 1762.5, 1759.72998046875, 1761.4200439453125, 1737.719970703125, 1747.22998046875, 1742.8199462890625, 1772.260009765625, 1774.030029296875, 1761.6600341796875, 1740.6400146484375, 1758.5699462890625, 1736.3800048828125, 1727.56005859375, 1763.9000244140625, 1764.1300048828125, 1787.02001953125, 1754.4000244140625, 1795.3599853515625, 1824.969970703125, 1821.8399658203125, 1823.760009765625, 1817.030029296875, 1811.3299560546875, 1777.8599853515625, 1767.6500244140625, 1774.800048828125, 1752.260009765625, 1761.0799560546875, 1757.18994140625, 1740.510009765625, 1726.219970703125, 1734.56005859375, 1720.219970703125, 1728.22998046875, 1734.1600341796875, 1773.9599609375, 1757.760009765625, 1736.25, 1752.6400146484375, 1726.1300048828125, 1740.050048828125, 1722.8800048828125, 1774.3399658203125, 1797.8299560546875, 1756.2900390625, 1737.4300537109375, 1747.25, 1730.9200439453125, 1727.6199951171875, 1784.469970703125, 1880.0699462890625, 1884.1500244140625, 1892.56005859375, 1894.280029296875, 1907.949951171875, 1818.93994140625, 1853.199951171875, 1827.3599853515625, 1893.0699462890625, 1919.1199951171875, 2058.8798828125, 2053.6298828125, 2088.830078125, 2084.52001953125, 2075.389892578125, 2086.47998046875, 2088.75, 2095.030029296875, 2110.699951171875, 2118.6201171875, 2105.81005859375, 2088.81005859375, 2054.260009765625, 2060.1201171875, 2083.81005859375, 2015.949951171875, 2021.9100341796875, 2069.659912109375, 2064.47998046875, 2011.4100341796877, 2033.9300537109375, 2097.070068359375, 2007.5, 2040.3599853515625, 2036.1899414062498, 2100.5400390625, 2050.0, 2054.43994140625, 2083.889892578125, 2082.219970703125, 2021.3399658203125, 2026.9599609375, 2030.68994140625, 2041.3299560546875, 2032.530029296875, 2032.4599609374998, 2024.72998046875, 2045.7900390624998, 2046.469970703125, 2062.52001953125, 2129.780029296875, 2218.9599609375, 2209.260009765625, 2239.030029296875, 2250.429931640625, 2270.669921875, 2244.6201171875, 2254.429931640625, 2241.909912109375, 2285.25, 2282.75, 2289.760009765625, 2279.010009765625, 2278.35009765625, 2252.52001953125, 2299.929931640625, 2309.929931640625, 2290.97998046875, 2359.0400390625, 2392.760009765625, 2353.5, 2343.080078125, 2306.830078125, 2314.77001953125, 2337.35009765625, 2351.929931640625, 2291.75, 2270.06005859375, 2200.25, 2229.0400390625, 2278.3798828125, 2288.919921875, 2262.469970703125, 2271.5, 2306.949951171875, 2294.1298828125, 2361.0400390625, 2362.8701171875, 2380.31005859375, 2362.679931640625, 2356.85009765625, 2381.179931640625, 2370.590087890625, 2347.580078125, 2393.570068359375, 2402.300048828125, 2398.43994140625, 2407.93994140625, 2435.1298828125, 2430.199951171875, 2448.909912109375, 2428.389892578125, 2415.449951171875, 2434.8701171875, 2402.219970703125, 2436.25, 2446.610107421875, 2442.5400390625, 2450.0, 2450.169921875, 2450.719970703125, 2445.449951171875, 2441.7900390625, 2448.889892578125, 2505.14990234375, 2523.800048828125, 2529.47998046875, 2500.8798828125, 2510.3701171875, 2539.510009765625, 2546.830078125, 2564.739990234375, 2540.10009765625, 2539.39990234375, 2491.56005859375, 2524.18994140625, 2550.97998046875, 2568.429931640625, 2660.300048828125, 2680.699951171875, 2638.0, 2721.8798828125, 2715.550048828125, 2694.530029296875, 2697.090087890625, 2712.60009765625, 2702.510009765625, 2725.030029296875, 2714.77001953125, 2738.260009765625, 2736.139892578125, 2725.580078125, 2743.8798828125, 2754.550048828125, 2766.18994140625, 2733.22998046875, 2708.97998046875, 2713.60009765625, 2748.590087890625, 2800.830078125, 2825.22998046875, 2841.580078125, 2828.81005859375, 2880.080078125, 2891.81005859375, 2893.949951171875, 2904.31005859375, 2865.739990234375, 2874.7900390625, 2885.610107421875, 2873.820068359375, 2870.820068359375, 2817.52001953125, 2846.64990234375, 2850.889892578125, 2888.590087890625, 2872.199951171875, 2816.0, 2774.389892578125, 2780.659912109375, 2805.669921875, 2824.320068359375, 2844.300048828125, 2821.43994140625, 2716.60009765625, 2687.070068359375, 2673.52001953125, 2730.860107421875, 2673.18994140625, 2720.4599609375, 2751.300048828125, 2784.5, 2795.7099609375, 2778.280029296875, 2728.97998046875, 2751.639892578125, 2823.02001953125, 2827.360107421875, 2855.56005859375, 2864.739990234375, 2835.3798828125, 2837.719970703125, 2751.330078125, 2748.93994140625, 2786.169921875, 2924.35009765625, 2916.97998046875, 2960.919921875, 2869.93994140625, 2908.64990234375, 2931.9599609375, 2965.35009765625, 2977.0400390625, 2980.6201171875, 2978.3701171875, 2917.8701171875, 2915.330078125, 2973.56005859375, 2969.0400390625, 2957.52001953125, 2960.93994140625, 2996.77001953125, 2978.530029296875, 2926.0400390625, 2915.639892578125, 2922.39990234375, 2843.659912109375, 2910.610107421875, 2837.949951171875, 2821.030029296875, 2859.320068359375, 2840.030029296875, 2863.10009765625, 2945.389892578125, 2963.72998046875, 2952.77001953125, 2960.030029296875, 2916.530029296875, 2878.139892578125, 2928.820068359375, 2888.89990234375, 2834.5, 2832.139892578125, 2869.449951171875, 2928.300048828125, 2938.330078125, 2958.1298828125, 2933.739990234375, 2933.10009765625, 2924.010009765625, 2897.0400390625, 2899.830078125, 2887.989990234375, 2755.5, 2754.949951171875, 2740.340087890625, 2773.389892578125, 2794.719970703125, 2828.610107421875, 2771.739990234375, 2789.610107421875, 2719.9599609375, 2702.330078125, 2666.14990234375, 2607.030029296875]}, {\"mode\": \"lines\", \"name\": \"Predicted\", \"type\": \"scatter\", \"x\": [\"2018-01-02T00:00:00\", \"2018-01-03T00:00:00\", \"2018-01-04T00:00:00\", \"2018-01-05T00:00:00\", \"2018-01-08T00:00:00\", \"2018-01-09T00:00:00\", \"2018-01-10T00:00:00\", \"2018-01-11T00:00:00\", \"2018-01-12T00:00:00\", \"2018-01-16T00:00:00\", \"2018-01-17T00:00:00\", \"2018-01-18T00:00:00\", \"2018-01-19T00:00:00\", \"2018-01-22T00:00:00\", \"2018-01-23T00:00:00\", \"2018-01-24T00:00:00\", \"2018-01-25T00:00:00\", \"2018-01-26T00:00:00\", \"2018-01-29T00:00:00\", \"2018-01-30T00:00:00\", \"2018-01-31T00:00:00\", \"2018-02-01T00:00:00\", \"2018-02-02T00:00:00\", \"2018-02-05T00:00:00\", \"2018-02-06T00:00:00\", \"2018-02-07T00:00:00\", \"2018-02-08T00:00:00\", \"2018-02-09T00:00:00\", \"2018-02-12T00:00:00\", \"2018-02-13T00:00:00\", \"2018-02-14T00:00:00\", \"2018-02-15T00:00:00\", \"2018-02-16T00:00:00\", \"2018-02-20T00:00:00\", \"2018-02-21T00:00:00\", \"2018-02-22T00:00:00\", \"2018-02-23T00:00:00\", \"2018-02-26T00:00:00\", \"2018-02-27T00:00:00\", \"2018-02-28T00:00:00\", \"2018-03-01T00:00:00\", \"2018-03-02T00:00:00\", \"2018-03-05T00:00:00\", \"2018-03-06T00:00:00\", \"2018-03-07T00:00:00\", \"2018-03-08T00:00:00\", \"2018-03-09T00:00:00\", \"2018-03-12T00:00:00\", \"2018-03-13T00:00:00\", \"2018-03-14T00:00:00\", \"2018-03-15T00:00:00\", \"2018-03-16T00:00:00\", \"2018-03-19T00:00:00\", \"2018-03-20T00:00:00\", \"2018-03-21T00:00:00\", \"2018-03-22T00:00:00\", \"2018-03-23T00:00:00\", \"2018-03-26T00:00:00\", \"2018-03-27T00:00:00\", \"2018-03-28T00:00:00\", \"2018-03-29T00:00:00\", \"2018-04-02T00:00:00\", \"2018-04-03T00:00:00\", \"2018-04-04T00:00:00\", \"2018-04-05T00:00:00\", \"2018-04-06T00:00:00\", \"2018-04-09T00:00:00\", \"2018-04-10T00:00:00\", \"2018-04-11T00:00:00\", \"2018-04-12T00:00:00\", \"2018-04-13T00:00:00\", \"2018-04-16T00:00:00\", \"2018-04-17T00:00:00\", \"2018-04-18T00:00:00\", \"2018-04-19T00:00:00\", \"2018-04-20T00:00:00\", \"2018-04-23T00:00:00\", \"2018-04-24T00:00:00\", \"2018-04-25T00:00:00\", \"2018-04-26T00:00:00\", \"2018-04-27T00:00:00\", \"2018-04-30T00:00:00\", \"2018-05-01T00:00:00\", \"2018-05-02T00:00:00\", \"2018-05-03T00:00:00\", \"2018-05-04T00:00:00\", \"2018-05-07T00:00:00\", \"2018-05-08T00:00:00\", \"2018-05-09T00:00:00\", \"2018-05-10T00:00:00\", \"2018-05-11T00:00:00\", \"2018-05-14T00:00:00\", \"2018-05-15T00:00:00\", \"2018-05-16T00:00:00\", \"2018-05-17T00:00:00\", \"2018-05-18T00:00:00\", \"2018-05-21T00:00:00\", \"2018-05-22T00:00:00\", \"2018-05-23T00:00:00\", \"2018-05-24T00:00:00\", \"2018-05-25T00:00:00\", \"2018-05-29T00:00:00\", \"2018-05-30T00:00:00\", \"2018-05-31T00:00:00\", \"2018-06-01T00:00:00\", \"2018-06-04T00:00:00\", \"2018-06-05T00:00:00\", \"2018-06-06T00:00:00\", \"2018-06-07T00:00:00\", \"2018-06-08T00:00:00\", \"2018-06-11T00:00:00\", \"2018-06-12T00:00:00\", \"2018-06-13T00:00:00\", \"2018-06-14T00:00:00\", \"2018-06-15T00:00:00\", \"2018-06-18T00:00:00\", \"2018-06-19T00:00:00\", \"2018-06-20T00:00:00\", \"2018-06-21T00:00:00\", \"2018-06-22T00:00:00\", \"2018-06-25T00:00:00\", \"2018-06-26T00:00:00\", \"2018-06-27T00:00:00\", \"2018-06-28T00:00:00\", \"2018-06-29T00:00:00\", \"2018-07-02T00:00:00\", \"2018-07-03T00:00:00\", \"2018-07-05T00:00:00\", \"2018-07-06T00:00:00\", \"2018-07-09T00:00:00\", \"2018-07-10T00:00:00\", \"2018-07-11T00:00:00\", \"2018-07-12T00:00:00\", \"2018-07-13T00:00:00\", \"2018-07-16T00:00:00\", \"2018-07-17T00:00:00\", \"2018-07-18T00:00:00\", \"2018-07-19T00:00:00\", \"2018-07-20T00:00:00\", \"2018-07-23T00:00:00\", \"2018-07-24T00:00:00\", \"2018-07-25T00:00:00\", \"2018-07-26T00:00:00\", \"2018-07-27T00:00:00\", \"2018-07-30T00:00:00\", \"2018-07-31T00:00:00\", \"2018-08-01T00:00:00\", \"2018-08-02T00:00:00\", \"2018-08-03T00:00:00\", \"2018-08-06T00:00:00\", \"2018-08-07T00:00:00\", \"2018-08-08T00:00:00\", \"2018-08-09T00:00:00\", \"2018-08-10T00:00:00\", \"2018-08-13T00:00:00\", \"2018-08-14T00:00:00\", \"2018-08-15T00:00:00\", \"2018-08-16T00:00:00\", \"2018-08-17T00:00:00\", \"2018-08-20T00:00:00\", \"2018-08-21T00:00:00\", \"2018-08-22T00:00:00\", \"2018-08-23T00:00:00\", \"2018-08-24T00:00:00\", \"2018-08-27T00:00:00\", \"2018-08-28T00:00:00\", \"2018-08-29T00:00:00\", \"2018-08-30T00:00:00\", \"2018-08-31T00:00:00\", \"2018-09-04T00:00:00\", \"2018-09-05T00:00:00\", \"2018-09-06T00:00:00\", \"2018-09-07T00:00:00\", \"2018-09-10T00:00:00\", \"2018-09-11T00:00:00\", \"2018-09-12T00:00:00\", \"2018-09-13T00:00:00\", \"2018-09-14T00:00:00\", \"2018-09-17T00:00:00\", \"2018-09-18T00:00:00\", \"2018-09-19T00:00:00\", \"2018-09-20T00:00:00\", \"2018-09-21T00:00:00\", \"2018-09-24T00:00:00\", \"2018-09-25T00:00:00\", \"2018-09-26T00:00:00\", \"2018-09-27T00:00:00\", \"2018-09-28T00:00:00\", \"2018-10-01T00:00:00\", \"2018-10-02T00:00:00\", \"2018-10-03T00:00:00\", \"2018-10-04T00:00:00\", \"2018-10-05T00:00:00\", \"2018-10-08T00:00:00\", \"2018-10-09T00:00:00\", \"2018-10-10T00:00:00\", \"2018-10-11T00:00:00\", \"2018-10-12T00:00:00\", \"2018-10-15T00:00:00\", \"2018-10-16T00:00:00\", \"2018-10-17T00:00:00\", \"2018-10-18T00:00:00\", \"2018-10-19T00:00:00\", \"2018-10-22T00:00:00\", \"2018-10-23T00:00:00\", \"2018-10-24T00:00:00\", \"2018-10-25T00:00:00\", \"2018-10-26T00:00:00\", \"2018-10-29T00:00:00\", \"2018-10-30T00:00:00\", \"2018-10-31T00:00:00\", \"2018-11-01T00:00:00\", \"2018-11-02T00:00:00\", \"2018-11-05T00:00:00\", \"2018-11-06T00:00:00\", \"2018-11-07T00:00:00\", \"2018-11-08T00:00:00\", \"2018-11-09T00:00:00\", \"2018-11-12T00:00:00\", \"2018-11-13T00:00:00\", \"2018-11-14T00:00:00\", \"2018-11-15T00:00:00\", \"2018-11-16T00:00:00\", \"2018-11-19T00:00:00\", \"2018-11-20T00:00:00\", \"2018-11-21T00:00:00\", \"2018-11-23T00:00:00\", \"2018-11-26T00:00:00\", \"2018-11-27T00:00:00\", \"2018-11-28T00:00:00\", \"2018-11-29T00:00:00\", \"2018-11-30T00:00:00\", \"2018-12-03T00:00:00\", \"2018-12-04T00:00:00\", \"2018-12-06T00:00:00\", \"2018-12-07T00:00:00\", \"2018-12-10T00:00:00\", \"2018-12-11T00:00:00\", \"2018-12-12T00:00:00\", \"2018-12-13T00:00:00\", \"2018-12-14T00:00:00\", \"2018-12-17T00:00:00\", \"2018-12-18T00:00:00\", \"2018-12-19T00:00:00\", \"2018-12-20T00:00:00\", \"2018-12-21T00:00:00\", \"2018-12-24T00:00:00\", \"2018-12-26T00:00:00\", \"2018-12-27T00:00:00\", \"2018-12-28T00:00:00\", \"2018-12-31T00:00:00\", \"2019-01-02T00:00:00\", \"2019-01-03T00:00:00\", \"2019-01-04T00:00:00\", \"2019-01-07T00:00:00\", \"2019-01-08T00:00:00\", \"2019-01-09T00:00:00\", \"2019-01-10T00:00:00\", \"2019-01-11T00:00:00\", \"2019-01-14T00:00:00\", \"2019-01-15T00:00:00\", \"2019-01-16T00:00:00\", \"2019-01-17T00:00:00\", \"2019-01-18T00:00:00\", \"2019-01-22T00:00:00\", \"2019-01-23T00:00:00\", \"2019-01-24T00:00:00\", \"2019-01-25T00:00:00\", \"2019-01-28T00:00:00\", \"2019-01-29T00:00:00\", \"2019-01-30T00:00:00\", \"2019-01-31T00:00:00\", \"2019-02-01T00:00:00\", \"2019-02-04T00:00:00\", \"2019-02-05T00:00:00\", \"2019-02-06T00:00:00\", \"2019-02-07T00:00:00\", \"2019-02-08T00:00:00\", \"2019-02-11T00:00:00\", \"2019-02-12T00:00:00\", \"2019-02-13T00:00:00\", \"2019-02-14T00:00:00\", \"2019-02-15T00:00:00\", \"2019-02-19T00:00:00\", \"2019-02-20T00:00:00\", \"2019-02-21T00:00:00\", \"2019-02-22T00:00:00\", \"2019-02-25T00:00:00\", \"2019-02-26T00:00:00\", \"2019-02-27T00:00:00\", \"2019-02-28T00:00:00\", \"2019-03-01T00:00:00\", \"2019-03-04T00:00:00\", \"2019-03-05T00:00:00\", \"2019-03-06T00:00:00\", \"2019-03-07T00:00:00\", \"2019-03-08T00:00:00\", \"2019-03-11T00:00:00\", \"2019-03-12T00:00:00\", \"2019-03-13T00:00:00\", \"2019-03-14T00:00:00\", \"2019-03-15T00:00:00\", \"2019-03-18T00:00:00\", \"2019-03-19T00:00:00\", \"2019-03-20T00:00:00\", \"2019-03-21T00:00:00\", \"2019-03-22T00:00:00\", \"2019-03-25T00:00:00\", \"2019-03-26T00:00:00\", \"2019-03-27T00:00:00\", \"2019-03-28T00:00:00\", \"2019-03-29T00:00:00\", \"2019-04-01T00:00:00\", \"2019-04-02T00:00:00\", \"2019-04-03T00:00:00\", \"2019-04-04T00:00:00\", \"2019-04-05T00:00:00\", \"2019-04-08T00:00:00\", \"2019-04-09T00:00:00\", \"2019-04-10T00:00:00\", \"2019-04-11T00:00:00\", \"2019-04-12T00:00:00\", \"2019-04-15T00:00:00\", \"2019-04-16T00:00:00\", \"2019-04-17T00:00:00\", \"2019-04-18T00:00:00\", \"2019-04-22T00:00:00\", \"2019-04-23T00:00:00\", \"2019-04-24T00:00:00\", \"2019-04-25T00:00:00\", \"2019-04-26T00:00:00\", \"2019-04-29T00:00:00\", \"2019-04-30T00:00:00\", \"2019-05-01T00:00:00\", \"2019-05-02T00:00:00\", \"2019-05-03T00:00:00\", \"2019-05-06T00:00:00\", \"2019-05-07T00:00:00\", \"2019-05-08T00:00:00\", \"2019-05-09T00:00:00\", \"2019-05-10T00:00:00\", \"2019-05-13T00:00:00\", \"2019-05-14T00:00:00\", \"2019-05-15T00:00:00\", \"2019-05-16T00:00:00\", \"2019-05-17T00:00:00\", \"2019-05-20T00:00:00\", \"2019-05-21T00:00:00\", \"2019-05-22T00:00:00\", \"2019-05-23T00:00:00\", \"2019-05-24T00:00:00\", \"2019-05-28T00:00:00\", \"2019-05-29T00:00:00\", \"2019-05-30T00:00:00\", \"2019-05-31T00:00:00\", \"2019-06-03T00:00:00\", \"2019-06-04T00:00:00\", \"2019-06-05T00:00:00\", \"2019-06-06T00:00:00\", \"2019-06-07T00:00:00\", \"2019-06-10T00:00:00\", \"2019-06-11T00:00:00\", \"2019-06-12T00:00:00\", \"2019-06-13T00:00:00\", \"2019-06-14T00:00:00\", \"2019-06-17T00:00:00\", \"2019-06-18T00:00:00\", \"2019-06-19T00:00:00\", \"2019-06-20T00:00:00\", \"2019-06-21T00:00:00\", \"2019-06-24T00:00:00\", \"2019-06-25T00:00:00\", \"2019-06-26T00:00:00\", \"2019-06-27T00:00:00\", \"2019-06-28T00:00:00\", \"2019-07-01T00:00:00\", \"2019-07-02T00:00:00\", \"2019-07-03T00:00:00\", \"2019-07-05T00:00:00\", \"2019-07-08T00:00:00\", \"2019-07-09T00:00:00\", \"2019-07-10T00:00:00\", \"2019-07-11T00:00:00\", \"2019-07-12T00:00:00\", \"2019-07-15T00:00:00\", \"2019-07-16T00:00:00\", \"2019-07-17T00:00:00\", \"2019-07-18T00:00:00\", \"2019-07-19T00:00:00\", \"2019-07-22T00:00:00\", \"2019-07-23T00:00:00\", \"2019-07-24T00:00:00\", \"2019-07-25T00:00:00\", \"2019-07-26T00:00:00\", \"2019-07-29T00:00:00\", \"2019-07-30T00:00:00\", \"2019-07-31T00:00:00\", \"2019-08-01T00:00:00\", \"2019-08-02T00:00:00\", \"2019-08-05T00:00:00\", \"2019-08-06T00:00:00\", \"2019-08-07T00:00:00\", \"2019-08-08T00:00:00\", \"2019-08-09T00:00:00\", \"2019-08-12T00:00:00\", \"2019-08-13T00:00:00\", \"2019-08-14T00:00:00\", \"2019-08-15T00:00:00\", \"2019-08-16T00:00:00\", \"2019-08-19T00:00:00\", \"2019-08-20T00:00:00\", \"2019-08-21T00:00:00\", \"2019-08-22T00:00:00\", \"2019-08-23T00:00:00\", \"2019-08-26T00:00:00\", \"2019-08-27T00:00:00\", \"2019-08-28T00:00:00\", \"2019-08-29T00:00:00\", \"2019-08-30T00:00:00\", \"2019-09-03T00:00:00\", \"2019-09-04T00:00:00\", \"2019-09-05T00:00:00\", \"2019-09-06T00:00:00\", \"2019-09-09T00:00:00\", \"2019-09-10T00:00:00\", \"2019-09-11T00:00:00\", \"2019-09-12T00:00:00\", \"2019-09-13T00:00:00\", \"2019-09-16T00:00:00\", \"2019-09-17T00:00:00\", \"2019-09-18T00:00:00\", \"2019-09-19T00:00:00\", \"2019-09-20T00:00:00\", \"2019-09-23T00:00:00\", \"2019-09-24T00:00:00\", \"2019-09-25T00:00:00\", \"2019-09-26T00:00:00\", \"2019-09-27T00:00:00\", \"2019-09-30T00:00:00\", \"2019-10-01T00:00:00\", \"2019-10-02T00:00:00\", \"2019-10-03T00:00:00\", \"2019-10-04T00:00:00\", \"2019-10-07T00:00:00\", \"2019-10-08T00:00:00\", \"2019-10-09T00:00:00\", \"2019-10-10T00:00:00\", \"2019-10-11T00:00:00\", \"2019-10-14T00:00:00\", \"2019-10-15T00:00:00\", \"2019-10-16T00:00:00\", \"2019-10-17T00:00:00\", \"2019-10-18T00:00:00\", \"2019-10-21T00:00:00\", \"2019-10-22T00:00:00\", \"2019-10-23T00:00:00\", \"2019-10-24T00:00:00\", \"2019-10-25T00:00:00\", \"2019-10-28T00:00:00\", \"2019-10-29T00:00:00\", \"2019-10-30T00:00:00\", \"2019-10-31T00:00:00\", \"2019-11-01T00:00:00\", \"2019-11-04T00:00:00\", \"2019-11-05T00:00:00\", \"2019-11-06T00:00:00\", \"2019-11-07T00:00:00\", \"2019-11-08T00:00:00\", \"2019-11-11T00:00:00\", \"2019-11-12T00:00:00\", \"2019-11-13T00:00:00\", \"2019-11-14T00:00:00\", \"2019-11-15T00:00:00\", \"2019-11-18T00:00:00\", \"2019-11-19T00:00:00\", \"2019-11-20T00:00:00\", \"2019-11-21T00:00:00\", \"2019-11-22T00:00:00\", \"2019-11-25T00:00:00\", \"2019-11-26T00:00:00\", \"2019-11-27T00:00:00\", \"2019-11-29T00:00:00\", \"2019-12-02T00:00:00\", \"2019-12-03T00:00:00\", \"2019-12-04T00:00:00\", \"2019-12-05T00:00:00\", \"2019-12-06T00:00:00\", \"2019-12-09T00:00:00\", \"2019-12-10T00:00:00\", \"2019-12-11T00:00:00\", \"2019-12-12T00:00:00\", \"2019-12-13T00:00:00\", \"2019-12-16T00:00:00\", \"2019-12-17T00:00:00\", \"2019-12-18T00:00:00\", \"2019-12-19T00:00:00\", \"2019-12-20T00:00:00\", \"2019-12-23T00:00:00\", \"2019-12-24T00:00:00\", \"2019-12-26T00:00:00\", \"2019-12-27T00:00:00\", \"2019-12-30T00:00:00\", \"2019-12-31T00:00:00\", \"2020-01-02T00:00:00\", \"2020-01-03T00:00:00\", \"2020-01-06T00:00:00\", \"2020-01-07T00:00:00\", \"2020-01-08T00:00:00\", \"2020-01-09T00:00:00\", \"2020-01-10T00:00:00\", \"2020-01-13T00:00:00\", \"2020-01-14T00:00:00\", \"2020-01-15T00:00:00\", \"2020-01-16T00:00:00\", \"2020-01-17T00:00:00\", \"2020-01-21T00:00:00\", \"2020-01-22T00:00:00\", \"2020-01-23T00:00:00\", \"2020-01-24T00:00:00\", \"2020-01-27T00:00:00\", \"2020-01-28T00:00:00\", \"2020-01-29T00:00:00\", \"2020-01-30T00:00:00\", \"2020-01-31T00:00:00\", \"2020-02-03T00:00:00\", \"2020-02-04T00:00:00\", \"2020-02-05T00:00:00\", \"2020-02-06T00:00:00\", \"2020-02-07T00:00:00\", \"2020-02-10T00:00:00\", \"2020-02-11T00:00:00\", \"2020-02-12T00:00:00\", \"2020-02-13T00:00:00\", \"2020-02-14T00:00:00\", \"2020-02-18T00:00:00\", \"2020-02-19T00:00:00\", \"2020-02-20T00:00:00\", \"2020-02-21T00:00:00\", \"2020-02-24T00:00:00\", \"2020-02-25T00:00:00\", \"2020-02-26T00:00:00\", \"2020-02-27T00:00:00\", \"2020-02-28T00:00:00\", \"2020-03-02T00:00:00\", \"2020-03-03T00:00:00\", \"2020-03-04T00:00:00\", \"2020-03-05T00:00:00\", \"2020-03-06T00:00:00\", \"2020-03-09T00:00:00\", \"2020-03-10T00:00:00\", \"2020-03-11T00:00:00\", \"2020-03-12T00:00:00\", \"2020-03-13T00:00:00\", \"2020-03-16T00:00:00\", \"2020-03-17T00:00:00\", \"2020-03-18T00:00:00\", \"2020-03-19T00:00:00\", \"2020-03-20T00:00:00\", \"2020-03-23T00:00:00\", \"2020-03-24T00:00:00\", \"2020-03-25T00:00:00\", \"2020-03-26T00:00:00\", \"2020-03-27T00:00:00\", \"2020-03-30T00:00:00\", \"2020-03-31T00:00:00\", \"2020-04-01T00:00:00\", \"2020-04-02T00:00:00\", \"2020-04-03T00:00:00\", \"2020-04-06T00:00:00\", \"2020-04-07T00:00:00\", \"2020-04-08T00:00:00\", \"2020-04-09T00:00:00\", \"2020-04-13T00:00:00\", \"2020-04-14T00:00:00\", \"2020-04-15T00:00:00\", \"2020-04-16T00:00:00\", \"2020-04-17T00:00:00\", \"2020-04-20T00:00:00\", \"2020-04-21T00:00:00\", \"2020-04-22T00:00:00\", \"2020-04-23T00:00:00\", \"2020-04-24T00:00:00\", \"2020-04-27T00:00:00\", \"2020-04-28T00:00:00\", \"2020-04-29T00:00:00\", \"2020-04-30T00:00:00\", \"2020-05-01T00:00:00\", \"2020-05-04T00:00:00\", \"2020-05-05T00:00:00\", \"2020-05-06T00:00:00\", \"2020-05-07T00:00:00\", \"2020-05-08T00:00:00\", \"2020-05-11T00:00:00\", \"2020-05-12T00:00:00\", \"2020-05-13T00:00:00\", \"2020-05-14T00:00:00\", \"2020-05-15T00:00:00\", \"2020-05-18T00:00:00\", \"2020-05-19T00:00:00\", \"2020-05-20T00:00:00\", \"2020-05-21T00:00:00\", \"2020-05-22T00:00:00\", \"2020-05-26T00:00:00\", \"2020-05-27T00:00:00\", \"2020-05-28T00:00:00\", \"2020-05-29T00:00:00\", \"2020-06-01T00:00:00\", \"2020-06-02T00:00:00\", \"2020-06-03T00:00:00\", \"2020-06-04T00:00:00\", \"2020-06-05T00:00:00\", \"2020-06-08T00:00:00\", \"2020-06-09T00:00:00\", \"2020-06-10T00:00:00\", \"2020-06-11T00:00:00\", \"2020-06-12T00:00:00\", \"2020-06-15T00:00:00\", \"2020-06-16T00:00:00\", \"2020-06-17T00:00:00\", \"2020-06-18T00:00:00\", \"2020-06-19T00:00:00\", \"2020-06-22T00:00:00\", \"2020-06-23T00:00:00\", \"2020-06-24T00:00:00\", \"2020-06-25T00:00:00\", \"2020-06-26T00:00:00\", \"2020-06-29T00:00:00\", \"2020-06-30T00:00:00\", \"2020-07-01T00:00:00\", \"2020-07-02T00:00:00\", \"2020-07-06T00:00:00\", \"2020-07-07T00:00:00\", \"2020-07-08T00:00:00\", \"2020-07-09T00:00:00\", \"2020-07-10T00:00:00\", \"2020-07-13T00:00:00\", \"2020-07-14T00:00:00\", \"2020-07-15T00:00:00\", \"2020-07-16T00:00:00\", \"2020-07-17T00:00:00\", \"2020-07-20T00:00:00\", \"2020-07-21T00:00:00\", \"2020-07-22T00:00:00\", \"2020-07-23T00:00:00\", \"2020-07-24T00:00:00\", \"2020-07-27T00:00:00\", \"2020-07-28T00:00:00\", \"2020-07-29T00:00:00\", \"2020-07-30T00:00:00\", \"2020-07-31T00:00:00\", \"2020-08-03T00:00:00\", \"2020-08-04T00:00:00\", \"2020-08-05T00:00:00\", \"2020-08-06T00:00:00\", \"2020-08-07T00:00:00\", \"2020-08-10T00:00:00\", \"2020-08-11T00:00:00\", \"2020-08-12T00:00:00\", \"2020-08-13T00:00:00\", \"2020-08-14T00:00:00\", \"2020-08-17T00:00:00\", \"2020-08-18T00:00:00\", \"2020-08-19T00:00:00\", \"2020-08-20T00:00:00\", \"2020-08-21T00:00:00\", \"2020-08-24T00:00:00\", \"2020-08-25T00:00:00\", \"2020-08-26T00:00:00\", \"2020-08-27T00:00:00\", \"2020-08-28T00:00:00\", \"2020-08-31T00:00:00\", \"2020-09-01T00:00:00\", \"2020-09-02T00:00:00\", \"2020-09-03T00:00:00\", \"2020-09-04T00:00:00\", \"2020-09-08T00:00:00\", \"2020-09-09T00:00:00\", \"2020-09-10T00:00:00\", \"2020-09-11T00:00:00\", \"2020-09-14T00:00:00\", \"2020-09-15T00:00:00\", \"2020-09-16T00:00:00\", \"2020-09-17T00:00:00\", \"2020-09-18T00:00:00\", \"2020-09-21T00:00:00\", \"2020-09-22T00:00:00\", \"2020-09-23T00:00:00\", \"2020-09-24T00:00:00\", \"2020-09-25T00:00:00\", \"2020-09-28T00:00:00\", \"2020-09-29T00:00:00\", \"2020-09-30T00:00:00\", \"2020-10-01T00:00:00\", \"2020-10-02T00:00:00\", \"2020-10-05T00:00:00\", \"2020-10-06T00:00:00\", \"2020-10-07T00:00:00\", \"2020-10-08T00:00:00\", \"2020-10-09T00:00:00\", \"2020-10-12T00:00:00\", \"2020-10-13T00:00:00\", \"2020-10-14T00:00:00\", \"2020-10-15T00:00:00\", \"2020-10-16T00:00:00\", \"2020-10-19T00:00:00\", \"2020-10-20T00:00:00\", \"2020-10-21T00:00:00\", \"2020-10-22T00:00:00\", \"2020-10-23T00:00:00\", \"2020-10-26T00:00:00\", \"2020-10-27T00:00:00\", \"2020-10-28T00:00:00\", \"2020-10-29T00:00:00\", \"2020-10-30T00:00:00\", \"2020-11-02T00:00:00\", \"2020-11-03T00:00:00\", \"2020-11-04T00:00:00\", \"2020-11-05T00:00:00\", \"2020-11-06T00:00:00\", \"2020-11-09T00:00:00\", \"2020-11-10T00:00:00\", \"2020-11-11T00:00:00\", \"2020-11-12T00:00:00\", \"2020-11-13T00:00:00\", \"2020-11-16T00:00:00\", \"2020-11-17T00:00:00\", \"2020-11-18T00:00:00\", \"2020-11-19T00:00:00\", \"2020-11-20T00:00:00\", \"2020-11-23T00:00:00\", \"2020-11-24T00:00:00\", \"2020-11-25T00:00:00\", \"2020-11-27T00:00:00\", \"2020-11-30T00:00:00\", \"2020-12-01T00:00:00\", \"2020-12-02T00:00:00\", \"2020-12-03T00:00:00\", \"2020-12-04T00:00:00\", \"2020-12-07T00:00:00\", \"2020-12-08T00:00:00\", \"2020-12-09T00:00:00\", \"2020-12-10T00:00:00\", \"2020-12-11T00:00:00\", \"2020-12-14T00:00:00\", \"2020-12-15T00:00:00\", \"2020-12-16T00:00:00\", \"2020-12-17T00:00:00\", \"2020-12-18T00:00:00\", \"2020-12-21T00:00:00\", \"2020-12-22T00:00:00\", \"2020-12-23T00:00:00\", \"2020-12-24T00:00:00\", \"2020-12-28T00:00:00\", \"2020-12-29T00:00:00\", \"2020-12-30T00:00:00\", \"2020-12-31T00:00:00\", \"2021-01-04T00:00:00\", \"2021-01-05T00:00:00\", \"2021-01-06T00:00:00\", \"2021-01-07T00:00:00\", \"2021-01-08T00:00:00\", \"2021-01-11T00:00:00\", \"2021-01-12T00:00:00\", \"2021-01-13T00:00:00\", \"2021-01-14T00:00:00\", \"2021-01-15T00:00:00\", \"2021-01-19T00:00:00\", \"2021-01-20T00:00:00\", \"2021-01-21T00:00:00\", \"2021-01-22T00:00:00\", \"2021-01-25T00:00:00\", \"2021-01-26T00:00:00\", \"2021-01-27T00:00:00\", \"2021-01-28T00:00:00\", \"2021-01-29T00:00:00\", \"2021-02-01T00:00:00\", \"2021-02-02T00:00:00\", \"2021-02-03T00:00:00\", \"2021-02-04T00:00:00\", \"2021-02-05T00:00:00\", \"2021-02-08T00:00:00\", \"2021-02-09T00:00:00\", \"2021-02-10T00:00:00\", \"2021-02-11T00:00:00\", \"2021-02-12T00:00:00\", \"2021-02-16T00:00:00\", \"2021-02-17T00:00:00\", \"2021-02-18T00:00:00\", \"2021-02-19T00:00:00\", \"2021-02-22T00:00:00\", \"2021-02-23T00:00:00\", \"2021-02-24T00:00:00\", \"2021-02-25T00:00:00\", \"2021-02-26T00:00:00\", \"2021-03-01T00:00:00\", \"2021-03-02T00:00:00\", \"2021-03-03T00:00:00\", \"2021-03-04T00:00:00\", \"2021-03-05T00:00:00\", \"2021-03-08T00:00:00\", \"2021-03-09T00:00:00\", \"2021-03-10T00:00:00\", \"2021-03-11T00:00:00\", \"2021-03-12T00:00:00\", \"2021-03-15T00:00:00\", \"2021-03-16T00:00:00\", \"2021-03-17T00:00:00\", \"2021-03-18T00:00:00\", \"2021-03-19T00:00:00\", \"2021-03-22T00:00:00\", \"2021-03-23T00:00:00\", \"2021-03-24T00:00:00\", \"2021-03-25T00:00:00\", \"2021-03-26T00:00:00\", \"2021-03-29T00:00:00\", \"2021-03-30T00:00:00\", \"2021-03-31T00:00:00\", \"2021-04-01T00:00:00\", \"2021-04-05T00:00:00\", \"2021-04-06T00:00:00\", \"2021-04-07T00:00:00\", \"2021-04-08T00:00:00\", \"2021-04-09T00:00:00\", \"2021-04-12T00:00:00\", \"2021-04-13T00:00:00\", \"2021-04-14T00:00:00\", \"2021-04-15T00:00:00\", \"2021-04-16T00:00:00\", \"2021-04-19T00:00:00\", \"2021-04-20T00:00:00\", \"2021-04-21T00:00:00\", \"2021-04-22T00:00:00\", \"2021-04-23T00:00:00\", \"2021-04-26T00:00:00\", \"2021-04-27T00:00:00\", \"2021-04-28T00:00:00\", \"2021-04-29T00:00:00\", \"2021-04-30T00:00:00\", \"2021-05-03T00:00:00\", \"2021-05-04T00:00:00\", \"2021-05-05T00:00:00\", \"2021-05-06T00:00:00\", \"2021-05-07T00:00:00\", \"2021-05-10T00:00:00\", \"2021-05-11T00:00:00\", \"2021-05-12T00:00:00\", \"2021-05-13T00:00:00\", \"2021-05-14T00:00:00\", \"2021-05-17T00:00:00\", \"2021-05-18T00:00:00\", \"2021-05-19T00:00:00\", \"2021-05-20T00:00:00\", \"2021-05-21T00:00:00\", \"2021-05-24T00:00:00\", \"2021-05-25T00:00:00\", \"2021-05-26T00:00:00\", \"2021-05-27T00:00:00\", \"2021-05-28T00:00:00\", \"2021-06-01T00:00:00\", \"2021-06-02T00:00:00\", \"2021-06-03T00:00:00\", \"2021-06-04T00:00:00\", \"2021-06-07T00:00:00\", \"2021-06-08T00:00:00\", \"2021-06-09T00:00:00\", \"2021-06-10T00:00:00\", \"2021-06-11T00:00:00\", \"2021-06-14T00:00:00\", \"2021-06-15T00:00:00\", \"2021-06-16T00:00:00\", \"2021-06-17T00:00:00\", \"2021-06-18T00:00:00\", \"2021-06-21T00:00:00\", \"2021-06-22T00:00:00\", \"2021-06-23T00:00:00\", \"2021-06-24T00:00:00\", \"2021-06-25T00:00:00\", \"2021-06-28T00:00:00\", \"2021-06-29T00:00:00\", \"2021-06-30T00:00:00\", \"2021-07-01T00:00:00\", \"2021-07-02T00:00:00\", \"2021-07-06T00:00:00\", \"2021-07-07T00:00:00\", \"2021-07-08T00:00:00\", \"2021-07-09T00:00:00\", \"2021-07-12T00:00:00\", \"2021-07-13T00:00:00\", \"2021-07-14T00:00:00\", \"2021-07-15T00:00:00\", \"2021-07-16T00:00:00\", \"2021-07-19T00:00:00\", \"2021-07-20T00:00:00\", \"2021-07-21T00:00:00\", \"2021-07-22T00:00:00\", \"2021-07-23T00:00:00\", \"2021-07-26T00:00:00\", \"2021-07-27T00:00:00\", \"2021-07-28T00:00:00\", \"2021-07-29T00:00:00\", \"2021-07-30T00:00:00\", \"2021-08-02T00:00:00\", \"2021-08-03T00:00:00\", \"2021-08-04T00:00:00\", \"2021-08-05T00:00:00\", \"2021-08-06T00:00:00\", \"2021-08-09T00:00:00\", \"2021-08-10T00:00:00\", \"2021-08-11T00:00:00\", \"2021-08-12T00:00:00\", \"2021-08-13T00:00:00\", \"2021-08-16T00:00:00\", \"2021-08-17T00:00:00\", \"2021-08-18T00:00:00\", \"2021-08-19T00:00:00\", \"2021-08-20T00:00:00\", \"2021-08-23T00:00:00\", \"2021-08-24T00:00:00\", \"2021-08-25T00:00:00\", \"2021-08-26T00:00:00\", \"2021-08-27T00:00:00\", \"2021-08-30T00:00:00\", \"2021-08-31T00:00:00\", \"2021-09-01T00:00:00\", \"2021-09-02T00:00:00\", \"2021-09-03T00:00:00\", \"2021-09-07T00:00:00\", \"2021-09-08T00:00:00\", \"2021-09-09T00:00:00\", \"2021-09-10T00:00:00\", \"2021-09-13T00:00:00\", \"2021-09-14T00:00:00\", \"2021-09-15T00:00:00\", \"2021-09-16T00:00:00\", \"2021-09-17T00:00:00\", \"2021-09-20T00:00:00\", \"2021-09-21T00:00:00\", \"2021-09-22T00:00:00\", \"2021-09-23T00:00:00\", \"2021-09-24T00:00:00\", \"2021-09-27T00:00:00\", \"2021-09-28T00:00:00\", \"2021-09-29T00:00:00\", \"2021-09-30T00:00:00\", \"2021-10-01T00:00:00\", \"2021-10-04T00:00:00\", \"2021-10-05T00:00:00\", \"2021-10-06T00:00:00\", \"2021-10-07T00:00:00\", \"2021-10-08T00:00:00\", \"2021-10-11T00:00:00\", \"2021-10-12T00:00:00\", \"2021-10-13T00:00:00\", \"2021-10-14T00:00:00\", \"2021-10-15T00:00:00\", \"2021-10-18T00:00:00\", \"2021-10-19T00:00:00\", \"2021-10-20T00:00:00\", \"2021-10-21T00:00:00\", \"2021-10-22T00:00:00\", \"2021-10-25T00:00:00\", \"2021-10-26T00:00:00\", \"2021-10-27T00:00:00\", \"2021-10-28T00:00:00\", \"2021-10-29T00:00:00\", \"2021-11-01T00:00:00\", \"2021-11-02T00:00:00\", \"2021-11-03T00:00:00\", \"2021-11-04T00:00:00\", \"2021-11-05T00:00:00\", \"2021-11-08T00:00:00\", \"2021-11-09T00:00:00\", \"2021-11-10T00:00:00\", \"2021-11-11T00:00:00\", \"2021-11-12T00:00:00\", \"2021-11-15T00:00:00\", \"2021-11-16T00:00:00\", \"2021-11-17T00:00:00\", \"2021-11-18T00:00:00\", \"2021-11-19T00:00:00\", \"2021-11-22T00:00:00\", \"2021-11-23T00:00:00\", \"2021-11-24T00:00:00\", \"2021-11-26T00:00:00\", \"2021-11-29T00:00:00\", \"2021-11-30T00:00:00\", \"2021-12-01T00:00:00\", \"2021-12-02T00:00:00\", \"2021-12-03T00:00:00\", \"2021-12-06T00:00:00\", \"2021-12-07T00:00:00\", \"2021-12-08T00:00:00\", \"2021-12-09T00:00:00\", \"2021-12-10T00:00:00\", \"2021-12-13T00:00:00\", \"2021-12-14T00:00:00\", \"2021-12-15T00:00:00\", \"2021-12-16T00:00:00\", \"2021-12-17T00:00:00\", \"2021-12-20T00:00:00\", \"2021-12-21T00:00:00\", \"2021-12-22T00:00:00\", \"2021-12-23T00:00:00\", \"2021-12-27T00:00:00\", \"2021-12-28T00:00:00\", \"2021-12-29T00:00:00\", \"2021-12-30T00:00:00\", \"2021-12-31T00:00:00\", \"2022-01-03T00:00:00\", \"2022-01-04T00:00:00\", \"2022-01-05T00:00:00\", \"2022-01-06T00:00:00\", \"2022-01-07T00:00:00\", \"2022-01-10T00:00:00\", \"2022-01-11T00:00:00\", \"2022-01-12T00:00:00\", \"2022-01-13T00:00:00\", \"2022-01-14T00:00:00\", \"2022-01-18T00:00:00\", \"2022-01-19T00:00:00\", \"2022-01-20T00:00:00\", \"2022-01-21T00:00:00\"], \"y\": [2159.815673828125, 2161.360107421875, 2163.550048828125, 2164.065673828125, 2166.484619140625, 2169.20751953125, 2170.831787109375, 2169.58740234375, 2167.028076171875, 2162.998291015625, 2160.603271484375, 2162.5029296875, 2165.207763671875, 2166.487060546875, 2167.321044921875, 2167.399169921875, 2167.760498046875, 2168.121826171875, 2169.05029296875, 2171.538330078125, 2169.24169921875, 2165.732666015625, 2164.127197265625, 2164.392578125, 2159.57080078125, 2157.743896484375, 2153.724365234375, 2149.983154296875, 2143.541748046875, 2140.012451171875, 2137.3544921875, 2137.474853515625, 2137.79150390625, 2140.431640625, 2141.0888671875, 2142.420654296875, 2142.830078125, 2142.9833984375, 2143.18359375, 2144.3076171875, 2144.49462890625, 2141.2001953125, 2142.557373046875, 2142.887939453125, 2142.795654296875, 2138.3583984375, 2124.057373046875, 2124.132568359375, 2126.446533203125, 2130.246337890625, 2134.09765625, 2137.263427734375, 2139.31103515625, 2139.787109375, 2140.725830078125, 2141.986083984375, 2144.377685546875, 2143.494873046875, 2145.129638671875, 2147.875732421875, 2149.056396484375, 2150.318359375, 2153.0537109375, 2155.18603515625, 2154.897216796875, 2156.4736328125, 2158.011474609375, 2159.100830078125, 2160.3974609375, 2161.061767578125, 2158.776123046875, 2158.14599609375, 2149.785888671875, 2146.86328125, 2149.06396484375, 2153.904052734375, 2158.20068359375, 2161.632080078125, 2166.027587890625, 2170.250732421875, 2173.6220703125, 2174.8818359375, 2176.0283203125, 2175.57275390625, 2177.890869140625, 2177.770263671875, 2177.409423828125, 2178.30517578125, 2181.124267578125, 2178.993896484375, 2180.75732421875, 2181.713134765625, 2183.174072265625, 2183.83251953125, 2185.779052734375, 2187.677490234375, 2187.32275390625, 2188.224365234375, 2189.279541015625, 2190.2314453125, 2189.16845703125, 2187.301513671875, 2188.2880859375, 2190.4453125, 2190.739990234375, 2191.59619140625, 2192.49658203125, 2193.52978515625, 2190.334716796875, 2182.271728515625, 2186.6064453125, 2191.227294921875, 2196.34521484375, 2201.165283203125, 2205.774169921875, 2209.92822265625, 2213.690673828125, 2218.738525390625, 2222.395751953125, 2222.047119140625, 2223.0849609375, 2225.233642578125, 2226.880126953125, 2227.867431640625, 2228.629638671875, 2227.095947265625, 2226.185302734375, 2224.865234375, 2225.472412109375, 2225.5439453125, 2225.57763671875, 2224.97119140625, 2224.68359375, 2224.20947265625, 2223.978271484375, 2222.759765625, 2222.93408203125, 2220.7314453125, 2218.57080078125, 2214.3203125, 2211.534423828125, 2211.319580078125, 2211.71240234375, 2211.814453125, 2210.172607421875, 2207.981201171875, 2208.53076171875, 2206.70654296875, 2205.278076171875, 2205.089111328125, 2204.658447265625, 2193.572509765625, 2194.623046875, 2195.90771484375, 2196.544921875, 2197.78125, 2199.10498046875, 2200.778076171875, 2201.055908203125, 2203.75244140625, 2201.819091796875, 2202.155517578125, 2199.4765625, 2198.757080078125, 2192.3466796875, 2184.846923828125, 2182.03564453125, 2182.602783203125, 2182.245849609375, 2182.21875, 2179.58544921875, 2177.97607421875, 2178.926513671875, 2177.85302734375, 2173.438232421875, 2166.322021484375, 2154.51806640625, 2148.09423828125, 2146.885986328125, 2145.28125, 2149.43798828125, 2152.17919921875, 2153.43798828125, 2157.06494140625, 2158.137939453125, 2160.208251953125, 2161.059814453125, 2160.775634765625, 2161.226806640625, 2159.710693359375, 2157.29736328125, 2156.132568359375, 2152.414306640625, 2147.560546875, 2147.8193359375, 2150.357666015625, 2149.9365234375, 2149.0869140625, 2147.04296875, 2148.2919921875, 2145.33203125, 2143.928955078125, 2144.172119140625, 2144.565673828125, 2145.10498046875, 2147.0615234375, 2148.706298828125, 2150.982177734375, 2153.396484375, 2152.8115234375, 2149.026123046875, 2146.899169921875, 2142.46484375, 2139.2705078125, 2127.395751953125, 2128.694091796875, 2129.716552734375, 2131.179443359375, 2134.451416015625, 2137.32958984375, 2139.96484375, 2139.601318359375, 2139.50146484375, 2139.343505859375, 2141.724365234375, 2145.269287109375, 2148.27099609375, 2149.620849609375, 2150.566162109375, 2150.35546875, 2150.188232421875, 2152.689208984375, 2151.847412109375, 2151.586669921875, 2153.98779296875, 2155.3642578125, 2157.874755859375, 2158.46728515625, 2160.113037109375, 2160.212890625, 2159.205810546875, 2159.76953125, 2153.62841796875, 2148.82421875, 2150.8916015625, 2154.58984375, 2160.5615234375, 2165.925537109375, 2167.821533203125, 2170.384521484375, 2173.524169921875, 2174.585205078125, 2176.316650390625, 2177.099609375, 2175.591064453125, 2174.98583984375, 2174.97998046875, 2173.605224609375, 2174.69189453125, 2174.860595703125, 2174.471435546875, 2174.2998046875, 2174.12060546875, 2177.096923828125, 2178.482177734375, 2180.74951171875, 2182.29541015625, 2182.246337890625, 2185.4130859375, 2188.057861328125, 2186.316650390625, 2189.605712890625, 2192.008544921875, 2192.873291015625, 2196.465087890625, 2198.15625, 2200.517578125, 2201.68896484375, 2202.441650390625, 2203.845947265625, 2203.38037109375, 2203.813720703125, 2205.93701171875, 2207.232421875, 2208.724365234375, 2210.014892578125, 2210.697509765625, 2211.3974609375, 2212.6435546875, 2213.412109375, 2213.08154296875, 2213.065673828125, 2213.53515625, 2213.051513671875, 2213.912109375, 2216.17041015625, 2216.66064453125, 2218.6513671875, 2219.421142578125, 2221.274658203125, 2216.157958984375, 2200.20068359375, 2196.358154296875, 2198.33154296875, 2201.27490234375, 2205.449951171875, 2207.498046875, 2210.258056640625, 2211.1181640625, 2210.77294921875, 2206.813720703125, 2203.384765625, 2197.891845703125, 2197.706787109375, 2199.104736328125, 2198.724609375, 2199.881103515625, 2200.83056640625, 2199.958740234375, 2199.7265625, 2198.697021484375, 2194.44091796875, 2193.536376953125, 2189.907958984375, 2174.098876953125, 2166.8173828125, 2162.934814453125, 2162.842041015625, 2160.66845703125, 2161.708251953125, 2161.67529296875, 2163.108642578125, 2164.821533203125, 2165.36083984375, 2166.544921875, 2165.154052734375, 2165.2431640625, 2166.012939453125, 2162.622802734375, 2164.326416015625, 2164.063232421875, 2163.03564453125, 2163.711181640625, 2162.665771484375, 2162.8310546875, 2164.775634765625, 2166.853515625, 2167.339599609375, 2167.510986328125, 2167.95947265625, 2168.676513671875, 2170.43212890625, 2172.8720703125, 2175.315185546875, 2176.8388671875, 2179.0341796875, 2179.938232421875, 2180.675537109375, 2180.401123046875, 2181.755126953125, 2181.668701171875, 2176.9140625, 2164.763916015625, 2169.55810546875, 2177.0634765625, 2182.05224609375, 2187.1767578125, 2191.286376953125, 2191.443603515625, 2193.410400390625, 2195.780517578125, 2198.369140625, 2201.737548828125, 2203.67236328125, 2204.309326171875, 2202.734619140625, 2202.336181640625, 2202.62548828125, 2203.366943359375, 2204.3544921875, 2206.259033203125, 2207.165283203125, 2203.7138671875, 2203.380126953125, 2202.619873046875, 2203.08740234375, 2203.43115234375, 2203.974853515625, 2202.62646484375, 2202.444091796875, 2202.197021484375, 2203.417236328125, 2202.495361328125, 2202.56884765625, 2203.86474609375, 2204.2822265625, 2206.504638671875, 2207.772216796875, 2210.224609375, 2213.0107421875, 2215.695068359375, 2214.22705078125, 2215.932373046875, 2214.543212890625, 2215.541259765625, 2217.174560546875, 2216.476806640625, 2217.380615234375, 2217.70556640625, 2215.64990234375, 2214.5732421875, 2214.6826171875, 2215.9267578125, 2215.926025390625, 2216.601806640625, 2217.640380859375, 2216.95361328125, 2217.875, 2216.81640625, 2216.951904296875, 2217.936767578125, 2217.09326171875, 2218.86083984375, 2219.663818359375, 2221.095947265625, 2222.711181640625, 2223.20947265625, 2218.062744140625, 2215.85888671875, 2218.489013671875, 2220.596435546875, 2223.3896484375, 2226.01220703125, 2229.3984375, 2232.421630859375, 2231.962158203125, 2234.30712890625, 2238.483642578125, 2240.040283203125, 2242.618896484375, 2243.597412109375, 2243.341552734375, 2245.01708984375, 2247.447509765625, 2248.072021484375, 2249.0146484375, 2249.17236328125, 2250.146728515625, 2251.38037109375, 2252.912353515625, 2254.9228515625, 2253.760986328125, 2252.844970703125, 2250.865234375, 2251.486328125, 2251.194091796875, 2251.75634765625, 2254.796630859375, 2257.12890625, 2257.85693359375, 2257.905029296875, 2259.2783203125, 2259.771484375, 2261.905517578125, 2262.969482421875, 2260.333251953125, 2263.29150390625, 2266.81396484375, 2268.367919921875, 2269.5263671875, 2270.57275390625, 2271.267822265625, 2271.03466796875, 2271.41845703125, 2268.8349609375, 2269.185791015625, 2270.09228515625, 2272.0869140625, 2275.700439453125, 2278.71484375, 2282.21728515625, 2286.3125, 2289.421630859375, 2288.58154296875, 2289.09814453125, 2293.64501953125, 2298.300048828125, 2301.547607421875, 2302.738037109375, 2304.6025390625, 2307.567626953125, 2308.995361328125, 2306.764892578125, 2301.25537109375, 2292.31005859375, 2295.32568359375, 2298.849365234375, 2303.908203125, 2307.364013671875, 2311.12548828125, 2315.24755859375, 2320.055419921875, 2324.126708984375, 2327.04345703125, 2329.970947265625, 2331.629638671875, 2329.33056640625, 2324.41845703125, 2318.535888671875, 2313.370361328125, 2304.819580078125, 2294.436279296875, 2290.72021484375, 2286.6181640625, 2285.522216796875, 2281.963623046875, 2276.25537109375, 2268.18701171875, 2264.150146484375, 2258.893798828125, 2244.69970703125, 2236.180419921875, 2222.784423828125, 2213.782958984375, 2203.56689453125, 2198.1640625, 2190.893798828125, 2183.718994140625, 2180.649169921875, 2174.588134765625, 2173.104736328125, 2173.2900390625, 2174.72802734375, 2175.13330078125, 2176.259521484375, 2176.1552734375, 2175.81396484375, 2175.06982421875, 2175.045166015625, 2179.531494140625, 2181.386474609375, 2185.812744140625, 2186.95849609375, 2191.883544921875, 2193.884765625, 2197.598876953125, 2203.384033203125, 2204.876953125, 2207.4384765625, 2212.050048828125, 2215.67138671875, 2217.5625, 2212.25048828125, 2205.710693359375, 2210.552490234375, 2216.451171875, 2225.093994140625, 2231.66552734375, 2238.587158203125, 2245.144287109375, 2250.53955078125, 2255.73583984375, 2259.40966796875, 2260.724609375, 2262.357666015625, 2263.22607421875, 2263.5, 2266.31689453125, 2268.5244140625, 2271.8544921875, 2275.44384765625, 2276.14306640625, 2279.091064453125, 2281.137939453125, 2283.00341796875, 2286.81298828125, 2290.626220703125, 2293.117431640625, 2294.72705078125, 2293.880615234375, 2294.92236328125, 2296.19921875, 2298.121337890625, 2295.980712890625, 2295.95068359375, 2297.029052734375, 2298.527099609375, 2300.109130859375, 2300.42333984375, 2297.387451171875, 2299.32958984375, 2300.15576171875, 2301.4228515625, 2303.845947265625, 2291.71142578125, 2290.62109375, 2291.20361328125, 2292.234130859375, 2291.5751953125, 2294.33544921875, 2297.472900390625, 2302.623046875, 2305.95263671875, 2310.544921875, 2313.0068359375, 2316.1494140625, 2319.970703125, 2323.904296875, 2325.85791015625, 2329.1982421875, 2332.58837890625, 2336.312255859375, 2336.869140625, 2337.505859375, 2338.71240234375, 2338.498779296875, 2339.88525390625, 2339.112060546875, 2328.209228515625, 2326.55810546875, 2326.558349609375, 2328.045654296875, 2329.09228515625, 2330.734375, 2333.105712890625, 2332.685302734375, 2334.031005859375, 2335.27783203125, 2336.062744140625, 2337.1103515625, 2337.44384765625, 2337.416748046875, 2339.08349609375, 2339.54931640625, 2342.13134765625, 2345.313232421875, 2344.958740234375, 2348.608154296875, 2354.064208984375, 2358.219482421875, 2363.1650390625, 2364.673583984375, 2362.460205078125, 2360.980712890625, 2358.586669921875, 2359.099609375, 2359.8212890625, 2360.0830078125, 2357.436279296875, 2358.450927734375, 2358.598876953125, 2354.59765625, 2345.88037109375, 2338.4306640625, 2336.204345703125, 2332.388427734375, 2329.387451171875, 2327.46142578125, 2325.909423828125, 2324.4736328125, 2321.69384765625, 2321.182373046875, 2320.453369140625, 2321.950927734375, 2321.7041015625, 2319.731201171875, 2320.135498046875, 2320.097900390625, 2317.985595703125, 2319.91162109375, 2323.289306640625, 2326.87548828125, 2330.03076171875, 2332.83935546875, 2333.6865234375, 2332.27197265625, 2337.143798828125, 2342.522705078125, 2345.66552734375, 2350.314453125, 2349.008056640625, 2346.633544921875, 2338.69873046875, 2342.440673828125, 2349.2080078125, 2351.3544921875, 2360.193359375, 2370.767822265625, 2376.34619140625, 2382.734619140625, 2390.4287109375, 2397.8642578125, 2404.220947265625, 2410.414306640625, 2416.08251953125, 2420.37109375, 2424.037841796875, 2425.165283203125, 2426.451904296875, 2427.15771484375, 2429.209228515625, 2432.36328125, 2431.54296875, 2430.929443359375, 2432.821533203125, 2435.827392578125, 2439.547607421875, 2442.514404296875, 2445.3818359375, 2445.08740234375, 2444.889892578125, 2446.30029296875, 2444.4853515625, 2444.774169921875, 2444.17822265625, 2441.419189453125, 2430.225341796875, 2429.49267578125, 2431.066650390625, 2432.06884765625, 2435.09619140625, 2435.238037109375, 2436.309814453125, 2436.378662109375, 2436.46484375, 2433.12060546875, 2433.236328125, 2428.58935546875, 2426.593994140625, 2427.087646484375, 2427.361572265625, 2428.15576171875, 2429.96142578125, 2430.05517578125, 2429.47607421875, 2428.380126953125, 2426.346435546875, 2427.039306640625, 2433.455322265625, 2436.990234375, 2444.27490234375, 2440.61572265625, 2442.765869140625, 2446.084228515625, 2451.17138671875, 2452.166259765625, 2451.659912109375, 2461.24560546875, 2474.912353515625, 2487.714599609375, 2500.12841796875, 2510.51123046875, 2520.180419921875, 2528.656494140625, 2534.13134765625, 2540.79248046875, 2545.890625, 2547.294921875, 2549.003173828125, 2549.481201171875, 2552.27587890625, 2550.052734375, 2548.14306640625, 2549.6953125, 2551.192138671875, 2549.945556640625, 2546.469970703125, 2544.26318359375, 2543.680419921875, 2544.272705078125, 2545.792236328125, 2548.376220703125, 2548.7578125, 2550.367919921875, 2551.252197265625, 2553.052490234375, 2552.34912109375, 2549.060546875, 2548.128173828125, 2548.36376953125, 2548.88330078125, 2547.447021484375, 2547.178955078125, 2547.5283203125, 2547.71533203125, 2545.7373046875, 2546.2626953125, 2548.173828125, 2553.281005859375, 2561.255126953125, 2568.511474609375, 2576.324462890625, 2583.226318359375, 2589.513671875, 2595.5361328125, 2600.30419921875, 2605.1455078125, 2609.0986328125, 2613.81884765625, 2617.767822265625, 2620.48046875, 2622.880615234375, 2624.928955078125, 2624.55517578125, 2620.0224609375, 2624.572998046875, 2628.201904296875, 2634.396728515625, 2636.32958984375, 2640.95556640625, 2645.451416015625, 2648.896240234375, 2650.087646484375, 2649.540283203125, 2644.898193359375, 2642.869384765625, 2642.021728515625, 2643.30322265625, 2643.65771484375, 2643.557373046875, 2642.63330078125, 2640.394287109375, 2641.624755859375, 2644.92138671875, 2648.774169921875, 2649.83740234375, 2653.108154296875, 2656.205322265625, 2659.222412109375, 2661.720947265625, 2663.728515625, 2665.89892578125, 2667.935302734375, 2671.077392578125, 2673.2353515625, 2676.00390625, 2679.013427734375, 2681.511474609375, 2682.66259765625, 2684.168701171875, 2681.601806640625, 2683.27197265625, 2686.051513671875, 2689.13427734375, 2691.6708984375, 2691.7451171875, 2692.96826171875, 2694.9052734375, 2696.25439453125, 2698.5576171875, 2700.47607421875, 2702.880126953125, 2705.9384765625, 2708.380615234375, 2711.583251953125, 2715.22412109375, 2718.511962890625, 2721.2392578125, 2723.267578125, 2725.67578125, 2725.49365234375, 2726.081298828125, 2728.12255859375, 2731.56884765625, 2732.35546875, 2736.30126953125, 2735.824462890625, 2731.336669921875, 2739.36279296875, 2747.986572265625, 2756.565185546875, 2764.49072265625, 2771.272705078125, 2777.695068359375, 2782.451904296875, 2787.320068359375, 2791.17724609375, 2794.90380859375, 2798.1728515625, 2801.3271484375, 2803.333251953125, 2804.6318359375, 2805.5126953125, 2805.708740234375, 2805.00244140625, 2806.277099609375, 2810.0654296875, 2814.86181640625, 2818.462158203125, 2821.650634765625, 2826.0390625, 2830.83642578125, 2835.75146484375, 2837.818115234375, 2841.89111328125, 2845.65576171875, 2848.998291015625, 2852.2236328125, 2850.227783203125, 2851.1201171875, 2852.288818359375, 2852.8505859375, 2853.44287109375, 2848.41064453125, 2844.151611328125, 2843.809326171875, 2843.89453125, 2844.969482421875, 2845.946533203125, 2846.493408203125, 2840.59375, 2836.53271484375, 2830.7822265625, 2826.9365234375, 2819.76318359375, 2817.38232421875, 2817.33837890625, 2818.115234375, 2819.118408203125, 2821.27978515625, 2819.0263671875, 2819.962646484375, 2820.1884765625, 2821.252685546875, 2824.839599609375, 2828.638427734375, 2831.123779296875, 2832.89013671875, 2828.6669921875, 2827.235595703125, 2824.147705078125, 2818.7568359375, 2823.651611328125, 2828.788818359375, 2831.70556640625, 2837.4306640625, 2844.08642578125, 2849.004150390625, 2853.825927734375, 2860.859375, 2867.551513671875, 2870.3037109375, 2874.38671875, 2877.726318359375, 2880.35498046875, 2883.07470703125, 2885.250244140625, 2885.1669921875, 2885.332275390625, 2885.060791015625, 2884.920654296875, 2886.18359375, 2883.3505859375, 2881.27392578125, 2876.2783203125, 2872.50927734375, 2870.408935546875, 2866.168701171875, 2864.648681640625, 2864.92822265625, 2867.53955078125, 2870.275146484375, 2872.84716796875, 2873.828857421875, 2871.83837890625, 2871.21533203125, 2870.478759765625, 2865.80712890625, 2865.100341796875, 2864.65185546875, 2865.900634765625, 2867.54248046875, 2871.34814453125, 2873.978515625, 2876.234619140625, 2878.18359375, 2878.69482421875, 2877.127685546875, 2875.3642578125, 2866.532958984375, 2860.886962890625, 2856.35986328125, 2850.272216796875, 2847.951904296875, 2847.185791015625, 2844.549560546875, 2842.734375, 2838.668212890625, 2835.231201171875, 2830.669189453125]}],\n",
              "                        {\"template\": {\"data\": {\"bar\": [{\"error_x\": {\"color\": \"#2a3f5f\"}, \"error_y\": {\"color\": \"#2a3f5f\"}, \"marker\": {\"line\": {\"color\": \"#E5ECF6\", \"width\": 0.5}}, \"type\": \"bar\"}], \"barpolar\": [{\"marker\": {\"line\": {\"color\": \"#E5ECF6\", \"width\": 0.5}}, \"type\": \"barpolar\"}], \"carpet\": [{\"aaxis\": {\"endlinecolor\": \"#2a3f5f\", \"gridcolor\": \"white\", \"linecolor\": \"white\", \"minorgridcolor\": \"white\", \"startlinecolor\": \"#2a3f5f\"}, \"baxis\": {\"endlinecolor\": \"#2a3f5f\", \"gridcolor\": \"white\", \"linecolor\": \"white\", \"minorgridcolor\": \"white\", \"startlinecolor\": \"#2a3f5f\"}, \"type\": \"carpet\"}], \"choropleth\": [{\"colorbar\": {\"outlinewidth\": 0, \"ticks\": \"\"}, \"type\": \"choropleth\"}], \"contour\": [{\"colorbar\": {\"outlinewidth\": 0, \"ticks\": \"\"}, \"colorscale\": [[0.0, \"#0d0887\"], [0.1111111111111111, \"#46039f\"], [0.2222222222222222, \"#7201a8\"], [0.3333333333333333, \"#9c179e\"], [0.4444444444444444, \"#bd3786\"], [0.5555555555555556, \"#d8576b\"], [0.6666666666666666, \"#ed7953\"], [0.7777777777777778, \"#fb9f3a\"], [0.8888888888888888, \"#fdca26\"], [1.0, \"#f0f921\"]], \"type\": \"contour\"}], \"contourcarpet\": [{\"colorbar\": {\"outlinewidth\": 0, \"ticks\": \"\"}, \"type\": \"contourcarpet\"}], \"heatmap\": [{\"colorbar\": {\"outlinewidth\": 0, \"ticks\": \"\"}, \"colorscale\": [[0.0, \"#0d0887\"], [0.1111111111111111, \"#46039f\"], [0.2222222222222222, \"#7201a8\"], [0.3333333333333333, \"#9c179e\"], [0.4444444444444444, \"#bd3786\"], [0.5555555555555556, \"#d8576b\"], [0.6666666666666666, \"#ed7953\"], [0.7777777777777778, \"#fb9f3a\"], [0.8888888888888888, \"#fdca26\"], [1.0, \"#f0f921\"]], \"type\": \"heatmap\"}], \"heatmapgl\": [{\"colorbar\": {\"outlinewidth\": 0, \"ticks\": \"\"}, \"colorscale\": [[0.0, \"#0d0887\"], [0.1111111111111111, \"#46039f\"], [0.2222222222222222, \"#7201a8\"], [0.3333333333333333, \"#9c179e\"], [0.4444444444444444, \"#bd3786\"], [0.5555555555555556, \"#d8576b\"], [0.6666666666666666, \"#ed7953\"], [0.7777777777777778, \"#fb9f3a\"], [0.8888888888888888, \"#fdca26\"], [1.0, \"#f0f921\"]], \"type\": \"heatmapgl\"}], \"histogram\": [{\"marker\": {\"colorbar\": {\"outlinewidth\": 0, \"ticks\": \"\"}}, \"type\": \"histogram\"}], \"histogram2d\": [{\"colorbar\": {\"outlinewidth\": 0, \"ticks\": \"\"}, \"colorscale\": [[0.0, \"#0d0887\"], [0.1111111111111111, \"#46039f\"], [0.2222222222222222, \"#7201a8\"], [0.3333333333333333, \"#9c179e\"], [0.4444444444444444, \"#bd3786\"], [0.5555555555555556, \"#d8576b\"], [0.6666666666666666, \"#ed7953\"], [0.7777777777777778, \"#fb9f3a\"], [0.8888888888888888, \"#fdca26\"], [1.0, \"#f0f921\"]], \"type\": \"histogram2d\"}], \"histogram2dcontour\": [{\"colorbar\": {\"outlinewidth\": 0, \"ticks\": \"\"}, \"colorscale\": [[0.0, \"#0d0887\"], [0.1111111111111111, \"#46039f\"], [0.2222222222222222, \"#7201a8\"], [0.3333333333333333, \"#9c179e\"], [0.4444444444444444, \"#bd3786\"], [0.5555555555555556, \"#d8576b\"], [0.6666666666666666, \"#ed7953\"], [0.7777777777777778, \"#fb9f3a\"], [0.8888888888888888, \"#fdca26\"], [1.0, \"#f0f921\"]], \"type\": \"histogram2dcontour\"}], \"mesh3d\": [{\"colorbar\": {\"outlinewidth\": 0, \"ticks\": \"\"}, \"type\": \"mesh3d\"}], \"parcoords\": [{\"line\": {\"colorbar\": {\"outlinewidth\": 0, \"ticks\": \"\"}}, \"type\": \"parcoords\"}], \"pie\": [{\"automargin\": true, \"type\": \"pie\"}], \"scatter\": [{\"marker\": {\"colorbar\": {\"outlinewidth\": 0, \"ticks\": \"\"}}, \"type\": \"scatter\"}], \"scatter3d\": [{\"line\": {\"colorbar\": {\"outlinewidth\": 0, \"ticks\": \"\"}}, \"marker\": {\"colorbar\": {\"outlinewidth\": 0, \"ticks\": \"\"}}, \"type\": \"scatter3d\"}], \"scattercarpet\": [{\"marker\": {\"colorbar\": {\"outlinewidth\": 0, \"ticks\": \"\"}}, \"type\": \"scattercarpet\"}], \"scattergeo\": [{\"marker\": {\"colorbar\": {\"outlinewidth\": 0, \"ticks\": \"\"}}, \"type\": \"scattergeo\"}], \"scattergl\": [{\"marker\": {\"colorbar\": {\"outlinewidth\": 0, \"ticks\": \"\"}}, \"type\": \"scattergl\"}], \"scattermapbox\": [{\"marker\": {\"colorbar\": {\"outlinewidth\": 0, \"ticks\": \"\"}}, \"type\": \"scattermapbox\"}], \"scatterpolar\": [{\"marker\": {\"colorbar\": {\"outlinewidth\": 0, \"ticks\": \"\"}}, \"type\": \"scatterpolar\"}], \"scatterpolargl\": [{\"marker\": {\"colorbar\": {\"outlinewidth\": 0, \"ticks\": \"\"}}, \"type\": \"scatterpolargl\"}], \"scatterternary\": [{\"marker\": {\"colorbar\": {\"outlinewidth\": 0, \"ticks\": \"\"}}, \"type\": \"scatterternary\"}], \"surface\": [{\"colorbar\": {\"outlinewidth\": 0, \"ticks\": \"\"}, \"colorscale\": [[0.0, \"#0d0887\"], [0.1111111111111111, \"#46039f\"], [0.2222222222222222, \"#7201a8\"], [0.3333333333333333, \"#9c179e\"], [0.4444444444444444, \"#bd3786\"], [0.5555555555555556, \"#d8576b\"], [0.6666666666666666, \"#ed7953\"], [0.7777777777777778, \"#fb9f3a\"], [0.8888888888888888, \"#fdca26\"], [1.0, \"#f0f921\"]], \"type\": \"surface\"}], \"table\": [{\"cells\": {\"fill\": {\"color\": \"#EBF0F8\"}, \"line\": {\"color\": \"white\"}}, \"header\": {\"fill\": {\"color\": \"#C8D4E3\"}, \"line\": {\"color\": \"white\"}}, \"type\": \"table\"}]}, \"layout\": {\"annotationdefaults\": {\"arrowcolor\": \"#2a3f5f\", \"arrowhead\": 0, \"arrowwidth\": 1}, \"coloraxis\": {\"colorbar\": {\"outlinewidth\": 0, \"ticks\": \"\"}}, \"colorscale\": {\"diverging\": [[0, \"#8e0152\"], [0.1, \"#c51b7d\"], [0.2, \"#de77ae\"], [0.3, \"#f1b6da\"], [0.4, \"#fde0ef\"], [0.5, \"#f7f7f7\"], [0.6, \"#e6f5d0\"], [0.7, \"#b8e186\"], [0.8, \"#7fbc41\"], [0.9, \"#4d9221\"], [1, \"#276419\"]], \"sequential\": [[0.0, \"#0d0887\"], [0.1111111111111111, \"#46039f\"], [0.2222222222222222, \"#7201a8\"], [0.3333333333333333, \"#9c179e\"], [0.4444444444444444, \"#bd3786\"], [0.5555555555555556, \"#d8576b\"], [0.6666666666666666, \"#ed7953\"], [0.7777777777777778, \"#fb9f3a\"], [0.8888888888888888, \"#fdca26\"], [1.0, \"#f0f921\"]], \"sequentialminus\": [[0.0, \"#0d0887\"], [0.1111111111111111, \"#46039f\"], [0.2222222222222222, \"#7201a8\"], [0.3333333333333333, \"#9c179e\"], [0.4444444444444444, \"#bd3786\"], [0.5555555555555556, \"#d8576b\"], [0.6666666666666666, \"#ed7953\"], [0.7777777777777778, \"#fb9f3a\"], [0.8888888888888888, \"#fdca26\"], [1.0, \"#f0f921\"]]}, \"colorway\": [\"#636efa\", \"#EF553B\", \"#00cc96\", \"#ab63fa\", \"#FFA15A\", \"#19d3f3\", \"#FF6692\", \"#B6E880\", \"#FF97FF\", \"#FECB52\"], \"font\": {\"color\": \"#2a3f5f\"}, \"geo\": {\"bgcolor\": \"white\", \"lakecolor\": \"white\", \"landcolor\": \"#E5ECF6\", \"showlakes\": true, \"showland\": true, \"subunitcolor\": \"white\"}, \"hoverlabel\": {\"align\": \"left\"}, \"hovermode\": \"closest\", \"mapbox\": {\"style\": \"light\"}, \"paper_bgcolor\": \"white\", \"plot_bgcolor\": \"#E5ECF6\", \"polar\": {\"angularaxis\": {\"gridcolor\": \"white\", \"linecolor\": \"white\", \"ticks\": \"\"}, \"bgcolor\": \"#E5ECF6\", \"radialaxis\": {\"gridcolor\": \"white\", \"linecolor\": \"white\", \"ticks\": \"\"}}, \"scene\": {\"xaxis\": {\"backgroundcolor\": \"#E5ECF6\", \"gridcolor\": \"white\", \"gridwidth\": 2, \"linecolor\": \"white\", \"showbackground\": true, \"ticks\": \"\", \"zerolinecolor\": \"white\"}, \"yaxis\": {\"backgroundcolor\": \"#E5ECF6\", \"gridcolor\": \"white\", \"gridwidth\": 2, \"linecolor\": \"white\", \"showbackground\": true, \"ticks\": \"\", \"zerolinecolor\": \"white\"}, \"zaxis\": {\"backgroundcolor\": \"#E5ECF6\", \"gridcolor\": \"white\", \"gridwidth\": 2, \"linecolor\": \"white\", \"showbackground\": true, \"ticks\": \"\", \"zerolinecolor\": \"white\"}}, \"shapedefaults\": {\"line\": {\"color\": \"#2a3f5f\"}}, \"ternary\": {\"aaxis\": {\"gridcolor\": \"white\", \"linecolor\": \"white\", \"ticks\": \"\"}, \"baxis\": {\"gridcolor\": \"white\", \"linecolor\": \"white\", \"ticks\": \"\"}, \"bgcolor\": \"#E5ECF6\", \"caxis\": {\"gridcolor\": \"white\", \"linecolor\": \"white\", \"ticks\": \"\"}}, \"title\": {\"x\": 0.05}, \"xaxis\": {\"automargin\": true, \"gridcolor\": \"white\", \"linecolor\": \"white\", \"ticks\": \"\", \"title\": {\"standoff\": 15}, \"zerolinecolor\": \"white\", \"zerolinewidth\": 2}, \"yaxis\": {\"automargin\": true, \"gridcolor\": \"white\", \"linecolor\": \"white\", \"ticks\": \"\", \"title\": {\"standoff\": 15}, \"zerolinecolor\": \"white\", \"zerolinewidth\": 2}}}},\n",
              "                        {\"responsive\": true}\n",
              "                    ).then(function(){\n",
              "                            \n",
              "var gd = document.getElementById('c9e87752-1a56-43e5-9425-45018a69a7d0');\n",
              "var x = new MutationObserver(function (mutations, observer) {{\n",
              "        var display = window.getComputedStyle(gd).display;\n",
              "        if (!display || display === 'none') {{\n",
              "            console.log([gd, 'removed!']);\n",
              "            Plotly.purge(gd);\n",
              "            observer.disconnect();\n",
              "        }}\n",
              "}});\n",
              "\n",
              "// Listen for the removal of the full notebook cells\n",
              "var notebookContainer = gd.closest('#notebook-container');\n",
              "if (notebookContainer) {{\n",
              "    x.observe(notebookContainer, {childList: true});\n",
              "}}\n",
              "\n",
              "// Listen for the clearing of the current output cell\n",
              "var outputEl = gd.closest('.output');\n",
              "if (outputEl) {{\n",
              "    x.observe(outputEl, {childList: true});\n",
              "}}\n",
              "\n",
              "                        })\n",
              "                };\n",
              "                \n",
              "            </script>\n",
              "        </div>\n",
              "</body>\n",
              "</html>"
            ]
          },
          "metadata": {}
        }
      ]
    },
    {
      "cell_type": "code",
      "source": [
        "import requests\n",
        "\n",
        "response = requests.get('https://www.alphavantage.co/query?function=RSI&symbol=GOOGL&interval=daily&time_period=5&series_type=close&apikey=43T9T17VCV2ME4SM')\n",
        "response = response.json()"
      ],
      "metadata": {
        "id": "6bwVpE697oBb"
      },
      "execution_count": 44,
      "outputs": []
    },
    {
      "cell_type": "code",
      "source": [
        "response.keys()"
      ],
      "metadata": {
        "colab": {
          "base_uri": "https://localhost:8080/"
        },
        "id": "7JmXG6XU_gIA",
        "outputId": "fccab353-ca1c-4ae7-f76c-3e959560c618"
      },
      "execution_count": 45,
      "outputs": [
        {
          "output_type": "execute_result",
          "data": {
            "text/plain": [
              "dict_keys(['Meta Data', 'Technical Analysis: RSI'])"
            ]
          },
          "metadata": {},
          "execution_count": 45
        }
      ]
    },
    {
      "cell_type": "code",
      "source": [
        "rsi_data  = pd.DataFrame.from_dict(response['Technical Analysis: RSI'], orient='index')\n"
      ],
      "metadata": {
        "id": "RBy9tIGY_mg-"
      },
      "execution_count": 46,
      "outputs": []
    },
    {
      "cell_type": "code",
      "source": [
        "rsi_data.head()"
      ],
      "metadata": {
        "colab": {
          "base_uri": "https://localhost:8080/",
          "height": 206
        },
        "id": "s6LPk0zD_1a3",
        "outputId": "80279dbf-f608-44d7-9788-9f0bba5ce4ac"
      },
      "execution_count": 47,
      "outputs": [
        {
          "output_type": "execute_result",
          "data": {
            "text/html": [
              "\n",
              "  <div id=\"df-cb286b7b-b5af-4b2c-8bb2-2840d191dad1\">\n",
              "    <div class=\"colab-df-container\">\n",
              "      <div>\n",
              "<style scoped>\n",
              "    .dataframe tbody tr th:only-of-type {\n",
              "        vertical-align: middle;\n",
              "    }\n",
              "\n",
              "    .dataframe tbody tr th {\n",
              "        vertical-align: top;\n",
              "    }\n",
              "\n",
              "    .dataframe thead th {\n",
              "        text-align: right;\n",
              "    }\n",
              "</style>\n",
              "<table border=\"1\" class=\"dataframe\">\n",
              "  <thead>\n",
              "    <tr style=\"text-align: right;\">\n",
              "      <th></th>\n",
              "      <th>RSI</th>\n",
              "    </tr>\n",
              "  </thead>\n",
              "  <tbody>\n",
              "    <tr>\n",
              "      <th>2004-08-26</th>\n",
              "      <td>72.7683</td>\n",
              "    </tr>\n",
              "    <tr>\n",
              "      <th>2004-08-27</th>\n",
              "      <td>64.2686</td>\n",
              "    </tr>\n",
              "    <tr>\n",
              "      <th>2004-08-30</th>\n",
              "      <td>47.8388</td>\n",
              "    </tr>\n",
              "    <tr>\n",
              "      <th>2004-08-31</th>\n",
              "      <td>49.2490</td>\n",
              "    </tr>\n",
              "    <tr>\n",
              "      <th>2004-09-01</th>\n",
              "      <td>41.0745</td>\n",
              "    </tr>\n",
              "  </tbody>\n",
              "</table>\n",
              "</div>\n",
              "      <button class=\"colab-df-convert\" onclick=\"convertToInteractive('df-cb286b7b-b5af-4b2c-8bb2-2840d191dad1')\"\n",
              "              title=\"Convert this dataframe to an interactive table.\"\n",
              "              style=\"display:none;\">\n",
              "        \n",
              "  <svg xmlns=\"http://www.w3.org/2000/svg\" height=\"24px\"viewBox=\"0 0 24 24\"\n",
              "       width=\"24px\">\n",
              "    <path d=\"M0 0h24v24H0V0z\" fill=\"none\"/>\n",
              "    <path d=\"M18.56 5.44l.94 2.06.94-2.06 2.06-.94-2.06-.94-.94-2.06-.94 2.06-2.06.94zm-11 1L8.5 8.5l.94-2.06 2.06-.94-2.06-.94L8.5 2.5l-.94 2.06-2.06.94zm10 10l.94 2.06.94-2.06 2.06-.94-2.06-.94-.94-2.06-.94 2.06-2.06.94z\"/><path d=\"M17.41 7.96l-1.37-1.37c-.4-.4-.92-.59-1.43-.59-.52 0-1.04.2-1.43.59L10.3 9.45l-7.72 7.72c-.78.78-.78 2.05 0 2.83L4 21.41c.39.39.9.59 1.41.59.51 0 1.02-.2 1.41-.59l7.78-7.78 2.81-2.81c.8-.78.8-2.07 0-2.86zM5.41 20L4 18.59l7.72-7.72 1.47 1.35L5.41 20z\"/>\n",
              "  </svg>\n",
              "      </button>\n",
              "      \n",
              "  <style>\n",
              "    .colab-df-container {\n",
              "      display:flex;\n",
              "      flex-wrap:wrap;\n",
              "      gap: 12px;\n",
              "    }\n",
              "\n",
              "    .colab-df-convert {\n",
              "      background-color: #E8F0FE;\n",
              "      border: none;\n",
              "      border-radius: 50%;\n",
              "      cursor: pointer;\n",
              "      display: none;\n",
              "      fill: #1967D2;\n",
              "      height: 32px;\n",
              "      padding: 0 0 0 0;\n",
              "      width: 32px;\n",
              "    }\n",
              "\n",
              "    .colab-df-convert:hover {\n",
              "      background-color: #E2EBFA;\n",
              "      box-shadow: 0px 1px 2px rgba(60, 64, 67, 0.3), 0px 1px 3px 1px rgba(60, 64, 67, 0.15);\n",
              "      fill: #174EA6;\n",
              "    }\n",
              "\n",
              "    [theme=dark] .colab-df-convert {\n",
              "      background-color: #3B4455;\n",
              "      fill: #D2E3FC;\n",
              "    }\n",
              "\n",
              "    [theme=dark] .colab-df-convert:hover {\n",
              "      background-color: #434B5C;\n",
              "      box-shadow: 0px 1px 3px 1px rgba(0, 0, 0, 0.15);\n",
              "      filter: drop-shadow(0px 1px 2px rgba(0, 0, 0, 0.3));\n",
              "      fill: #FFFFFF;\n",
              "    }\n",
              "  </style>\n",
              "\n",
              "      <script>\n",
              "        const buttonEl =\n",
              "          document.querySelector('#df-cb286b7b-b5af-4b2c-8bb2-2840d191dad1 button.colab-df-convert');\n",
              "        buttonEl.style.display =\n",
              "          google.colab.kernel.accessAllowed ? 'block' : 'none';\n",
              "\n",
              "        async function convertToInteractive(key) {\n",
              "          const element = document.querySelector('#df-cb286b7b-b5af-4b2c-8bb2-2840d191dad1');\n",
              "          const dataTable =\n",
              "            await google.colab.kernel.invokeFunction('convertToInteractive',\n",
              "                                                     [key], {});\n",
              "          if (!dataTable) return;\n",
              "\n",
              "          const docLinkHtml = 'Like what you see? Visit the ' +\n",
              "            '<a target=\"_blank\" href=https://colab.research.google.com/notebooks/data_table.ipynb>data table notebook</a>'\n",
              "            + ' to learn more about interactive tables.';\n",
              "          element.innerHTML = '';\n",
              "          dataTable['output_type'] = 'display_data';\n",
              "          await google.colab.output.renderOutput(dataTable, element);\n",
              "          const docLink = document.createElement('div');\n",
              "          docLink.innerHTML = docLinkHtml;\n",
              "          element.appendChild(docLink);\n",
              "        }\n",
              "      </script>\n",
              "    </div>\n",
              "  </div>\n",
              "  "
            ],
            "text/plain": [
              "                RSI\n",
              "2004-08-26  72.7683\n",
              "2004-08-27  64.2686\n",
              "2004-08-30  47.8388\n",
              "2004-08-31  49.2490\n",
              "2004-09-01  41.0745"
            ]
          },
          "metadata": {},
          "execution_count": 47
        }
      ]
    },
    {
      "cell_type": "code",
      "source": [
        "rsi_data = rsi_data[rsi_data.index >= '2018-01-01']"
      ],
      "metadata": {
        "id": "aeAGvaQY_9Vj"
      },
      "execution_count": 48,
      "outputs": []
    },
    {
      "cell_type": "code",
      "source": [
        "rsi_data['RSI']=rsi_data['RSI'].astype(np.float64)"
      ],
      "metadata": {
        "id": "XJMzYE0MAGlK"
      },
      "execution_count": 49,
      "outputs": []
    },
    {
      "cell_type": "code",
      "source": [
        "rsi_data.head()"
      ],
      "metadata": {
        "colab": {
          "base_uri": "https://localhost:8080/",
          "height": 206
        },
        "id": "wd13QQm1AP4R",
        "outputId": "507bffe2-b08a-4aa3-d19d-e3ece36de1d5"
      },
      "execution_count": 50,
      "outputs": [
        {
          "output_type": "execute_result",
          "data": {
            "text/html": [
              "\n",
              "  <div id=\"df-a5c59d1f-85b1-4769-8542-b2d68d0b72eb\">\n",
              "    <div class=\"colab-df-container\">\n",
              "      <div>\n",
              "<style scoped>\n",
              "    .dataframe tbody tr th:only-of-type {\n",
              "        vertical-align: middle;\n",
              "    }\n",
              "\n",
              "    .dataframe tbody tr th {\n",
              "        vertical-align: top;\n",
              "    }\n",
              "\n",
              "    .dataframe thead th {\n",
              "        text-align: right;\n",
              "    }\n",
              "</style>\n",
              "<table border=\"1\" class=\"dataframe\">\n",
              "  <thead>\n",
              "    <tr style=\"text-align: right;\">\n",
              "      <th></th>\n",
              "      <th>RSI</th>\n",
              "    </tr>\n",
              "  </thead>\n",
              "  <tbody>\n",
              "    <tr>\n",
              "      <th>2018-01-02</th>\n",
              "      <td>65.4310</td>\n",
              "    </tr>\n",
              "    <tr>\n",
              "      <th>2018-01-03</th>\n",
              "      <td>78.3686</td>\n",
              "    </tr>\n",
              "    <tr>\n",
              "      <th>2018-01-04</th>\n",
              "      <td>80.4830</td>\n",
              "    </tr>\n",
              "    <tr>\n",
              "      <th>2018-01-05</th>\n",
              "      <td>86.2429</td>\n",
              "    </tr>\n",
              "    <tr>\n",
              "      <th>2018-01-08</th>\n",
              "      <td>87.4882</td>\n",
              "    </tr>\n",
              "  </tbody>\n",
              "</table>\n",
              "</div>\n",
              "      <button class=\"colab-df-convert\" onclick=\"convertToInteractive('df-a5c59d1f-85b1-4769-8542-b2d68d0b72eb')\"\n",
              "              title=\"Convert this dataframe to an interactive table.\"\n",
              "              style=\"display:none;\">\n",
              "        \n",
              "  <svg xmlns=\"http://www.w3.org/2000/svg\" height=\"24px\"viewBox=\"0 0 24 24\"\n",
              "       width=\"24px\">\n",
              "    <path d=\"M0 0h24v24H0V0z\" fill=\"none\"/>\n",
              "    <path d=\"M18.56 5.44l.94 2.06.94-2.06 2.06-.94-2.06-.94-.94-2.06-.94 2.06-2.06.94zm-11 1L8.5 8.5l.94-2.06 2.06-.94-2.06-.94L8.5 2.5l-.94 2.06-2.06.94zm10 10l.94 2.06.94-2.06 2.06-.94-2.06-.94-.94-2.06-.94 2.06-2.06.94z\"/><path d=\"M17.41 7.96l-1.37-1.37c-.4-.4-.92-.59-1.43-.59-.52 0-1.04.2-1.43.59L10.3 9.45l-7.72 7.72c-.78.78-.78 2.05 0 2.83L4 21.41c.39.39.9.59 1.41.59.51 0 1.02-.2 1.41-.59l7.78-7.78 2.81-2.81c.8-.78.8-2.07 0-2.86zM5.41 20L4 18.59l7.72-7.72 1.47 1.35L5.41 20z\"/>\n",
              "  </svg>\n",
              "      </button>\n",
              "      \n",
              "  <style>\n",
              "    .colab-df-container {\n",
              "      display:flex;\n",
              "      flex-wrap:wrap;\n",
              "      gap: 12px;\n",
              "    }\n",
              "\n",
              "    .colab-df-convert {\n",
              "      background-color: #E8F0FE;\n",
              "      border: none;\n",
              "      border-radius: 50%;\n",
              "      cursor: pointer;\n",
              "      display: none;\n",
              "      fill: #1967D2;\n",
              "      height: 32px;\n",
              "      padding: 0 0 0 0;\n",
              "      width: 32px;\n",
              "    }\n",
              "\n",
              "    .colab-df-convert:hover {\n",
              "      background-color: #E2EBFA;\n",
              "      box-shadow: 0px 1px 2px rgba(60, 64, 67, 0.3), 0px 1px 3px 1px rgba(60, 64, 67, 0.15);\n",
              "      fill: #174EA6;\n",
              "    }\n",
              "\n",
              "    [theme=dark] .colab-df-convert {\n",
              "      background-color: #3B4455;\n",
              "      fill: #D2E3FC;\n",
              "    }\n",
              "\n",
              "    [theme=dark] .colab-df-convert:hover {\n",
              "      background-color: #434B5C;\n",
              "      box-shadow: 0px 1px 3px 1px rgba(0, 0, 0, 0.15);\n",
              "      filter: drop-shadow(0px 1px 2px rgba(0, 0, 0, 0.3));\n",
              "      fill: #FFFFFF;\n",
              "    }\n",
              "  </style>\n",
              "\n",
              "      <script>\n",
              "        const buttonEl =\n",
              "          document.querySelector('#df-a5c59d1f-85b1-4769-8542-b2d68d0b72eb button.colab-df-convert');\n",
              "        buttonEl.style.display =\n",
              "          google.colab.kernel.accessAllowed ? 'block' : 'none';\n",
              "\n",
              "        async function convertToInteractive(key) {\n",
              "          const element = document.querySelector('#df-a5c59d1f-85b1-4769-8542-b2d68d0b72eb');\n",
              "          const dataTable =\n",
              "            await google.colab.kernel.invokeFunction('convertToInteractive',\n",
              "                                                     [key], {});\n",
              "          if (!dataTable) return;\n",
              "\n",
              "          const docLinkHtml = 'Like what you see? Visit the ' +\n",
              "            '<a target=\"_blank\" href=https://colab.research.google.com/notebooks/data_table.ipynb>data table notebook</a>'\n",
              "            + ' to learn more about interactive tables.';\n",
              "          element.innerHTML = '';\n",
              "          dataTable['output_type'] = 'display_data';\n",
              "          await google.colab.output.renderOutput(dataTable, element);\n",
              "          const docLink = document.createElement('div');\n",
              "          docLink.innerHTML = docLinkHtml;\n",
              "          element.appendChild(docLink);\n",
              "        }\n",
              "      </script>\n",
              "    </div>\n",
              "  </div>\n",
              "  "
            ],
            "text/plain": [
              "                RSI\n",
              "2018-01-02  65.4310\n",
              "2018-01-03  78.3686\n",
              "2018-01-04  80.4830\n",
              "2018-01-05  86.2429\n",
              "2018-01-08  87.4882"
            ]
          },
          "metadata": {},
          "execution_count": 50
        }
      ]
    },
    {
      "cell_type": "code",
      "source": [
        "data = data.merge(rsi_data,left_index= True , right_index=True ,  how='inner')"
      ],
      "metadata": {
        "id": "IByrCj67AUkT"
      },
      "execution_count": 51,
      "outputs": []
    },
    {
      "cell_type": "code",
      "source": [
        "data.head()"
      ],
      "metadata": {
        "colab": {
          "base_uri": "https://localhost:8080/",
          "height": 238
        },
        "id": "rHLJ_pOEAkKA",
        "outputId": "8f7ce19c-3f5e-4c25-cf90-764b1c639732"
      },
      "execution_count": 52,
      "outputs": [
        {
          "output_type": "execute_result",
          "data": {
            "text/html": [
              "\n",
              "  <div id=\"df-57596f97-4f84-4240-857e-263485a69c66\">\n",
              "    <div class=\"colab-df-container\">\n",
              "      <div>\n",
              "<style scoped>\n",
              "    .dataframe tbody tr th:only-of-type {\n",
              "        vertical-align: middle;\n",
              "    }\n",
              "\n",
              "    .dataframe tbody tr th {\n",
              "        vertical-align: top;\n",
              "    }\n",
              "\n",
              "    .dataframe thead th {\n",
              "        text-align: right;\n",
              "    }\n",
              "</style>\n",
              "<table border=\"1\" class=\"dataframe\">\n",
              "  <thead>\n",
              "    <tr style=\"text-align: right;\">\n",
              "      <th></th>\n",
              "      <th>Close</th>\n",
              "      <th>Volume</th>\n",
              "      <th>RSI</th>\n",
              "    </tr>\n",
              "    <tr>\n",
              "      <th>Date</th>\n",
              "      <th></th>\n",
              "      <th></th>\n",
              "      <th></th>\n",
              "    </tr>\n",
              "  </thead>\n",
              "  <tbody>\n",
              "    <tr>\n",
              "      <th>2018-01-02</th>\n",
              "      <td>1073.209961</td>\n",
              "      <td>1588300</td>\n",
              "      <td>65.4310</td>\n",
              "    </tr>\n",
              "    <tr>\n",
              "      <th>2018-01-03</th>\n",
              "      <td>1091.520020</td>\n",
              "      <td>1565900</td>\n",
              "      <td>78.3686</td>\n",
              "    </tr>\n",
              "    <tr>\n",
              "      <th>2018-01-04</th>\n",
              "      <td>1095.760010</td>\n",
              "      <td>1302600</td>\n",
              "      <td>80.4830</td>\n",
              "    </tr>\n",
              "    <tr>\n",
              "      <th>2018-01-05</th>\n",
              "      <td>1110.290039</td>\n",
              "      <td>1512500</td>\n",
              "      <td>86.2429</td>\n",
              "    </tr>\n",
              "    <tr>\n",
              "      <th>2018-01-08</th>\n",
              "      <td>1114.209961</td>\n",
              "      <td>1232200</td>\n",
              "      <td>87.4882</td>\n",
              "    </tr>\n",
              "  </tbody>\n",
              "</table>\n",
              "</div>\n",
              "      <button class=\"colab-df-convert\" onclick=\"convertToInteractive('df-57596f97-4f84-4240-857e-263485a69c66')\"\n",
              "              title=\"Convert this dataframe to an interactive table.\"\n",
              "              style=\"display:none;\">\n",
              "        \n",
              "  <svg xmlns=\"http://www.w3.org/2000/svg\" height=\"24px\"viewBox=\"0 0 24 24\"\n",
              "       width=\"24px\">\n",
              "    <path d=\"M0 0h24v24H0V0z\" fill=\"none\"/>\n",
              "    <path d=\"M18.56 5.44l.94 2.06.94-2.06 2.06-.94-2.06-.94-.94-2.06-.94 2.06-2.06.94zm-11 1L8.5 8.5l.94-2.06 2.06-.94-2.06-.94L8.5 2.5l-.94 2.06-2.06.94zm10 10l.94 2.06.94-2.06 2.06-.94-2.06-.94-.94-2.06-.94 2.06-2.06.94z\"/><path d=\"M17.41 7.96l-1.37-1.37c-.4-.4-.92-.59-1.43-.59-.52 0-1.04.2-1.43.59L10.3 9.45l-7.72 7.72c-.78.78-.78 2.05 0 2.83L4 21.41c.39.39.9.59 1.41.59.51 0 1.02-.2 1.41-.59l7.78-7.78 2.81-2.81c.8-.78.8-2.07 0-2.86zM5.41 20L4 18.59l7.72-7.72 1.47 1.35L5.41 20z\"/>\n",
              "  </svg>\n",
              "      </button>\n",
              "      \n",
              "  <style>\n",
              "    .colab-df-container {\n",
              "      display:flex;\n",
              "      flex-wrap:wrap;\n",
              "      gap: 12px;\n",
              "    }\n",
              "\n",
              "    .colab-df-convert {\n",
              "      background-color: #E8F0FE;\n",
              "      border: none;\n",
              "      border-radius: 50%;\n",
              "      cursor: pointer;\n",
              "      display: none;\n",
              "      fill: #1967D2;\n",
              "      height: 32px;\n",
              "      padding: 0 0 0 0;\n",
              "      width: 32px;\n",
              "    }\n",
              "\n",
              "    .colab-df-convert:hover {\n",
              "      background-color: #E2EBFA;\n",
              "      box-shadow: 0px 1px 2px rgba(60, 64, 67, 0.3), 0px 1px 3px 1px rgba(60, 64, 67, 0.15);\n",
              "      fill: #174EA6;\n",
              "    }\n",
              "\n",
              "    [theme=dark] .colab-df-convert {\n",
              "      background-color: #3B4455;\n",
              "      fill: #D2E3FC;\n",
              "    }\n",
              "\n",
              "    [theme=dark] .colab-df-convert:hover {\n",
              "      background-color: #434B5C;\n",
              "      box-shadow: 0px 1px 3px 1px rgba(0, 0, 0, 0.15);\n",
              "      filter: drop-shadow(0px 1px 2px rgba(0, 0, 0, 0.3));\n",
              "      fill: #FFFFFF;\n",
              "    }\n",
              "  </style>\n",
              "\n",
              "      <script>\n",
              "        const buttonEl =\n",
              "          document.querySelector('#df-57596f97-4f84-4240-857e-263485a69c66 button.colab-df-convert');\n",
              "        buttonEl.style.display =\n",
              "          google.colab.kernel.accessAllowed ? 'block' : 'none';\n",
              "\n",
              "        async function convertToInteractive(key) {\n",
              "          const element = document.querySelector('#df-57596f97-4f84-4240-857e-263485a69c66');\n",
              "          const dataTable =\n",
              "            await google.colab.kernel.invokeFunction('convertToInteractive',\n",
              "                                                     [key], {});\n",
              "          if (!dataTable) return;\n",
              "\n",
              "          const docLinkHtml = 'Like what you see? Visit the ' +\n",
              "            '<a target=\"_blank\" href=https://colab.research.google.com/notebooks/data_table.ipynb>data table notebook</a>'\n",
              "            + ' to learn more about interactive tables.';\n",
              "          element.innerHTML = '';\n",
              "          dataTable['output_type'] = 'display_data';\n",
              "          await google.colab.output.renderOutput(dataTable, element);\n",
              "          const docLink = document.createElement('div');\n",
              "          docLink.innerHTML = docLinkHtml;\n",
              "          element.appendChild(docLink);\n",
              "        }\n",
              "      </script>\n",
              "    </div>\n",
              "  </div>\n",
              "  "
            ],
            "text/plain": [
              "                  Close   Volume      RSI\n",
              "Date                                     \n",
              "2018-01-02  1073.209961  1588300  65.4310\n",
              "2018-01-03  1091.520020  1565900  78.3686\n",
              "2018-01-04  1095.760010  1302600  80.4830\n",
              "2018-01-05  1110.290039  1512500  86.2429\n",
              "2018-01-08  1114.209961  1232200  87.4882"
            ]
          },
          "metadata": {},
          "execution_count": 52
        }
      ]
    },
    {
      "cell_type": "markdown",
      "source": [
        "Retraining MOdel"
      ],
      "metadata": {
        "id": "O5FO6oVxA3hE"
      }
    },
    {
      "cell_type": "code",
      "source": [
        "# Confirm the Testing Set length\n",
        "test_length = data[(data.index >= '2021-09-01')].shape[0]"
      ],
      "metadata": {
        "id": "pP5O67K_A8Rr"
      },
      "execution_count": 53,
      "outputs": []
    },
    {
      "cell_type": "code",
      "source": [
        "def CreateFeatures_and_Targets(data , feature_length):\n",
        "  X = []\n",
        "  Y = []\n",
        "\n",
        "  for i in tnrange(len(data) - feature_length):\n",
        "     X.append(data.iloc[i:i+ feature_length , : ].values)\n",
        "     Y.append(data['Close'].values[i+feature_length])\n",
        "\n",
        "  X= np.array(X)\n",
        "  Y= np.array(Y)\n",
        "\n",
        "  return X, Y  "
      ],
      "metadata": {
        "id": "2eJyVRnDGdDU"
      },
      "execution_count": 54,
      "outputs": []
    },
    {
      "cell_type": "code",
      "source": [
        "X , Y = CreateFeatures_and_Targets(data, 32)"
      ],
      "metadata": {
        "colab": {
          "base_uri": "https://localhost:8080/",
          "height": 49,
          "referenced_widgets": [
            "faebf64df6db4668af56a3c86fac54d8",
            "1d62c63d615d4745aa6f64b6bfd4ca79",
            "dbe9ea2a0b084f37a1caebd8dc2d8554",
            "ddefd8aca4834964b20ebc7e4ac5832f",
            "65f51ff9fff44babb27515f3c539d246",
            "b22e099ad58f4ea9a087f3f41bcdf4cd",
            "50fd92e12528439187d2994a752b82e7",
            "92511b5cba66472cbb5708a4c65cdeef",
            "316b496efd4d4305ace63c31e96dff1f",
            "b8d9db64e8774fbc867d044365a6988a",
            "a51b65bd7fcb4089b57ce6308539a534"
          ]
        },
        "id": "JZk2xVEOG5On",
        "outputId": "3770c249-b51d-4b71-ee57-2f4788777583"
      },
      "execution_count": 55,
      "outputs": [
        {
          "output_type": "display_data",
          "data": {
            "application/vnd.jupyter.widget-view+json": {
              "model_id": "faebf64df6db4668af56a3c86fac54d8",
              "version_minor": 0,
              "version_major": 2
            },
            "text/plain": [
              "  0%|          | 0/990 [00:00<?, ?it/s]"
            ]
          },
          "metadata": {}
        }
      ]
    },
    {
      "cell_type": "code",
      "source": [
        "# Check the shapes \n",
        "X.shape , Y.shape"
      ],
      "metadata": {
        "colab": {
          "base_uri": "https://localhost:8080/"
        },
        "id": "lsPMrk-RHW1i",
        "outputId": "a2bea5be-9ffe-4a9a-97a5-2eb1d4649396"
      },
      "execution_count": 56,
      "outputs": [
        {
          "output_type": "execute_result",
          "data": {
            "text/plain": [
              "((990, 32, 3), (990,))"
            ]
          },
          "metadata": {},
          "execution_count": 56
        }
      ]
    },
    {
      "cell_type": "code",
      "source": [
        "Xtrain , Xtest , Ytrain , Ytest = X[:-test_length] , X[-test_length:] , Y[:-test_length], Y[-test_length:]"
      ],
      "metadata": {
        "id": "1mfIx07bHlxy"
      },
      "execution_count": 57,
      "outputs": []
    },
    {
      "cell_type": "code",
      "source": [
        "#checking training dataset shape\n",
        "Xtrain.shape , Ytrain.shape"
      ],
      "metadata": {
        "colab": {
          "base_uri": "https://localhost:8080/"
        },
        "outputId": "48a86406-d9bb-4389-d9a0-b0b1a64b61de",
        "id": "_zmpOZaqJr3F"
      },
      "execution_count": 58,
      "outputs": [
        {
          "output_type": "execute_result",
          "data": {
            "text/plain": [
              "((891, 32, 3), (891,))"
            ]
          },
          "metadata": {},
          "execution_count": 58
        }
      ]
    },
    {
      "cell_type": "code",
      "source": [
        "Xtest.shape , Ytest.shape "
      ],
      "metadata": {
        "colab": {
          "base_uri": "https://localhost:8080/"
        },
        "id": "xINYOFrMJz_K",
        "outputId": "7b21fcdd-9258-427c-9d20-3a355bf4d5ec"
      },
      "execution_count": 59,
      "outputs": [
        {
          "output_type": "execute_result",
          "data": {
            "text/plain": [
              "((99, 32, 3), (99,))"
            ]
          },
          "metadata": {},
          "execution_count": 59
        }
      ]
    },
    {
      "cell_type": "code",
      "source": [
        "# create a Scaler to scale Vectors with Multiple Dimensions \n",
        "class MultiDimensionScaler():\n",
        "  def __init__(self):\n",
        "    self.scalers = []\n",
        "  def fit_transform(self,X) :\n",
        "    total_dims = X.shape[2]\n",
        "    for i in range(total_dims):\n",
        "      Scaler = MinMaxScaler()\n",
        "      X[: , :, i] = Scaler.fit_transform(X[: , :, i])\n",
        "      self.scalers.append(Scaler)\n",
        "    return X\n",
        "\n",
        "  def transform(self , X):\n",
        "      for i in range(X.shape[2]):\n",
        "          X[:,:,i] = self.scalers[i].transform(X[:,:,i]) \n",
        "      return X   "
      ],
      "metadata": {
        "id": "zhogXBbYJ_Y7"
      },
      "execution_count": 60,
      "outputs": []
    },
    {
      "cell_type": "code",
      "source": [
        "Feature_Scaler = MultiDimensionScaler()\n",
        "Xtrain = Feature_Scaler.fit_transform(Xtrain)\n",
        "Xtest = Feature_Scaler.transform(Xtest)"
      ],
      "metadata": {
        "id": "9m_n1a9CKYkc"
      },
      "execution_count": 61,
      "outputs": []
    },
    {
      "cell_type": "code",
      "source": [
        "Target_Scaler = MinMaxScaler()\n",
        "Ytrain = Target_Scaler.fit_transform(Ytrain.reshape(-1,1))\n",
        "Ytest = Target_Scaler.transform(Ytest.reshape(-1,1))"
      ],
      "metadata": {
        "id": "DFpQRlAcKYk3"
      },
      "execution_count": 62,
      "outputs": []
    },
    {
      "cell_type": "code",
      "source": [
        "def save_object(obj , name : str ):\n",
        "    pickle_out = open(f\"{name}.pck\",\"wb\")\n",
        "    pickle.dump(obj, pickle_out)\n",
        "    pickle_out.close()\n",
        "\n",
        "def load_object(name:str):\n",
        "    pickle_in = open(f\"{name}.pck\", \"rb\")\n",
        "    data = pickle.load(pickle_in)\n",
        "    return data "
      ],
      "metadata": {
        "id": "t5yMNT4rKYk3"
      },
      "execution_count": 63,
      "outputs": []
    },
    {
      "cell_type": "code",
      "source": [
        "# Save your object for future puroses\n",
        "#save_object(Feature_Scaler , \"Feature_Scaler\")\n",
        "#save_object(Target_Scaler , \"Target_Scaler\")\n"
      ],
      "metadata": {
        "id": "0hU4IdhYKYk4"
      },
      "execution_count": 64,
      "outputs": []
    },
    {
      "cell_type": "code",
      "source": [
        "from tensorflow.keras.callbacks import ModelCheckpoint , ReduceLROnPlateau\n",
        "\n",
        "save_best = ModelCheckpoint(\"best_weight.h5\",monitor = 'val_loss' , save_best_only=True , save_weights_only = True)\n",
        "reduce_lr = ReduceLROnPlateau(monitor = 'val_loss', factor = 0.25 , patience=5 ,  min_lr = 0.00001,verbose = 1)\n"
      ],
      "metadata": {
        "id": "kqLStNcnKYk5"
      },
      "execution_count": 65,
      "outputs": []
    },
    {
      "cell_type": "code",
      "source": [
        "from tensorflow.keras.models import Sequential\n",
        "from tensorflow.keras.layers import Dense , Dropout , LSTM , Bidirectional\n",
        "\n",
        "model = Sequential()\n",
        "\n",
        "model.add(Bidirectional(LSTM(512 , return_sequences = True ,  recurrent_dropout=0.1 , input_shape=(32,2))))\n",
        "model.add(LSTM(256, recurrent_dropout=0.1))\n",
        "model.add(Dropout(0.3))\n",
        "model.add(Dense(64 , activation='elu'))\n",
        "model.add(Dropout(0.3))\n",
        "model.add(Dense(32,activation='elu'))\n",
        "model.add(Dense(1,activation='linear')) # Final Layer "
      ],
      "metadata": {
        "id": "uM_hp0YdKYk5"
      },
      "execution_count": 66,
      "outputs": []
    },
    {
      "cell_type": "code",
      "source": [
        "# optimizer = tf.keras.optimizer.Adam(learning_rate=0.002)\n",
        "optimizer = tf.keras.optimizers.SGD(learning_rate=0.002)\n",
        "model.compile(loss='mse',optimizer=optimizer)"
      ],
      "metadata": {
        "id": "zj2myNeoKYk6"
      },
      "execution_count": 67,
      "outputs": []
    },
    {
      "cell_type": "code",
      "source": [
        "history = model.fit(Xtrain, Ytrain,\n",
        "                     epochs = 10,\n",
        "                    batch_size = 1,\n",
        "                    verbose = 1,\n",
        "                    shuffle = False,\n",
        "                    validation_data=(Xtest, Ytest),\n",
        "                    callbacks= [reduce_lr , save_best]) "
      ],
      "metadata": {
        "colab": {
          "base_uri": "https://localhost:8080/"
        },
        "outputId": "cb54cd28-ef0d-4fc7-8453-514bc14abcc8",
        "id": "RSDL7ru8KYk6"
      },
      "execution_count": 68,
      "outputs": [
        {
          "output_type": "stream",
          "name": "stdout",
          "text": [
            "Epoch 1/10\n",
            "891/891 [==============================] - 1125s 1s/step - loss: 0.0043 - val_loss: 0.0070 - lr: 0.0020\n",
            "Epoch 2/10\n",
            "891/891 [==============================] - 1222s 1s/step - loss: 0.0073 - val_loss: 0.0088 - lr: 0.0020\n",
            "Epoch 3/10\n",
            "891/891 [==============================] - 1486s 2s/step - loss: 0.0057 - val_loss: 0.0118 - lr: 0.0020\n",
            "Epoch 4/10\n",
            "891/891 [==============================] - 1503s 2s/step - loss: 0.0046 - val_loss: 0.0066 - lr: 0.0020\n",
            "Epoch 5/10\n",
            "891/891 [==============================] - 1188s 1s/step - loss: 0.0038 - val_loss: 0.0033 - lr: 0.0020\n",
            "Epoch 6/10\n",
            "891/891 [==============================] - 1091s 1s/step - loss: 0.0036 - val_loss: 0.0024 - lr: 0.0020\n",
            "Epoch 7/10\n",
            "891/891 [==============================] - 1092s 1s/step - loss: 0.0029 - val_loss: 0.0011 - lr: 0.0020\n",
            "Epoch 8/10\n",
            "891/891 [==============================] - 1150s 1s/step - loss: 0.0026 - val_loss: 0.0011 - lr: 0.0020\n",
            "Epoch 9/10\n",
            "891/891 [==============================] - 2242s 3s/step - loss: 0.0028 - val_loss: 0.0018 - lr: 0.0020\n",
            "Epoch 10/10\n",
            "891/891 [==============================] - 4781s 5s/step - loss: 0.0024 - val_loss: 0.0039 - lr: 0.0020\n"
          ]
        }
      ]
    },
    {
      "cell_type": "code",
      "source": [
        "#load the best weights\n",
        "model.load_weights(\"best_weight.h5\")"
      ],
      "metadata": {
        "id": "ptBbYOmHexnp"
      },
      "execution_count": 69,
      "outputs": []
    },
    {
      "cell_type": "code",
      "source": [
        "Predictions = model.predict(Xtest)"
      ],
      "metadata": {
        "id": "-KTpWXxIexnr"
      },
      "execution_count": 70,
      "outputs": []
    },
    {
      "cell_type": "code",
      "source": [
        "Predictions = Target_Scaler.inverse_transform(Predictions)\n",
        "Actual = Target_Scaler.inverse_transform(Ytest)"
      ],
      "metadata": {
        "id": "t17ucVAxexnr"
      },
      "execution_count": 71,
      "outputs": []
    },
    {
      "cell_type": "code",
      "source": [
        "Predictions.shape"
      ],
      "metadata": {
        "colab": {
          "base_uri": "https://localhost:8080/"
        },
        "outputId": "6e011774-5061-4650-d2fe-6d595f652f07",
        "id": "hGTjGRQhexns"
      },
      "execution_count": 72,
      "outputs": [
        {
          "output_type": "execute_result",
          "data": {
            "text/plain": [
              "(99, 1)"
            ]
          },
          "metadata": {},
          "execution_count": 72
        }
      ]
    },
    {
      "cell_type": "code",
      "source": [
        "Predictions = np.squeeze(Predictions , axis =1 )\n",
        "Actual = np.squeeze(Actual , axis = 1)"
      ],
      "metadata": {
        "id": "GmR8u-HUexns"
      },
      "execution_count": 73,
      "outputs": []
    },
    {
      "cell_type": "code",
      "source": [
        "# check the prediction vs Actual \n",
        "fig =  go.Figure()\n",
        "\n",
        "fig.add_trace(go.Scatter(x = data.index[-test_length:] , y= Actual , mode = 'lines' , name='Actual'))\n",
        "fig.add_trace(go.Scatter(x=data.index[-test_length:] , y =Predictions , mode = 'lines', name = 'Predicted' ))\n",
        "fig.show()"
      ],
      "metadata": {
        "colab": {
          "base_uri": "https://localhost:8080/",
          "height": 542
        },
        "outputId": "e0d402fc-42a4-4012-85ae-df2efb7133ff",
        "id": "u3iLvU_Kexnt"
      },
      "execution_count": 74,
      "outputs": [
        {
          "output_type": "display_data",
          "data": {
            "text/html": [
              "<html>\n",
              "<head><meta charset=\"utf-8\" /></head>\n",
              "<body>\n",
              "    <div>\n",
              "            <script src=\"https://cdnjs.cloudflare.com/ajax/libs/mathjax/2.7.5/MathJax.js?config=TeX-AMS-MML_SVG\"></script><script type=\"text/javascript\">if (window.MathJax) {MathJax.Hub.Config({SVG: {font: \"STIX-Web\"}});}</script>\n",
              "                <script type=\"text/javascript\">window.PlotlyConfig = {MathJaxConfig: 'local'};</script>\n",
              "        <script src=\"https://cdn.plot.ly/plotly-latest.min.js\"></script>    \n",
              "            <div id=\"7fd08706-9097-4f4b-abe3-ed8a6a828a7e\" class=\"plotly-graph-div\" style=\"height:525px; width:100%;\"></div>\n",
              "            <script type=\"text/javascript\">\n",
              "                \n",
              "                    window.PLOTLYENV=window.PLOTLYENV || {};\n",
              "                    \n",
              "                if (document.getElementById(\"7fd08706-9097-4f4b-abe3-ed8a6a828a7e\")) {\n",
              "                    Plotly.newPlot(\n",
              "                        '7fd08706-9097-4f4b-abe3-ed8a6a828a7e',\n",
              "                        [{\"mode\": \"lines\", \"name\": \"Actual\", \"type\": \"scatter\", \"x\": [\"2021-09-01T00:00:00\", \"2021-09-02T00:00:00\", \"2021-09-03T00:00:00\", \"2021-09-07T00:00:00\", \"2021-09-08T00:00:00\", \"2021-09-09T00:00:00\", \"2021-09-10T00:00:00\", \"2021-09-13T00:00:00\", \"2021-09-14T00:00:00\", \"2021-09-15T00:00:00\", \"2021-09-16T00:00:00\", \"2021-09-17T00:00:00\", \"2021-09-20T00:00:00\", \"2021-09-21T00:00:00\", \"2021-09-22T00:00:00\", \"2021-09-23T00:00:00\", \"2021-09-24T00:00:00\", \"2021-09-27T00:00:00\", \"2021-09-28T00:00:00\", \"2021-09-29T00:00:00\", \"2021-09-30T00:00:00\", \"2021-10-01T00:00:00\", \"2021-10-04T00:00:00\", \"2021-10-05T00:00:00\", \"2021-10-06T00:00:00\", \"2021-10-07T00:00:00\", \"2021-10-08T00:00:00\", \"2021-10-11T00:00:00\", \"2021-10-12T00:00:00\", \"2021-10-13T00:00:00\", \"2021-10-14T00:00:00\", \"2021-10-15T00:00:00\", \"2021-10-18T00:00:00\", \"2021-10-19T00:00:00\", \"2021-10-20T00:00:00\", \"2021-10-21T00:00:00\", \"2021-10-22T00:00:00\", \"2021-10-25T00:00:00\", \"2021-10-26T00:00:00\", \"2021-10-27T00:00:00\", \"2021-10-28T00:00:00\", \"2021-10-29T00:00:00\", \"2021-11-01T00:00:00\", \"2021-11-02T00:00:00\", \"2021-11-03T00:00:00\", \"2021-11-04T00:00:00\", \"2021-11-05T00:00:00\", \"2021-11-08T00:00:00\", \"2021-11-09T00:00:00\", \"2021-11-10T00:00:00\", \"2021-11-11T00:00:00\", \"2021-11-12T00:00:00\", \"2021-11-15T00:00:00\", \"2021-11-16T00:00:00\", \"2021-11-17T00:00:00\", \"2021-11-18T00:00:00\", \"2021-11-19T00:00:00\", \"2021-11-22T00:00:00\", \"2021-11-23T00:00:00\", \"2021-11-24T00:00:00\", \"2021-11-26T00:00:00\", \"2021-11-29T00:00:00\", \"2021-11-30T00:00:00\", \"2021-12-01T00:00:00\", \"2021-12-02T00:00:00\", \"2021-12-03T00:00:00\", \"2021-12-06T00:00:00\", \"2021-12-07T00:00:00\", \"2021-12-08T00:00:00\", \"2021-12-09T00:00:00\", \"2021-12-10T00:00:00\", \"2021-12-13T00:00:00\", \"2021-12-14T00:00:00\", \"2021-12-15T00:00:00\", \"2021-12-16T00:00:00\", \"2021-12-17T00:00:00\", \"2021-12-20T00:00:00\", \"2021-12-21T00:00:00\", \"2021-12-22T00:00:00\", \"2021-12-23T00:00:00\", \"2021-12-27T00:00:00\", \"2021-12-28T00:00:00\", \"2021-12-29T00:00:00\", \"2021-12-30T00:00:00\", \"2021-12-31T00:00:00\", \"2022-01-03T00:00:00\", \"2022-01-04T00:00:00\", \"2022-01-05T00:00:00\", \"2022-01-06T00:00:00\", \"2022-01-07T00:00:00\", \"2022-01-10T00:00:00\", \"2022-01-11T00:00:00\", \"2022-01-12T00:00:00\", \"2022-01-13T00:00:00\", \"2022-01-14T00:00:00\", \"2022-01-18T00:00:00\", \"2022-01-19T00:00:00\", \"2022-01-20T00:00:00\", \"2022-01-21T00:00:00\"], \"y\": [2904.31005859375, 2865.739990234375, 2874.7900390625, 2885.610107421875, 2873.820068359375, 2870.820068359375, 2817.52001953125, 2846.64990234375, 2850.889892578125, 2888.590087890625, 2872.199951171875, 2816.0, 2774.389892578125, 2780.659912109375, 2805.669921875, 2824.320068359375, 2844.300048828125, 2821.43994140625, 2716.60009765625, 2687.070068359375, 2673.52001953125, 2730.860107421875, 2673.18994140625, 2720.4599609375, 2751.300048828125, 2784.5, 2795.7099609375, 2778.280029296875, 2728.97998046875, 2751.639892578125, 2823.02001953125, 2827.360107421875, 2855.56005859375, 2864.739990234375, 2835.3798828125, 2837.719970703125, 2751.330078125, 2748.93994140625, 2786.169921875, 2924.35009765625, 2916.97998046875, 2960.919921875, 2869.93994140625, 2908.64990234375, 2931.9599609375, 2965.35009765625, 2977.0400390625, 2980.6201171875, 2978.3701171875, 2917.8701171875, 2915.330078125, 2973.56005859375, 2969.0400390625, 2957.52001953125, 2960.93994140625, 2996.77001953125, 2978.530029296875, 2926.0400390625, 2915.639892578125, 2922.39990234375, 2843.659912109375, 2910.610107421875, 2837.949951171875, 2821.030029296875, 2859.320068359375, 2840.030029296875, 2863.10009765625, 2945.389892578125, 2963.72998046875, 2952.77001953125, 2960.030029296875, 2916.530029296875, 2878.139892578125, 2928.820068359375, 2888.89990234375, 2834.5, 2832.139892578125, 2869.449951171875, 2928.300048828125, 2938.330078125, 2958.1298828125, 2933.739990234375, 2933.10009765625, 2924.010009765625, 2897.0400390625, 2899.830078125, 2887.989990234375, 2755.5, 2754.949951171875, 2740.340087890625, 2773.389892578125, 2794.719970703125, 2828.610107421875, 2771.739990234375, 2789.610107421875, 2719.9599609375, 2702.330078125, 2666.14990234375, 2607.030029296875]}, {\"mode\": \"lines\", \"name\": \"Predicted\", \"type\": \"scatter\", \"x\": [\"2021-09-01T00:00:00\", \"2021-09-02T00:00:00\", \"2021-09-03T00:00:00\", \"2021-09-07T00:00:00\", \"2021-09-08T00:00:00\", \"2021-09-09T00:00:00\", \"2021-09-10T00:00:00\", \"2021-09-13T00:00:00\", \"2021-09-14T00:00:00\", \"2021-09-15T00:00:00\", \"2021-09-16T00:00:00\", \"2021-09-17T00:00:00\", \"2021-09-20T00:00:00\", \"2021-09-21T00:00:00\", \"2021-09-22T00:00:00\", \"2021-09-23T00:00:00\", \"2021-09-24T00:00:00\", \"2021-09-27T00:00:00\", \"2021-09-28T00:00:00\", \"2021-09-29T00:00:00\", \"2021-09-30T00:00:00\", \"2021-10-01T00:00:00\", \"2021-10-04T00:00:00\", \"2021-10-05T00:00:00\", \"2021-10-06T00:00:00\", \"2021-10-07T00:00:00\", \"2021-10-08T00:00:00\", \"2021-10-11T00:00:00\", \"2021-10-12T00:00:00\", \"2021-10-13T00:00:00\", \"2021-10-14T00:00:00\", \"2021-10-15T00:00:00\", \"2021-10-18T00:00:00\", \"2021-10-19T00:00:00\", \"2021-10-20T00:00:00\", \"2021-10-21T00:00:00\", \"2021-10-22T00:00:00\", \"2021-10-25T00:00:00\", \"2021-10-26T00:00:00\", \"2021-10-27T00:00:00\", \"2021-10-28T00:00:00\", \"2021-10-29T00:00:00\", \"2021-11-01T00:00:00\", \"2021-11-02T00:00:00\", \"2021-11-03T00:00:00\", \"2021-11-04T00:00:00\", \"2021-11-05T00:00:00\", \"2021-11-08T00:00:00\", \"2021-11-09T00:00:00\", \"2021-11-10T00:00:00\", \"2021-11-11T00:00:00\", \"2021-11-12T00:00:00\", \"2021-11-15T00:00:00\", \"2021-11-16T00:00:00\", \"2021-11-17T00:00:00\", \"2021-11-18T00:00:00\", \"2021-11-19T00:00:00\", \"2021-11-22T00:00:00\", \"2021-11-23T00:00:00\", \"2021-11-24T00:00:00\", \"2021-11-26T00:00:00\", \"2021-11-29T00:00:00\", \"2021-11-30T00:00:00\", \"2021-12-01T00:00:00\", \"2021-12-02T00:00:00\", \"2021-12-03T00:00:00\", \"2021-12-06T00:00:00\", \"2021-12-07T00:00:00\", \"2021-12-08T00:00:00\", \"2021-12-09T00:00:00\", \"2021-12-10T00:00:00\", \"2021-12-13T00:00:00\", \"2021-12-14T00:00:00\", \"2021-12-15T00:00:00\", \"2021-12-16T00:00:00\", \"2021-12-17T00:00:00\", \"2021-12-20T00:00:00\", \"2021-12-21T00:00:00\", \"2021-12-22T00:00:00\", \"2021-12-23T00:00:00\", \"2021-12-27T00:00:00\", \"2021-12-28T00:00:00\", \"2021-12-29T00:00:00\", \"2021-12-30T00:00:00\", \"2021-12-31T00:00:00\", \"2022-01-03T00:00:00\", \"2022-01-04T00:00:00\", \"2022-01-05T00:00:00\", \"2022-01-06T00:00:00\", \"2022-01-07T00:00:00\", \"2022-01-10T00:00:00\", \"2022-01-11T00:00:00\", \"2022-01-12T00:00:00\", \"2022-01-13T00:00:00\", \"2022-01-14T00:00:00\", \"2022-01-18T00:00:00\", \"2022-01-19T00:00:00\", \"2022-01-20T00:00:00\", \"2022-01-21T00:00:00\"], \"y\": [2881.78271484375, 2895.860595703125, 2893.3056640625, 2895.513427734375, 2899.592041015625, 2899.617431640625, 2899.1533203125, 2881.857177734375, 2877.359375, 2874.26123046875, 2878.14453125, 2877.525390625, 2860.675048828125, 2840.964111328125, 2828.267822265625, 2822.937255859375, 2823.2900390625, 2827.67041015625, 2826.765380859375, 2806.885986328125, 2788.494873046875, 2768.27783203125, 2762.2724609375, 2746.138916015625, 2742.979248046875, 2746.35400390625, 2754.4375, 2763.79150390625, 2771.084228515625, 2765.76123046875, 2768.681884765625, 2779.24072265625, 2790.1533203125, 2805.88037109375, 2821.658203125, 2828.116455078125, 2833.99560546875, 2818.9296875, 2807.420166015625, 2801.442626953125, 2805.184814453125, 2817.406005859375, 2831.606689453125, 2829.78466796875, 2835.7529296875, 2845.306396484375, 2856.0126953125, 2867.551025390625, 2881.912353515625, 2895.36083984375, 2892.695068359375, 2892.753662109375, 2902.093017578125, 2909.5205078125, 2914.5458984375, 2919.84716796875, 2928.146728515625, 2930.78759765625, 2923.018310546875, 2914.611328125, 2910.363525390625, 2893.190673828125, 2890.148193359375, 2876.119140625, 2862.568359375, 2857.55419921875, 2847.81982421875, 2845.446044921875, 2854.784912109375, 2867.759765625, 2878.19970703125, 2889.17626953125, 2889.837646484375, 2881.8720703125, 2883.880126953125, 2879.62939453125, 2865.004150390625, 2855.201416015625, 2853.080078125, 2860.664306640625, 2869.353759765625, 2882.545654296875, 2889.102783203125, 2895.420166015625, 2899.528564453125, 2896.7529296875, 2892.906982421875, 2886.455322265625, 2859.802490234375, 2837.497802734375, 2816.26220703125, 2802.593994140625, 2798.058349609375, 2801.484619140625, 2794.249267578125, 2791.9765625, 2779.571044921875, 2767.3359375, 2751.8583984375]}],\n",
              "                        {\"template\": {\"data\": {\"bar\": [{\"error_x\": {\"color\": \"#2a3f5f\"}, \"error_y\": {\"color\": \"#2a3f5f\"}, \"marker\": {\"line\": {\"color\": \"#E5ECF6\", \"width\": 0.5}}, \"type\": \"bar\"}], \"barpolar\": [{\"marker\": {\"line\": {\"color\": \"#E5ECF6\", \"width\": 0.5}}, \"type\": \"barpolar\"}], \"carpet\": [{\"aaxis\": {\"endlinecolor\": \"#2a3f5f\", \"gridcolor\": \"white\", \"linecolor\": \"white\", \"minorgridcolor\": \"white\", \"startlinecolor\": \"#2a3f5f\"}, \"baxis\": {\"endlinecolor\": \"#2a3f5f\", \"gridcolor\": \"white\", \"linecolor\": \"white\", \"minorgridcolor\": \"white\", \"startlinecolor\": \"#2a3f5f\"}, \"type\": \"carpet\"}], \"choropleth\": [{\"colorbar\": {\"outlinewidth\": 0, \"ticks\": \"\"}, \"type\": \"choropleth\"}], \"contour\": [{\"colorbar\": {\"outlinewidth\": 0, \"ticks\": \"\"}, \"colorscale\": [[0.0, \"#0d0887\"], [0.1111111111111111, \"#46039f\"], [0.2222222222222222, \"#7201a8\"], [0.3333333333333333, \"#9c179e\"], [0.4444444444444444, \"#bd3786\"], [0.5555555555555556, \"#d8576b\"], [0.6666666666666666, \"#ed7953\"], [0.7777777777777778, \"#fb9f3a\"], [0.8888888888888888, \"#fdca26\"], [1.0, \"#f0f921\"]], \"type\": \"contour\"}], \"contourcarpet\": [{\"colorbar\": {\"outlinewidth\": 0, \"ticks\": \"\"}, \"type\": \"contourcarpet\"}], \"heatmap\": [{\"colorbar\": {\"outlinewidth\": 0, \"ticks\": \"\"}, \"colorscale\": [[0.0, \"#0d0887\"], [0.1111111111111111, \"#46039f\"], [0.2222222222222222, \"#7201a8\"], [0.3333333333333333, \"#9c179e\"], [0.4444444444444444, \"#bd3786\"], [0.5555555555555556, \"#d8576b\"], [0.6666666666666666, \"#ed7953\"], [0.7777777777777778, \"#fb9f3a\"], [0.8888888888888888, \"#fdca26\"], [1.0, \"#f0f921\"]], \"type\": \"heatmap\"}], \"heatmapgl\": [{\"colorbar\": {\"outlinewidth\": 0, \"ticks\": \"\"}, \"colorscale\": [[0.0, \"#0d0887\"], [0.1111111111111111, \"#46039f\"], [0.2222222222222222, \"#7201a8\"], [0.3333333333333333, \"#9c179e\"], [0.4444444444444444, \"#bd3786\"], [0.5555555555555556, \"#d8576b\"], [0.6666666666666666, \"#ed7953\"], [0.7777777777777778, \"#fb9f3a\"], [0.8888888888888888, \"#fdca26\"], [1.0, \"#f0f921\"]], \"type\": \"heatmapgl\"}], \"histogram\": [{\"marker\": {\"colorbar\": {\"outlinewidth\": 0, \"ticks\": \"\"}}, \"type\": \"histogram\"}], \"histogram2d\": [{\"colorbar\": {\"outlinewidth\": 0, \"ticks\": \"\"}, \"colorscale\": [[0.0, \"#0d0887\"], [0.1111111111111111, \"#46039f\"], [0.2222222222222222, \"#7201a8\"], [0.3333333333333333, \"#9c179e\"], [0.4444444444444444, \"#bd3786\"], [0.5555555555555556, \"#d8576b\"], [0.6666666666666666, \"#ed7953\"], [0.7777777777777778, \"#fb9f3a\"], [0.8888888888888888, \"#fdca26\"], [1.0, \"#f0f921\"]], \"type\": \"histogram2d\"}], \"histogram2dcontour\": [{\"colorbar\": {\"outlinewidth\": 0, \"ticks\": \"\"}, \"colorscale\": [[0.0, \"#0d0887\"], [0.1111111111111111, \"#46039f\"], [0.2222222222222222, \"#7201a8\"], [0.3333333333333333, \"#9c179e\"], [0.4444444444444444, \"#bd3786\"], [0.5555555555555556, \"#d8576b\"], [0.6666666666666666, \"#ed7953\"], [0.7777777777777778, \"#fb9f3a\"], [0.8888888888888888, \"#fdca26\"], [1.0, \"#f0f921\"]], \"type\": \"histogram2dcontour\"}], \"mesh3d\": [{\"colorbar\": {\"outlinewidth\": 0, \"ticks\": \"\"}, \"type\": \"mesh3d\"}], \"parcoords\": [{\"line\": {\"colorbar\": {\"outlinewidth\": 0, \"ticks\": \"\"}}, \"type\": \"parcoords\"}], \"pie\": [{\"automargin\": true, \"type\": \"pie\"}], \"scatter\": [{\"marker\": {\"colorbar\": {\"outlinewidth\": 0, \"ticks\": \"\"}}, \"type\": \"scatter\"}], \"scatter3d\": [{\"line\": {\"colorbar\": {\"outlinewidth\": 0, \"ticks\": \"\"}}, \"marker\": {\"colorbar\": {\"outlinewidth\": 0, \"ticks\": \"\"}}, \"type\": \"scatter3d\"}], \"scattercarpet\": [{\"marker\": {\"colorbar\": {\"outlinewidth\": 0, \"ticks\": \"\"}}, \"type\": \"scattercarpet\"}], \"scattergeo\": [{\"marker\": {\"colorbar\": {\"outlinewidth\": 0, \"ticks\": \"\"}}, \"type\": \"scattergeo\"}], \"scattergl\": [{\"marker\": {\"colorbar\": {\"outlinewidth\": 0, \"ticks\": \"\"}}, \"type\": \"scattergl\"}], \"scattermapbox\": [{\"marker\": {\"colorbar\": {\"outlinewidth\": 0, \"ticks\": \"\"}}, \"type\": \"scattermapbox\"}], \"scatterpolar\": [{\"marker\": {\"colorbar\": {\"outlinewidth\": 0, \"ticks\": \"\"}}, \"type\": \"scatterpolar\"}], \"scatterpolargl\": [{\"marker\": {\"colorbar\": {\"outlinewidth\": 0, \"ticks\": \"\"}}, \"type\": \"scatterpolargl\"}], \"scatterternary\": [{\"marker\": {\"colorbar\": {\"outlinewidth\": 0, \"ticks\": \"\"}}, \"type\": \"scatterternary\"}], \"surface\": [{\"colorbar\": {\"outlinewidth\": 0, \"ticks\": \"\"}, \"colorscale\": [[0.0, \"#0d0887\"], [0.1111111111111111, \"#46039f\"], [0.2222222222222222, \"#7201a8\"], [0.3333333333333333, \"#9c179e\"], [0.4444444444444444, \"#bd3786\"], [0.5555555555555556, \"#d8576b\"], [0.6666666666666666, \"#ed7953\"], [0.7777777777777778, \"#fb9f3a\"], [0.8888888888888888, \"#fdca26\"], [1.0, \"#f0f921\"]], \"type\": \"surface\"}], \"table\": [{\"cells\": {\"fill\": {\"color\": \"#EBF0F8\"}, \"line\": {\"color\": \"white\"}}, \"header\": {\"fill\": {\"color\": \"#C8D4E3\"}, \"line\": {\"color\": \"white\"}}, \"type\": \"table\"}]}, \"layout\": {\"annotationdefaults\": {\"arrowcolor\": \"#2a3f5f\", \"arrowhead\": 0, \"arrowwidth\": 1}, \"coloraxis\": {\"colorbar\": {\"outlinewidth\": 0, \"ticks\": \"\"}}, \"colorscale\": {\"diverging\": [[0, \"#8e0152\"], [0.1, \"#c51b7d\"], [0.2, \"#de77ae\"], [0.3, \"#f1b6da\"], [0.4, \"#fde0ef\"], [0.5, \"#f7f7f7\"], [0.6, \"#e6f5d0\"], [0.7, \"#b8e186\"], [0.8, \"#7fbc41\"], [0.9, \"#4d9221\"], [1, \"#276419\"]], \"sequential\": [[0.0, \"#0d0887\"], [0.1111111111111111, \"#46039f\"], [0.2222222222222222, \"#7201a8\"], [0.3333333333333333, \"#9c179e\"], [0.4444444444444444, \"#bd3786\"], [0.5555555555555556, \"#d8576b\"], [0.6666666666666666, \"#ed7953\"], [0.7777777777777778, \"#fb9f3a\"], [0.8888888888888888, \"#fdca26\"], [1.0, \"#f0f921\"]], \"sequentialminus\": [[0.0, \"#0d0887\"], [0.1111111111111111, \"#46039f\"], [0.2222222222222222, \"#7201a8\"], [0.3333333333333333, \"#9c179e\"], [0.4444444444444444, \"#bd3786\"], [0.5555555555555556, \"#d8576b\"], [0.6666666666666666, \"#ed7953\"], [0.7777777777777778, \"#fb9f3a\"], [0.8888888888888888, \"#fdca26\"], [1.0, \"#f0f921\"]]}, \"colorway\": [\"#636efa\", \"#EF553B\", \"#00cc96\", \"#ab63fa\", \"#FFA15A\", \"#19d3f3\", \"#FF6692\", \"#B6E880\", \"#FF97FF\", \"#FECB52\"], \"font\": {\"color\": \"#2a3f5f\"}, \"geo\": {\"bgcolor\": \"white\", \"lakecolor\": \"white\", \"landcolor\": \"#E5ECF6\", \"showlakes\": true, \"showland\": true, \"subunitcolor\": \"white\"}, \"hoverlabel\": {\"align\": \"left\"}, \"hovermode\": \"closest\", \"mapbox\": {\"style\": \"light\"}, \"paper_bgcolor\": \"white\", \"plot_bgcolor\": \"#E5ECF6\", \"polar\": {\"angularaxis\": {\"gridcolor\": \"white\", \"linecolor\": \"white\", \"ticks\": \"\"}, \"bgcolor\": \"#E5ECF6\", \"radialaxis\": {\"gridcolor\": \"white\", \"linecolor\": \"white\", \"ticks\": \"\"}}, \"scene\": {\"xaxis\": {\"backgroundcolor\": \"#E5ECF6\", \"gridcolor\": \"white\", \"gridwidth\": 2, \"linecolor\": \"white\", \"showbackground\": true, \"ticks\": \"\", \"zerolinecolor\": \"white\"}, \"yaxis\": {\"backgroundcolor\": \"#E5ECF6\", \"gridcolor\": \"white\", \"gridwidth\": 2, \"linecolor\": \"white\", \"showbackground\": true, \"ticks\": \"\", \"zerolinecolor\": \"white\"}, \"zaxis\": {\"backgroundcolor\": \"#E5ECF6\", \"gridcolor\": \"white\", \"gridwidth\": 2, \"linecolor\": \"white\", \"showbackground\": true, \"ticks\": \"\", \"zerolinecolor\": \"white\"}}, \"shapedefaults\": {\"line\": {\"color\": \"#2a3f5f\"}}, \"ternary\": {\"aaxis\": {\"gridcolor\": \"white\", \"linecolor\": \"white\", \"ticks\": \"\"}, \"baxis\": {\"gridcolor\": \"white\", \"linecolor\": \"white\", \"ticks\": \"\"}, \"bgcolor\": \"#E5ECF6\", \"caxis\": {\"gridcolor\": \"white\", \"linecolor\": \"white\", \"ticks\": \"\"}}, \"title\": {\"x\": 0.05}, \"xaxis\": {\"automargin\": true, \"gridcolor\": \"white\", \"linecolor\": \"white\", \"ticks\": \"\", \"title\": {\"standoff\": 15}, \"zerolinecolor\": \"white\", \"zerolinewidth\": 2}, \"yaxis\": {\"automargin\": true, \"gridcolor\": \"white\", \"linecolor\": \"white\", \"ticks\": \"\", \"title\": {\"standoff\": 15}, \"zerolinecolor\": \"white\", \"zerolinewidth\": 2}}}},\n",
              "                        {\"responsive\": true}\n",
              "                    ).then(function(){\n",
              "                            \n",
              "var gd = document.getElementById('7fd08706-9097-4f4b-abe3-ed8a6a828a7e');\n",
              "var x = new MutationObserver(function (mutations, observer) {{\n",
              "        var display = window.getComputedStyle(gd).display;\n",
              "        if (!display || display === 'none') {{\n",
              "            console.log([gd, 'removed!']);\n",
              "            Plotly.purge(gd);\n",
              "            observer.disconnect();\n",
              "        }}\n",
              "}});\n",
              "\n",
              "// Listen for the removal of the full notebook cells\n",
              "var notebookContainer = gd.closest('#notebook-container');\n",
              "if (notebookContainer) {{\n",
              "    x.observe(notebookContainer, {childList: true});\n",
              "}}\n",
              "\n",
              "// Listen for the clearing of the current output cell\n",
              "var outputEl = gd.closest('.output');\n",
              "if (outputEl) {{\n",
              "    x.observe(outputEl, {childList: true});\n",
              "}}\n",
              "\n",
              "                        })\n",
              "                };\n",
              "                \n",
              "            </script>\n",
              "        </div>\n",
              "</body>\n",
              "</html>"
            ]
          },
          "metadata": {}
        }
      ]
    },
    {
      "cell_type": "code",
      "source": [
        "Total_features = np.concatenate((Xtrain , Xtest) , axis=0)"
      ],
      "metadata": {
        "id": "Ry3M5zvfexnt"
      },
      "execution_count": 75,
      "outputs": []
    },
    {
      "cell_type": "code",
      "source": [
        "Total_Targets = np.concatenate((Ytrain , Ytest) , axis=0) "
      ],
      "metadata": {
        "id": "V-u0DItBexnu"
      },
      "execution_count": 76,
      "outputs": []
    },
    {
      "cell_type": "code",
      "source": [
        "Predictions = model.predict(Total_features)"
      ],
      "metadata": {
        "id": "i7beWUyTexnu"
      },
      "execution_count": 77,
      "outputs": []
    },
    {
      "cell_type": "code",
      "source": [
        "Predictions = Target_Scaler.inverse_transform(Predictions)\n",
        "Actual = Target_Scaler.inverse_transform(Total_Targets)"
      ],
      "metadata": {
        "id": "nIsYuOGhexnu"
      },
      "execution_count": 78,
      "outputs": []
    },
    {
      "cell_type": "code",
      "source": [
        "Predictions = np.squeeze(Predictions , axis =1)\n",
        "Actual = np.squeeze(Actual , axis = 1)"
      ],
      "metadata": {
        "id": "e8zgeRKWexnv"
      },
      "execution_count": 79,
      "outputs": []
    },
    {
      "cell_type": "code",
      "source": [
        "# check the Trend in Volume Trade\n",
        "fig =  go.Figure()\n",
        "\n",
        "fig.add_trace(go.Scatter(x = data.index, y= Actual , mode = 'lines' , name='Actual'))\n",
        "fig.add_trace(go.Scatter(x=data.index , y =Predictions , mode = 'lines', name = 'Predicted' ))\n",
        "fig.show()"
      ],
      "metadata": {
        "colab": {
          "base_uri": "https://localhost:8080/",
          "height": 542
        },
        "outputId": "27d9753b-d5e5-4a89-d2d9-a020008a2cd8",
        "id": "rioJeVA2exnv"
      },
      "execution_count": 80,
      "outputs": [
        {
          "output_type": "display_data",
          "data": {
            "text/html": [
              "<html>\n",
              "<head><meta charset=\"utf-8\" /></head>\n",
              "<body>\n",
              "    <div>\n",
              "            <script src=\"https://cdnjs.cloudflare.com/ajax/libs/mathjax/2.7.5/MathJax.js?config=TeX-AMS-MML_SVG\"></script><script type=\"text/javascript\">if (window.MathJax) {MathJax.Hub.Config({SVG: {font: \"STIX-Web\"}});}</script>\n",
              "                <script type=\"text/javascript\">window.PlotlyConfig = {MathJaxConfig: 'local'};</script>\n",
              "        <script src=\"https://cdn.plot.ly/plotly-latest.min.js\"></script>    \n",
              "            <div id=\"5baa315c-fde8-49be-b663-5c309b61bb44\" class=\"plotly-graph-div\" style=\"height:525px; width:100%;\"></div>\n",
              "            <script type=\"text/javascript\">\n",
              "                \n",
              "                    window.PLOTLYENV=window.PLOTLYENV || {};\n",
              "                    \n",
              "                if (document.getElementById(\"5baa315c-fde8-49be-b663-5c309b61bb44\")) {\n",
              "                    Plotly.newPlot(\n",
              "                        '5baa315c-fde8-49be-b663-5c309b61bb44',\n",
              "                        [{\"mode\": \"lines\", \"name\": \"Actual\", \"type\": \"scatter\", \"x\": [\"2018-01-02T00:00:00\", \"2018-01-03T00:00:00\", \"2018-01-04T00:00:00\", \"2018-01-05T00:00:00\", \"2018-01-08T00:00:00\", \"2018-01-09T00:00:00\", \"2018-01-10T00:00:00\", \"2018-01-11T00:00:00\", \"2018-01-12T00:00:00\", \"2018-01-16T00:00:00\", \"2018-01-17T00:00:00\", \"2018-01-18T00:00:00\", \"2018-01-19T00:00:00\", \"2018-01-22T00:00:00\", \"2018-01-23T00:00:00\", \"2018-01-24T00:00:00\", \"2018-01-25T00:00:00\", \"2018-01-26T00:00:00\", \"2018-01-29T00:00:00\", \"2018-01-30T00:00:00\", \"2018-01-31T00:00:00\", \"2018-02-01T00:00:00\", \"2018-02-02T00:00:00\", \"2018-02-05T00:00:00\", \"2018-02-06T00:00:00\", \"2018-02-07T00:00:00\", \"2018-02-08T00:00:00\", \"2018-02-09T00:00:00\", \"2018-02-12T00:00:00\", \"2018-02-13T00:00:00\", \"2018-02-14T00:00:00\", \"2018-02-15T00:00:00\", \"2018-02-16T00:00:00\", \"2018-02-20T00:00:00\", \"2018-02-21T00:00:00\", \"2018-02-22T00:00:00\", \"2018-02-23T00:00:00\", \"2018-02-26T00:00:00\", \"2018-02-27T00:00:00\", \"2018-02-28T00:00:00\", \"2018-03-01T00:00:00\", \"2018-03-02T00:00:00\", \"2018-03-05T00:00:00\", \"2018-03-06T00:00:00\", \"2018-03-07T00:00:00\", \"2018-03-08T00:00:00\", \"2018-03-09T00:00:00\", \"2018-03-12T00:00:00\", \"2018-03-13T00:00:00\", \"2018-03-14T00:00:00\", \"2018-03-15T00:00:00\", \"2018-03-16T00:00:00\", \"2018-03-19T00:00:00\", \"2018-03-20T00:00:00\", \"2018-03-21T00:00:00\", \"2018-03-22T00:00:00\", \"2018-03-23T00:00:00\", \"2018-03-26T00:00:00\", \"2018-03-27T00:00:00\", \"2018-03-28T00:00:00\", \"2018-03-29T00:00:00\", \"2018-04-02T00:00:00\", \"2018-04-03T00:00:00\", \"2018-04-04T00:00:00\", \"2018-04-05T00:00:00\", \"2018-04-06T00:00:00\", \"2018-04-09T00:00:00\", \"2018-04-10T00:00:00\", \"2018-04-11T00:00:00\", \"2018-04-12T00:00:00\", \"2018-04-13T00:00:00\", \"2018-04-16T00:00:00\", \"2018-04-17T00:00:00\", \"2018-04-18T00:00:00\", \"2018-04-19T00:00:00\", \"2018-04-20T00:00:00\", \"2018-04-23T00:00:00\", \"2018-04-24T00:00:00\", \"2018-04-25T00:00:00\", \"2018-04-26T00:00:00\", \"2018-04-27T00:00:00\", \"2018-04-30T00:00:00\", \"2018-05-01T00:00:00\", \"2018-05-02T00:00:00\", \"2018-05-03T00:00:00\", \"2018-05-04T00:00:00\", \"2018-05-07T00:00:00\", \"2018-05-08T00:00:00\", \"2018-05-09T00:00:00\", \"2018-05-10T00:00:00\", \"2018-05-11T00:00:00\", \"2018-05-14T00:00:00\", \"2018-05-15T00:00:00\", \"2018-05-16T00:00:00\", \"2018-05-17T00:00:00\", \"2018-05-18T00:00:00\", \"2018-05-21T00:00:00\", \"2018-05-22T00:00:00\", \"2018-05-23T00:00:00\", \"2018-05-24T00:00:00\", \"2018-05-25T00:00:00\", \"2018-05-29T00:00:00\", \"2018-05-30T00:00:00\", \"2018-05-31T00:00:00\", \"2018-06-01T00:00:00\", \"2018-06-04T00:00:00\", \"2018-06-05T00:00:00\", \"2018-06-06T00:00:00\", \"2018-06-07T00:00:00\", \"2018-06-08T00:00:00\", \"2018-06-11T00:00:00\", \"2018-06-12T00:00:00\", \"2018-06-13T00:00:00\", \"2018-06-14T00:00:00\", \"2018-06-15T00:00:00\", \"2018-06-18T00:00:00\", \"2018-06-19T00:00:00\", \"2018-06-20T00:00:00\", \"2018-06-21T00:00:00\", \"2018-06-22T00:00:00\", \"2018-06-25T00:00:00\", \"2018-06-26T00:00:00\", \"2018-06-27T00:00:00\", \"2018-06-28T00:00:00\", \"2018-06-29T00:00:00\", \"2018-07-02T00:00:00\", \"2018-07-03T00:00:00\", \"2018-07-05T00:00:00\", \"2018-07-06T00:00:00\", \"2018-07-09T00:00:00\", \"2018-07-10T00:00:00\", \"2018-07-11T00:00:00\", \"2018-07-12T00:00:00\", \"2018-07-13T00:00:00\", \"2018-07-16T00:00:00\", \"2018-07-17T00:00:00\", \"2018-07-18T00:00:00\", \"2018-07-19T00:00:00\", \"2018-07-20T00:00:00\", \"2018-07-23T00:00:00\", \"2018-07-24T00:00:00\", \"2018-07-25T00:00:00\", \"2018-07-26T00:00:00\", \"2018-07-27T00:00:00\", \"2018-07-30T00:00:00\", \"2018-07-31T00:00:00\", \"2018-08-01T00:00:00\", \"2018-08-02T00:00:00\", \"2018-08-03T00:00:00\", \"2018-08-06T00:00:00\", \"2018-08-07T00:00:00\", \"2018-08-08T00:00:00\", \"2018-08-09T00:00:00\", \"2018-08-10T00:00:00\", \"2018-08-13T00:00:00\", \"2018-08-14T00:00:00\", \"2018-08-15T00:00:00\", \"2018-08-16T00:00:00\", \"2018-08-17T00:00:00\", \"2018-08-20T00:00:00\", \"2018-08-21T00:00:00\", \"2018-08-22T00:00:00\", \"2018-08-23T00:00:00\", \"2018-08-24T00:00:00\", \"2018-08-27T00:00:00\", \"2018-08-28T00:00:00\", \"2018-08-29T00:00:00\", \"2018-08-30T00:00:00\", \"2018-08-31T00:00:00\", \"2018-09-04T00:00:00\", \"2018-09-05T00:00:00\", \"2018-09-06T00:00:00\", \"2018-09-07T00:00:00\", \"2018-09-10T00:00:00\", \"2018-09-11T00:00:00\", \"2018-09-12T00:00:00\", \"2018-09-13T00:00:00\", \"2018-09-14T00:00:00\", \"2018-09-17T00:00:00\", \"2018-09-18T00:00:00\", \"2018-09-19T00:00:00\", \"2018-09-20T00:00:00\", \"2018-09-21T00:00:00\", \"2018-09-24T00:00:00\", \"2018-09-25T00:00:00\", \"2018-09-26T00:00:00\", \"2018-09-27T00:00:00\", \"2018-09-28T00:00:00\", \"2018-10-01T00:00:00\", \"2018-10-02T00:00:00\", \"2018-10-03T00:00:00\", \"2018-10-04T00:00:00\", \"2018-10-05T00:00:00\", \"2018-10-08T00:00:00\", \"2018-10-09T00:00:00\", \"2018-10-10T00:00:00\", \"2018-10-11T00:00:00\", \"2018-10-12T00:00:00\", \"2018-10-15T00:00:00\", \"2018-10-16T00:00:00\", \"2018-10-17T00:00:00\", \"2018-10-18T00:00:00\", \"2018-10-19T00:00:00\", \"2018-10-22T00:00:00\", \"2018-10-23T00:00:00\", \"2018-10-24T00:00:00\", \"2018-10-25T00:00:00\", \"2018-10-26T00:00:00\", \"2018-10-29T00:00:00\", \"2018-10-30T00:00:00\", \"2018-10-31T00:00:00\", \"2018-11-01T00:00:00\", \"2018-11-02T00:00:00\", \"2018-11-05T00:00:00\", \"2018-11-06T00:00:00\", \"2018-11-07T00:00:00\", \"2018-11-08T00:00:00\", \"2018-11-09T00:00:00\", \"2018-11-12T00:00:00\", \"2018-11-13T00:00:00\", \"2018-11-14T00:00:00\", \"2018-11-15T00:00:00\", \"2018-11-16T00:00:00\", \"2018-11-19T00:00:00\", \"2018-11-20T00:00:00\", \"2018-11-21T00:00:00\", \"2018-11-23T00:00:00\", \"2018-11-26T00:00:00\", \"2018-11-27T00:00:00\", \"2018-11-28T00:00:00\", \"2018-11-29T00:00:00\", \"2018-11-30T00:00:00\", \"2018-12-03T00:00:00\", \"2018-12-04T00:00:00\", \"2018-12-06T00:00:00\", \"2018-12-07T00:00:00\", \"2018-12-10T00:00:00\", \"2018-12-11T00:00:00\", \"2018-12-12T00:00:00\", \"2018-12-13T00:00:00\", \"2018-12-14T00:00:00\", \"2018-12-17T00:00:00\", \"2018-12-18T00:00:00\", \"2018-12-19T00:00:00\", \"2018-12-20T00:00:00\", \"2018-12-21T00:00:00\", \"2018-12-24T00:00:00\", \"2018-12-26T00:00:00\", \"2018-12-27T00:00:00\", \"2018-12-28T00:00:00\", \"2018-12-31T00:00:00\", \"2019-01-02T00:00:00\", \"2019-01-03T00:00:00\", \"2019-01-04T00:00:00\", \"2019-01-07T00:00:00\", \"2019-01-08T00:00:00\", \"2019-01-09T00:00:00\", \"2019-01-10T00:00:00\", \"2019-01-11T00:00:00\", \"2019-01-14T00:00:00\", \"2019-01-15T00:00:00\", \"2019-01-16T00:00:00\", \"2019-01-17T00:00:00\", \"2019-01-18T00:00:00\", \"2019-01-22T00:00:00\", \"2019-01-23T00:00:00\", \"2019-01-24T00:00:00\", \"2019-01-25T00:00:00\", \"2019-01-28T00:00:00\", \"2019-01-29T00:00:00\", \"2019-01-30T00:00:00\", \"2019-01-31T00:00:00\", \"2019-02-01T00:00:00\", \"2019-02-04T00:00:00\", \"2019-02-05T00:00:00\", \"2019-02-06T00:00:00\", \"2019-02-07T00:00:00\", \"2019-02-08T00:00:00\", \"2019-02-11T00:00:00\", \"2019-02-12T00:00:00\", \"2019-02-13T00:00:00\", \"2019-02-14T00:00:00\", \"2019-02-15T00:00:00\", \"2019-02-19T00:00:00\", \"2019-02-20T00:00:00\", \"2019-02-21T00:00:00\", \"2019-02-22T00:00:00\", \"2019-02-25T00:00:00\", \"2019-02-26T00:00:00\", \"2019-02-27T00:00:00\", \"2019-02-28T00:00:00\", \"2019-03-01T00:00:00\", \"2019-03-04T00:00:00\", \"2019-03-05T00:00:00\", \"2019-03-06T00:00:00\", \"2019-03-07T00:00:00\", \"2019-03-08T00:00:00\", \"2019-03-11T00:00:00\", \"2019-03-12T00:00:00\", \"2019-03-13T00:00:00\", \"2019-03-14T00:00:00\", \"2019-03-15T00:00:00\", \"2019-03-18T00:00:00\", \"2019-03-19T00:00:00\", \"2019-03-20T00:00:00\", \"2019-03-21T00:00:00\", \"2019-03-22T00:00:00\", \"2019-03-25T00:00:00\", \"2019-03-26T00:00:00\", \"2019-03-27T00:00:00\", \"2019-03-28T00:00:00\", \"2019-03-29T00:00:00\", \"2019-04-01T00:00:00\", \"2019-04-02T00:00:00\", \"2019-04-03T00:00:00\", \"2019-04-04T00:00:00\", \"2019-04-05T00:00:00\", \"2019-04-08T00:00:00\", \"2019-04-09T00:00:00\", \"2019-04-10T00:00:00\", \"2019-04-11T00:00:00\", \"2019-04-12T00:00:00\", \"2019-04-15T00:00:00\", \"2019-04-16T00:00:00\", \"2019-04-17T00:00:00\", \"2019-04-18T00:00:00\", \"2019-04-22T00:00:00\", \"2019-04-23T00:00:00\", \"2019-04-24T00:00:00\", \"2019-04-25T00:00:00\", \"2019-04-26T00:00:00\", \"2019-04-29T00:00:00\", \"2019-04-30T00:00:00\", \"2019-05-01T00:00:00\", \"2019-05-02T00:00:00\", \"2019-05-03T00:00:00\", \"2019-05-06T00:00:00\", \"2019-05-07T00:00:00\", \"2019-05-08T00:00:00\", \"2019-05-09T00:00:00\", \"2019-05-10T00:00:00\", \"2019-05-13T00:00:00\", \"2019-05-14T00:00:00\", \"2019-05-15T00:00:00\", \"2019-05-16T00:00:00\", \"2019-05-17T00:00:00\", \"2019-05-20T00:00:00\", \"2019-05-21T00:00:00\", \"2019-05-22T00:00:00\", \"2019-05-23T00:00:00\", \"2019-05-24T00:00:00\", \"2019-05-28T00:00:00\", \"2019-05-29T00:00:00\", \"2019-05-30T00:00:00\", \"2019-05-31T00:00:00\", \"2019-06-03T00:00:00\", \"2019-06-04T00:00:00\", \"2019-06-05T00:00:00\", \"2019-06-06T00:00:00\", \"2019-06-07T00:00:00\", \"2019-06-10T00:00:00\", \"2019-06-11T00:00:00\", \"2019-06-12T00:00:00\", \"2019-06-13T00:00:00\", \"2019-06-14T00:00:00\", \"2019-06-17T00:00:00\", \"2019-06-18T00:00:00\", \"2019-06-19T00:00:00\", \"2019-06-20T00:00:00\", \"2019-06-21T00:00:00\", \"2019-06-24T00:00:00\", \"2019-06-25T00:00:00\", \"2019-06-26T00:00:00\", \"2019-06-27T00:00:00\", \"2019-06-28T00:00:00\", \"2019-07-01T00:00:00\", \"2019-07-02T00:00:00\", \"2019-07-03T00:00:00\", \"2019-07-05T00:00:00\", \"2019-07-08T00:00:00\", \"2019-07-09T00:00:00\", \"2019-07-10T00:00:00\", \"2019-07-11T00:00:00\", \"2019-07-12T00:00:00\", \"2019-07-15T00:00:00\", \"2019-07-16T00:00:00\", \"2019-07-17T00:00:00\", \"2019-07-18T00:00:00\", \"2019-07-19T00:00:00\", \"2019-07-22T00:00:00\", \"2019-07-23T00:00:00\", \"2019-07-24T00:00:00\", \"2019-07-25T00:00:00\", \"2019-07-26T00:00:00\", \"2019-07-29T00:00:00\", \"2019-07-30T00:00:00\", \"2019-07-31T00:00:00\", \"2019-08-01T00:00:00\", \"2019-08-02T00:00:00\", \"2019-08-05T00:00:00\", \"2019-08-06T00:00:00\", \"2019-08-07T00:00:00\", \"2019-08-08T00:00:00\", \"2019-08-09T00:00:00\", \"2019-08-12T00:00:00\", \"2019-08-13T00:00:00\", \"2019-08-14T00:00:00\", \"2019-08-15T00:00:00\", \"2019-08-16T00:00:00\", \"2019-08-19T00:00:00\", \"2019-08-20T00:00:00\", \"2019-08-21T00:00:00\", \"2019-08-22T00:00:00\", \"2019-08-23T00:00:00\", \"2019-08-26T00:00:00\", \"2019-08-27T00:00:00\", \"2019-08-28T00:00:00\", \"2019-08-29T00:00:00\", \"2019-08-30T00:00:00\", \"2019-09-03T00:00:00\", \"2019-09-04T00:00:00\", \"2019-09-05T00:00:00\", \"2019-09-06T00:00:00\", \"2019-09-09T00:00:00\", \"2019-09-10T00:00:00\", \"2019-09-11T00:00:00\", \"2019-09-12T00:00:00\", \"2019-09-13T00:00:00\", \"2019-09-16T00:00:00\", \"2019-09-17T00:00:00\", \"2019-09-18T00:00:00\", \"2019-09-19T00:00:00\", \"2019-09-20T00:00:00\", \"2019-09-23T00:00:00\", \"2019-09-24T00:00:00\", \"2019-09-25T00:00:00\", \"2019-09-26T00:00:00\", \"2019-09-27T00:00:00\", \"2019-09-30T00:00:00\", \"2019-10-01T00:00:00\", \"2019-10-02T00:00:00\", \"2019-10-03T00:00:00\", \"2019-10-04T00:00:00\", \"2019-10-07T00:00:00\", \"2019-10-08T00:00:00\", \"2019-10-09T00:00:00\", \"2019-10-10T00:00:00\", \"2019-10-11T00:00:00\", \"2019-10-14T00:00:00\", \"2019-10-15T00:00:00\", \"2019-10-16T00:00:00\", \"2019-10-17T00:00:00\", \"2019-10-18T00:00:00\", \"2019-10-21T00:00:00\", \"2019-10-22T00:00:00\", \"2019-10-23T00:00:00\", \"2019-10-24T00:00:00\", \"2019-10-25T00:00:00\", \"2019-10-28T00:00:00\", \"2019-10-29T00:00:00\", \"2019-10-30T00:00:00\", \"2019-10-31T00:00:00\", \"2019-11-01T00:00:00\", \"2019-11-04T00:00:00\", \"2019-11-05T00:00:00\", \"2019-11-06T00:00:00\", \"2019-11-07T00:00:00\", \"2019-11-08T00:00:00\", \"2019-11-11T00:00:00\", \"2019-11-12T00:00:00\", \"2019-11-13T00:00:00\", \"2019-11-14T00:00:00\", \"2019-11-15T00:00:00\", \"2019-11-18T00:00:00\", \"2019-11-19T00:00:00\", \"2019-11-20T00:00:00\", \"2019-11-21T00:00:00\", \"2019-11-22T00:00:00\", \"2019-11-25T00:00:00\", \"2019-11-26T00:00:00\", \"2019-11-27T00:00:00\", \"2019-11-29T00:00:00\", \"2019-12-02T00:00:00\", \"2019-12-03T00:00:00\", \"2019-12-04T00:00:00\", \"2019-12-05T00:00:00\", \"2019-12-06T00:00:00\", \"2019-12-09T00:00:00\", \"2019-12-10T00:00:00\", \"2019-12-11T00:00:00\", \"2019-12-12T00:00:00\", \"2019-12-13T00:00:00\", \"2019-12-16T00:00:00\", \"2019-12-17T00:00:00\", \"2019-12-18T00:00:00\", \"2019-12-19T00:00:00\", \"2019-12-20T00:00:00\", \"2019-12-23T00:00:00\", \"2019-12-24T00:00:00\", \"2019-12-26T00:00:00\", \"2019-12-27T00:00:00\", \"2019-12-30T00:00:00\", \"2019-12-31T00:00:00\", \"2020-01-02T00:00:00\", \"2020-01-03T00:00:00\", \"2020-01-06T00:00:00\", \"2020-01-07T00:00:00\", \"2020-01-08T00:00:00\", \"2020-01-09T00:00:00\", \"2020-01-10T00:00:00\", \"2020-01-13T00:00:00\", \"2020-01-14T00:00:00\", \"2020-01-15T00:00:00\", \"2020-01-16T00:00:00\", \"2020-01-17T00:00:00\", \"2020-01-21T00:00:00\", \"2020-01-22T00:00:00\", \"2020-01-23T00:00:00\", \"2020-01-24T00:00:00\", \"2020-01-27T00:00:00\", \"2020-01-28T00:00:00\", \"2020-01-29T00:00:00\", \"2020-01-30T00:00:00\", \"2020-01-31T00:00:00\", \"2020-02-03T00:00:00\", \"2020-02-04T00:00:00\", \"2020-02-05T00:00:00\", \"2020-02-06T00:00:00\", \"2020-02-07T00:00:00\", \"2020-02-10T00:00:00\", \"2020-02-11T00:00:00\", \"2020-02-12T00:00:00\", \"2020-02-13T00:00:00\", \"2020-02-14T00:00:00\", \"2020-02-18T00:00:00\", \"2020-02-19T00:00:00\", \"2020-02-20T00:00:00\", \"2020-02-21T00:00:00\", \"2020-02-24T00:00:00\", \"2020-02-25T00:00:00\", \"2020-02-26T00:00:00\", \"2020-02-27T00:00:00\", \"2020-02-28T00:00:00\", \"2020-03-02T00:00:00\", \"2020-03-03T00:00:00\", \"2020-03-04T00:00:00\", \"2020-03-05T00:00:00\", \"2020-03-06T00:00:00\", \"2020-03-09T00:00:00\", \"2020-03-10T00:00:00\", \"2020-03-11T00:00:00\", \"2020-03-12T00:00:00\", \"2020-03-13T00:00:00\", \"2020-03-16T00:00:00\", \"2020-03-17T00:00:00\", \"2020-03-18T00:00:00\", \"2020-03-19T00:00:00\", \"2020-03-20T00:00:00\", \"2020-03-23T00:00:00\", \"2020-03-24T00:00:00\", \"2020-03-25T00:00:00\", \"2020-03-26T00:00:00\", \"2020-03-27T00:00:00\", \"2020-03-30T00:00:00\", \"2020-03-31T00:00:00\", \"2020-04-01T00:00:00\", \"2020-04-02T00:00:00\", \"2020-04-03T00:00:00\", \"2020-04-06T00:00:00\", \"2020-04-07T00:00:00\", \"2020-04-08T00:00:00\", \"2020-04-09T00:00:00\", \"2020-04-13T00:00:00\", \"2020-04-14T00:00:00\", \"2020-04-15T00:00:00\", \"2020-04-16T00:00:00\", \"2020-04-17T00:00:00\", \"2020-04-20T00:00:00\", \"2020-04-21T00:00:00\", \"2020-04-22T00:00:00\", \"2020-04-23T00:00:00\", \"2020-04-24T00:00:00\", \"2020-04-27T00:00:00\", \"2020-04-28T00:00:00\", \"2020-04-29T00:00:00\", \"2020-04-30T00:00:00\", \"2020-05-01T00:00:00\", \"2020-05-04T00:00:00\", \"2020-05-05T00:00:00\", \"2020-05-06T00:00:00\", \"2020-05-07T00:00:00\", \"2020-05-08T00:00:00\", \"2020-05-11T00:00:00\", \"2020-05-12T00:00:00\", \"2020-05-13T00:00:00\", \"2020-05-14T00:00:00\", \"2020-05-15T00:00:00\", \"2020-05-18T00:00:00\", \"2020-05-19T00:00:00\", \"2020-05-20T00:00:00\", \"2020-05-21T00:00:00\", \"2020-05-22T00:00:00\", \"2020-05-26T00:00:00\", \"2020-05-27T00:00:00\", \"2020-05-28T00:00:00\", \"2020-05-29T00:00:00\", \"2020-06-01T00:00:00\", \"2020-06-02T00:00:00\", \"2020-06-03T00:00:00\", \"2020-06-04T00:00:00\", \"2020-06-05T00:00:00\", \"2020-06-08T00:00:00\", \"2020-06-09T00:00:00\", \"2020-06-10T00:00:00\", \"2020-06-11T00:00:00\", \"2020-06-12T00:00:00\", \"2020-06-15T00:00:00\", \"2020-06-16T00:00:00\", \"2020-06-17T00:00:00\", \"2020-06-18T00:00:00\", \"2020-06-19T00:00:00\", \"2020-06-22T00:00:00\", \"2020-06-23T00:00:00\", \"2020-06-24T00:00:00\", \"2020-06-25T00:00:00\", \"2020-06-26T00:00:00\", \"2020-06-29T00:00:00\", \"2020-06-30T00:00:00\", \"2020-07-01T00:00:00\", \"2020-07-02T00:00:00\", \"2020-07-06T00:00:00\", \"2020-07-07T00:00:00\", \"2020-07-08T00:00:00\", \"2020-07-09T00:00:00\", \"2020-07-10T00:00:00\", \"2020-07-13T00:00:00\", \"2020-07-14T00:00:00\", \"2020-07-15T00:00:00\", \"2020-07-16T00:00:00\", \"2020-07-17T00:00:00\", \"2020-07-20T00:00:00\", \"2020-07-21T00:00:00\", \"2020-07-22T00:00:00\", \"2020-07-23T00:00:00\", \"2020-07-24T00:00:00\", \"2020-07-27T00:00:00\", \"2020-07-28T00:00:00\", \"2020-07-29T00:00:00\", \"2020-07-30T00:00:00\", \"2020-07-31T00:00:00\", \"2020-08-03T00:00:00\", \"2020-08-04T00:00:00\", \"2020-08-05T00:00:00\", \"2020-08-06T00:00:00\", \"2020-08-07T00:00:00\", \"2020-08-10T00:00:00\", \"2020-08-11T00:00:00\", \"2020-08-12T00:00:00\", \"2020-08-13T00:00:00\", \"2020-08-14T00:00:00\", \"2020-08-17T00:00:00\", \"2020-08-18T00:00:00\", \"2020-08-19T00:00:00\", \"2020-08-20T00:00:00\", \"2020-08-21T00:00:00\", \"2020-08-24T00:00:00\", \"2020-08-25T00:00:00\", \"2020-08-26T00:00:00\", \"2020-08-27T00:00:00\", \"2020-08-28T00:00:00\", \"2020-08-31T00:00:00\", \"2020-09-01T00:00:00\", \"2020-09-02T00:00:00\", \"2020-09-03T00:00:00\", \"2020-09-04T00:00:00\", \"2020-09-08T00:00:00\", \"2020-09-09T00:00:00\", \"2020-09-10T00:00:00\", \"2020-09-11T00:00:00\", \"2020-09-14T00:00:00\", \"2020-09-15T00:00:00\", \"2020-09-16T00:00:00\", \"2020-09-17T00:00:00\", \"2020-09-18T00:00:00\", \"2020-09-21T00:00:00\", \"2020-09-22T00:00:00\", \"2020-09-23T00:00:00\", \"2020-09-24T00:00:00\", \"2020-09-25T00:00:00\", \"2020-09-28T00:00:00\", \"2020-09-29T00:00:00\", \"2020-09-30T00:00:00\", \"2020-10-01T00:00:00\", \"2020-10-02T00:00:00\", \"2020-10-05T00:00:00\", \"2020-10-06T00:00:00\", \"2020-10-07T00:00:00\", \"2020-10-08T00:00:00\", \"2020-10-09T00:00:00\", \"2020-10-12T00:00:00\", \"2020-10-13T00:00:00\", \"2020-10-14T00:00:00\", \"2020-10-15T00:00:00\", \"2020-10-16T00:00:00\", \"2020-10-19T00:00:00\", \"2020-10-20T00:00:00\", \"2020-10-21T00:00:00\", \"2020-10-22T00:00:00\", \"2020-10-23T00:00:00\", \"2020-10-26T00:00:00\", \"2020-10-27T00:00:00\", \"2020-10-28T00:00:00\", \"2020-10-29T00:00:00\", \"2020-10-30T00:00:00\", \"2020-11-02T00:00:00\", \"2020-11-03T00:00:00\", \"2020-11-04T00:00:00\", \"2020-11-05T00:00:00\", \"2020-11-06T00:00:00\", \"2020-11-09T00:00:00\", \"2020-11-10T00:00:00\", \"2020-11-11T00:00:00\", \"2020-11-12T00:00:00\", \"2020-11-13T00:00:00\", \"2020-11-16T00:00:00\", \"2020-11-17T00:00:00\", \"2020-11-18T00:00:00\", \"2020-11-19T00:00:00\", \"2020-11-20T00:00:00\", \"2020-11-23T00:00:00\", \"2020-11-24T00:00:00\", \"2020-11-25T00:00:00\", \"2020-11-27T00:00:00\", \"2020-11-30T00:00:00\", \"2020-12-01T00:00:00\", \"2020-12-02T00:00:00\", \"2020-12-03T00:00:00\", \"2020-12-04T00:00:00\", \"2020-12-07T00:00:00\", \"2020-12-08T00:00:00\", \"2020-12-09T00:00:00\", \"2020-12-10T00:00:00\", \"2020-12-11T00:00:00\", \"2020-12-14T00:00:00\", \"2020-12-15T00:00:00\", \"2020-12-16T00:00:00\", \"2020-12-17T00:00:00\", \"2020-12-18T00:00:00\", \"2020-12-21T00:00:00\", \"2020-12-22T00:00:00\", \"2020-12-23T00:00:00\", \"2020-12-24T00:00:00\", \"2020-12-28T00:00:00\", \"2020-12-29T00:00:00\", \"2020-12-30T00:00:00\", \"2020-12-31T00:00:00\", \"2021-01-04T00:00:00\", \"2021-01-05T00:00:00\", \"2021-01-06T00:00:00\", \"2021-01-07T00:00:00\", \"2021-01-08T00:00:00\", \"2021-01-11T00:00:00\", \"2021-01-12T00:00:00\", \"2021-01-13T00:00:00\", \"2021-01-14T00:00:00\", \"2021-01-15T00:00:00\", \"2021-01-19T00:00:00\", \"2021-01-20T00:00:00\", \"2021-01-21T00:00:00\", \"2021-01-22T00:00:00\", \"2021-01-25T00:00:00\", \"2021-01-26T00:00:00\", \"2021-01-27T00:00:00\", \"2021-01-28T00:00:00\", \"2021-01-29T00:00:00\", \"2021-02-01T00:00:00\", \"2021-02-02T00:00:00\", \"2021-02-03T00:00:00\", \"2021-02-04T00:00:00\", \"2021-02-05T00:00:00\", \"2021-02-08T00:00:00\", \"2021-02-09T00:00:00\", \"2021-02-10T00:00:00\", \"2021-02-11T00:00:00\", \"2021-02-12T00:00:00\", \"2021-02-16T00:00:00\", \"2021-02-17T00:00:00\", \"2021-02-18T00:00:00\", \"2021-02-19T00:00:00\", \"2021-02-22T00:00:00\", \"2021-02-23T00:00:00\", \"2021-02-24T00:00:00\", \"2021-02-25T00:00:00\", \"2021-02-26T00:00:00\", \"2021-03-01T00:00:00\", \"2021-03-02T00:00:00\", \"2021-03-03T00:00:00\", \"2021-03-04T00:00:00\", \"2021-03-05T00:00:00\", \"2021-03-08T00:00:00\", \"2021-03-09T00:00:00\", \"2021-03-10T00:00:00\", \"2021-03-11T00:00:00\", \"2021-03-12T00:00:00\", \"2021-03-15T00:00:00\", \"2021-03-16T00:00:00\", \"2021-03-17T00:00:00\", \"2021-03-18T00:00:00\", \"2021-03-19T00:00:00\", \"2021-03-22T00:00:00\", \"2021-03-23T00:00:00\", \"2021-03-24T00:00:00\", \"2021-03-25T00:00:00\", \"2021-03-26T00:00:00\", \"2021-03-29T00:00:00\", \"2021-03-30T00:00:00\", \"2021-03-31T00:00:00\", \"2021-04-01T00:00:00\", \"2021-04-05T00:00:00\", \"2021-04-06T00:00:00\", \"2021-04-07T00:00:00\", \"2021-04-08T00:00:00\", \"2021-04-09T00:00:00\", \"2021-04-12T00:00:00\", \"2021-04-13T00:00:00\", \"2021-04-14T00:00:00\", \"2021-04-15T00:00:00\", \"2021-04-16T00:00:00\", \"2021-04-19T00:00:00\", \"2021-04-20T00:00:00\", \"2021-04-21T00:00:00\", \"2021-04-22T00:00:00\", \"2021-04-23T00:00:00\", \"2021-04-26T00:00:00\", \"2021-04-27T00:00:00\", \"2021-04-28T00:00:00\", \"2021-04-29T00:00:00\", \"2021-04-30T00:00:00\", \"2021-05-03T00:00:00\", \"2021-05-04T00:00:00\", \"2021-05-05T00:00:00\", \"2021-05-06T00:00:00\", \"2021-05-07T00:00:00\", \"2021-05-10T00:00:00\", \"2021-05-11T00:00:00\", \"2021-05-12T00:00:00\", \"2021-05-13T00:00:00\", \"2021-05-14T00:00:00\", \"2021-05-17T00:00:00\", \"2021-05-18T00:00:00\", \"2021-05-19T00:00:00\", \"2021-05-20T00:00:00\", \"2021-05-21T00:00:00\", \"2021-05-24T00:00:00\", \"2021-05-25T00:00:00\", \"2021-05-26T00:00:00\", \"2021-05-27T00:00:00\", \"2021-05-28T00:00:00\", \"2021-06-01T00:00:00\", \"2021-06-02T00:00:00\", \"2021-06-03T00:00:00\", \"2021-06-04T00:00:00\", \"2021-06-07T00:00:00\", \"2021-06-08T00:00:00\", \"2021-06-09T00:00:00\", \"2021-06-10T00:00:00\", \"2021-06-11T00:00:00\", \"2021-06-14T00:00:00\", \"2021-06-15T00:00:00\", \"2021-06-16T00:00:00\", \"2021-06-17T00:00:00\", \"2021-06-18T00:00:00\", \"2021-06-21T00:00:00\", \"2021-06-22T00:00:00\", \"2021-06-23T00:00:00\", \"2021-06-24T00:00:00\", \"2021-06-25T00:00:00\", \"2021-06-28T00:00:00\", \"2021-06-29T00:00:00\", \"2021-06-30T00:00:00\", \"2021-07-01T00:00:00\", \"2021-07-02T00:00:00\", \"2021-07-06T00:00:00\", \"2021-07-07T00:00:00\", \"2021-07-08T00:00:00\", \"2021-07-09T00:00:00\", \"2021-07-12T00:00:00\", \"2021-07-13T00:00:00\", \"2021-07-14T00:00:00\", \"2021-07-15T00:00:00\", \"2021-07-16T00:00:00\", \"2021-07-19T00:00:00\", \"2021-07-20T00:00:00\", \"2021-07-21T00:00:00\", \"2021-07-22T00:00:00\", \"2021-07-23T00:00:00\", \"2021-07-26T00:00:00\", \"2021-07-27T00:00:00\", \"2021-07-28T00:00:00\", \"2021-07-29T00:00:00\", \"2021-07-30T00:00:00\", \"2021-08-02T00:00:00\", \"2021-08-03T00:00:00\", \"2021-08-04T00:00:00\", \"2021-08-05T00:00:00\", \"2021-08-06T00:00:00\", \"2021-08-09T00:00:00\", \"2021-08-10T00:00:00\", \"2021-08-11T00:00:00\", \"2021-08-12T00:00:00\", \"2021-08-13T00:00:00\", \"2021-08-16T00:00:00\", \"2021-08-17T00:00:00\", \"2021-08-18T00:00:00\", \"2021-08-19T00:00:00\", \"2021-08-20T00:00:00\", \"2021-08-23T00:00:00\", \"2021-08-24T00:00:00\", \"2021-08-25T00:00:00\", \"2021-08-26T00:00:00\", \"2021-08-27T00:00:00\", \"2021-08-30T00:00:00\", \"2021-08-31T00:00:00\", \"2021-09-01T00:00:00\", \"2021-09-02T00:00:00\", \"2021-09-03T00:00:00\", \"2021-09-07T00:00:00\", \"2021-09-08T00:00:00\", \"2021-09-09T00:00:00\", \"2021-09-10T00:00:00\", \"2021-09-13T00:00:00\", \"2021-09-14T00:00:00\", \"2021-09-15T00:00:00\", \"2021-09-16T00:00:00\", \"2021-09-17T00:00:00\", \"2021-09-20T00:00:00\", \"2021-09-21T00:00:00\", \"2021-09-22T00:00:00\", \"2021-09-23T00:00:00\", \"2021-09-24T00:00:00\", \"2021-09-27T00:00:00\", \"2021-09-28T00:00:00\", \"2021-09-29T00:00:00\", \"2021-09-30T00:00:00\", \"2021-10-01T00:00:00\", \"2021-10-04T00:00:00\", \"2021-10-05T00:00:00\", \"2021-10-06T00:00:00\", \"2021-10-07T00:00:00\", \"2021-10-08T00:00:00\", \"2021-10-11T00:00:00\", \"2021-10-12T00:00:00\", \"2021-10-13T00:00:00\", \"2021-10-14T00:00:00\", \"2021-10-15T00:00:00\", \"2021-10-18T00:00:00\", \"2021-10-19T00:00:00\", \"2021-10-20T00:00:00\", \"2021-10-21T00:00:00\", \"2021-10-22T00:00:00\", \"2021-10-25T00:00:00\", \"2021-10-26T00:00:00\", \"2021-10-27T00:00:00\", \"2021-10-28T00:00:00\", \"2021-10-29T00:00:00\", \"2021-11-01T00:00:00\", \"2021-11-02T00:00:00\", \"2021-11-03T00:00:00\", \"2021-11-04T00:00:00\", \"2021-11-05T00:00:00\", \"2021-11-08T00:00:00\", \"2021-11-09T00:00:00\", \"2021-11-10T00:00:00\", \"2021-11-11T00:00:00\", \"2021-11-12T00:00:00\", \"2021-11-15T00:00:00\", \"2021-11-16T00:00:00\", \"2021-11-17T00:00:00\", \"2021-11-18T00:00:00\", \"2021-11-19T00:00:00\", \"2021-11-22T00:00:00\", \"2021-11-23T00:00:00\", \"2021-11-24T00:00:00\", \"2021-11-26T00:00:00\", \"2021-11-29T00:00:00\", \"2021-11-30T00:00:00\", \"2021-12-01T00:00:00\", \"2021-12-02T00:00:00\", \"2021-12-03T00:00:00\", \"2021-12-06T00:00:00\", \"2021-12-07T00:00:00\", \"2021-12-08T00:00:00\", \"2021-12-09T00:00:00\", \"2021-12-10T00:00:00\", \"2021-12-13T00:00:00\", \"2021-12-14T00:00:00\", \"2021-12-15T00:00:00\", \"2021-12-16T00:00:00\", \"2021-12-17T00:00:00\", \"2021-12-20T00:00:00\", \"2021-12-21T00:00:00\", \"2021-12-22T00:00:00\", \"2021-12-23T00:00:00\", \"2021-12-27T00:00:00\", \"2021-12-28T00:00:00\", \"2021-12-29T00:00:00\", \"2021-12-30T00:00:00\", \"2021-12-31T00:00:00\", \"2022-01-03T00:00:00\", \"2022-01-04T00:00:00\", \"2022-01-05T00:00:00\", \"2022-01-06T00:00:00\", \"2022-01-07T00:00:00\", \"2022-01-10T00:00:00\", \"2022-01-11T00:00:00\", \"2022-01-12T00:00:00\", \"2022-01-13T00:00:00\", \"2022-01-14T00:00:00\", \"2022-01-18T00:00:00\", \"2022-01-19T00:00:00\", \"2022-01-20T00:00:00\", \"2022-01-21T00:00:00\"], \"y\": [1095.5, 1103.5899658203125, 1113.75, 1109.9000244140625, 1128.0899658203125, 1143.699951171875, 1117.510009765625, 1103.9200439453125, 1071.4100341796875, 1084.1400146484375, 1094.760009765625, 1100.9000244140625, 1115.0400390625, 1129.3800048828125, 1160.8399658203125, 1165.9300537109375, 1139.9100341796875, 1148.8900146484375, 1150.6099853515625, 1134.4200439453125, 1100.0699462890625, 1095.800048828125, 1094.0, 1053.1500244140625, 1026.550048828125, 1054.0899658203125, 1006.9400024414061, 1005.1799926757814, 1037.1400146484375, 1012.6300048828126, 1018.6799926757814, 1029.7099609375, 1032.6400146484375, 1009.9500122070312, 1020.0900268554686, 1036.5, 1025.06005859375, 1037.2900390625, 1036.0400390625, 1046.0999755859375, 1079.3599853515625, 1075.3900146484375, 1089.449951171875, 1077.3199462890625, 1073.81005859375, 1022.6400146484375, 1022.989990234375, 1043.31005859375, 1031.449951171875, 1018.5800170898436, 1040.75, 1026.050048828125, 1026.300048828125, 1051.0, 1059.4599609375, 1058.5899658203125, 1088.949951171875, 1105.469970703125, 1103.3800048828125, 1106.5999755859375, 1084.8699951171875, 1084.0899658203125, 1081.260009765625, 1069.6400146484375, 1084.010009765625, 1075.31005859375, 1085.9599609375, 1085.449951171875, 1084.0799560546875, 1068.0699462890625, 1077.469970703125, 1100.0, 1135.0, 1153.0400390625, 1151.02001953125, 1146.949951171875, 1134.4200439453125, 1132.7099609375, 1140.9000244140625, 1148.18994140625, 1144.22998046875, 1160.1099853515625, 1159.27001953125, 1183.5799560546875, 1178.68994140625, 1184.0699462890625, 1169.43994140625, 1169.2900390625, 1139.280029296875, 1132.6199951171875, 1116.93994140625, 1126.780029296875, 1129.18994140625, 1142.1099853515625, 1116.280029296875, 1141.2900390625, 1155.0799560546875, 1167.280029296875, 1167.1400146484375, 1171.4599609375, 1201.260009765625, 1204.4200439453125, 1196.510009765625, 1213.0799560546875, 1212.9100341796875, 1199.0999755859375, 1197.8800048828125, 1211.0, 1258.1500244140625, 1275.93994140625, 1285.5, 1252.8900146484375, 1230.0400390625, 1227.219970703125, 1232.989990234375, 1241.1300048828125, 1238.1600341796875, 1237.6700439453125, 1255.8399658203125, 1261.3299560546875, 1264.4599609375, 1252.510009765625, 1248.6400146484375, 1258.1400146484375, 1232.219970703125, 1224.06005859375, 1215.8499755859375, 1221.949951171875, 1217.4100341796875, 1221.75, 1221.1600341796875, 1236.75, 1256.27001953125, 1245.8599853515625, 1264.6500244140625, 1254.43994140625, 1231.800048828125, 1211.31005859375, 1199.0999755859375, 1183.989990234375, 1177.5899658203125, 1175.06005859375, 1189.989990234375, 1171.5999755859375, 1182.1400146484375, 1177.97998046875, 1159.8299560546875, 1167.1099853515625, 1174.27001953125, 1191.5699462890625, 1172.1199951171875, 1179.56005859375, 1193.8900146484375, 1194.06005859375, 1207.3599853515625, 1207.0799560546875, 1208.530029296875, 1207.6400146484375, 1211.530029296875, 1177.0699462890625, 1167.8299560546875, 1155.9200439453125, 1145.1700439453125, 1092.1600341796875, 1090.739990234375, 1120.5400390625, 1102.43994140625, 1133.0799560546875, 1127.5899658203125, 1097.9100341796875, 1105.1800537109375, 1111.3699951171875, 1114.9100341796875, 1057.1199951171875, 1103.5899658203125, 1083.75, 1034.72998046875, 1049.510009765625, 1090.5799560546875, 1085.97998046875, 1071.489990234375, 1055.72998046875, 1069.5699462890625, 1108.239990234375, 1094.6300048828125, 1077.02001953125, 1049.3599853515625, 1047.969970703125, 1054.5799560546875, 1071.050048828125, 1068.27001953125, 1027.4200439453125, 1030.449951171875, 1043.4300537109375, 1030.0999755859375, 1055.93994140625, 1052.280029296875, 1091.7900390625, 1094.5799560546875, 1109.6500244140625, 1116.3599853515625, 1062.469970703125, 1078.0799560546875, 1046.5799560546875, 1053.1800537109375, 1061.6500244140625, 1073.72998046875, 1073.5400390625, 1051.7099609375, 1025.6500244140625, 1043.4100341796875, 1035.4599609375, 1023.5800170898438, 991.25, 984.6699829101562, 1047.8499755859375, 1052.9000244140625, 1046.6800537109375, 1044.9599609375, 1054.6800537109375, 1025.469970703125, 1078.0699462890625, 1075.9200439453125, 1085.3699951171875, 1081.6500244140625, 1078.8299560546875, 1064.469970703125, 1051.510009765625, 1086.510009765625, 1089.510009765625, 1099.1199951171875, 1107.300048828125, 1078.6300048828125, 1084.4100341796875, 1084.0, 1101.510009765625, 1079.8599853515625, 1070.06005859375, 1097.989990234375, 1125.8900146484375, 1118.6199951171875, 1141.4200439453125, 1151.8699951171875, 1122.8900146484375, 1105.9100341796875, 1102.3800048828125, 1102.1199951171875, 1127.5799560546875, 1128.6300048828125, 1129.199951171875, 1119.6300048828125, 1126.510009765625, 1120.5899658203125, 1104.2099609375, 1116.56005859375, 1117.3299560546875, 1122.010009765625, 1122.8900146484375, 1126.550048828125, 1148.52001953125, 1153.4200439453125, 1169.18994140625, 1164.93994140625, 1150.8499755859375, 1149.969970703125, 1179.260009765625, 1197.25, 1199.06005859375, 1192.530029296875, 1190.300048828125, 1188.550048828125, 1202.4599609375, 1226.4300537109375, 1236.1300048828125, 1207.6500244140625, 1197.3800048828125, 1189.8399658203125, 1178.010009765625, 1172.27001953125, 1176.8900146484375, 1198.97998046875, 1205.5400390625, 1210.81005859375, 1219.449951171875, 1211.449951171875, 1208.280029296875, 1202.68994140625, 1206.449951171875, 1209.5899658203125, 1222.72998046875, 1226.530029296875, 1231.9100341796875, 1240.1400146484375, 1241.469970703125, 1253.760009765625, 1270.5899658203125, 1260.050048828125, 1267.3399658203125, 1277.4200439453125, 1296.199951171875, 1198.9599609375, 1173.3199462890625, 1166.510009765625, 1189.550048828125, 1193.4599609375, 1178.8599853515625, 1170.780029296875, 1167.969970703125, 1167.6400146484375, 1136.5899658203125, 1124.8599853515625, 1170.800048828125, 1184.5, 1168.780029296875, 1144.6600341796875, 1154.43994140625, 1155.8499755859375, 1145.3399658203125, 1138.6099853515625, 1139.56005859375, 1119.93994140625, 1121.4100341796875, 1106.5, 1038.739990234375, 1054.489990234375, 1044.6400146484375, 1047.760009765625, 1068.3699951171875, 1082.760009765625, 1081.0400390625, 1079.0999755859375, 1091.010009765625, 1086.300048828125, 1093.8900146484375, 1105.239990234375, 1104.510009765625, 1113.199951171875, 1125.3699951171875, 1116.699951171875, 1087.5799560546875, 1080.3199462890625, 1076.6300048828125, 1082.800048828125, 1100.0, 1112.5999755859375, 1122.989990234375, 1132.6700439453125, 1116.7900390625, 1124.2900390625, 1140.9100341796875, 1144.0799560546875, 1145.3399658203125, 1150.510009765625, 1153.4599609375, 1146.739990234375, 1147.239990234375, 1131.550048828125, 1139.2099609375, 1148.050048828125, 1139.72998046875, 1135.93994140625, 1245.219970703125, 1241.8399658203125, 1228.0, 1218.199951171875, 1211.780029296875, 1196.3199462890625, 1154.75, 1171.0799560546875, 1175.9100341796875, 1206.18994140625, 1188.9000244140625, 1174.5, 1196.72998046875, 1164.25, 1169.3199462890625, 1179.2099609375, 1200.43994140625, 1183.530029296875, 1191.5799560546875, 1191.52001953125, 1153.5799560546875, 1171.1800537109375, 1170.8199462890625, 1173.75, 1194.239990234375, 1190.530029296875, 1169.550048828125, 1182.27001953125, 1212.18994140625, 1206.3199462890625, 1205.27001953125, 1205.699951171875, 1220.0, 1234.969970703125, 1240.030029296875, 1231.6300048828125, 1229.8800048828125, 1232.6500244140625, 1238.75, 1229.8399658203125, 1234.68994140625, 1218.3299560546875, 1245.93994140625, 1242.2900390625, 1225.949951171875, 1221.1400146484375, 1206.0, 1177.9200439453125, 1189.4300537109375, 1210.9599609375, 1208.25, 1190.1300048828125, 1202.4000244140625, 1209.469970703125, 1215.7099609375, 1217.77001953125, 1242.239990234375, 1243.0, 1252.800048828125, 1244.4100341796875, 1244.280029296875, 1241.199951171875, 1257.6300048828125, 1259.1099853515625, 1264.300048828125, 1288.97998046875, 1260.6600341796875, 1260.699951171875, 1258.800048828125, 1272.25, 1289.6099853515625, 1291.43994140625, 1291.010009765625, 1306.93994140625, 1309.0, 1298.280029296875, 1297.2099609375, 1296.1800537109375, 1309.1500244140625, 1333.5400390625, 1319.8399658203125, 1312.5899658203125, 1301.8599853515625, 1300.1400146484375, 1293.6700439453125, 1305.6400146484375, 1313.0, 1312.1300048828125, 1304.0899658203125, 1288.8599853515625, 1294.739990234375, 1318.93994140625, 1326.9599609375, 1339.3900146484375, 1342.989990234375, 1342.8900146484375, 1344.25, 1348.489990234375, 1346.8699951171875, 1360.699951171875, 1354.8900146484375, 1351.9100341796875, 1356.43994140625, 1351.219970703125, 1350.6300048828125, 1344.4300537109375, 1362.469970703125, 1354.6400146484375, 1339.7099609375, 1339.3900146484375, 1368.6800537109375, 1361.52001953125, 1397.81005859375, 1395.1099853515625, 1405.0400390625, 1419.7900390625, 1428.9599609375, 1440.030029296875, 1430.5899658203125, 1439.199951171875, 1450.1600341796875, 1479.52001953125, 1482.25, 1483.8699951171875, 1484.68994140625, 1466.1700439453125, 1431.72998046875, 1450.5, 1456.699951171875, 1454.25, 1432.780029296875, 1482.5999755859375, 1445.4100341796875, 1446.050048828125, 1475.969970703125, 1479.1099853515625, 1508.6600341796875, 1510.06005859375, 1518.6300048828125, 1513.3900146484375, 1518.72998046875, 1519.43994140625, 1524.8699951171875, 1516.989990234375, 1483.4599609375, 1419.8599853515625, 1386.3199462890625, 1390.469970703125, 1314.949951171875, 1339.25, 1386.3199462890625, 1337.719970703125, 1381.5999755859375, 1314.760009765625, 1295.739990234375, 1215.7900390625, 1275.1700439453125, 1210.9000244140625, 1111.550048828125, 1214.27001953125, 1073.0, 1118.06005859375, 1091.18994140625, 1111.6700439453125, 1068.2099609375, 1054.1300048828125, 1130.010009765625, 1101.6199951171875, 1162.9200439453125, 1110.260009765625, 1146.31005859375, 1161.949951171875, 1102.0999755859375, 1117.030029296875, 1092.699951171875, 1183.18994140625, 1182.56005859375, 1207.0, 1206.5699462890625, 1210.4100341796875, 1265.22998046875, 1257.300048828125, 1257.4300537109375, 1279.0, 1261.1500244140625, 1212.1600341796875, 1258.4100341796875, 1271.1700439453125, 1276.5999755859375, 1270.8599853515625, 1232.5899658203125, 1342.1800537109375, 1346.699951171875, 1317.3199462890625, 1322.9000244140625, 1349.02001953125, 1345.4300537109375, 1369.280029296875, 1384.3399658203125, 1403.5899658203125, 1375.1800537109375, 1348.3299560546875, 1356.8599853515625, 1373.06005859375, 1385.1800537109375, 1374.4000244140625, 1409.1600341796875, 1406.75, 1413.239990234375, 1421.3699951171875, 1420.280029296875, 1418.239990234375, 1433.52001953125, 1434.8699951171875, 1442.31005859375, 1439.25, 1414.300048828125, 1440.02001953125, 1448.0400390625, 1452.0799560546875, 1464.699951171875, 1401.9000244140625, 1412.9200439453125, 1420.739990234375, 1446.469970703125, 1452.5400390625, 1434.1199951171875, 1424.6400146484375, 1450.6600341796875, 1463.97998046875, 1432.699951171875, 1441.0999755859375, 1362.5400390625, 1397.1700439453125, 1418.050048828125, 1442.0, 1469.9300537109375, 1499.6500244140625, 1489.9200439453125, 1503.5999755859375, 1518.6600341796875, 1539.010009765625, 1512.22998046875, 1520.8599853515625, 1516.8800048828125, 1514.9200439453125, 1516.8499755859375, 1563.8399658203125, 1555.9200439453125, 1564.8499755859375, 1516.75, 1508.2099609375, 1529.4300537109375, 1503.6500244140625, 1523.510009765625, 1538.3699951171875, 1487.949951171875, 1482.760009765625, 1473.300048828125, 1479.0899658203125, 1504.949951171875, 1498.3699951171875, 1496.8199462890625, 1480.5400390625, 1507.239990234375, 1516.6500244140625, 1504.6300048828125, 1516.239990234375, 1555.780029296875, 1544.6099853515625, 1576.25, 1575.5699462890625, 1585.1500244140625, 1605.8499755859375, 1644.1300048828125, 1628.52001953125, 1639.4300537109375, 1629.530029296875, 1655.0799560546875, 1717.3900146484375, 1629.510009765625, 1581.2099609375, 1523.5999755859375, 1547.22998046875, 1526.050048828125, 1515.760009765625, 1508.8299560546875, 1535.1199951171875, 1512.0899658203125, 1487.0400390625, 1451.0899658203125, 1430.1400146484375, 1459.8199462890625, 1409.3900146484375, 1422.8599853515625, 1439.06005859375, 1458.6600341796875, 1466.02001953125, 1465.5999755859375, 1487.9000244140625, 1455.5999755859375, 1482.8299560546875, 1451.02001953125, 1459.1400146484375, 1483.4300537109375, 1510.449951171875, 1564.5899658203125, 1567.0699462890625, 1563.43994140625, 1555.469970703125, 1567.699951171875, 1529.949951171875, 1551.0799560546875, 1585.989990234375, 1606.6600341796875, 1632.97998046875, 1584.2900390625, 1598.8800048828125, 1510.800048828125, 1556.8800048828125, 1616.1099853515625, 1624.3199462890625, 1645.6600341796875, 1745.8499755859375, 1762.5, 1759.72998046875, 1761.4200439453125, 1737.719970703125, 1747.22998046875, 1742.8199462890625, 1772.260009765625, 1774.030029296875, 1761.6600341796875, 1740.6400146484375, 1758.5699462890625, 1736.3800048828125, 1727.56005859375, 1763.9000244140625, 1764.1300048828125, 1787.02001953125, 1754.4000244140625, 1795.3599853515625, 1824.969970703125, 1821.8399658203125, 1823.760009765625, 1817.030029296875, 1811.3299560546875, 1777.8599853515625, 1767.6500244140625, 1774.800048828125, 1752.260009765625, 1761.0799560546875, 1757.18994140625, 1740.510009765625, 1726.219970703125, 1734.56005859375, 1720.219970703125, 1728.22998046875, 1734.1600341796875, 1773.9599609375, 1757.760009765625, 1736.25, 1752.6400146484375, 1726.1300048828125, 1740.050048828125, 1722.8800048828125, 1774.3399658203125, 1797.8299560546875, 1756.2900390625, 1737.4300537109375, 1747.25, 1730.9200439453125, 1727.6199951171875, 1784.469970703125, 1880.0699462890625, 1884.1500244140625, 1892.56005859375, 1894.280029296875, 1907.949951171875, 1818.93994140625, 1853.199951171875, 1827.3599853515625, 1893.0699462890625, 1919.1199951171875, 2058.8798828125, 2053.6298828125, 2088.830078125, 2084.52001953125, 2075.389892578125, 2086.47998046875, 2088.75, 2095.030029296875, 2110.699951171875, 2118.6201171875, 2105.81005859375, 2088.81005859375, 2054.260009765625, 2060.1201171875, 2083.81005859375, 2015.949951171875, 2021.9100341796875, 2069.659912109375, 2064.47998046875, 2011.4100341796877, 2033.9300537109375, 2097.070068359375, 2007.5, 2040.3599853515625, 2036.1899414062498, 2100.5400390625, 2050.0, 2054.43994140625, 2083.889892578125, 2082.219970703125, 2021.3399658203125, 2026.9599609375, 2030.68994140625, 2041.3299560546875, 2032.530029296875, 2032.4599609374998, 2024.72998046875, 2045.7900390624998, 2046.469970703125, 2062.52001953125, 2129.780029296875, 2218.9599609375, 2209.260009765625, 2239.030029296875, 2250.429931640625, 2270.669921875, 2244.6201171875, 2254.429931640625, 2241.909912109375, 2285.25, 2282.75, 2289.760009765625, 2279.010009765625, 2278.35009765625, 2252.52001953125, 2299.929931640625, 2309.929931640625, 2290.97998046875, 2359.0400390625, 2392.760009765625, 2353.5, 2343.080078125, 2306.830078125, 2314.77001953125, 2337.35009765625, 2351.929931640625, 2291.75, 2270.06005859375, 2200.25, 2229.0400390625, 2278.3798828125, 2288.919921875, 2262.469970703125, 2271.5, 2306.949951171875, 2294.1298828125, 2361.0400390625, 2362.8701171875, 2380.31005859375, 2362.679931640625, 2356.85009765625, 2381.179931640625, 2370.590087890625, 2347.580078125, 2393.570068359375, 2402.300048828125, 2398.43994140625, 2407.93994140625, 2435.1298828125, 2430.199951171875, 2448.909912109375, 2428.389892578125, 2415.449951171875, 2434.8701171875, 2402.219970703125, 2436.25, 2446.610107421875, 2442.5400390625, 2450.0, 2450.169921875, 2450.719970703125, 2445.449951171875, 2441.7900390625, 2448.889892578125, 2505.14990234375, 2523.800048828125, 2529.47998046875, 2500.8798828125, 2510.3701171875, 2539.510009765625, 2546.830078125, 2564.739990234375, 2540.10009765625, 2539.39990234375, 2491.56005859375, 2524.18994140625, 2550.97998046875, 2568.429931640625, 2660.300048828125, 2680.699951171875, 2638.0, 2721.8798828125, 2715.550048828125, 2694.530029296875, 2697.090087890625, 2712.60009765625, 2702.510009765625, 2725.030029296875, 2714.77001953125, 2738.260009765625, 2736.139892578125, 2725.580078125, 2743.8798828125, 2754.550048828125, 2766.18994140625, 2733.22998046875, 2708.97998046875, 2713.60009765625, 2748.590087890625, 2800.830078125, 2825.22998046875, 2841.580078125, 2828.81005859375, 2880.080078125, 2891.81005859375, 2893.949951171875, 2904.31005859375, 2865.739990234375, 2874.7900390625, 2885.610107421875, 2873.820068359375, 2870.820068359375, 2817.52001953125, 2846.64990234375, 2850.889892578125, 2888.590087890625, 2872.199951171875, 2816.0, 2774.389892578125, 2780.659912109375, 2805.669921875, 2824.320068359375, 2844.300048828125, 2821.43994140625, 2716.60009765625, 2687.070068359375, 2673.52001953125, 2730.860107421875, 2673.18994140625, 2720.4599609375, 2751.300048828125, 2784.5, 2795.7099609375, 2778.280029296875, 2728.97998046875, 2751.639892578125, 2823.02001953125, 2827.360107421875, 2855.56005859375, 2864.739990234375, 2835.3798828125, 2837.719970703125, 2751.330078125, 2748.93994140625, 2786.169921875, 2924.35009765625, 2916.97998046875, 2960.919921875, 2869.93994140625, 2908.64990234375, 2931.9599609375, 2965.35009765625, 2977.0400390625, 2980.6201171875, 2978.3701171875, 2917.8701171875, 2915.330078125, 2973.56005859375, 2969.0400390625, 2957.52001953125, 2960.93994140625, 2996.77001953125, 2978.530029296875, 2926.0400390625, 2915.639892578125, 2922.39990234375, 2843.659912109375, 2910.610107421875, 2837.949951171875, 2821.030029296875, 2859.320068359375, 2840.030029296875, 2863.10009765625, 2945.389892578125, 2963.72998046875, 2952.77001953125, 2960.030029296875, 2916.530029296875, 2878.139892578125, 2928.820068359375, 2888.89990234375, 2834.5, 2832.139892578125, 2869.449951171875, 2928.300048828125, 2938.330078125, 2958.1298828125, 2933.739990234375, 2933.10009765625, 2924.010009765625, 2897.0400390625, 2899.830078125, 2887.989990234375, 2755.5, 2754.949951171875, 2740.340087890625, 2773.389892578125, 2794.719970703125, 2828.610107421875, 2771.739990234375, 2789.610107421875, 2719.9599609375, 2702.330078125, 2666.14990234375, 2607.030029296875]}, {\"mode\": \"lines\", \"name\": \"Predicted\", \"type\": \"scatter\", \"x\": [\"2018-01-02T00:00:00\", \"2018-01-03T00:00:00\", \"2018-01-04T00:00:00\", \"2018-01-05T00:00:00\", \"2018-01-08T00:00:00\", \"2018-01-09T00:00:00\", \"2018-01-10T00:00:00\", \"2018-01-11T00:00:00\", \"2018-01-12T00:00:00\", \"2018-01-16T00:00:00\", \"2018-01-17T00:00:00\", \"2018-01-18T00:00:00\", \"2018-01-19T00:00:00\", \"2018-01-22T00:00:00\", \"2018-01-23T00:00:00\", \"2018-01-24T00:00:00\", \"2018-01-25T00:00:00\", \"2018-01-26T00:00:00\", \"2018-01-29T00:00:00\", \"2018-01-30T00:00:00\", \"2018-01-31T00:00:00\", \"2018-02-01T00:00:00\", \"2018-02-02T00:00:00\", \"2018-02-05T00:00:00\", \"2018-02-06T00:00:00\", \"2018-02-07T00:00:00\", \"2018-02-08T00:00:00\", \"2018-02-09T00:00:00\", \"2018-02-12T00:00:00\", \"2018-02-13T00:00:00\", \"2018-02-14T00:00:00\", \"2018-02-15T00:00:00\", \"2018-02-16T00:00:00\", \"2018-02-20T00:00:00\", \"2018-02-21T00:00:00\", \"2018-02-22T00:00:00\", \"2018-02-23T00:00:00\", \"2018-02-26T00:00:00\", \"2018-02-27T00:00:00\", \"2018-02-28T00:00:00\", \"2018-03-01T00:00:00\", \"2018-03-02T00:00:00\", \"2018-03-05T00:00:00\", \"2018-03-06T00:00:00\", \"2018-03-07T00:00:00\", \"2018-03-08T00:00:00\", \"2018-03-09T00:00:00\", \"2018-03-12T00:00:00\", \"2018-03-13T00:00:00\", \"2018-03-14T00:00:00\", \"2018-03-15T00:00:00\", \"2018-03-16T00:00:00\", \"2018-03-19T00:00:00\", \"2018-03-20T00:00:00\", \"2018-03-21T00:00:00\", \"2018-03-22T00:00:00\", \"2018-03-23T00:00:00\", \"2018-03-26T00:00:00\", \"2018-03-27T00:00:00\", \"2018-03-28T00:00:00\", \"2018-03-29T00:00:00\", \"2018-04-02T00:00:00\", \"2018-04-03T00:00:00\", \"2018-04-04T00:00:00\", \"2018-04-05T00:00:00\", \"2018-04-06T00:00:00\", \"2018-04-09T00:00:00\", \"2018-04-10T00:00:00\", \"2018-04-11T00:00:00\", \"2018-04-12T00:00:00\", \"2018-04-13T00:00:00\", \"2018-04-16T00:00:00\", \"2018-04-17T00:00:00\", \"2018-04-18T00:00:00\", \"2018-04-19T00:00:00\", \"2018-04-20T00:00:00\", \"2018-04-23T00:00:00\", \"2018-04-24T00:00:00\", \"2018-04-25T00:00:00\", \"2018-04-26T00:00:00\", \"2018-04-27T00:00:00\", \"2018-04-30T00:00:00\", \"2018-05-01T00:00:00\", \"2018-05-02T00:00:00\", \"2018-05-03T00:00:00\", \"2018-05-04T00:00:00\", \"2018-05-07T00:00:00\", \"2018-05-08T00:00:00\", \"2018-05-09T00:00:00\", \"2018-05-10T00:00:00\", \"2018-05-11T00:00:00\", \"2018-05-14T00:00:00\", \"2018-05-15T00:00:00\", \"2018-05-16T00:00:00\", \"2018-05-17T00:00:00\", \"2018-05-18T00:00:00\", \"2018-05-21T00:00:00\", \"2018-05-22T00:00:00\", \"2018-05-23T00:00:00\", \"2018-05-24T00:00:00\", \"2018-05-25T00:00:00\", \"2018-05-29T00:00:00\", \"2018-05-30T00:00:00\", \"2018-05-31T00:00:00\", \"2018-06-01T00:00:00\", \"2018-06-04T00:00:00\", \"2018-06-05T00:00:00\", \"2018-06-06T00:00:00\", \"2018-06-07T00:00:00\", \"2018-06-08T00:00:00\", \"2018-06-11T00:00:00\", \"2018-06-12T00:00:00\", \"2018-06-13T00:00:00\", \"2018-06-14T00:00:00\", \"2018-06-15T00:00:00\", \"2018-06-18T00:00:00\", \"2018-06-19T00:00:00\", \"2018-06-20T00:00:00\", \"2018-06-21T00:00:00\", \"2018-06-22T00:00:00\", \"2018-06-25T00:00:00\", \"2018-06-26T00:00:00\", \"2018-06-27T00:00:00\", \"2018-06-28T00:00:00\", \"2018-06-29T00:00:00\", \"2018-07-02T00:00:00\", \"2018-07-03T00:00:00\", \"2018-07-05T00:00:00\", \"2018-07-06T00:00:00\", \"2018-07-09T00:00:00\", \"2018-07-10T00:00:00\", \"2018-07-11T00:00:00\", \"2018-07-12T00:00:00\", \"2018-07-13T00:00:00\", \"2018-07-16T00:00:00\", \"2018-07-17T00:00:00\", \"2018-07-18T00:00:00\", \"2018-07-19T00:00:00\", \"2018-07-20T00:00:00\", \"2018-07-23T00:00:00\", \"2018-07-24T00:00:00\", \"2018-07-25T00:00:00\", \"2018-07-26T00:00:00\", \"2018-07-27T00:00:00\", \"2018-07-30T00:00:00\", \"2018-07-31T00:00:00\", \"2018-08-01T00:00:00\", \"2018-08-02T00:00:00\", \"2018-08-03T00:00:00\", \"2018-08-06T00:00:00\", \"2018-08-07T00:00:00\", \"2018-08-08T00:00:00\", \"2018-08-09T00:00:00\", \"2018-08-10T00:00:00\", \"2018-08-13T00:00:00\", \"2018-08-14T00:00:00\", \"2018-08-15T00:00:00\", \"2018-08-16T00:00:00\", \"2018-08-17T00:00:00\", \"2018-08-20T00:00:00\", \"2018-08-21T00:00:00\", \"2018-08-22T00:00:00\", \"2018-08-23T00:00:00\", \"2018-08-24T00:00:00\", \"2018-08-27T00:00:00\", \"2018-08-28T00:00:00\", \"2018-08-29T00:00:00\", \"2018-08-30T00:00:00\", \"2018-08-31T00:00:00\", \"2018-09-04T00:00:00\", \"2018-09-05T00:00:00\", \"2018-09-06T00:00:00\", \"2018-09-07T00:00:00\", \"2018-09-10T00:00:00\", \"2018-09-11T00:00:00\", \"2018-09-12T00:00:00\", \"2018-09-13T00:00:00\", \"2018-09-14T00:00:00\", \"2018-09-17T00:00:00\", \"2018-09-18T00:00:00\", \"2018-09-19T00:00:00\", \"2018-09-20T00:00:00\", \"2018-09-21T00:00:00\", \"2018-09-24T00:00:00\", \"2018-09-25T00:00:00\", \"2018-09-26T00:00:00\", \"2018-09-27T00:00:00\", \"2018-09-28T00:00:00\", \"2018-10-01T00:00:00\", \"2018-10-02T00:00:00\", \"2018-10-03T00:00:00\", \"2018-10-04T00:00:00\", \"2018-10-05T00:00:00\", \"2018-10-08T00:00:00\", \"2018-10-09T00:00:00\", \"2018-10-10T00:00:00\", \"2018-10-11T00:00:00\", \"2018-10-12T00:00:00\", \"2018-10-15T00:00:00\", \"2018-10-16T00:00:00\", \"2018-10-17T00:00:00\", \"2018-10-18T00:00:00\", \"2018-10-19T00:00:00\", \"2018-10-22T00:00:00\", \"2018-10-23T00:00:00\", \"2018-10-24T00:00:00\", \"2018-10-25T00:00:00\", \"2018-10-26T00:00:00\", \"2018-10-29T00:00:00\", \"2018-10-30T00:00:00\", \"2018-10-31T00:00:00\", \"2018-11-01T00:00:00\", \"2018-11-02T00:00:00\", \"2018-11-05T00:00:00\", \"2018-11-06T00:00:00\", \"2018-11-07T00:00:00\", \"2018-11-08T00:00:00\", \"2018-11-09T00:00:00\", \"2018-11-12T00:00:00\", \"2018-11-13T00:00:00\", \"2018-11-14T00:00:00\", \"2018-11-15T00:00:00\", \"2018-11-16T00:00:00\", \"2018-11-19T00:00:00\", \"2018-11-20T00:00:00\", \"2018-11-21T00:00:00\", \"2018-11-23T00:00:00\", \"2018-11-26T00:00:00\", \"2018-11-27T00:00:00\", \"2018-11-28T00:00:00\", \"2018-11-29T00:00:00\", \"2018-11-30T00:00:00\", \"2018-12-03T00:00:00\", \"2018-12-04T00:00:00\", \"2018-12-06T00:00:00\", \"2018-12-07T00:00:00\", \"2018-12-10T00:00:00\", \"2018-12-11T00:00:00\", \"2018-12-12T00:00:00\", \"2018-12-13T00:00:00\", \"2018-12-14T00:00:00\", \"2018-12-17T00:00:00\", \"2018-12-18T00:00:00\", \"2018-12-19T00:00:00\", \"2018-12-20T00:00:00\", \"2018-12-21T00:00:00\", \"2018-12-24T00:00:00\", \"2018-12-26T00:00:00\", \"2018-12-27T00:00:00\", \"2018-12-28T00:00:00\", \"2018-12-31T00:00:00\", \"2019-01-02T00:00:00\", \"2019-01-03T00:00:00\", \"2019-01-04T00:00:00\", \"2019-01-07T00:00:00\", \"2019-01-08T00:00:00\", \"2019-01-09T00:00:00\", \"2019-01-10T00:00:00\", \"2019-01-11T00:00:00\", \"2019-01-14T00:00:00\", \"2019-01-15T00:00:00\", \"2019-01-16T00:00:00\", \"2019-01-17T00:00:00\", \"2019-01-18T00:00:00\", \"2019-01-22T00:00:00\", \"2019-01-23T00:00:00\", \"2019-01-24T00:00:00\", \"2019-01-25T00:00:00\", \"2019-01-28T00:00:00\", \"2019-01-29T00:00:00\", \"2019-01-30T00:00:00\", \"2019-01-31T00:00:00\", \"2019-02-01T00:00:00\", \"2019-02-04T00:00:00\", \"2019-02-05T00:00:00\", \"2019-02-06T00:00:00\", \"2019-02-07T00:00:00\", \"2019-02-08T00:00:00\", \"2019-02-11T00:00:00\", \"2019-02-12T00:00:00\", \"2019-02-13T00:00:00\", \"2019-02-14T00:00:00\", \"2019-02-15T00:00:00\", \"2019-02-19T00:00:00\", \"2019-02-20T00:00:00\", \"2019-02-21T00:00:00\", \"2019-02-22T00:00:00\", \"2019-02-25T00:00:00\", \"2019-02-26T00:00:00\", \"2019-02-27T00:00:00\", \"2019-02-28T00:00:00\", \"2019-03-01T00:00:00\", \"2019-03-04T00:00:00\", \"2019-03-05T00:00:00\", \"2019-03-06T00:00:00\", \"2019-03-07T00:00:00\", \"2019-03-08T00:00:00\", \"2019-03-11T00:00:00\", \"2019-03-12T00:00:00\", \"2019-03-13T00:00:00\", \"2019-03-14T00:00:00\", \"2019-03-15T00:00:00\", \"2019-03-18T00:00:00\", \"2019-03-19T00:00:00\", \"2019-03-20T00:00:00\", \"2019-03-21T00:00:00\", \"2019-03-22T00:00:00\", \"2019-03-25T00:00:00\", \"2019-03-26T00:00:00\", \"2019-03-27T00:00:00\", \"2019-03-28T00:00:00\", \"2019-03-29T00:00:00\", \"2019-04-01T00:00:00\", \"2019-04-02T00:00:00\", \"2019-04-03T00:00:00\", \"2019-04-04T00:00:00\", \"2019-04-05T00:00:00\", \"2019-04-08T00:00:00\", \"2019-04-09T00:00:00\", \"2019-04-10T00:00:00\", \"2019-04-11T00:00:00\", \"2019-04-12T00:00:00\", \"2019-04-15T00:00:00\", \"2019-04-16T00:00:00\", \"2019-04-17T00:00:00\", \"2019-04-18T00:00:00\", \"2019-04-22T00:00:00\", \"2019-04-23T00:00:00\", \"2019-04-24T00:00:00\", \"2019-04-25T00:00:00\", \"2019-04-26T00:00:00\", \"2019-04-29T00:00:00\", \"2019-04-30T00:00:00\", \"2019-05-01T00:00:00\", \"2019-05-02T00:00:00\", \"2019-05-03T00:00:00\", \"2019-05-06T00:00:00\", \"2019-05-07T00:00:00\", \"2019-05-08T00:00:00\", \"2019-05-09T00:00:00\", \"2019-05-10T00:00:00\", \"2019-05-13T00:00:00\", \"2019-05-14T00:00:00\", \"2019-05-15T00:00:00\", \"2019-05-16T00:00:00\", \"2019-05-17T00:00:00\", \"2019-05-20T00:00:00\", \"2019-05-21T00:00:00\", \"2019-05-22T00:00:00\", \"2019-05-23T00:00:00\", \"2019-05-24T00:00:00\", \"2019-05-28T00:00:00\", \"2019-05-29T00:00:00\", \"2019-05-30T00:00:00\", \"2019-05-31T00:00:00\", \"2019-06-03T00:00:00\", \"2019-06-04T00:00:00\", \"2019-06-05T00:00:00\", \"2019-06-06T00:00:00\", \"2019-06-07T00:00:00\", \"2019-06-10T00:00:00\", \"2019-06-11T00:00:00\", \"2019-06-12T00:00:00\", \"2019-06-13T00:00:00\", \"2019-06-14T00:00:00\", \"2019-06-17T00:00:00\", \"2019-06-18T00:00:00\", \"2019-06-19T00:00:00\", \"2019-06-20T00:00:00\", \"2019-06-21T00:00:00\", \"2019-06-24T00:00:00\", \"2019-06-25T00:00:00\", \"2019-06-26T00:00:00\", \"2019-06-27T00:00:00\", \"2019-06-28T00:00:00\", \"2019-07-01T00:00:00\", \"2019-07-02T00:00:00\", \"2019-07-03T00:00:00\", \"2019-07-05T00:00:00\", \"2019-07-08T00:00:00\", \"2019-07-09T00:00:00\", \"2019-07-10T00:00:00\", \"2019-07-11T00:00:00\", \"2019-07-12T00:00:00\", \"2019-07-15T00:00:00\", \"2019-07-16T00:00:00\", \"2019-07-17T00:00:00\", \"2019-07-18T00:00:00\", \"2019-07-19T00:00:00\", \"2019-07-22T00:00:00\", \"2019-07-23T00:00:00\", \"2019-07-24T00:00:00\", \"2019-07-25T00:00:00\", \"2019-07-26T00:00:00\", \"2019-07-29T00:00:00\", \"2019-07-30T00:00:00\", \"2019-07-31T00:00:00\", \"2019-08-01T00:00:00\", \"2019-08-02T00:00:00\", \"2019-08-05T00:00:00\", \"2019-08-06T00:00:00\", \"2019-08-07T00:00:00\", \"2019-08-08T00:00:00\", \"2019-08-09T00:00:00\", \"2019-08-12T00:00:00\", \"2019-08-13T00:00:00\", \"2019-08-14T00:00:00\", \"2019-08-15T00:00:00\", \"2019-08-16T00:00:00\", \"2019-08-19T00:00:00\", \"2019-08-20T00:00:00\", \"2019-08-21T00:00:00\", \"2019-08-22T00:00:00\", \"2019-08-23T00:00:00\", \"2019-08-26T00:00:00\", \"2019-08-27T00:00:00\", \"2019-08-28T00:00:00\", \"2019-08-29T00:00:00\", \"2019-08-30T00:00:00\", \"2019-09-03T00:00:00\", \"2019-09-04T00:00:00\", \"2019-09-05T00:00:00\", \"2019-09-06T00:00:00\", \"2019-09-09T00:00:00\", \"2019-09-10T00:00:00\", \"2019-09-11T00:00:00\", \"2019-09-12T00:00:00\", \"2019-09-13T00:00:00\", \"2019-09-16T00:00:00\", \"2019-09-17T00:00:00\", \"2019-09-18T00:00:00\", \"2019-09-19T00:00:00\", \"2019-09-20T00:00:00\", \"2019-09-23T00:00:00\", \"2019-09-24T00:00:00\", \"2019-09-25T00:00:00\", \"2019-09-26T00:00:00\", \"2019-09-27T00:00:00\", \"2019-09-30T00:00:00\", \"2019-10-01T00:00:00\", \"2019-10-02T00:00:00\", \"2019-10-03T00:00:00\", \"2019-10-04T00:00:00\", \"2019-10-07T00:00:00\", \"2019-10-08T00:00:00\", \"2019-10-09T00:00:00\", \"2019-10-10T00:00:00\", \"2019-10-11T00:00:00\", \"2019-10-14T00:00:00\", \"2019-10-15T00:00:00\", \"2019-10-16T00:00:00\", \"2019-10-17T00:00:00\", \"2019-10-18T00:00:00\", \"2019-10-21T00:00:00\", \"2019-10-22T00:00:00\", \"2019-10-23T00:00:00\", \"2019-10-24T00:00:00\", \"2019-10-25T00:00:00\", \"2019-10-28T00:00:00\", \"2019-10-29T00:00:00\", \"2019-10-30T00:00:00\", \"2019-10-31T00:00:00\", \"2019-11-01T00:00:00\", \"2019-11-04T00:00:00\", \"2019-11-05T00:00:00\", \"2019-11-06T00:00:00\", \"2019-11-07T00:00:00\", \"2019-11-08T00:00:00\", \"2019-11-11T00:00:00\", \"2019-11-12T00:00:00\", \"2019-11-13T00:00:00\", \"2019-11-14T00:00:00\", \"2019-11-15T00:00:00\", \"2019-11-18T00:00:00\", \"2019-11-19T00:00:00\", \"2019-11-20T00:00:00\", \"2019-11-21T00:00:00\", \"2019-11-22T00:00:00\", \"2019-11-25T00:00:00\", \"2019-11-26T00:00:00\", \"2019-11-27T00:00:00\", \"2019-11-29T00:00:00\", \"2019-12-02T00:00:00\", \"2019-12-03T00:00:00\", \"2019-12-04T00:00:00\", \"2019-12-05T00:00:00\", \"2019-12-06T00:00:00\", \"2019-12-09T00:00:00\", \"2019-12-10T00:00:00\", \"2019-12-11T00:00:00\", \"2019-12-12T00:00:00\", \"2019-12-13T00:00:00\", \"2019-12-16T00:00:00\", \"2019-12-17T00:00:00\", \"2019-12-18T00:00:00\", \"2019-12-19T00:00:00\", \"2019-12-20T00:00:00\", \"2019-12-23T00:00:00\", \"2019-12-24T00:00:00\", \"2019-12-26T00:00:00\", \"2019-12-27T00:00:00\", \"2019-12-30T00:00:00\", \"2019-12-31T00:00:00\", \"2020-01-02T00:00:00\", \"2020-01-03T00:00:00\", \"2020-01-06T00:00:00\", \"2020-01-07T00:00:00\", \"2020-01-08T00:00:00\", \"2020-01-09T00:00:00\", \"2020-01-10T00:00:00\", \"2020-01-13T00:00:00\", \"2020-01-14T00:00:00\", \"2020-01-15T00:00:00\", \"2020-01-16T00:00:00\", \"2020-01-17T00:00:00\", \"2020-01-21T00:00:00\", \"2020-01-22T00:00:00\", \"2020-01-23T00:00:00\", \"2020-01-24T00:00:00\", \"2020-01-27T00:00:00\", \"2020-01-28T00:00:00\", \"2020-01-29T00:00:00\", \"2020-01-30T00:00:00\", \"2020-01-31T00:00:00\", \"2020-02-03T00:00:00\", \"2020-02-04T00:00:00\", \"2020-02-05T00:00:00\", \"2020-02-06T00:00:00\", \"2020-02-07T00:00:00\", \"2020-02-10T00:00:00\", \"2020-02-11T00:00:00\", \"2020-02-12T00:00:00\", \"2020-02-13T00:00:00\", \"2020-02-14T00:00:00\", \"2020-02-18T00:00:00\", \"2020-02-19T00:00:00\", \"2020-02-20T00:00:00\", \"2020-02-21T00:00:00\", \"2020-02-24T00:00:00\", \"2020-02-25T00:00:00\", \"2020-02-26T00:00:00\", \"2020-02-27T00:00:00\", \"2020-02-28T00:00:00\", \"2020-03-02T00:00:00\", \"2020-03-03T00:00:00\", \"2020-03-04T00:00:00\", \"2020-03-05T00:00:00\", \"2020-03-06T00:00:00\", \"2020-03-09T00:00:00\", \"2020-03-10T00:00:00\", \"2020-03-11T00:00:00\", \"2020-03-12T00:00:00\", \"2020-03-13T00:00:00\", \"2020-03-16T00:00:00\", \"2020-03-17T00:00:00\", \"2020-03-18T00:00:00\", \"2020-03-19T00:00:00\", \"2020-03-20T00:00:00\", \"2020-03-23T00:00:00\", \"2020-03-24T00:00:00\", \"2020-03-25T00:00:00\", \"2020-03-26T00:00:00\", \"2020-03-27T00:00:00\", \"2020-03-30T00:00:00\", \"2020-03-31T00:00:00\", \"2020-04-01T00:00:00\", \"2020-04-02T00:00:00\", \"2020-04-03T00:00:00\", \"2020-04-06T00:00:00\", \"2020-04-07T00:00:00\", \"2020-04-08T00:00:00\", \"2020-04-09T00:00:00\", \"2020-04-13T00:00:00\", \"2020-04-14T00:00:00\", \"2020-04-15T00:00:00\", \"2020-04-16T00:00:00\", \"2020-04-17T00:00:00\", \"2020-04-20T00:00:00\", \"2020-04-21T00:00:00\", \"2020-04-22T00:00:00\", \"2020-04-23T00:00:00\", \"2020-04-24T00:00:00\", \"2020-04-27T00:00:00\", \"2020-04-28T00:00:00\", \"2020-04-29T00:00:00\", \"2020-04-30T00:00:00\", \"2020-05-01T00:00:00\", \"2020-05-04T00:00:00\", \"2020-05-05T00:00:00\", \"2020-05-06T00:00:00\", \"2020-05-07T00:00:00\", \"2020-05-08T00:00:00\", \"2020-05-11T00:00:00\", \"2020-05-12T00:00:00\", \"2020-05-13T00:00:00\", \"2020-05-14T00:00:00\", \"2020-05-15T00:00:00\", \"2020-05-18T00:00:00\", \"2020-05-19T00:00:00\", \"2020-05-20T00:00:00\", \"2020-05-21T00:00:00\", \"2020-05-22T00:00:00\", \"2020-05-26T00:00:00\", \"2020-05-27T00:00:00\", \"2020-05-28T00:00:00\", \"2020-05-29T00:00:00\", \"2020-06-01T00:00:00\", \"2020-06-02T00:00:00\", \"2020-06-03T00:00:00\", \"2020-06-04T00:00:00\", \"2020-06-05T00:00:00\", \"2020-06-08T00:00:00\", \"2020-06-09T00:00:00\", \"2020-06-10T00:00:00\", \"2020-06-11T00:00:00\", \"2020-06-12T00:00:00\", \"2020-06-15T00:00:00\", \"2020-06-16T00:00:00\", \"2020-06-17T00:00:00\", \"2020-06-18T00:00:00\", \"2020-06-19T00:00:00\", \"2020-06-22T00:00:00\", \"2020-06-23T00:00:00\", \"2020-06-24T00:00:00\", \"2020-06-25T00:00:00\", \"2020-06-26T00:00:00\", \"2020-06-29T00:00:00\", \"2020-06-30T00:00:00\", \"2020-07-01T00:00:00\", \"2020-07-02T00:00:00\", \"2020-07-06T00:00:00\", \"2020-07-07T00:00:00\", \"2020-07-08T00:00:00\", \"2020-07-09T00:00:00\", \"2020-07-10T00:00:00\", \"2020-07-13T00:00:00\", \"2020-07-14T00:00:00\", \"2020-07-15T00:00:00\", \"2020-07-16T00:00:00\", \"2020-07-17T00:00:00\", \"2020-07-20T00:00:00\", \"2020-07-21T00:00:00\", \"2020-07-22T00:00:00\", \"2020-07-23T00:00:00\", \"2020-07-24T00:00:00\", \"2020-07-27T00:00:00\", \"2020-07-28T00:00:00\", \"2020-07-29T00:00:00\", \"2020-07-30T00:00:00\", \"2020-07-31T00:00:00\", \"2020-08-03T00:00:00\", \"2020-08-04T00:00:00\", \"2020-08-05T00:00:00\", \"2020-08-06T00:00:00\", \"2020-08-07T00:00:00\", \"2020-08-10T00:00:00\", \"2020-08-11T00:00:00\", \"2020-08-12T00:00:00\", \"2020-08-13T00:00:00\", \"2020-08-14T00:00:00\", \"2020-08-17T00:00:00\", \"2020-08-18T00:00:00\", \"2020-08-19T00:00:00\", \"2020-08-20T00:00:00\", \"2020-08-21T00:00:00\", \"2020-08-24T00:00:00\", \"2020-08-25T00:00:00\", \"2020-08-26T00:00:00\", \"2020-08-27T00:00:00\", \"2020-08-28T00:00:00\", \"2020-08-31T00:00:00\", \"2020-09-01T00:00:00\", \"2020-09-02T00:00:00\", \"2020-09-03T00:00:00\", \"2020-09-04T00:00:00\", \"2020-09-08T00:00:00\", \"2020-09-09T00:00:00\", \"2020-09-10T00:00:00\", \"2020-09-11T00:00:00\", \"2020-09-14T00:00:00\", \"2020-09-15T00:00:00\", \"2020-09-16T00:00:00\", \"2020-09-17T00:00:00\", \"2020-09-18T00:00:00\", \"2020-09-21T00:00:00\", \"2020-09-22T00:00:00\", \"2020-09-23T00:00:00\", \"2020-09-24T00:00:00\", \"2020-09-25T00:00:00\", \"2020-09-28T00:00:00\", \"2020-09-29T00:00:00\", \"2020-09-30T00:00:00\", \"2020-10-01T00:00:00\", \"2020-10-02T00:00:00\", \"2020-10-05T00:00:00\", \"2020-10-06T00:00:00\", \"2020-10-07T00:00:00\", \"2020-10-08T00:00:00\", \"2020-10-09T00:00:00\", \"2020-10-12T00:00:00\", \"2020-10-13T00:00:00\", \"2020-10-14T00:00:00\", \"2020-10-15T00:00:00\", \"2020-10-16T00:00:00\", \"2020-10-19T00:00:00\", \"2020-10-20T00:00:00\", \"2020-10-21T00:00:00\", \"2020-10-22T00:00:00\", \"2020-10-23T00:00:00\", \"2020-10-26T00:00:00\", \"2020-10-27T00:00:00\", \"2020-10-28T00:00:00\", \"2020-10-29T00:00:00\", \"2020-10-30T00:00:00\", \"2020-11-02T00:00:00\", \"2020-11-03T00:00:00\", \"2020-11-04T00:00:00\", \"2020-11-05T00:00:00\", \"2020-11-06T00:00:00\", \"2020-11-09T00:00:00\", \"2020-11-10T00:00:00\", \"2020-11-11T00:00:00\", \"2020-11-12T00:00:00\", \"2020-11-13T00:00:00\", \"2020-11-16T00:00:00\", \"2020-11-17T00:00:00\", \"2020-11-18T00:00:00\", \"2020-11-19T00:00:00\", \"2020-11-20T00:00:00\", \"2020-11-23T00:00:00\", \"2020-11-24T00:00:00\", \"2020-11-25T00:00:00\", \"2020-11-27T00:00:00\", \"2020-11-30T00:00:00\", \"2020-12-01T00:00:00\", \"2020-12-02T00:00:00\", \"2020-12-03T00:00:00\", \"2020-12-04T00:00:00\", \"2020-12-07T00:00:00\", \"2020-12-08T00:00:00\", \"2020-12-09T00:00:00\", \"2020-12-10T00:00:00\", \"2020-12-11T00:00:00\", \"2020-12-14T00:00:00\", \"2020-12-15T00:00:00\", \"2020-12-16T00:00:00\", \"2020-12-17T00:00:00\", \"2020-12-18T00:00:00\", \"2020-12-21T00:00:00\", \"2020-12-22T00:00:00\", \"2020-12-23T00:00:00\", \"2020-12-24T00:00:00\", \"2020-12-28T00:00:00\", \"2020-12-29T00:00:00\", \"2020-12-30T00:00:00\", \"2020-12-31T00:00:00\", \"2021-01-04T00:00:00\", \"2021-01-05T00:00:00\", \"2021-01-06T00:00:00\", \"2021-01-07T00:00:00\", \"2021-01-08T00:00:00\", \"2021-01-11T00:00:00\", \"2021-01-12T00:00:00\", \"2021-01-13T00:00:00\", \"2021-01-14T00:00:00\", \"2021-01-15T00:00:00\", \"2021-01-19T00:00:00\", \"2021-01-20T00:00:00\", \"2021-01-21T00:00:00\", \"2021-01-22T00:00:00\", \"2021-01-25T00:00:00\", \"2021-01-26T00:00:00\", \"2021-01-27T00:00:00\", \"2021-01-28T00:00:00\", \"2021-01-29T00:00:00\", \"2021-02-01T00:00:00\", \"2021-02-02T00:00:00\", \"2021-02-03T00:00:00\", \"2021-02-04T00:00:00\", \"2021-02-05T00:00:00\", \"2021-02-08T00:00:00\", \"2021-02-09T00:00:00\", \"2021-02-10T00:00:00\", \"2021-02-11T00:00:00\", \"2021-02-12T00:00:00\", \"2021-02-16T00:00:00\", \"2021-02-17T00:00:00\", \"2021-02-18T00:00:00\", \"2021-02-19T00:00:00\", \"2021-02-22T00:00:00\", \"2021-02-23T00:00:00\", \"2021-02-24T00:00:00\", \"2021-02-25T00:00:00\", \"2021-02-26T00:00:00\", \"2021-03-01T00:00:00\", \"2021-03-02T00:00:00\", \"2021-03-03T00:00:00\", \"2021-03-04T00:00:00\", \"2021-03-05T00:00:00\", \"2021-03-08T00:00:00\", \"2021-03-09T00:00:00\", \"2021-03-10T00:00:00\", \"2021-03-11T00:00:00\", \"2021-03-12T00:00:00\", \"2021-03-15T00:00:00\", \"2021-03-16T00:00:00\", \"2021-03-17T00:00:00\", \"2021-03-18T00:00:00\", \"2021-03-19T00:00:00\", \"2021-03-22T00:00:00\", \"2021-03-23T00:00:00\", \"2021-03-24T00:00:00\", \"2021-03-25T00:00:00\", \"2021-03-26T00:00:00\", \"2021-03-29T00:00:00\", \"2021-03-30T00:00:00\", \"2021-03-31T00:00:00\", \"2021-04-01T00:00:00\", \"2021-04-05T00:00:00\", \"2021-04-06T00:00:00\", \"2021-04-07T00:00:00\", \"2021-04-08T00:00:00\", \"2021-04-09T00:00:00\", \"2021-04-12T00:00:00\", \"2021-04-13T00:00:00\", \"2021-04-14T00:00:00\", \"2021-04-15T00:00:00\", \"2021-04-16T00:00:00\", \"2021-04-19T00:00:00\", \"2021-04-20T00:00:00\", \"2021-04-21T00:00:00\", \"2021-04-22T00:00:00\", \"2021-04-23T00:00:00\", \"2021-04-26T00:00:00\", \"2021-04-27T00:00:00\", \"2021-04-28T00:00:00\", \"2021-04-29T00:00:00\", \"2021-04-30T00:00:00\", \"2021-05-03T00:00:00\", \"2021-05-04T00:00:00\", \"2021-05-05T00:00:00\", \"2021-05-06T00:00:00\", \"2021-05-07T00:00:00\", \"2021-05-10T00:00:00\", \"2021-05-11T00:00:00\", \"2021-05-12T00:00:00\", \"2021-05-13T00:00:00\", \"2021-05-14T00:00:00\", \"2021-05-17T00:00:00\", \"2021-05-18T00:00:00\", \"2021-05-19T00:00:00\", \"2021-05-20T00:00:00\", \"2021-05-21T00:00:00\", \"2021-05-24T00:00:00\", \"2021-05-25T00:00:00\", \"2021-05-26T00:00:00\", \"2021-05-27T00:00:00\", \"2021-05-28T00:00:00\", \"2021-06-01T00:00:00\", \"2021-06-02T00:00:00\", \"2021-06-03T00:00:00\", \"2021-06-04T00:00:00\", \"2021-06-07T00:00:00\", \"2021-06-08T00:00:00\", \"2021-06-09T00:00:00\", \"2021-06-10T00:00:00\", \"2021-06-11T00:00:00\", \"2021-06-14T00:00:00\", \"2021-06-15T00:00:00\", \"2021-06-16T00:00:00\", \"2021-06-17T00:00:00\", \"2021-06-18T00:00:00\", \"2021-06-21T00:00:00\", \"2021-06-22T00:00:00\", \"2021-06-23T00:00:00\", \"2021-06-24T00:00:00\", \"2021-06-25T00:00:00\", \"2021-06-28T00:00:00\", \"2021-06-29T00:00:00\", \"2021-06-30T00:00:00\", \"2021-07-01T00:00:00\", \"2021-07-02T00:00:00\", \"2021-07-06T00:00:00\", \"2021-07-07T00:00:00\", \"2021-07-08T00:00:00\", \"2021-07-09T00:00:00\", \"2021-07-12T00:00:00\", \"2021-07-13T00:00:00\", \"2021-07-14T00:00:00\", \"2021-07-15T00:00:00\", \"2021-07-16T00:00:00\", \"2021-07-19T00:00:00\", \"2021-07-20T00:00:00\", \"2021-07-21T00:00:00\", \"2021-07-22T00:00:00\", \"2021-07-23T00:00:00\", \"2021-07-26T00:00:00\", \"2021-07-27T00:00:00\", \"2021-07-28T00:00:00\", \"2021-07-29T00:00:00\", \"2021-07-30T00:00:00\", \"2021-08-02T00:00:00\", \"2021-08-03T00:00:00\", \"2021-08-04T00:00:00\", \"2021-08-05T00:00:00\", \"2021-08-06T00:00:00\", \"2021-08-09T00:00:00\", \"2021-08-10T00:00:00\", \"2021-08-11T00:00:00\", \"2021-08-12T00:00:00\", \"2021-08-13T00:00:00\", \"2021-08-16T00:00:00\", \"2021-08-17T00:00:00\", \"2021-08-18T00:00:00\", \"2021-08-19T00:00:00\", \"2021-08-20T00:00:00\", \"2021-08-23T00:00:00\", \"2021-08-24T00:00:00\", \"2021-08-25T00:00:00\", \"2021-08-26T00:00:00\", \"2021-08-27T00:00:00\", \"2021-08-30T00:00:00\", \"2021-08-31T00:00:00\", \"2021-09-01T00:00:00\", \"2021-09-02T00:00:00\", \"2021-09-03T00:00:00\", \"2021-09-07T00:00:00\", \"2021-09-08T00:00:00\", \"2021-09-09T00:00:00\", \"2021-09-10T00:00:00\", \"2021-09-13T00:00:00\", \"2021-09-14T00:00:00\", \"2021-09-15T00:00:00\", \"2021-09-16T00:00:00\", \"2021-09-17T00:00:00\", \"2021-09-20T00:00:00\", \"2021-09-21T00:00:00\", \"2021-09-22T00:00:00\", \"2021-09-23T00:00:00\", \"2021-09-24T00:00:00\", \"2021-09-27T00:00:00\", \"2021-09-28T00:00:00\", \"2021-09-29T00:00:00\", \"2021-09-30T00:00:00\", \"2021-10-01T00:00:00\", \"2021-10-04T00:00:00\", \"2021-10-05T00:00:00\", \"2021-10-06T00:00:00\", \"2021-10-07T00:00:00\", \"2021-10-08T00:00:00\", \"2021-10-11T00:00:00\", \"2021-10-12T00:00:00\", \"2021-10-13T00:00:00\", \"2021-10-14T00:00:00\", \"2021-10-15T00:00:00\", \"2021-10-18T00:00:00\", \"2021-10-19T00:00:00\", \"2021-10-20T00:00:00\", \"2021-10-21T00:00:00\", \"2021-10-22T00:00:00\", \"2021-10-25T00:00:00\", \"2021-10-26T00:00:00\", \"2021-10-27T00:00:00\", \"2021-10-28T00:00:00\", \"2021-10-29T00:00:00\", \"2021-11-01T00:00:00\", \"2021-11-02T00:00:00\", \"2021-11-03T00:00:00\", \"2021-11-04T00:00:00\", \"2021-11-05T00:00:00\", \"2021-11-08T00:00:00\", \"2021-11-09T00:00:00\", \"2021-11-10T00:00:00\", \"2021-11-11T00:00:00\", \"2021-11-12T00:00:00\", \"2021-11-15T00:00:00\", \"2021-11-16T00:00:00\", \"2021-11-17T00:00:00\", \"2021-11-18T00:00:00\", \"2021-11-19T00:00:00\", \"2021-11-22T00:00:00\", \"2021-11-23T00:00:00\", \"2021-11-24T00:00:00\", \"2021-11-26T00:00:00\", \"2021-11-29T00:00:00\", \"2021-11-30T00:00:00\", \"2021-12-01T00:00:00\", \"2021-12-02T00:00:00\", \"2021-12-03T00:00:00\", \"2021-12-06T00:00:00\", \"2021-12-07T00:00:00\", \"2021-12-08T00:00:00\", \"2021-12-09T00:00:00\", \"2021-12-10T00:00:00\", \"2021-12-13T00:00:00\", \"2021-12-14T00:00:00\", \"2021-12-15T00:00:00\", \"2021-12-16T00:00:00\", \"2021-12-17T00:00:00\", \"2021-12-20T00:00:00\", \"2021-12-21T00:00:00\", \"2021-12-22T00:00:00\", \"2021-12-23T00:00:00\", \"2021-12-27T00:00:00\", \"2021-12-28T00:00:00\", \"2021-12-29T00:00:00\", \"2021-12-30T00:00:00\", \"2021-12-31T00:00:00\", \"2022-01-03T00:00:00\", \"2022-01-04T00:00:00\", \"2022-01-05T00:00:00\", \"2022-01-06T00:00:00\", \"2022-01-07T00:00:00\", \"2022-01-10T00:00:00\", \"2022-01-11T00:00:00\", \"2022-01-12T00:00:00\", \"2022-01-13T00:00:00\", \"2022-01-14T00:00:00\", \"2022-01-18T00:00:00\", \"2022-01-19T00:00:00\", \"2022-01-20T00:00:00\", \"2022-01-21T00:00:00\"], \"y\": [1436.837890625, 1443.8514404296875, 1454.791748046875, 1466.6409912109375, 1479.0013427734375, 1496.3304443359375, 1514.6611328125, 1517.1744384765625, 1513.6904296875, 1501.0543212890625, 1494.84423828125, 1496.9964599609375, 1502.2216796875, 1510.222900390625, 1520.9251708984375, 1535.1259765625, 1548.65185546875, 1549.8189697265625, 1553.6832275390625, 1559.3262939453125, 1552.0274658203125, 1534.537353515625, 1519.1829833984375, 1506.5084228515625, 1482.3511962890625, 1460.7376708984375, 1447.991455078125, 1429.7657470703125, 1409.202392578125, 1401.8709716796875, 1390.966796875, 1385.88037109375, 1385.302978515625, 1389.3634033203125, 1386.4202880859375, 1389.884521484375, 1398.5723876953125, 1403.446044921875, 1413.0313720703125, 1423.1602783203125, 1435.6927490234375, 1450.32373046875, 1466.35009765625, 1482.0068359375, 1488.9609375, 1487.5614013671875, 1457.4720458984375, 1443.1644287109375, 1439.1173095703125, 1433.6995849609375, 1426.70947265625, 1429.0341796875, 1427.1827392578125, 1425.1317138671875, 1433.1231689453125, 1443.6385498046875, 1455.065673828125, 1468.7869873046875, 1486.5328369140625, 1502.975830078125, 1516.9649658203125, 1517.991455078125, 1520.7901611328125, 1521.775390625, 1514.980712890625, 1518.585693359375, 1518.1077880859375, 1522.6375732421875, 1527.1904296875, 1530.119873046875, 1520.94140625, 1520.4130859375, 1518.48583984375, 1526.9141845703125, 1540.45849609375, 1554.1575927734375, 1563.7557373046875, 1565.1895751953125, 1567.9114990234375, 1574.043701171875, 1582.0799560546875, 1584.583984375, 1592.2216796875, 1596.4281005859375, 1608.2890625, 1612.291259765625, 1616.2193603515625, 1610.69287109375, 1607.825927734375, 1587.6490478515625, 1572.2127685546875, 1554.6282958984375, 1545.8648681640625, 1539.09716796875, 1542.1441650390625, 1537.27783203125, 1541.028076171875, 1550.3724365234375, 1562.6475830078125, 1574.2667236328125, 1583.9169921875, 1596.9761962890625, 1611.775390625, 1621.119140625, 1630.9541015625, 1639.6705322265625, 1638.216064453125, 1636.0372314453125, 1633.3673095703125, 1630.7589111328125, 1641.2916259765625, 1651.0081787109375, 1646.9378662109375, 1637.7091064453125, 1629.6572265625, 1625.25, 1624.9703369140625, 1626.614013671875, 1628.21923828125, 1633.427490234375, 1641.81787109375, 1652.3206787109375, 1653.658935546875, 1652.75537109375, 1657.3021240234375, 1647.4541015625, 1637.129150390625, 1625.1895751953125, 1620.9400634765625, 1615.248291015625, 1613.8905029296875, 1612.0345458984375, 1621.283935546875, 1635.8619384765625, 1642.653076171875, 1652.8614501953125, 1657.8487548828125, 1650.582275390625, 1638.3516845703125, 1621.4835205078125, 1604.29443359375, 1590.2010498046875, 1577.4443359375, 1575.0653076171875, 1566.2408447265625, 1562.9754638671875, 1561.939208984375, 1553.83837890625, 1551.3369140625, 1554.46923828125, 1564.43798828125, 1552.4786376953125, 1556.702392578125, 1565.35791015625, 1572.341796875, 1583.6170654296875, 1593.810791015625, 1604.1446533203125, 1611.0277099609375, 1622.04638671875, 1607.431396484375, 1594.7734375, 1577.3858642578125, 1561.876220703125, 1536.0831298828125, 1509.8955078125, 1502.8973388671875, 1496.4478759765625, 1499.0367431640625, 1500.76318359375, 1493.2825927734375, 1490.333984375, 1493.1185302734375, 1495.14599609375, 1481.5584716796875, 1477.48388671875, 1462.08740234375, 1444.09814453125, 1434.9417724609375, 1433.2459716796875, 1436.9375, 1436.6142578125, 1432.7550048828125, 1437.6021728515625, 1448.416015625, 1456.8575439453125, 1459.9959716796875, 1457.0391845703125, 1455.8699951171875, 1455.6827392578125, 1460.138916015625, 1464.3184814453125, 1454.80859375, 1445.1968994140625, 1446.8765869140625, 1447.7626953125, 1454.8055419921875, 1459.6900634765625, 1471.5291748046875, 1485.994140625, 1496.2071533203125, 1506.8424072265625, 1499.7877197265625, 1497.176025390625, 1488.0904541015625, 1483.6134033203125, 1482.261962890625, 1486.1427001953125, 1490.77197265625, 1485.054443359375, 1470.7947998046875, 1466.12548828125, 1456.22998046875, 1444.7774658203125, 1417.1812744140625, 1404.0091552734375, 1409.8331298828125, 1416.4786376953125, 1423.3841552734375, 1429.825927734375, 1439.481689453125, 1436.368408203125, 1446.4696044921875, 1454.7855224609375, 1467.09375, 1478.663330078125, 1488.03173828125, 1489.2664794921875, 1486.4666748046875, 1494.07275390625, 1501.5369873046875, 1513.56591796875, 1522.4439697265625, 1518.7724609375, 1520.510498046875, 1521.099365234375, 1529.5267333984375, 1526.6080322265625, 1522.8748779296875, 1527.6295166015625, 1536.113037109375, 1542.4127197265625, 1543.458984375, 1544.823974609375, 1541.2489013671875, 1534.9287109375, 1531.89111328125, 1529.636474609375, 1534.0341796875, 1540.0716552734375, 1547.49853515625, 1547.6492919921875, 1552.7794189453125, 1553.697265625, 1545.3665771484375, 1545.7147216796875, 1547.004150390625, 1548.9610595703125, 1553.955810546875, 1559.8001708984375, 1572.2125244140625, 1584.2960205078125, 1597.1954345703125, 1608.409423828125, 1607.2012939453125, 1606.987060546875, 1615.692138671875, 1624.402099609375, 1635.988525390625, 1641.4873046875, 1639.5052490234375, 1641.8837890625, 1648.2427978515625, 1656.4969482421875, 1668.436767578125, 1662.5247802734375, 1654.8250732421875, 1644.5567626953125, 1631.71484375, 1619.910400390625, 1610.56591796875, 1613.3809814453125, 1620.367919921875, 1628.091552734375, 1638.4697265625, 1642.8599853515625, 1644.764892578125, 1643.509521484375, 1646.01318359375, 1650.2708740234375, 1659.1968994140625, 1668.7391357421875, 1679.47802734375, 1689.7996826171875, 1700.4981689453125, 1713.8106689453125, 1725.31005859375, 1728.1790771484375, 1731.3924560546875, 1737.62451171875, 1736.7197265625, 1692.698974609375, 1659.8851318359375, 1633.76318359375, 1617.739501953125, 1606.5657958984375, 1592.5133056640625, 1580.8323974609375, 1569.4261474609375, 1559.3367919921875, 1541.502197265625, 1524.9307861328125, 1524.2222900390625, 1532.164306640625, 1536.981201171875, 1534.6270751953125, 1538.355712890625, 1543.083984375, 1543.13720703125, 1542.7962646484375, 1542.766357421875, 1533.8609619140625, 1530.6021728515625, 1521.078369140625, 1490.2825927734375, 1474.807373046875, 1460.92626953125, 1452.963623046875, 1451.6243896484375, 1458.62548828125, 1463.679443359375, 1469.9163818359375, 1482.0048828125, 1490.29296875, 1502.337890625, 1514.4615478515625, 1526.4930419921875, 1541.06103515625, 1551.82373046875, 1559.653564453125, 1551.3472900390625, 1540.821533203125, 1532.1644287109375, 1526.225341796875, 1530.4830322265625, 1540.4134521484375, 1552.623291015625, 1564.3123779296875, 1565.458984375, 1569.531005859375, 1577.9989013671875, 1587.439453125, 1597.2672119140625, 1607.994140625, 1617.6029052734375, 1620.7276611328125, 1623.056396484375, 1613.4793701171875, 1609.1070556640625, 1611.66259765625, 1606.8275146484375, 1594.1090087890625, 1592.2008056640625, 1605.16015625, 1614.49609375, 1617.2186279296875, 1618.4149169921875, 1614.3511962890625, 1597.9742431640625, 1590.8128662109375, 1587.0860595703125, 1592.37060546875, 1594.1473388671875, 1591.8927001953125, 1595.4501953125, 1589.0074462890625, 1586.3363037109375, 1588.0096435546875, 1595.9273681640625, 1598.543701171875, 1605.060546875, 1610.5460205078125, 1600.0401611328125, 1600.1451416015625, 1599.5062255859375, 1601.61865234375, 1610.61328125, 1617.288818359375, 1613.15576171875, 1615.6849365234375, 1625.5042724609375, 1633.376953125, 1637.3369140625, 1641.8775634765625, 1651.9510498046875, 1662.4813232421875, 1674.6162109375, 1678.42041015625, 1682.1265869140625, 1687.4384765625, 1695.145751953125, 1689.702880859375, 1691.0843505859375, 1678.64599609375, 1681.687255859375, 1683.060302734375, 1674.2867431640625, 1666.489501953125, 1654.2386474609375, 1635.240966796875, 1624.92236328125, 1625.173828125, 1626.02978515625, 1620.4150390625, 1621.9578857421875, 1627.1075439453125, 1632.64697265625, 1640.6898193359375, 1652.8798828125, 1665.130859375, 1679.1209716796875, 1683.274169921875, 1689.7939453125, 1691.931396484375, 1701.03857421875, 1709.771484375, 1717.7490234375, 1721.598388671875, 1710.875, 1705.8526611328125, 1699.50732421875, 1700.289794921875, 1705.861328125, 1712.7386474609375, 1718.8089599609375, 1724.39306640625, 1732.9439697265625, 1734.404541015625, 1732.86181640625, 1732.4215087890625, 1737.04638671875, 1745.1689453125, 1745.7086181640625, 1743.7156982421875, 1735.4007568359375, 1727.9500732421875, 1717.7833251953125, 1717.1060791015625, 1720.5576171875, 1723.798828125, 1722.6195068359375, 1711.73681640625, 1706.7161865234375, 1711.5936279296875, 1720.6842041015625, 1730.4500732421875, 1740.6109619140625, 1752.5498046875, 1763.3443603515625, 1772.90283203125, 1778.2236328125, 1788.1995849609375, 1789.5657958984375, 1789.716552734375, 1791.2252197265625, 1782.2777099609375, 1779.740966796875, 1772.98974609375, 1777.3255615234375, 1775.0213623046875, 1765.766845703125, 1757.59423828125, 1763.2664794921875, 1765.2491455078125, 1771.59228515625, 1778.444091796875, 1786.6309814453125, 1797.19287109375, 1809.8154296875, 1822.0665283203125, 1827.957275390625, 1836.550048828125, 1845.778076171875, 1852.9306640625, 1860.27294921875, 1871.3409423828125, 1881.6949462890625, 1876.429443359375, 1858.622802734375, 1850.89697265625, 1847.7705078125, 1842.9151611328125, 1827.5574951171875, 1822.8973388671875, 1803.016845703125, 1796.8424072265625, 1798.4835205078125, 1803.116943359375, 1811.6497802734375, 1820.9658203125, 1832.5286865234375, 1842.4810791015625, 1853.37158203125, 1863.325927734375, 1874.953369140625, 1878.705810546875, 1864.5477294921875, 1839.8843994140625, 1812.89599609375, 1789.2198486328125, 1757.5953369140625, 1731.0042724609375, 1722.03125, 1706.1627197265625, 1702.0660400390625, 1687.9459228515625, 1670.5257568359375, 1644.9044189453125, 1634.544677734375, 1617.638427734375, 1584.6063232421875, 1570.73193359375, 1540.7476806640625, 1520.4024658203125, 1496.55322265625, 1481.188232421875, 1460.64453125, 1439.736572265625, 1434.880615234375, 1423.6572265625, 1425.3330078125, 1422.7615966796875, 1427.0941162109375, 1432.7518310546875, 1432.0909423828125, 1433.5338134765625, 1432.3446044921875, 1443.1884765625, 1454.0196533203125, 1472.35791015625, 1486.8056640625, 1504.2532958984375, 1523.0751953125, 1542.64599609375, 1557.3948974609375, 1575.3896484375, 1588.199951171875, 1584.162841796875, 1590.8543701171875, 1601.69970703125, 1612.006103515625, 1618.164306640625, 1605.8331298828125, 1606.891845703125, 1619.028076171875, 1624.6663818359375, 1634.7607421875, 1646.7718505859375, 1658.88916015625, 1674.8624267578125, 1691.5498046875, 1710.110107421875, 1717.075927734375, 1715.10546875, 1716.221435546875, 1720.2393798828125, 1725.3773193359375, 1729.171630859375, 1739.0673828125, 1748.786376953125, 1759.777587890625, 1768.1900634765625, 1777.94873046875, 1784.545654296875, 1794.48486328125, 1806.1607666015625, 1819.083984375, 1826.9248046875, 1818.6240234375, 1818.27685546875, 1821.9083251953125, 1826.2900390625, 1833.954345703125, 1816.3114013671875, 1806.2012939453125, 1800.8519287109375, 1803.1009521484375, 1806.8106689453125, 1802.84716796875, 1792.6517333984375, 1796.441650390625, 1801.54638671875, 1797.4879150390625, 1798.22900390625, 1768.5587158203125, 1760.263916015625, 1757.7689208984375, 1759.9854736328125, 1763.98046875, 1774.8265380859375, 1782.8514404296875, 1795.1708984375, 1807.1942138671875, 1822.829345703125, 1826.5916748046875, 1833.0771484375, 1839.0390625, 1844.668212890625, 1848.919921875, 1864.198974609375, 1875.1551513671875, 1887.8895263671875, 1881.281982421875, 1874.203369140625, 1874.775146484375, 1867.9215087890625, 1869.075927734375, 1871.0526123046875, 1849.2352294921875, 1837.156982421875, 1825.5184326171875, 1818.81201171875, 1820.6192626953125, 1821.630615234375, 1823.858642578125, 1818.655517578125, 1826.2938232421875, 1835.97998046875, 1840.3778076171875, 1848.969970703125, 1864.024169921875, 1872.84716796875, 1887.6707763671875, 1899.1202392578125, 1913.17041015625, 1929.1224365234375, 1942.1109619140625, 1951.6324462890625, 1963.9349365234375, 1969.88720703125, 1980.94287109375, 1992.52880859375, 1979.93212890625, 1962.5361328125, 1939.1693115234375, 1924.32958984375, 1908.7384033203125, 1893.3822021484375, 1875.65087890625, 1870.853759765625, 1863.0865478515625, 1848.45263671875, 1825.55615234375, 1803.064453125, 1795.816162109375, 1781.182861328125, 1772.05029296875, 1769.1466064453125, 1771.745849609375, 1776.2998046875, 1778.9517822265625, 1789.226806640625, 1789.5086669921875, 1799.0162353515625, 1799.078125, 1799.443115234375, 1807.8016357421875, 1819.373291015625, 1832.88134765625, 1848.89501953125, 1863.3525390625, 1873.6556396484375, 1884.7904052734375, 1882.8756103515625, 1884.0379638671875, 1887.52587890625, 1899.851318359375, 1914.55517578125, 1913.493408203125, 1917.602783203125, 1901.9833984375, 1893.6339111328125, 1884.8857421875, 1889.27197265625, 1899.116943359375, 1910.74365234375, 1930.1981201171875, 1950.822509765625, 1965.42138671875, 1974.0931396484375, 1986.1759033203125, 1997.0435791015625, 2011.649658203125, 2026.3148193359375, 2035.50732421875, 2036.9464111328125, 2043.5552978515625, 2041.208251953125, 2037.7591552734375, 2043.718505859375, 2050.981689453125, 2063.76123046875, 2061.15234375, 2066.609619140625, 2077.841064453125, 2088.221435546875, 2099.125, 2105.991455078125, 2110.149658203125, 2100.58544921875, 2090.037353515625, 2085.343505859375, 2072.41357421875, 2066.919921875, 2060.142333984375, 2047.2178955078125, 2021.8851318359375, 2013.7060546875, 2005.0718994140625, 2001.3751220703125, 2004.5770263671875, 2017.4808349609375, 2024.899169921875, 2025.197265625, 2030.9913330078125, 2025.6932373046875, 2028.8448486328125, 2021.50048828125, 2028.3619384765625, 2039.650390625, 2039.47900390625, 2036.5064697265625, 2037.331298828125, 2033.07763671875, 2027.9923095703125, 2034.8302001953125, 2047.6024169921875, 2061.166259765625, 2079.985107421875, 2093.819091796875, 2112.013427734375, 2095.93603515625, 2092.633056640625, 2086.56689453125, 2092.35205078125, 2095.6484375, 2105.40234375, 2124.296142578125, 2149.607421875, 2172.80419921875, 2194.0341796875, 2214.786376953125, 2235.4833984375, 2255.910400390625, 2274.108642578125, 2293.894775390625, 2305.227294921875, 2305.483642578125, 2297.666015625, 2291.28125, 2294.80322265625, 2279.6494140625, 2267.37353515625, 2269.869873046875, 2271.02490234375, 2260.468994140625, 2252.8359375, 2255.88330078125, 2247.9072265625, 2246.26123046875, 2245.354736328125, 2254.455078125, 2253.64111328125, 2255.75537109375, 2261.26611328125, 2267.395263671875, 2260.9345703125, 2253.2373046875, 2249.40380859375, 2249.404541015625, 2247.751953125, 2244.134033203125, 2240.051025390625, 2244.729736328125, 2249.096435546875, 2255.157470703125, 2271.907470703125, 2292.67626953125, 2312.452392578125, 2335.8798828125, 2357.70849609375, 2380.198486328125, 2392.771728515625, 2405.80615234375, 2414.374755859375, 2426.95458984375, 2438.105224609375, 2448.4619140625, 2454.96728515625, 2460.34326171875, 2455.03759765625, 2460.640380859375, 2466.677734375, 2463.20654296875, 2463.1826171875, 2474.631591796875, 2474.748046875, 2476.162353515625, 2466.8359375, 2463.908935546875, 2466.45703125, 2471.15478515625, 2462.6337890625, 2451.013916015625, 2429.457763671875, 2418.4013671875, 2417.490234375, 2420.93115234375, 2419.497802734375, 2420.142333984375, 2426.0126953125, 2427.0185546875, 2440.305419921875, 2454.99365234375, 2471.29052734375, 2478.419677734375, 2486.180908203125, 2497.549560546875, 2504.876708984375, 2505.337158203125, 2514.13671875, 2523.647216796875, 2530.9775390625, 2540.91796875, 2552.909423828125, 2562.56591796875, 2574.681396484375, 2577.205322265625, 2574.228759765625, 2576.7158203125, 2565.20849609375, 2566.548828125, 2570.6650390625, 2573.81787109375, 2578.2568359375, 2579.758544921875, 2582.65771484375, 2583.111083984375, 2581.075439453125, 2584.373779296875, 2598.286865234375, 2613.010498046875, 2627.77294921875, 2629.05224609375, 2633.755615234375, 2643.767578125, 2653.90087890625, 2664.9990234375, 2665.256591796875, 2666.176025390625, 2652.738525390625, 2649.41162109375, 2652.7275390625, 2660.224609375, 2672.1552734375, 2687.63037109375, 2687.383056640625, 2687.88134765625, 2699.94189453125, 2707.812744140625, 2716.457763671875, 2727.058837890625, 2734.40478515625, 2745.556640625, 2752.09033203125, 2763.059814453125, 2772.11376953125, 2777.27978515625, 2786.082763671875, 2796.363037109375, 2806.582763671875, 2803.5576171875, 2795.5400390625, 2789.172119140625, 2790.84814453125, 2800.9892578125, 2815.049560546875, 2830.640625, 2839.986328125, 2853.25634765625, 2867.710205078125, 2881.78271484375, 2895.860595703125, 2893.3056640625, 2895.513427734375, 2899.59228515625, 2899.617431640625, 2899.1533203125, 2881.857177734375, 2877.359375, 2874.26123046875, 2878.14453125, 2877.525390625, 2860.675048828125, 2840.964111328125, 2828.267822265625, 2822.937255859375, 2823.2900390625, 2827.67041015625, 2826.765380859375, 2806.885986328125, 2788.494873046875, 2768.27783203125, 2762.2724609375, 2746.138916015625, 2742.979248046875, 2746.35400390625, 2754.4375, 2763.79150390625, 2771.084228515625, 2765.76123046875, 2768.68212890625, 2779.24072265625, 2790.1533203125, 2805.88037109375, 2821.658203125, 2828.11669921875, 2833.995361328125, 2818.9296875, 2807.420166015625, 2801.442626953125, 2805.184814453125, 2817.406005859375, 2831.606689453125, 2829.78466796875, 2835.7529296875, 2845.306396484375, 2856.0126953125, 2867.551025390625, 2881.912353515625, 2895.36083984375, 2892.695068359375, 2892.753662109375, 2902.093017578125, 2909.5205078125, 2914.5458984375, 2919.84716796875, 2928.146728515625, 2930.78759765625, 2923.018310546875, 2914.611328125, 2910.363525390625, 2893.190673828125, 2890.1484375, 2876.119140625, 2862.568359375, 2857.55419921875, 2847.81982421875, 2845.4462890625, 2854.78466796875, 2867.759765625, 2878.19970703125, 2889.17626953125, 2889.837646484375, 2881.8720703125, 2883.880126953125, 2879.62939453125, 2865.004150390625, 2855.201416015625, 2853.080078125, 2860.664306640625, 2869.353759765625, 2882.545654296875, 2889.102783203125, 2895.420166015625, 2899.528564453125, 2896.7529296875, 2892.906982421875, 2886.455322265625, 2859.802490234375, 2837.497802734375, 2816.26220703125, 2802.593994140625, 2798.058349609375, 2801.484619140625, 2794.249267578125, 2791.9765625, 2779.5712890625, 2767.3359375, 2751.858154296875]}],\n",
              "                        {\"template\": {\"data\": {\"bar\": [{\"error_x\": {\"color\": \"#2a3f5f\"}, \"error_y\": {\"color\": \"#2a3f5f\"}, \"marker\": {\"line\": {\"color\": \"#E5ECF6\", \"width\": 0.5}}, \"type\": \"bar\"}], \"barpolar\": [{\"marker\": {\"line\": {\"color\": \"#E5ECF6\", \"width\": 0.5}}, \"type\": \"barpolar\"}], \"carpet\": [{\"aaxis\": {\"endlinecolor\": \"#2a3f5f\", \"gridcolor\": \"white\", \"linecolor\": \"white\", \"minorgridcolor\": \"white\", \"startlinecolor\": \"#2a3f5f\"}, \"baxis\": {\"endlinecolor\": \"#2a3f5f\", \"gridcolor\": \"white\", \"linecolor\": \"white\", \"minorgridcolor\": \"white\", \"startlinecolor\": \"#2a3f5f\"}, \"type\": \"carpet\"}], \"choropleth\": [{\"colorbar\": {\"outlinewidth\": 0, \"ticks\": \"\"}, \"type\": \"choropleth\"}], \"contour\": [{\"colorbar\": {\"outlinewidth\": 0, \"ticks\": \"\"}, \"colorscale\": [[0.0, \"#0d0887\"], [0.1111111111111111, \"#46039f\"], [0.2222222222222222, \"#7201a8\"], [0.3333333333333333, \"#9c179e\"], [0.4444444444444444, \"#bd3786\"], [0.5555555555555556, \"#d8576b\"], [0.6666666666666666, \"#ed7953\"], [0.7777777777777778, \"#fb9f3a\"], [0.8888888888888888, \"#fdca26\"], [1.0, \"#f0f921\"]], \"type\": \"contour\"}], \"contourcarpet\": [{\"colorbar\": {\"outlinewidth\": 0, \"ticks\": \"\"}, \"type\": \"contourcarpet\"}], \"heatmap\": [{\"colorbar\": {\"outlinewidth\": 0, \"ticks\": \"\"}, \"colorscale\": [[0.0, \"#0d0887\"], [0.1111111111111111, \"#46039f\"], [0.2222222222222222, \"#7201a8\"], [0.3333333333333333, \"#9c179e\"], [0.4444444444444444, \"#bd3786\"], [0.5555555555555556, \"#d8576b\"], [0.6666666666666666, \"#ed7953\"], [0.7777777777777778, \"#fb9f3a\"], [0.8888888888888888, \"#fdca26\"], [1.0, \"#f0f921\"]], \"type\": \"heatmap\"}], \"heatmapgl\": [{\"colorbar\": {\"outlinewidth\": 0, \"ticks\": \"\"}, \"colorscale\": [[0.0, \"#0d0887\"], [0.1111111111111111, \"#46039f\"], [0.2222222222222222, \"#7201a8\"], [0.3333333333333333, \"#9c179e\"], [0.4444444444444444, \"#bd3786\"], [0.5555555555555556, \"#d8576b\"], [0.6666666666666666, \"#ed7953\"], [0.7777777777777778, \"#fb9f3a\"], [0.8888888888888888, \"#fdca26\"], [1.0, \"#f0f921\"]], \"type\": \"heatmapgl\"}], \"histogram\": [{\"marker\": {\"colorbar\": {\"outlinewidth\": 0, \"ticks\": \"\"}}, \"type\": \"histogram\"}], \"histogram2d\": [{\"colorbar\": {\"outlinewidth\": 0, \"ticks\": \"\"}, \"colorscale\": [[0.0, \"#0d0887\"], [0.1111111111111111, \"#46039f\"], [0.2222222222222222, \"#7201a8\"], [0.3333333333333333, \"#9c179e\"], [0.4444444444444444, \"#bd3786\"], [0.5555555555555556, \"#d8576b\"], [0.6666666666666666, \"#ed7953\"], [0.7777777777777778, \"#fb9f3a\"], [0.8888888888888888, \"#fdca26\"], [1.0, \"#f0f921\"]], \"type\": \"histogram2d\"}], \"histogram2dcontour\": [{\"colorbar\": {\"outlinewidth\": 0, \"ticks\": \"\"}, \"colorscale\": [[0.0, \"#0d0887\"], [0.1111111111111111, \"#46039f\"], [0.2222222222222222, \"#7201a8\"], [0.3333333333333333, \"#9c179e\"], [0.4444444444444444, \"#bd3786\"], [0.5555555555555556, \"#d8576b\"], [0.6666666666666666, \"#ed7953\"], [0.7777777777777778, \"#fb9f3a\"], [0.8888888888888888, \"#fdca26\"], [1.0, \"#f0f921\"]], \"type\": \"histogram2dcontour\"}], \"mesh3d\": [{\"colorbar\": {\"outlinewidth\": 0, \"ticks\": \"\"}, \"type\": \"mesh3d\"}], \"parcoords\": [{\"line\": {\"colorbar\": {\"outlinewidth\": 0, \"ticks\": \"\"}}, \"type\": \"parcoords\"}], \"pie\": [{\"automargin\": true, \"type\": \"pie\"}], \"scatter\": [{\"marker\": {\"colorbar\": {\"outlinewidth\": 0, \"ticks\": \"\"}}, \"type\": \"scatter\"}], \"scatter3d\": [{\"line\": {\"colorbar\": {\"outlinewidth\": 0, \"ticks\": \"\"}}, \"marker\": {\"colorbar\": {\"outlinewidth\": 0, \"ticks\": \"\"}}, \"type\": \"scatter3d\"}], \"scattercarpet\": [{\"marker\": {\"colorbar\": {\"outlinewidth\": 0, \"ticks\": \"\"}}, \"type\": \"scattercarpet\"}], \"scattergeo\": [{\"marker\": {\"colorbar\": {\"outlinewidth\": 0, \"ticks\": \"\"}}, \"type\": \"scattergeo\"}], \"scattergl\": [{\"marker\": {\"colorbar\": {\"outlinewidth\": 0, \"ticks\": \"\"}}, \"type\": \"scattergl\"}], \"scattermapbox\": [{\"marker\": {\"colorbar\": {\"outlinewidth\": 0, \"ticks\": \"\"}}, \"type\": \"scattermapbox\"}], \"scatterpolar\": [{\"marker\": {\"colorbar\": {\"outlinewidth\": 0, \"ticks\": \"\"}}, \"type\": \"scatterpolar\"}], \"scatterpolargl\": [{\"marker\": {\"colorbar\": {\"outlinewidth\": 0, \"ticks\": \"\"}}, \"type\": \"scatterpolargl\"}], \"scatterternary\": [{\"marker\": {\"colorbar\": {\"outlinewidth\": 0, \"ticks\": \"\"}}, \"type\": \"scatterternary\"}], \"surface\": [{\"colorbar\": {\"outlinewidth\": 0, \"ticks\": \"\"}, \"colorscale\": [[0.0, \"#0d0887\"], [0.1111111111111111, \"#46039f\"], [0.2222222222222222, \"#7201a8\"], [0.3333333333333333, \"#9c179e\"], [0.4444444444444444, \"#bd3786\"], [0.5555555555555556, \"#d8576b\"], [0.6666666666666666, \"#ed7953\"], [0.7777777777777778, \"#fb9f3a\"], [0.8888888888888888, \"#fdca26\"], [1.0, \"#f0f921\"]], \"type\": \"surface\"}], \"table\": [{\"cells\": {\"fill\": {\"color\": \"#EBF0F8\"}, \"line\": {\"color\": \"white\"}}, \"header\": {\"fill\": {\"color\": \"#C8D4E3\"}, \"line\": {\"color\": \"white\"}}, \"type\": \"table\"}]}, \"layout\": {\"annotationdefaults\": {\"arrowcolor\": \"#2a3f5f\", \"arrowhead\": 0, \"arrowwidth\": 1}, \"coloraxis\": {\"colorbar\": {\"outlinewidth\": 0, \"ticks\": \"\"}}, \"colorscale\": {\"diverging\": [[0, \"#8e0152\"], [0.1, \"#c51b7d\"], [0.2, \"#de77ae\"], [0.3, \"#f1b6da\"], [0.4, \"#fde0ef\"], [0.5, \"#f7f7f7\"], [0.6, \"#e6f5d0\"], [0.7, \"#b8e186\"], [0.8, \"#7fbc41\"], [0.9, \"#4d9221\"], [1, \"#276419\"]], \"sequential\": [[0.0, \"#0d0887\"], [0.1111111111111111, \"#46039f\"], [0.2222222222222222, \"#7201a8\"], [0.3333333333333333, \"#9c179e\"], [0.4444444444444444, \"#bd3786\"], [0.5555555555555556, \"#d8576b\"], [0.6666666666666666, \"#ed7953\"], [0.7777777777777778, \"#fb9f3a\"], [0.8888888888888888, \"#fdca26\"], [1.0, \"#f0f921\"]], \"sequentialminus\": [[0.0, \"#0d0887\"], [0.1111111111111111, \"#46039f\"], [0.2222222222222222, \"#7201a8\"], [0.3333333333333333, \"#9c179e\"], [0.4444444444444444, \"#bd3786\"], [0.5555555555555556, \"#d8576b\"], [0.6666666666666666, \"#ed7953\"], [0.7777777777777778, \"#fb9f3a\"], [0.8888888888888888, \"#fdca26\"], [1.0, \"#f0f921\"]]}, \"colorway\": [\"#636efa\", \"#EF553B\", \"#00cc96\", \"#ab63fa\", \"#FFA15A\", \"#19d3f3\", \"#FF6692\", \"#B6E880\", \"#FF97FF\", \"#FECB52\"], \"font\": {\"color\": \"#2a3f5f\"}, \"geo\": {\"bgcolor\": \"white\", \"lakecolor\": \"white\", \"landcolor\": \"#E5ECF6\", \"showlakes\": true, \"showland\": true, \"subunitcolor\": \"white\"}, \"hoverlabel\": {\"align\": \"left\"}, \"hovermode\": \"closest\", \"mapbox\": {\"style\": \"light\"}, \"paper_bgcolor\": \"white\", \"plot_bgcolor\": \"#E5ECF6\", \"polar\": {\"angularaxis\": {\"gridcolor\": \"white\", \"linecolor\": \"white\", \"ticks\": \"\"}, \"bgcolor\": \"#E5ECF6\", \"radialaxis\": {\"gridcolor\": \"white\", \"linecolor\": \"white\", \"ticks\": \"\"}}, \"scene\": {\"xaxis\": {\"backgroundcolor\": \"#E5ECF6\", \"gridcolor\": \"white\", \"gridwidth\": 2, \"linecolor\": \"white\", \"showbackground\": true, \"ticks\": \"\", \"zerolinecolor\": \"white\"}, \"yaxis\": {\"backgroundcolor\": \"#E5ECF6\", \"gridcolor\": \"white\", \"gridwidth\": 2, \"linecolor\": \"white\", \"showbackground\": true, \"ticks\": \"\", \"zerolinecolor\": \"white\"}, \"zaxis\": {\"backgroundcolor\": \"#E5ECF6\", \"gridcolor\": \"white\", \"gridwidth\": 2, \"linecolor\": \"white\", \"showbackground\": true, \"ticks\": \"\", \"zerolinecolor\": \"white\"}}, \"shapedefaults\": {\"line\": {\"color\": \"#2a3f5f\"}}, \"ternary\": {\"aaxis\": {\"gridcolor\": \"white\", \"linecolor\": \"white\", \"ticks\": \"\"}, \"baxis\": {\"gridcolor\": \"white\", \"linecolor\": \"white\", \"ticks\": \"\"}, \"bgcolor\": \"#E5ECF6\", \"caxis\": {\"gridcolor\": \"white\", \"linecolor\": \"white\", \"ticks\": \"\"}}, \"title\": {\"x\": 0.05}, \"xaxis\": {\"automargin\": true, \"gridcolor\": \"white\", \"linecolor\": \"white\", \"ticks\": \"\", \"title\": {\"standoff\": 15}, \"zerolinecolor\": \"white\", \"zerolinewidth\": 2}, \"yaxis\": {\"automargin\": true, \"gridcolor\": \"white\", \"linecolor\": \"white\", \"ticks\": \"\", \"title\": {\"standoff\": 15}, \"zerolinecolor\": \"white\", \"zerolinewidth\": 2}}}},\n",
              "                        {\"responsive\": true}\n",
              "                    ).then(function(){\n",
              "                            \n",
              "var gd = document.getElementById('5baa315c-fde8-49be-b663-5c309b61bb44');\n",
              "var x = new MutationObserver(function (mutations, observer) {{\n",
              "        var display = window.getComputedStyle(gd).display;\n",
              "        if (!display || display === 'none') {{\n",
              "            console.log([gd, 'removed!']);\n",
              "            Plotly.purge(gd);\n",
              "            observer.disconnect();\n",
              "        }}\n",
              "}});\n",
              "\n",
              "// Listen for the removal of the full notebook cells\n",
              "var notebookContainer = gd.closest('#notebook-container');\n",
              "if (notebookContainer) {{\n",
              "    x.observe(notebookContainer, {childList: true});\n",
              "}}\n",
              "\n",
              "// Listen for the clearing of the current output cell\n",
              "var outputEl = gd.closest('.output');\n",
              "if (outputEl) {{\n",
              "    x.observe(outputEl, {childList: true});\n",
              "}}\n",
              "\n",
              "                        })\n",
              "                };\n",
              "                \n",
              "            </script>\n",
              "        </div>\n",
              "</body>\n",
              "</html>"
            ]
          },
          "metadata": {}
        }
      ]
    }
  ]
}